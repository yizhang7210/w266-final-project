{
 "cells": [
  {
   "cell_type": "markdown",
   "metadata": {},
   "source": [
    "# W266 Final Project\n",
    "\n",
    "Authors: Satheesh Joseph, Catherine Mou, Yi Zhang"
   ]
  },
  {
   "cell_type": "markdown",
   "metadata": {},
   "source": [
    "*TODO*\n",
    "\n",
    "- Introduction\n",
    "- Literature review"
   ]
  },
  {
   "cell_type": "markdown",
   "metadata": {},
   "source": [
    "## Downloading and loading the data\n",
    "\n",
    "We acquired the dataset from the researchers in the form of Sqlite `.db` files."
   ]
  },
  {
   "cell_type": "code",
   "execution_count": 1,
   "metadata": {},
   "outputs": [
    {
     "name": "stderr",
     "output_type": "stream",
     "text": [
      "2021-11-13 07:28:46.559956: I tensorflow/stream_executor/platform/default/dso_loader.cc:48] Successfully opened dynamic library libcudart.so.11.0\n"
     ]
    }
   ],
   "source": [
    "import os, sys, re, json, time, unittest\n",
    "import itertools, collections\n",
    "from importlib import reload\n",
    "from sklearn.model_selection import train_test_split\n",
    "\n",
    "import numpy as np\n",
    "from scipy import stats\n",
    "import pandas as pd\n",
    "import sqlite3\n",
    "import unicodedata\n",
    "import nltk\n",
    "\n",
    "import tensorflow as tf\n",
    "from sklearn.metrics import classification_report"
   ]
  },
  {
   "cell_type": "code",
   "execution_count": 2,
   "metadata": {},
   "outputs": [],
   "source": [
    "from tensorflow.keras.preprocessing.text import Tokenizer\n",
    "from tensorflow.keras.preprocessing.sequence import pad_sequences\n",
    "from tensorflow.keras.models import Sequential\n",
    "from tensorflow.keras.layers import Dense, Input, Flatten, LSTM, Conv1D, MaxPooling1D, Dropout, Activation, Embedding\n",
    "from tensorflow.keras.layers.experimental.preprocessing import TextVectorization"
   ]
  },
  {
   "cell_type": "code",
   "execution_count": 3,
   "metadata": {
    "tags": []
   },
   "outputs": [
    {
     "name": "stderr",
     "output_type": "stream",
     "text": [
      "2021-11-13 07:29:05.390988: I tensorflow/stream_executor/platform/default/dso_loader.cc:48] Successfully opened dynamic library libcuda.so.1\n",
      "2021-11-13 07:29:06.050715: I tensorflow/stream_executor/cuda/cuda_gpu_executor.cc:982] successful NUMA node read from SysFS had negative value (-1), but there must be at least one NUMA node, so returning NUMA node zero\n",
      "2021-11-13 07:29:06.051392: I tensorflow/core/common_runtime/gpu/gpu_device.cc:1716] Found device 0 with properties: \n",
      "pciBusID: 0000:00:04.0 name: Tesla T4 computeCapability: 7.5\n",
      "coreClock: 1.59GHz coreCount: 40 deviceMemorySize: 14.75GiB deviceMemoryBandwidth: 298.08GiB/s\n",
      "2021-11-13 07:29:06.051446: I tensorflow/stream_executor/platform/default/dso_loader.cc:48] Successfully opened dynamic library libcudart.so.11.0\n",
      "2021-11-13 07:29:06.077819: I tensorflow/stream_executor/platform/default/dso_loader.cc:48] Successfully opened dynamic library libcublas.so.11\n",
      "2021-11-13 07:29:06.092200: I tensorflow/stream_executor/platform/default/dso_loader.cc:48] Successfully opened dynamic library libcufft.so.10\n",
      "2021-11-13 07:29:06.099378: I tensorflow/stream_executor/platform/default/dso_loader.cc:48] Successfully opened dynamic library libcurand.so.10\n",
      "2021-11-13 07:29:06.121330: I tensorflow/stream_executor/platform/default/dso_loader.cc:48] Successfully opened dynamic library libcusolver.so.10\n",
      "2021-11-13 07:29:06.127714: I tensorflow/stream_executor/platform/default/dso_loader.cc:48] Successfully opened dynamic library libcusparse.so.11\n",
      "2021-11-13 07:29:06.129881: I tensorflow/stream_executor/platform/default/dso_loader.cc:48] Successfully opened dynamic library libcudnn.so.8\n",
      "2021-11-13 07:29:06.130049: I tensorflow/stream_executor/cuda/cuda_gpu_executor.cc:982] successful NUMA node read from SysFS had negative value (-1), but there must be at least one NUMA node, so returning NUMA node zero\n",
      "2021-11-13 07:29:06.130684: I tensorflow/stream_executor/cuda/cuda_gpu_executor.cc:982] successful NUMA node read from SysFS had negative value (-1), but there must be at least one NUMA node, so returning NUMA node zero\n",
      "2021-11-13 07:29:06.131203: I tensorflow/core/common_runtime/gpu/gpu_device.cc:1858] Adding visible gpu devices: 0\n"
     ]
    },
    {
     "data": {
      "text/plain": [
       "[PhysicalDevice(name='/physical_device:GPU:0', device_type='GPU')]"
      ]
     },
     "execution_count": 3,
     "metadata": {},
     "output_type": "execute_result"
    }
   ],
   "source": [
    "tf.config.list_physical_devices('GPU')"
   ]
  },
  {
   "cell_type": "code",
   "execution_count": 4,
   "metadata": {
    "tags": []
   },
   "outputs": [
    {
     "name": "stdout",
     "output_type": "stream",
     "text": [
      "Already downloaded data\n"
     ]
    }
   ],
   "source": [
    "# Download the files if they're not here\n",
    "if 'data' not in os.listdir('.') or not os.listdir('data'):\n",
    "    os.system('wget https://storage.googleapis.com/mids-w266-final-project-data/yelpHotelData.db -P data/')\n",
    "    os.system('wget https://storage.googleapis.com/mids-w266-final-project-data/yelpResData.db -P data/')\n",
    "    print('Data downloaded successfully!')\n",
    "else:\n",
    "    print('Already downloaded data')"
   ]
  },
  {
   "cell_type": "code",
   "execution_count": 5,
   "metadata": {},
   "outputs": [
    {
     "name": "stdout",
     "output_type": "stream",
     "text": [
      "[('review',), ('restaurant',), ('reviewer',)]\n",
      "[('review',), ('sqlite_stat1',), ('sqlite_stat2',), ('reviewer',), ('hotel',)]\n"
     ]
    }
   ],
   "source": [
    "con = sqlite3.connect('data/yelpResData.db')\n",
    "cursor = con.cursor()\n",
    "cursor.execute(\"SELECT name FROM sqlite_master WHERE type='table';\")\n",
    "print(cursor.fetchall())\n",
    "\n",
    "con = sqlite3.connect('data/yelpHotelData.db')\n",
    "cursor = con.cursor()\n",
    "cursor.execute(\"SELECT name FROM sqlite_master WHERE type='table';\")\n",
    "print(cursor.fetchall())"
   ]
  },
  {
   "cell_type": "code",
   "execution_count": 6,
   "metadata": {},
   "outputs": [
    {
     "name": "stdout",
     "output_type": "stream",
     "text": [
      "The data set contains 283086 hotels, 5858 reviews, and 5123 reviewers\n"
     ]
    }
   ],
   "source": [
    "# Reading from the hotels database\n",
    "hotels_db = sqlite3.connect(\"data/yelpHotelData.db\")\n",
    "hotels = pd.read_sql_query(\"SELECT * FROM hotel\", hotels_db)\n",
    "hotel_reviews = pd.read_sql_query(\"SELECT * FROM review WHERE flagged in ('Y', 'N')\", hotels_db)\n",
    "hotel_reviews_fake = pd.read_sql_query(\"SELECT * FROM review WHERE flagged in ('Y')\", hotels_db)\n",
    "hotel_reviewers = pd.read_sql_query(\"SELECT * FROM reviewer\", hotels_db)\n",
    "\n",
    "\n",
    "print(f'The data set contains {len(hotels)} hotels, {len(hotel_reviews)} reviews, and {len(hotel_reviewers)} reviewers')"
   ]
  },
  {
   "cell_type": "code",
   "execution_count": 7,
   "metadata": {},
   "outputs": [
    {
     "name": "stdout",
     "output_type": "stream",
     "text": [
      "The data set contains 242652 restaurants, 67019 reviews, and 16941 reviewers\n"
     ]
    }
   ],
   "source": [
    "# Reading from the restaurant database\n",
    "restaurant_db = sqlite3.connect(\"data/yelpResData.db\")\n",
    "restaurant_db.text_factory = lambda x: x.decode(\"utf-8\", errors='ignore')\n",
    "restaurants = pd.read_sql_query(\"SELECT * FROM restaurant\", restaurant_db)\n",
    "restaurant_reviews = pd.read_sql_query(\"SELECT * FROM review WHERE flagged in ('Y', 'N')\", restaurant_db)\n",
    "restaurant_reviewers = pd.read_sql_query(\"SELECT * FROM reviewer\", restaurant_db)\n",
    "\n",
    "\n",
    "print(f'The data set contains {len(restaurants)} restaurants, {len(restaurant_reviews)} reviews, and {len(restaurant_reviewers)} reviewers')"
   ]
  },
  {
   "cell_type": "markdown",
   "metadata": {},
   "source": [
    "# Exploratory Data Analysis\n",
    "\n",
    "## ToDo: Performan More EDA"
   ]
  },
  {
   "cell_type": "code",
   "execution_count": 8,
   "metadata": {},
   "outputs": [
    {
     "name": "stdout",
     "output_type": "stream",
     "text": [
      "<class 'pandas.core.frame.DataFrame'>\n",
      "RangeIndex: 5858 entries, 0 to 5857\n",
      "Data columns (total 10 columns):\n",
      " #   Column         Non-Null Count  Dtype \n",
      "---  ------         --------------  ----- \n",
      " 0   date           5858 non-null   object\n",
      " 1   reviewID       5858 non-null   object\n",
      " 2   reviewerID     5858 non-null   object\n",
      " 3   reviewContent  5858 non-null   object\n",
      " 4   rating         5858 non-null   int64 \n",
      " 5   usefulCount    5858 non-null   int64 \n",
      " 6   coolCount      5858 non-null   int64 \n",
      " 7   funnyCount     5858 non-null   int64 \n",
      " 8   flagged        5858 non-null   object\n",
      " 9   hotelID        5858 non-null   object\n",
      "dtypes: int64(4), object(6)\n",
      "memory usage: 457.8+ KB\n"
     ]
    }
   ],
   "source": [
    "hotel_reviews.info()"
   ]
  },
  {
   "cell_type": "code",
   "execution_count": 9,
   "metadata": {},
   "outputs": [
    {
     "data": {
      "text/html": [
       "<div>\n",
       "<style scoped>\n",
       "    .dataframe tbody tr th:only-of-type {\n",
       "        vertical-align: middle;\n",
       "    }\n",
       "\n",
       "    .dataframe tbody tr th {\n",
       "        vertical-align: top;\n",
       "    }\n",
       "\n",
       "    .dataframe thead th {\n",
       "        text-align: right;\n",
       "    }\n",
       "</style>\n",
       "<table border=\"1\" class=\"dataframe\">\n",
       "  <thead>\n",
       "    <tr style=\"text-align: right;\">\n",
       "      <th></th>\n",
       "      <th>date</th>\n",
       "      <th>reviewID</th>\n",
       "      <th>reviewerID</th>\n",
       "      <th>reviewContent</th>\n",
       "      <th>rating</th>\n",
       "      <th>usefulCount</th>\n",
       "      <th>coolCount</th>\n",
       "      <th>funnyCount</th>\n",
       "      <th>flagged</th>\n",
       "      <th>hotelID</th>\n",
       "    </tr>\n",
       "  </thead>\n",
       "  <tbody>\n",
       "    <tr>\n",
       "      <th>0</th>\n",
       "      <td>6/8/2011</td>\n",
       "      <td>MyNjnxzZVTPq</td>\n",
       "      <td>IFTr6_6NI4CgCVavIL9k5g</td>\n",
       "      <td>Let me begin by saying that there are two kind...</td>\n",
       "      <td>5</td>\n",
       "      <td>18</td>\n",
       "      <td>11</td>\n",
       "      <td>28</td>\n",
       "      <td>N</td>\n",
       "      <td>tQfLGoolUMu2J0igcWcoZg</td>\n",
       "    </tr>\n",
       "    <tr>\n",
       "      <th>1</th>\n",
       "      <td>8/30/2011</td>\n",
       "      <td>BdD7fsPqHQL73hwENEDT-Q</td>\n",
       "      <td>c_-hF15XgNhlyy_TqzmdaA</td>\n",
       "      <td>The only place inside the Loop that you can st...</td>\n",
       "      <td>3</td>\n",
       "      <td>0</td>\n",
       "      <td>3</td>\n",
       "      <td>4</td>\n",
       "      <td>N</td>\n",
       "      <td>tQfLGoolUMu2J0igcWcoZg</td>\n",
       "    </tr>\n",
       "    <tr>\n",
       "      <th>2</th>\n",
       "      <td>6/26/2009</td>\n",
       "      <td>BfhqiyfC</td>\n",
       "      <td>CiwZ6S5ZizAFL5gypf8tLA</td>\n",
       "      <td>I have walked by the Tokyo Hotel countless tim...</td>\n",
       "      <td>5</td>\n",
       "      <td>12</td>\n",
       "      <td>14</td>\n",
       "      <td>23</td>\n",
       "      <td>N</td>\n",
       "      <td>tQfLGoolUMu2J0igcWcoZg</td>\n",
       "    </tr>\n",
       "    <tr>\n",
       "      <th>3</th>\n",
       "      <td>9/16/2010</td>\n",
       "      <td>Ol</td>\n",
       "      <td>nf3q2h-kSQoZK2jBY92FOg</td>\n",
       "      <td>If you are considering staying here, watch thi...</td>\n",
       "      <td>1</td>\n",
       "      <td>8</td>\n",
       "      <td>2</td>\n",
       "      <td>6</td>\n",
       "      <td>N</td>\n",
       "      <td>tQfLGoolUMu2J0igcWcoZg</td>\n",
       "    </tr>\n",
       "    <tr>\n",
       "      <th>4</th>\n",
       "      <td>2/5/2010</td>\n",
       "      <td>i4HIAcNTjabdpG1K4F5Q2g</td>\n",
       "      <td>Sb3DJGdZ4Rq__CqxPbae-g</td>\n",
       "      <td>This place is disgusting, absolutely horrible,...</td>\n",
       "      <td>3</td>\n",
       "      <td>11</td>\n",
       "      <td>4</td>\n",
       "      <td>9</td>\n",
       "      <td>N</td>\n",
       "      <td>tQfLGoolUMu2J0igcWcoZg</td>\n",
       "    </tr>\n",
       "  </tbody>\n",
       "</table>\n",
       "</div>"
      ],
      "text/plain": [
       "        date                reviewID              reviewerID  \\\n",
       "0   6/8/2011            MyNjnxzZVTPq  IFTr6_6NI4CgCVavIL9k5g   \n",
       "1  8/30/2011  BdD7fsPqHQL73hwENEDT-Q  c_-hF15XgNhlyy_TqzmdaA   \n",
       "2  6/26/2009                BfhqiyfC  CiwZ6S5ZizAFL5gypf8tLA   \n",
       "3  9/16/2010                      Ol  nf3q2h-kSQoZK2jBY92FOg   \n",
       "4   2/5/2010  i4HIAcNTjabdpG1K4F5Q2g  Sb3DJGdZ4Rq__CqxPbae-g   \n",
       "\n",
       "                                       reviewContent  rating  usefulCount  \\\n",
       "0  Let me begin by saying that there are two kind...       5           18   \n",
       "1  The only place inside the Loop that you can st...       3            0   \n",
       "2  I have walked by the Tokyo Hotel countless tim...       5           12   \n",
       "3  If you are considering staying here, watch thi...       1            8   \n",
       "4  This place is disgusting, absolutely horrible,...       3           11   \n",
       "\n",
       "   coolCount  funnyCount flagged                 hotelID  \n",
       "0         11          28       N  tQfLGoolUMu2J0igcWcoZg  \n",
       "1          3           4       N  tQfLGoolUMu2J0igcWcoZg  \n",
       "2         14          23       N  tQfLGoolUMu2J0igcWcoZg  \n",
       "3          2           6       N  tQfLGoolUMu2J0igcWcoZg  \n",
       "4          4           9       N  tQfLGoolUMu2J0igcWcoZg  "
      ]
     },
     "execution_count": 9,
     "metadata": {},
     "output_type": "execute_result"
    }
   ],
   "source": [
    "hotel_reviews.head()"
   ]
  },
  {
   "cell_type": "code",
   "execution_count": 23,
   "metadata": {},
   "outputs": [
    {
     "data": {
      "text/html": [
       "<div>\n",
       "<style scoped>\n",
       "    .dataframe tbody tr th:only-of-type {\n",
       "        vertical-align: middle;\n",
       "    }\n",
       "\n",
       "    .dataframe tbody tr th {\n",
       "        vertical-align: top;\n",
       "    }\n",
       "\n",
       "    .dataframe thead th {\n",
       "        text-align: right;\n",
       "    }\n",
       "</style>\n",
       "<table border=\"1\" class=\"dataframe\">\n",
       "  <thead>\n",
       "    <tr style=\"text-align: right;\">\n",
       "      <th></th>\n",
       "      <th>rating</th>\n",
       "      <th>coolCount</th>\n",
       "      <th>funnyCount</th>\n",
       "      <th>flagged</th>\n",
       "    </tr>\n",
       "    <tr>\n",
       "      <th>reviewerID</th>\n",
       "      <th></th>\n",
       "      <th></th>\n",
       "      <th></th>\n",
       "      <th></th>\n",
       "    </tr>\n",
       "  </thead>\n",
       "  <tbody>\n",
       "    <tr>\n",
       "      <th>OlhH_-yyVWU6jj8H2TMSiQ</th>\n",
       "      <td>42</td>\n",
       "      <td>7</td>\n",
       "      <td>2</td>\n",
       "      <td>42</td>\n",
       "    </tr>\n",
       "    <tr>\n",
       "      <th>BI4lPhrUpmEySIJUywjIjQ</th>\n",
       "      <td>13</td>\n",
       "      <td>5</td>\n",
       "      <td>0</td>\n",
       "      <td>13</td>\n",
       "    </tr>\n",
       "    <tr>\n",
       "      <th>rQrqrb5dFztAeFYwyqbygA</th>\n",
       "      <td>13</td>\n",
       "      <td>46</td>\n",
       "      <td>40</td>\n",
       "      <td>13</td>\n",
       "    </tr>\n",
       "    <tr>\n",
       "      <th>gOPm2yoe38_OM6x4NIwLEw</th>\n",
       "      <td>11</td>\n",
       "      <td>2</td>\n",
       "      <td>2</td>\n",
       "      <td>11</td>\n",
       "    </tr>\n",
       "    <tr>\n",
       "      <th>ZYZNcugF3xUEGyLOVGiZ0Q</th>\n",
       "      <td>10</td>\n",
       "      <td>36</td>\n",
       "      <td>19</td>\n",
       "      <td>10</td>\n",
       "    </tr>\n",
       "    <tr>\n",
       "      <th>...</th>\n",
       "      <td>...</td>\n",
       "      <td>...</td>\n",
       "      <td>...</td>\n",
       "      <td>...</td>\n",
       "    </tr>\n",
       "    <tr>\n",
       "      <th>LZPtLWnjGZVODlhZk_uPdg</th>\n",
       "      <td>1</td>\n",
       "      <td>0</td>\n",
       "      <td>1</td>\n",
       "      <td>1</td>\n",
       "    </tr>\n",
       "    <tr>\n",
       "      <th>LXYwZJY-9zf7Q9p_1K2LwA</th>\n",
       "      <td>1</td>\n",
       "      <td>0</td>\n",
       "      <td>0</td>\n",
       "      <td>1</td>\n",
       "    </tr>\n",
       "    <tr>\n",
       "      <th>LXWVzg77sSA3FDMG4t5IXg</th>\n",
       "      <td>1</td>\n",
       "      <td>0</td>\n",
       "      <td>0</td>\n",
       "      <td>1</td>\n",
       "    </tr>\n",
       "    <tr>\n",
       "      <th>LXGuXkKMFeZ4T4-I3GoGaw</th>\n",
       "      <td>1</td>\n",
       "      <td>0</td>\n",
       "      <td>0</td>\n",
       "      <td>1</td>\n",
       "    </tr>\n",
       "    <tr>\n",
       "      <th>zzzW81llRc2vMWX0VrTJzw</th>\n",
       "      <td>1</td>\n",
       "      <td>0</td>\n",
       "      <td>0</td>\n",
       "      <td>1</td>\n",
       "    </tr>\n",
       "  </tbody>\n",
       "</table>\n",
       "<p>5028 rows × 4 columns</p>\n",
       "</div>"
      ],
      "text/plain": [
       "                        rating  coolCount  funnyCount  flagged\n",
       "reviewerID                                                    \n",
       "OlhH_-yyVWU6jj8H2TMSiQ      42          7           2       42\n",
       "BI4lPhrUpmEySIJUywjIjQ      13          5           0       13\n",
       "rQrqrb5dFztAeFYwyqbygA      13         46          40       13\n",
       "gOPm2yoe38_OM6x4NIwLEw      11          2           2       11\n",
       "ZYZNcugF3xUEGyLOVGiZ0Q      10         36          19       10\n",
       "...                        ...        ...         ...      ...\n",
       "LZPtLWnjGZVODlhZk_uPdg       1          0           1        1\n",
       "LXYwZJY-9zf7Q9p_1K2LwA       1          0           0        1\n",
       "LXWVzg77sSA3FDMG4t5IXg       1          0           0        1\n",
       "LXGuXkKMFeZ4T4-I3GoGaw       1          0           0        1\n",
       "zzzW81llRc2vMWX0VrTJzw       1          0           0        1\n",
       "\n",
       "[5028 rows x 4 columns]"
      ]
     },
     "execution_count": 23,
     "metadata": {},
     "output_type": "execute_result"
    }
   ],
   "source": [
    "hotel_reviews.groupby('reviewerID').agg({\"rating\": np.count_nonzero, \n",
    "                                   \"coolCount\": np.sum, \n",
    "                                   \"funnyCount\": np.sum,\n",
    "                                   \"flagged\": np.count_nonzero\n",
    "                                    }).sort_values(by=['rating'], ascending=False)"
   ]
  },
  {
   "cell_type": "code",
   "execution_count": 33,
   "metadata": {},
   "outputs": [
    {
     "data": {
      "text/plain": [
       "780"
      ]
     },
     "execution_count": 33,
     "metadata": {},
     "output_type": "execute_result"
    }
   ],
   "source": [
    "a = hotel_reviews_fake['reviewContent']\n",
    "len(a)"
   ]
  },
  {
   "cell_type": "code",
   "execution_count": 32,
   "metadata": {},
   "outputs": [],
   "source": [
    "a = hotel_reviews_fake['reviewContent']\n",
    "np.savetxt(r'/home/jupyter/hotel_fake.txt', a.values, fmt='%s')"
   ]
  },
  {
   "cell_type": "code",
   "execution_count": 8,
   "metadata": {},
   "outputs": [
    {
     "name": "stdout",
     "output_type": "stream",
     "text": [
      "<class 'pandas.core.frame.DataFrame'>\n",
      "RangeIndex: 67019 entries, 0 to 67018\n",
      "Data columns (total 10 columns):\n",
      " #   Column         Non-Null Count  Dtype \n",
      "---  ------         --------------  ----- \n",
      " 0   date           67019 non-null  object\n",
      " 1   reviewID       67019 non-null  object\n",
      " 2   reviewerID     67019 non-null  object\n",
      " 3   reviewContent  67019 non-null  object\n",
      " 4   rating         67019 non-null  int64 \n",
      " 5   usefulCount    67019 non-null  int64 \n",
      " 6   coolCount      67019 non-null  int64 \n",
      " 7   funnyCount     67019 non-null  int64 \n",
      " 8   flagged        67019 non-null  object\n",
      " 9   restaurantID   67019 non-null  object\n",
      "dtypes: int64(4), object(6)\n",
      "memory usage: 5.1+ MB\n"
     ]
    }
   ],
   "source": [
    "restaurant_reviews.info()"
   ]
  },
  {
   "cell_type": "code",
   "execution_count": 9,
   "metadata": {
    "tags": []
   },
   "outputs": [
    {
     "data": {
      "text/plain": [
       "94       ***Alinea is truly a one-of-a-kind experience;...\n",
       "29403    ***Graham Elliot serves up refined casual food...\n",
       "43054    ***Longman & Eagle is a true gastropub--a casu...\n",
       "71630    ***While the rooms are small, Hotel Felix is a...\n",
       "Name: reviewContent, dtype: object"
      ]
     },
     "execution_count": 9,
     "metadata": {},
     "output_type": "execute_result"
    }
   ],
   "source": [
    "reviews = pd.concat([restaurant_reviews, hotel_reviews.rename(columns={'hotelID':'restaurantID'})], ignore_index=True)\n",
    "reviews.groupby('reviewerID').agg({\"usefulCount\": np.sum, \n",
    "                                   \"coolCount\": np.sum, \n",
    "                                   \"funnyCount\": np.sum}).sort_values(by=['usefulCount'], ascending=False)\n",
    "reviews[reviews['reviewerID'] == 'w-w-k-QXosIKQ8HQVwU6IQ']['reviewContent']"
   ]
  },
  {
   "cell_type": "code",
   "execution_count": 10,
   "metadata": {
    "tags": []
   },
   "outputs": [
    {
     "data": {
      "text/html": [
       "<div>\n",
       "<style scoped>\n",
       "    .dataframe tbody tr th:only-of-type {\n",
       "        vertical-align: middle;\n",
       "    }\n",
       "\n",
       "    .dataframe tbody tr th {\n",
       "        vertical-align: top;\n",
       "    }\n",
       "\n",
       "    .dataframe thead th {\n",
       "        text-align: right;\n",
       "    }\n",
       "</style>\n",
       "<table border=\"1\" class=\"dataframe\">\n",
       "  <thead>\n",
       "    <tr style=\"text-align: right;\">\n",
       "      <th></th>\n",
       "      <th>rating</th>\n",
       "      <th>usefulCount</th>\n",
       "      <th>coolCount</th>\n",
       "      <th>funnyCount</th>\n",
       "    </tr>\n",
       "    <tr>\n",
       "      <th>flagged</th>\n",
       "      <th></th>\n",
       "      <th></th>\n",
       "      <th></th>\n",
       "      <th></th>\n",
       "    </tr>\n",
       "  </thead>\n",
       "  <tbody>\n",
       "    <tr>\n",
       "      <th>N</th>\n",
       "      <td>252531</td>\n",
       "      <td>65773</td>\n",
       "      <td>42690</td>\n",
       "      <td>36444</td>\n",
       "    </tr>\n",
       "    <tr>\n",
       "      <th>Y</th>\n",
       "      <td>34611</td>\n",
       "      <td>0</td>\n",
       "      <td>0</td>\n",
       "      <td>0</td>\n",
       "    </tr>\n",
       "  </tbody>\n",
       "</table>\n",
       "</div>"
      ],
      "text/plain": [
       "         rating  usefulCount  coolCount  funnyCount\n",
       "flagged                                            \n",
       "N        252531        65773      42690       36444\n",
       "Y         34611            0          0           0"
      ]
     },
     "execution_count": 10,
     "metadata": {},
     "output_type": "execute_result"
    }
   ],
   "source": [
    "reviews.groupby('flagged').agg('sum')"
   ]
  },
  {
   "cell_type": "markdown",
   "metadata": {},
   "source": [
    "# Baseline Model"
   ]
  },
  {
   "cell_type": "markdown",
   "metadata": {},
   "source": [
    "### Try a Plain LSTM model on the Hotel data set with fixed length learned embedding"
   ]
  },
  {
   "cell_type": "code",
   "execution_count": 35,
   "metadata": {},
   "outputs": [],
   "source": [
    "# Some Data Cleaning\n",
    "hotel_reviews['reviewContent'] = hotel_reviews['reviewContent'].apply(lambda x: unicodedata.normalize('NFKD', x))\n",
    "restaurant_reviews['reviewContent'] = restaurant_reviews['reviewContent'].apply(lambda x: unicodedata.normalize('NFKD', x))"
   ]
  },
  {
   "cell_type": "code",
   "execution_count": 36,
   "metadata": {},
   "outputs": [],
   "source": [
    "# Split train/test data for hotel reviews\n",
    "X_train, X_test, y_train, y_test = train_test_split(hotel_reviews, hotel_reviews['flagged']=='Y')"
   ]
  },
  {
   "cell_type": "code",
   "execution_count": 54,
   "metadata": {},
   "outputs": [
    {
     "data": {
      "text/plain": [
       "782     False\n",
       "1518    False\n",
       "4524    False\n",
       "1340    False\n",
       "3416    False\n",
       "        ...  \n",
       "120     False\n",
       "1223    False\n",
       "3077    False\n",
       "376     False\n",
       "489     False\n",
       "Name: flagged, Length: 4393, dtype: bool"
      ]
     },
     "execution_count": 54,
     "metadata": {},
     "output_type": "execute_result"
    }
   ],
   "source": [
    "y_train"
   ]
  },
  {
   "cell_type": "code",
   "execution_count": 86,
   "metadata": {},
   "outputs": [],
   "source": [
    "fake_label = [True]*2988\n",
    "fake_label = pd.Series(fake_label)"
   ]
  },
  {
   "cell_type": "code",
   "execution_count": 87,
   "metadata": {},
   "outputs": [
    {
     "data": {
      "text/plain": [
       "0       True\n",
       "1       True\n",
       "2       True\n",
       "3       True\n",
       "4       True\n",
       "        ... \n",
       "2983    True\n",
       "2984    True\n",
       "2985    True\n",
       "2986    True\n",
       "2987    True\n",
       "Length: 2988, dtype: bool"
      ]
     },
     "execution_count": 87,
     "metadata": {},
     "output_type": "execute_result"
    }
   ],
   "source": [
    "fake_label"
   ]
  },
  {
   "cell_type": "code",
   "execution_count": 41,
   "metadata": {},
   "outputs": [
    {
     "data": {
      "text/html": [
       "<div>\n",
       "<style scoped>\n",
       "    .dataframe tbody tr th:only-of-type {\n",
       "        vertical-align: middle;\n",
       "    }\n",
       "\n",
       "    .dataframe tbody tr th {\n",
       "        vertical-align: top;\n",
       "    }\n",
       "\n",
       "    .dataframe thead th {\n",
       "        text-align: right;\n",
       "    }\n",
       "</style>\n",
       "<table border=\"1\" class=\"dataframe\">\n",
       "  <thead>\n",
       "    <tr style=\"text-align: right;\">\n",
       "      <th></th>\n",
       "      <th>date</th>\n",
       "      <th>reviewID</th>\n",
       "      <th>reviewerID</th>\n",
       "      <th>reviewContent</th>\n",
       "      <th>rating</th>\n",
       "      <th>usefulCount</th>\n",
       "      <th>coolCount</th>\n",
       "      <th>funnyCount</th>\n",
       "      <th>hotelID</th>\n",
       "    </tr>\n",
       "    <tr>\n",
       "      <th>flagged</th>\n",
       "      <th></th>\n",
       "      <th></th>\n",
       "      <th></th>\n",
       "      <th></th>\n",
       "      <th></th>\n",
       "      <th></th>\n",
       "      <th></th>\n",
       "      <th></th>\n",
       "      <th></th>\n",
       "    </tr>\n",
       "  </thead>\n",
       "  <tbody>\n",
       "    <tr>\n",
       "      <th>N</th>\n",
       "      <td>3803</td>\n",
       "      <td>3803</td>\n",
       "      <td>3803</td>\n",
       "      <td>3803</td>\n",
       "      <td>3803</td>\n",
       "      <td>3803</td>\n",
       "      <td>3803</td>\n",
       "      <td>3803</td>\n",
       "      <td>3803</td>\n",
       "    </tr>\n",
       "    <tr>\n",
       "      <th>Y</th>\n",
       "      <td>590</td>\n",
       "      <td>590</td>\n",
       "      <td>590</td>\n",
       "      <td>590</td>\n",
       "      <td>590</td>\n",
       "      <td>590</td>\n",
       "      <td>590</td>\n",
       "      <td>590</td>\n",
       "      <td>590</td>\n",
       "    </tr>\n",
       "  </tbody>\n",
       "</table>\n",
       "</div>"
      ],
      "text/plain": [
       "         date  reviewID  reviewerID  reviewContent  rating  usefulCount  \\\n",
       "flagged                                                                   \n",
       "N        3803      3803        3803           3803    3803         3803   \n",
       "Y         590       590         590            590     590          590   \n",
       "\n",
       "         coolCount  funnyCount  hotelID  \n",
       "flagged                                  \n",
       "N             3803        3803     3803  \n",
       "Y              590         590      590  "
      ]
     },
     "execution_count": 41,
     "metadata": {},
     "output_type": "execute_result"
    }
   ],
   "source": [
    "X_train.groupby('flagged').agg('count')"
   ]
  },
  {
   "cell_type": "code",
   "execution_count": 76,
   "metadata": {},
   "outputs": [
    {
     "data": {
      "text/plain": [
       "782     The lobby here gives you the impression that t...\n",
       "1518    The best hotel! The view was ok, but the room ...\n",
       "4524    The Palmer House is a large, old, but still gr...\n",
       "1340    During my stay the hotel was under renovation....\n",
       "3416    Location, location, location! This nicely reno...\n",
       "                              ...                        \n",
       "120     For the price I have to give a solid three sta...\n",
       "1223    Very nice hotel.  Clean, attentive staff.  Loc...\n",
       "3077    My hubby and I came to the windy city last yea...\n",
       "376     The only thing this hotel has going for it is ...\n",
       "489     Spent this past weekend in Chicago and stayed ...\n",
       "Name: reviewContent, Length: 4393, dtype: object"
      ]
     },
     "execution_count": 76,
     "metadata": {},
     "output_type": "execute_result"
    }
   ],
   "source": [
    "X_train['reviewContent']"
   ]
  },
  {
   "cell_type": "code",
   "execution_count": 72,
   "metadata": {},
   "outputs": [],
   "source": [
    "generated_hotel_fake = pd.read_fwf('generated_hotel_fake.txt', header=None)"
   ]
  },
  {
   "cell_type": "code",
   "execution_count": 85,
   "metadata": {},
   "outputs": [
    {
     "data": {
      "text/plain": [
       "2988"
      ]
     },
     "execution_count": 85,
     "metadata": {},
     "output_type": "execute_result"
    }
   ],
   "source": [
    "len(generated_hotel_fake[0])"
   ]
  },
  {
   "cell_type": "code",
   "execution_count": 78,
   "metadata": {},
   "outputs": [],
   "source": [
    "X_train_concat = pd.concat([X_train['reviewContent'], generated_hotel_fake[0]])"
   ]
  },
  {
   "cell_type": "code",
   "execution_count": 83,
   "metadata": {},
   "outputs": [
    {
     "data": {
      "text/plain": [
       "7381"
      ]
     },
     "execution_count": 83,
     "metadata": {},
     "output_type": "execute_result"
    }
   ],
   "source": [
    "len(X_train_concat)"
   ]
  },
  {
   "cell_type": "code",
   "execution_count": 88,
   "metadata": {},
   "outputs": [],
   "source": [
    "y_train_concat = pd.concat([y_train, fake_label])"
   ]
  },
  {
   "cell_type": "code",
   "execution_count": 89,
   "metadata": {},
   "outputs": [
    {
     "data": {
      "text/plain": [
       "782     False\n",
       "1518    False\n",
       "4524    False\n",
       "1340    False\n",
       "3416    False\n",
       "        ...  \n",
       "2983     True\n",
       "2984     True\n",
       "2985     True\n",
       "2986     True\n",
       "2987     True\n",
       "Length: 7381, dtype: bool"
      ]
     },
     "execution_count": 89,
     "metadata": {},
     "output_type": "execute_result"
    }
   ],
   "source": [
    "y_train_concat"
   ]
  },
  {
   "cell_type": "code",
   "execution_count": 90,
   "metadata": {},
   "outputs": [
    {
     "data": {
      "text/plain": [
       "7381"
      ]
     },
     "execution_count": 90,
     "metadata": {},
     "output_type": "execute_result"
    }
   ],
   "source": [
    "len(y_train_concat)"
   ]
  },
  {
   "cell_type": "code",
   "execution_count": 91,
   "metadata": {},
   "outputs": [],
   "source": [
    "vocabulary_size = 20000\n",
    "tokenizer = Tokenizer(num_words= vocabulary_size)\n",
    "tokenizer.fit_on_texts(X_train['reviewContent'])\n",
    "sequences = tokenizer.texts_to_sequences(X_train['reviewContent'])\n",
    "train_data = pad_sequences(sequences, maxlen=100)\n",
    "\n",
    "tokenizer = Tokenizer(num_words= vocabulary_size)\n",
    "tokenizer.fit_on_texts(X_test['reviewContent'])\n",
    "sequences = tokenizer.texts_to_sequences(X_test['reviewContent'])\n",
    "test_data = pad_sequences(sequences, maxlen=100)\n"
   ]
  },
  {
   "cell_type": "code",
   "execution_count": 92,
   "metadata": {
    "tags": []
   },
   "outputs": [
    {
     "name": "stderr",
     "output_type": "stream",
     "text": [
      "2021-11-13 09:50:48.586475: I tensorflow/core/platform/profile_utils/cpu_utils.cc:104] CPU Frequency: 2199995000 Hz\n",
      "2021-11-13 09:50:48.587017: I tensorflow/compiler/xla/service/service.cc:168] XLA service 0x560be9da84e0 initialized for platform Host (this does not guarantee that XLA will be used). Devices:\n",
      "2021-11-13 09:50:48.587043: I tensorflow/compiler/xla/service/service.cc:176]   StreamExecutor device (0): Host, Default Version\n",
      "2021-11-13 09:50:48.780168: I tensorflow/stream_executor/cuda/cuda_gpu_executor.cc:982] successful NUMA node read from SysFS had negative value (-1), but there must be at least one NUMA node, so returning NUMA node zero\n",
      "2021-11-13 09:50:48.780834: I tensorflow/compiler/xla/service/service.cc:168] XLA service 0x560bebaa3e00 initialized for platform CUDA (this does not guarantee that XLA will be used). Devices:\n",
      "2021-11-13 09:50:48.780860: I tensorflow/compiler/xla/service/service.cc:176]   StreamExecutor device (0): Tesla T4, Compute Capability 7.5\n",
      "2021-11-13 09:50:48.781208: I tensorflow/stream_executor/cuda/cuda_gpu_executor.cc:982] successful NUMA node read from SysFS had negative value (-1), but there must be at least one NUMA node, so returning NUMA node zero\n",
      "2021-11-13 09:50:48.781770: I tensorflow/core/common_runtime/gpu/gpu_device.cc:1716] Found device 0 with properties: \n",
      "pciBusID: 0000:00:04.0 name: Tesla T4 computeCapability: 7.5\n",
      "coreClock: 1.59GHz coreCount: 40 deviceMemorySize: 14.75GiB deviceMemoryBandwidth: 298.08GiB/s\n",
      "2021-11-13 09:50:48.781838: I tensorflow/stream_executor/platform/default/dso_loader.cc:48] Successfully opened dynamic library libcudart.so.11.0\n",
      "2021-11-13 09:50:48.781862: I tensorflow/stream_executor/platform/default/dso_loader.cc:48] Successfully opened dynamic library libcublas.so.11\n",
      "2021-11-13 09:50:48.781880: I tensorflow/stream_executor/platform/default/dso_loader.cc:48] Successfully opened dynamic library libcufft.so.10\n",
      "2021-11-13 09:50:48.781895: I tensorflow/stream_executor/platform/default/dso_loader.cc:48] Successfully opened dynamic library libcurand.so.10\n",
      "2021-11-13 09:50:48.781910: I tensorflow/stream_executor/platform/default/dso_loader.cc:48] Successfully opened dynamic library libcusolver.so.10\n",
      "2021-11-13 09:50:48.781927: I tensorflow/stream_executor/platform/default/dso_loader.cc:48] Successfully opened dynamic library libcusparse.so.11\n",
      "2021-11-13 09:50:48.781941: I tensorflow/stream_executor/platform/default/dso_loader.cc:48] Successfully opened dynamic library libcudnn.so.8\n",
      "2021-11-13 09:50:48.782018: I tensorflow/stream_executor/cuda/cuda_gpu_executor.cc:982] successful NUMA node read from SysFS had negative value (-1), but there must be at least one NUMA node, so returning NUMA node zero\n",
      "2021-11-13 09:50:48.782578: I tensorflow/stream_executor/cuda/cuda_gpu_executor.cc:982] successful NUMA node read from SysFS had negative value (-1), but there must be at least one NUMA node, so returning NUMA node zero\n",
      "2021-11-13 09:50:48.783070: I tensorflow/core/common_runtime/gpu/gpu_device.cc:1858] Adding visible gpu devices: 0\n",
      "2021-11-13 09:50:48.784543: I tensorflow/stream_executor/platform/default/dso_loader.cc:48] Successfully opened dynamic library libcudart.so.11.0\n",
      "2021-11-13 09:50:52.510209: I tensorflow/core/common_runtime/gpu/gpu_device.cc:1257] Device interconnect StreamExecutor with strength 1 edge matrix:\n",
      "2021-11-13 09:50:52.510249: I tensorflow/core/common_runtime/gpu/gpu_device.cc:1263]      0 \n",
      "2021-11-13 09:50:52.510256: I tensorflow/core/common_runtime/gpu/gpu_device.cc:1276] 0:   N \n",
      "2021-11-13 09:50:52.512732: I tensorflow/stream_executor/cuda/cuda_gpu_executor.cc:982] successful NUMA node read from SysFS had negative value (-1), but there must be at least one NUMA node, so returning NUMA node zero\n",
      "2021-11-13 09:50:52.513362: I tensorflow/stream_executor/cuda/cuda_gpu_executor.cc:982] successful NUMA node read from SysFS had negative value (-1), but there must be at least one NUMA node, so returning NUMA node zero\n",
      "2021-11-13 09:50:52.513905: I tensorflow/core/common_runtime/gpu/gpu_device.cc:1402] Created TensorFlow device (/job:localhost/replica:0/task:0/device:GPU:0 with 13996 MB memory) -> physical GPU (device: 0, name: Tesla T4, pci bus id: 0000:00:04.0, compute capability: 7.5)\n"
     ]
    },
    {
     "name": "stdout",
     "output_type": "stream",
     "text": [
      "WARNING:tensorflow:Layer lstm will not use cuDNN kernel since it doesn't meet the cuDNN kernel criteria. It will use generic GPU kernel as fallback when running on GPU\n"
     ]
    }
   ],
   "source": [
    "model = Sequential()\n",
    "model.add(Embedding(20000, 100, input_length=100))\n",
    "model.add(LSTM(100, dropout=0.2, recurrent_dropout=0.2))\n",
    "model.add(Dense(1, activation='sigmoid'))\n",
    "model.compile(loss='binary_crossentropy', optimizer='adam', metrics=['accuracy'])\n"
   ]
  },
  {
   "cell_type": "code",
   "execution_count": 93,
   "metadata": {},
   "outputs": [
    {
     "name": "stdout",
     "output_type": "stream",
     "text": [
      "Epoch 1/2\n"
     ]
    },
    {
     "name": "stderr",
     "output_type": "stream",
     "text": [
      "2021-11-13 09:51:02.303415: I tensorflow/stream_executor/platform/default/dso_loader.cc:48] Successfully opened dynamic library libcublas.so.11\n"
     ]
    },
    {
     "name": "stdout",
     "output_type": "stream",
     "text": [
      "138/138 [==============================] - 40s 287ms/step - loss: 0.4181 - accuracy: 0.8621\n",
      "Epoch 2/2\n",
      "138/138 [==============================] - 40s 287ms/step - loss: 0.3379 - accuracy: 0.8696\n"
     ]
    },
    {
     "data": {
      "text/plain": [
       "<tensorflow.python.keras.callbacks.History at 0x7f68dcb3ef90>"
      ]
     },
     "execution_count": 93,
     "metadata": {},
     "output_type": "execute_result"
    }
   ],
   "source": [
    "model.fit(train_data, y_train, epochs=2)"
   ]
  },
  {
   "cell_type": "code",
   "execution_count": 94,
   "metadata": {},
   "outputs": [],
   "source": [
    "y_predicted = model.predict(test_data)"
   ]
  },
  {
   "cell_type": "code",
   "execution_count": 95,
   "metadata": {},
   "outputs": [
    {
     "name": "stdout",
     "output_type": "stream",
     "text": [
      "              precision    recall  f1-score   support\n",
      "\n",
      "       False       1.00      0.87      0.93      1460\n",
      "        True       0.02      0.60      0.03         5\n",
      "\n",
      "    accuracy                           0.87      1465\n",
      "   macro avg       0.51      0.74      0.48      1465\n",
      "weighted avg       1.00      0.87      0.93      1465\n",
      "\n"
     ]
    }
   ],
   "source": [
    "print(classification_report(y_predicted > 0.5, y_test))"
   ]
  },
  {
   "cell_type": "markdown",
   "metadata": {},
   "source": [
    "### Try a Plain LSTM model on the restaurant data set with fixed length learned embedding"
   ]
  },
  {
   "cell_type": "code",
   "execution_count": 9,
   "metadata": {},
   "outputs": [],
   "source": [
    "# Split train/test data for hotel reviews\n",
    "Res_X_train, Res_X_test, Res_y_train, Res_y_test = train_test_split(restaurant_reviews, restaurant_reviews['flagged']=='Y')"
   ]
  },
  {
   "cell_type": "code",
   "execution_count": 10,
   "metadata": {},
   "outputs": [],
   "source": [
    "vocabulary_size = 20000\n",
    "tokenizer = Tokenizer(num_words= vocabulary_size)\n",
    "tokenizer.fit_on_texts(Res_X_train['reviewContent'])\n",
    "sequences = tokenizer.texts_to_sequences(Res_X_train['reviewContent'])\n",
    "Res_train_data = pad_sequences(sequences, maxlen=100)\n",
    "\n",
    "tokenizer = Tokenizer(num_words= vocabulary_size)\n",
    "tokenizer.fit_on_texts(Res_X_test['reviewContent'])\n",
    "sequences = tokenizer.texts_to_sequences(Res_X_test['reviewContent'])\n",
    "Res_test_data = pad_sequences(sequences, maxlen=100)\n"
   ]
  },
  {
   "cell_type": "code",
   "execution_count": 11,
   "metadata": {},
   "outputs": [],
   "source": [
    "model = Sequential()\n",
    "model.add(Embedding(20000, 100, input_length=100))\n",
    "model.add(LSTM(100, dropout=0.2, recurrent_dropout=0.2))\n",
    "model.add(Dense(1, activation='sigmoid'))\n",
    "model.compile(loss='binary_crossentropy', optimizer='adam', metrics=['accuracy'])\n"
   ]
  },
  {
   "cell_type": "code",
   "execution_count": 12,
   "metadata": {},
   "outputs": [
    {
     "name": "stdout",
     "output_type": "stream",
     "text": [
      "Epoch 1/2\n",
      "1571/1571 [==============================] - 493s 312ms/step - loss: 0.3814 - accuracy: 0.8728\n",
      "Epoch 2/2\n",
      "1571/1571 [==============================] - 497s 316ms/step - loss: 0.3339 - accuracy: 0.8752\n"
     ]
    },
    {
     "data": {
      "text/plain": [
       "<tensorflow.python.keras.callbacks.History at 0x7f139eac1340>"
      ]
     },
     "execution_count": 12,
     "metadata": {},
     "output_type": "execute_result"
    }
   ],
   "source": [
    "model.fit(Res_train_data, Res_y_train, epochs=2)"
   ]
  },
  {
   "cell_type": "code",
   "execution_count": 14,
   "metadata": {},
   "outputs": [
    {
     "data": {
      "text/plain": [
       "46591    False\n",
       "48096    False\n",
       "9837     False\n",
       "44919    False\n",
       "40378    False\n",
       "         ...  \n",
       "61173     True\n",
       "8630     False\n",
       "55466    False\n",
       "27076    False\n",
       "35593    False\n",
       "Name: flagged, Length: 16755, dtype: bool"
      ]
     },
     "execution_count": 14,
     "metadata": {},
     "output_type": "execute_result"
    }
   ],
   "source": [
    "Res_y_test"
   ]
  },
  {
   "cell_type": "code",
   "execution_count": 15,
   "metadata": {},
   "outputs": [],
   "source": [
    "Res_y_predicted = model.predict(Res_test_data)"
   ]
  },
  {
   "cell_type": "code",
   "execution_count": 16,
   "metadata": {},
   "outputs": [
    {
     "name": "stdout",
     "output_type": "stream",
     "text": [
      "              precision    recall  f1-score   support\n",
      "\n",
      "       False       1.00      0.88      0.93     16743\n",
      "        True       0.00      0.00      0.00        12\n",
      "\n",
      "    accuracy                           0.88     16755\n",
      "   macro avg       0.50      0.44      0.47     16755\n",
      "weighted avg       1.00      0.88      0.93     16755\n",
      "\n"
     ]
    }
   ],
   "source": [
    "print(classification_report(Res_y_predicted > 0.5, y_test))"
   ]
  },
  {
   "cell_type": "markdown",
   "metadata": {},
   "source": [
    "# Model 2 - Data Resampling + GloVe embedding"
   ]
  },
  {
   "cell_type": "code",
   "execution_count": 17,
   "metadata": {},
   "outputs": [
    {
     "name": "stdout",
     "output_type": "stream",
     "text": [
      "Already downloaded the embedding\n"
     ]
    }
   ],
   "source": [
    "# Download the GloVe embeddings\n",
    "if 'embedding' not in os.listdir('.') or not os.listdir('embedding'):\n",
    "    os.system('wget http://nlp.stanford.edu/data/glove.6B.zip -P embedding/')\n",
    "    os.system('cd embedding && unzip glove.6B.zip')\n",
    "    print('Data the GloVe embedding successfully!')\n",
    "else:\n",
    "    print('Already downloaded the embedding')"
   ]
  },
  {
   "cell_type": "code",
   "execution_count": 23,
   "metadata": {},
   "outputs": [
    {
     "name": "stdout",
     "output_type": "stream",
     "text": [
      "/home/catherine041616/w266-final-project\n"
     ]
    }
   ],
   "source": [
    "!pwd"
   ]
  },
  {
   "cell_type": "code",
   "execution_count": 21,
   "metadata": {},
   "outputs": [
    {
     "data": {
      "text/plain": [
       "32512"
      ]
     },
     "execution_count": 21,
     "metadata": {},
     "output_type": "execute_result"
    }
   ],
   "source": [
    "os.system('cd /home/catherine041616/w266-final-project/embedding && unzip glove.6B.zip')"
   ]
  },
  {
   "cell_type": "code",
   "execution_count": 22,
   "metadata": {},
   "outputs": [],
   "source": [
    "import zipfile\n",
    "with zipfile.ZipFile(\"glove.6B.zip\",\"r\") as zip_ref:\n",
    "    zip_ref.extractall(\"targetdir\")"
   ]
  },
  {
   "cell_type": "code",
   "execution_count": 24,
   "metadata": {},
   "outputs": [
    {
     "name": "stdout",
     "output_type": "stream",
     "text": [
      "Found 400000 word vectors.\n"
     ]
    }
   ],
   "source": [
    "# Use the 100 dimensional GloVe embedding\n",
    "path_to_glove_file = \"/home/catherine041616/w266-final-project/targetdir/glove.6B.100d.txt\"\n",
    "\n",
    "embeddings_index = {}\n",
    "with open(path_to_glove_file) as f:\n",
    "    for line in f:\n",
    "        word, coefs = line.split(maxsplit=1)\n",
    "        coefs = np.fromstring(coefs, \"f\", sep=\" \")\n",
    "        embeddings_index[word] = coefs\n",
    "\n",
    "print(\"Found %s word vectors.\" % len(embeddings_index))"
   ]
  },
  {
   "cell_type": "code",
   "execution_count": 25,
   "metadata": {},
   "outputs": [],
   "source": [
    "# Split the positive/negative samples for more balanced sampling - Hotels\n",
    "X_train_positive = X_train[X_train['flagged'] == 'Y']\n",
    "X_train_negative = X_train[X_train['flagged'] == 'N']\n",
    "\n",
    "num_samples = 2000\n",
    "positive_ratio = 0.4\n",
    "positives = X_train_positive.sample(int(num_samples * positive_ratio), replace=True).reset_index(drop=True)\n",
    "negatives = X_train_negative.sample(num_samples, replace=True).reset_index(drop=True)\n",
    "\n",
    "X_train_balanced = pd.concat([positives, negatives], ignore_index=True).sample(frac=1)\n",
    "y_train_balanced = X_train_balanced['flagged'] == 'Y'"
   ]
  },
  {
   "cell_type": "code",
   "execution_count": 31,
   "metadata": {},
   "outputs": [],
   "source": [
    "# Split the positive/negative samples for more balanced sampling - Restaurant\n",
    "Res_X_train_positive = Res_X_train[Res_X_train['flagged'] == 'Y']\n",
    "Res_X_train_negative = Res_X_train[Res_X_train['flagged'] == 'N']\n",
    "\n",
    "num_samples = 2000\n",
    "positive_ratio = 0.4\n",
    "Res_positives = Res_X_train_positive.sample(int(num_samples * positive_ratio), replace=True).reset_index(drop=True)\n",
    "Res_negatives = Res_X_train_negative.sample(num_samples, replace=True).reset_index(drop=True)\n",
    "\n",
    "Res_X_train_balanced = pd.concat([Res_positives, Res_negatives], ignore_index=True).sample(frac=1)\n",
    "Res_y_train_balanced = Res_X_train_balanced['flagged'] == 'Y'"
   ]
  },
  {
   "cell_type": "code",
   "execution_count": 32,
   "metadata": {},
   "outputs": [
    {
     "name": "stdout",
     "output_type": "stream",
     "text": [
      "Vocabulary size is 17791\n"
     ]
    }
   ],
   "source": [
    "# First layer, vectorizing the word input - Hotels\n",
    "vocabulary_size = 40000\n",
    "max_tokens = 200\n",
    "\n",
    "vectorizer = TextVectorization(max_tokens=vocabulary_size, output_sequence_length=max_tokens)\n",
    "vectorizer.adapt(X_train_balanced['reviewContent'].to_numpy())\n",
    "\n",
    "voc = vectorizer.get_vocabulary()\n",
    "word_index = dict(zip(voc, range(len(voc))))\n",
    "\n",
    "print(f\"Vocabulary size is {len(voc)}\")\n"
   ]
  },
  {
   "cell_type": "code",
   "execution_count": 33,
   "metadata": {},
   "outputs": [
    {
     "name": "stdout",
     "output_type": "stream",
     "text": [
      "Vocabulary size is 17368\n"
     ]
    }
   ],
   "source": [
    "# First layer, vectorizing the word input - Restaurant\n",
    "\n",
    "vectorizer.adapt(Res_X_train_balanced['reviewContent'].to_numpy())\n",
    "\n",
    "Res_voc = vectorizer.get_vocabulary()\n",
    "Res_word_index = dict(zip(Res_voc, range(len(Res_voc))))\n",
    "\n",
    "print(f\"Vocabulary size is {len(Res_voc)}\")\n"
   ]
  },
  {
   "cell_type": "code",
   "execution_count": 28,
   "metadata": {},
   "outputs": [
    {
     "name": "stdout",
     "output_type": "stream",
     "text": [
      "Converted 12974 words (4817 misses)\n"
     ]
    }
   ],
   "source": [
    "# Ref: https://keras.io/examples/nlp/pretrained_word_embeddings/\n",
    "# Build + Lock in the Embedding layer from GloVe - Hotels\n",
    "embedding_dim = 100\n",
    "hits = 0\n",
    "misses = 0\n",
    "num_words = len(voc) + 2\n",
    "\n",
    "# Prepare embedding matrix\n",
    "# TODO: more pre-processing to avoid ~3000 words that don't have embeddings\n",
    "embedding_matrix = np.zeros((num_words, embedding_dim))\n",
    "for i, word in enumerate(voc):\n",
    "    embedding_vector = embeddings_index.get(word)\n",
    "    if embedding_vector is not None:\n",
    "        # Words not found in embedding index will be all-zeros.\n",
    "        # This includes the representation for \"padding\" and \"OOV\"\n",
    "        embedding_matrix[i] = embedding_vector\n",
    "        hits += 1\n",
    "    else:\n",
    "        misses += 1\n",
    "print(\"Converted %d words (%d misses)\" % (hits, misses))\n",
    "\n",
    "\n",
    "embedding_layer = Embedding(\n",
    "    num_words,\n",
    "    embedding_dim,\n",
    "    embeddings_initializer=tf.keras.initializers.Constant(embedding_matrix),\n",
    "    trainable=False,\n",
    ")\n"
   ]
  },
  {
   "cell_type": "code",
   "execution_count": 34,
   "metadata": {},
   "outputs": [
    {
     "name": "stdout",
     "output_type": "stream",
     "text": [
      "Converted 12556 words (4812 misses)\n"
     ]
    }
   ],
   "source": [
    "# Ref: https://keras.io/examples/nlp/pretrained_word_embeddings/\n",
    "# Build + Lock in the Embedding layer from GloVe - Restaurant\n",
    "embedding_dim = 100\n",
    "hits = 0\n",
    "misses = 0\n",
    "Res_num_words = len(Res_voc) + 2\n",
    "\n",
    "# Prepare embedding matrix\n",
    "# TODO: more pre-processing to avoid ~3000 words that don't have embeddings\n",
    "Res_embedding_matrix = np.zeros((Res_num_words, embedding_dim))\n",
    "for i, word in enumerate(Res_voc):\n",
    "    embedding_vector = embeddings_index.get(word)\n",
    "    if embedding_vector is not None:\n",
    "        # Words not found in embedding index will be all-zeros.\n",
    "        # This includes the representation for \"padding\" and \"OOV\"\n",
    "        Res_embedding_matrix[i] = embedding_vector\n",
    "        hits += 1\n",
    "    else:\n",
    "        misses += 1\n",
    "print(\"Converted %d words (%d misses)\" % (hits, misses))\n",
    "\n",
    "\n",
    "Res_embedding_layer = Embedding(\n",
    "    Res_num_words,\n",
    "    embedding_dim,\n",
    "    embeddings_initializer=tf.keras.initializers.Constant(Res_embedding_matrix),\n",
    "    trainable=False,\n",
    ")\n"
   ]
  },
  {
   "cell_type": "code",
   "execution_count": 29,
   "metadata": {},
   "outputs": [
    {
     "data": {
      "text/plain": [
       "(2800, 200)"
      ]
     },
     "execution_count": 29,
     "metadata": {},
     "output_type": "execute_result"
    }
   ],
   "source": [
    "# Vectorize the input - Hotels\n",
    "X_train_ready = vectorizer(X_train_balanced['reviewContent']).numpy()\n",
    "X_test_ready = vectorizer(X_test['reviewContent']).numpy()\n",
    "\n",
    "X_train_ready.shape"
   ]
  },
  {
   "cell_type": "code",
   "execution_count": 35,
   "metadata": {},
   "outputs": [
    {
     "data": {
      "text/plain": [
       "(2800, 200)"
      ]
     },
     "execution_count": 35,
     "metadata": {},
     "output_type": "execute_result"
    }
   ],
   "source": [
    "# Vectorize the input - Restaurant\n",
    "Res_X_train_ready = vectorizer(Res_X_train_balanced['reviewContent']).numpy()\n",
    "Res_X_test_ready = vectorizer(Res_X_test['reviewContent']).numpy()\n",
    "\n",
    "Res_X_train_ready.shape"
   ]
  },
  {
   "cell_type": "code",
   "execution_count": 30,
   "metadata": {},
   "outputs": [
    {
     "name": "stdout",
     "output_type": "stream",
     "text": [
      "Epoch 1/8\n",
      "88/88 [==============================] - 33s 351ms/step - loss: 0.6244 - accuracy: 0.7005\n",
      "Epoch 2/8\n",
      "88/88 [==============================] - 31s 351ms/step - loss: 0.5856 - accuracy: 0.7158\n",
      "Epoch 3/8\n",
      "88/88 [==============================] - 31s 350ms/step - loss: 0.5775 - accuracy: 0.7183\n",
      "Epoch 4/8\n",
      "88/88 [==============================] - 31s 351ms/step - loss: 0.5801 - accuracy: 0.7127\n",
      "Epoch 5/8\n",
      "88/88 [==============================] - 31s 349ms/step - loss: 0.5718 - accuracy: 0.7151\n",
      "Epoch 6/8\n",
      "88/88 [==============================] - 31s 349ms/step - loss: 0.5711 - accuracy: 0.7145\n",
      "Epoch 7/8\n",
      "88/88 [==============================] - 31s 350ms/step - loss: 0.5675 - accuracy: 0.7068\n",
      "Epoch 8/8\n",
      "88/88 [==============================] - 31s 353ms/step - loss: 0.5489 - accuracy: 0.7226\n"
     ]
    },
    {
     "data": {
      "text/plain": [
       "<tensorflow.python.keras.callbacks.History at 0x7f13881f6190>"
      ]
     },
     "execution_count": 30,
     "metadata": {},
     "output_type": "execute_result"
    }
   ],
   "source": [
    "# Build and train the model - Hotels\n",
    "model = Sequential()\n",
    "model.add(embedding_layer)\n",
    "model.add(LSTM(50, dropout=0.2, recurrent_dropout=0.2))\n",
    "model.add(Dense(1, activation='sigmoid'))\n",
    "model.compile(loss='binary_crossentropy', optimizer='adam', metrics=['accuracy'])\n",
    "\n",
    "model.fit(X_train_ready, y_train_balanced, epochs=8)"
   ]
  },
  {
   "cell_type": "code",
   "execution_count": 36,
   "metadata": {},
   "outputs": [
    {
     "name": "stdout",
     "output_type": "stream",
     "text": [
      "524/524 [==============================] - 40s 77ms/step - loss: 0.4228 - accuracy: 0.8765\n",
      "              precision    recall  f1-score   support\n",
      "\n",
      "       False       1.00      0.88      0.93     16749\n",
      "        True       0.00      0.33      0.00         6\n",
      "\n",
      "    accuracy                           0.88     16755\n",
      "   macro avg       0.50      0.61      0.47     16755\n",
      "weighted avg       1.00      0.88      0.93     16755\n",
      "\n"
     ]
    },
    {
     "data": {
      "text/plain": [
       "N    0.876634\n",
       "Y    0.123366\n",
       "Name: flagged, dtype: float64"
      ]
     },
     "execution_count": 36,
     "metadata": {},
     "output_type": "execute_result"
    }
   ],
   "source": [
    "model.evaluate(X_test_ready, y_test)\n",
    "y_predicted = model.predict(X_test_ready)\n",
    "print(classification_report(y_predicted > 0.5, y_test))\n",
    "X_test['flagged'].value_counts() / len(X_test)"
   ]
  },
  {
   "cell_type": "code",
   "execution_count": 37,
   "metadata": {},
   "outputs": [
    {
     "name": "stdout",
     "output_type": "stream",
     "text": [
      "Epoch 1/8\n",
      "88/88 [==============================] - 34s 353ms/step - loss: 0.6197 - accuracy: 0.7191\n",
      "Epoch 2/8\n",
      "88/88 [==============================] - 31s 353ms/step - loss: 0.5854 - accuracy: 0.7299\n",
      "Epoch 3/8\n",
      "88/88 [==============================] - 31s 351ms/step - loss: 0.5849 - accuracy: 0.7124\n",
      "Epoch 4/8\n",
      "88/88 [==============================] - 31s 352ms/step - loss: 0.5823 - accuracy: 0.7196\n",
      "Epoch 5/8\n",
      "88/88 [==============================] - 31s 353ms/step - loss: 0.5718 - accuracy: 0.7279\n",
      "Epoch 6/8\n",
      "88/88 [==============================] - 31s 352ms/step - loss: 0.5804 - accuracy: 0.7141\n",
      "Epoch 7/8\n",
      "88/88 [==============================] - 31s 353ms/step - loss: 0.5665 - accuracy: 0.7181\n",
      "Epoch 8/8\n",
      "88/88 [==============================] - 31s 349ms/step - loss: 0.5646 - accuracy: 0.7182\n"
     ]
    },
    {
     "data": {
      "text/plain": [
       "<tensorflow.python.keras.callbacks.History at 0x7f1383201ee0>"
      ]
     },
     "execution_count": 37,
     "metadata": {},
     "output_type": "execute_result"
    }
   ],
   "source": [
    "# Build and train the model - Restaurant\n",
    "model = Sequential()\n",
    "model.add(embedding_layer)\n",
    "model.add(LSTM(50, dropout=0.2, recurrent_dropout=0.2))\n",
    "model.add(Dense(1, activation='sigmoid'))\n",
    "model.compile(loss='binary_crossentropy', optimizer='adam', metrics=['accuracy'])\n",
    "\n",
    "model.fit(Res_X_train_ready, Res_y_train_balanced, epochs=8)"
   ]
  },
  {
   "cell_type": "code",
   "execution_count": 38,
   "metadata": {},
   "outputs": [
    {
     "name": "stdout",
     "output_type": "stream",
     "text": [
      "524/524 [==============================] - 41s 78ms/step - loss: 0.4438 - accuracy: 0.8758\n",
      "              precision    recall  f1-score   support\n",
      "\n",
      "       False       1.00      0.88      0.93     16741\n",
      "        True       0.00      0.00      0.00        14\n",
      "\n",
      "    accuracy                           0.88     16755\n",
      "   macro avg       0.50      0.44      0.47     16755\n",
      "weighted avg       1.00      0.88      0.93     16755\n",
      "\n"
     ]
    },
    {
     "data": {
      "text/plain": [
       "N    0.876634\n",
       "Y    0.123366\n",
       "Name: flagged, dtype: float64"
      ]
     },
     "execution_count": 38,
     "metadata": {},
     "output_type": "execute_result"
    }
   ],
   "source": [
    "model.evaluate(X_test_ready, y_test)\n",
    "y_predicted = model.predict(X_test_ready)\n",
    "print(classification_report(y_predicted > 0.5, y_test))\n",
    "X_test['flagged'].value_counts() / len(X_test)"
   ]
  },
  {
   "cell_type": "markdown",
   "metadata": {},
   "source": [
    "# Fake review generation"
   ]
  },
  {
   "cell_type": "code",
   "execution_count": 29,
   "metadata": {},
   "outputs": [
    {
     "name": "stdout",
     "output_type": "stream",
     "text": [
      "Collecting transformers\n",
      "  Downloading transformers-4.12.3-py3-none-any.whl (3.1 MB)\n",
      "     |████████████████████████████████| 3.1 MB 4.1 MB/s            \n",
      "\u001b[?25hRequirement already satisfied: regex!=2019.12.17 in /opt/conda/lib/python3.7/site-packages (from transformers) (2021.11.2)\n",
      "Collecting filelock\n",
      "  Downloading filelock-3.3.2-py3-none-any.whl (9.7 kB)\n",
      "Requirement already satisfied: numpy>=1.17 in /opt/conda/lib/python3.7/site-packages (from transformers) (1.19.5)\n",
      "Requirement already satisfied: importlib-metadata in /opt/conda/lib/python3.7/site-packages (from transformers) (4.8.1)\n",
      "Requirement already satisfied: requests in /opt/conda/lib/python3.7/site-packages (from transformers) (2.25.1)\n",
      "Collecting tokenizers<0.11,>=0.10.1\n",
      "  Downloading tokenizers-0.10.3-cp37-cp37m-manylinux_2_5_x86_64.manylinux1_x86_64.manylinux_2_12_x86_64.manylinux2010_x86_64.whl (3.3 MB)\n",
      "     |████████████████████████████████| 3.3 MB 55.1 MB/s            \n",
      "\u001b[?25hCollecting sacremoses\n",
      "  Downloading sacremoses-0.0.46-py3-none-any.whl (895 kB)\n",
      "     |████████████████████████████████| 895 kB 73.7 MB/s            \n",
      "\u001b[?25hCollecting huggingface-hub<1.0,>=0.1.0\n",
      "  Downloading huggingface_hub-0.1.2-py3-none-any.whl (59 kB)\n",
      "     |████████████████████████████████| 59 kB 11.0 MB/s            \n",
      "\u001b[?25hRequirement already satisfied: pyyaml>=5.1 in /opt/conda/lib/python3.7/site-packages (from transformers) (6.0)\n",
      "Requirement already satisfied: packaging>=20.0 in /opt/conda/lib/python3.7/site-packages (from transformers) (21.0)\n",
      "Requirement already satisfied: tqdm>=4.27 in /opt/conda/lib/python3.7/site-packages (from transformers) (4.62.3)\n",
      "Requirement already satisfied: typing-extensions>=3.7.4.3 in /opt/conda/lib/python3.7/site-packages (from huggingface-hub<1.0,>=0.1.0->transformers) (3.10.0.2)\n",
      "Requirement already satisfied: pyparsing>=2.0.2 in /opt/conda/lib/python3.7/site-packages (from packaging>=20.0->transformers) (3.0.4)\n",
      "Requirement already satisfied: zipp>=0.5 in /opt/conda/lib/python3.7/site-packages (from importlib-metadata->transformers) (3.6.0)\n",
      "Requirement already satisfied: chardet<5,>=3.0.2 in /opt/conda/lib/python3.7/site-packages (from requests->transformers) (4.0.0)\n",
      "Requirement already satisfied: certifi>=2017.4.17 in /opt/conda/lib/python3.7/site-packages (from requests->transformers) (2021.10.8)\n",
      "Requirement already satisfied: urllib3<1.27,>=1.21.1 in /opt/conda/lib/python3.7/site-packages (from requests->transformers) (1.26.7)\n",
      "Requirement already satisfied: idna<3,>=2.5 in /opt/conda/lib/python3.7/site-packages (from requests->transformers) (2.10)\n",
      "Requirement already satisfied: joblib in /opt/conda/lib/python3.7/site-packages (from sacremoses->transformers) (1.1.0)\n",
      "Requirement already satisfied: click in /opt/conda/lib/python3.7/site-packages (from sacremoses->transformers) (8.0.3)\n",
      "Requirement already satisfied: six in /opt/conda/lib/python3.7/site-packages (from sacremoses->transformers) (1.16.0)\n",
      "Installing collected packages: filelock, tokenizers, sacremoses, huggingface-hub, transformers\n",
      "Successfully installed filelock-3.3.2 huggingface-hub-0.1.2 sacremoses-0.0.46 tokenizers-0.10.3 transformers-4.12.3\n"
     ]
    }
   ],
   "source": [
    "!pip install transformers"
   ]
  },
  {
   "cell_type": "code",
   "execution_count": 34,
   "metadata": {},
   "outputs": [],
   "source": [
    "b = hotel_reviews['reviewContent']\n",
    "np.savetxt(r'/home/catherine041616/w266-final-project/hotel.txt', a.values, fmt='%s')"
   ]
  },
  {
   "cell_type": "code",
   "execution_count": 2,
   "metadata": {},
   "outputs": [
    {
     "name": "stdout",
     "output_type": "stream",
     "text": [
      "Traceback (most recent call last):\r\n",
      "  File \"gpt2_fine_tuning.py\", line 12, in <module>\r\n",
      "    import torch\r\n",
      "ModuleNotFoundError: No module named 'torch'\r\n"
     ]
    }
   ],
   "source": [
    "!python gpt2_fine_tuning.py \\\n",
    "    --output_dir hotel \\\n",
    "    --model_name_or_path=gpt2 \\\n",
    "    --do_train \\\n",
    "    --train_data_file='./hotel_fake.txt' \\\n",
    "    --per_gpu_train_batch_size=1"
   ]
  },
  {
   "cell_type": "code",
   "execution_count": 24,
   "metadata": {},
   "outputs": [
    {
     "name": "stdout",
     "output_type": "stream",
     "text": [
      "2021-11-13 08:13:59.640144: I tensorflow/stream_executor/platform/default/dso_loader.cc:48] Successfully opened dynamic library libcudart.so.11.0\n",
      "^C\n"
     ]
    }
   ],
   "source": [
    "!python gpt2_generation.py \\\n",
    "    --model_name_or_path hotel \\\n",
    "    --length=10 \\\n",
    "    --seed=3"
   ]
  }
 ],
 "metadata": {
  "anaconda-cloud": {},
  "environment": {
   "kernel": "conda-root-py",
   "name": "tf2-gpu.2-3.m84",
   "type": "gcloud",
   "uri": "gcr.io/deeplearning-platform-release/tf2-gpu.2-3:m84"
  },
  "kernelspec": {
   "display_name": "Python 3 (ipykernel)",
   "language": "python",
   "name": "python3"
  },
  "language_info": {
   "codemirror_mode": {
    "name": "ipython",
    "version": 3
   },
   "file_extension": ".py",
   "mimetype": "text/x-python",
   "name": "python",
   "nbconvert_exporter": "python",
   "pygments_lexer": "ipython3",
   "version": "3.7.9"
  }
 },
 "nbformat": 4,
 "nbformat_minor": 4
}
