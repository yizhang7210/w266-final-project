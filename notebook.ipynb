{
 "cells": [
  {
   "cell_type": "markdown",
   "metadata": {},
   "source": [
    "# W266 Final Project\n",
    "\n",
    "Authors: Satheesh Joseph, Catherine Mou, Yi Zhang"
   ]
  },
  {
   "cell_type": "markdown",
   "metadata": {},
   "source": [
    "## Downloading and loading the data\n",
    "\n",
    "We acquired the dataset from the researchers in the form of Sqlite `.db` files."
   ]
  },
  {
   "cell_type": "code",
   "execution_count": 49,
   "metadata": {},
   "outputs": [],
   "source": [
    "import os, sys, re, json, time, unittest\n",
    "import itertools, collections\n",
    "from importlib import reload\n",
    "\n",
    "import numpy as np\n",
    "from scipy import stats\n",
    "import pandas as pd\n",
    "import sqlite3\n",
    "\n",
    "import nltk"
   ]
  },
  {
   "cell_type": "code",
   "execution_count": 50,
   "metadata": {},
   "outputs": [
    {
     "name": "stdout",
     "output_type": "stream",
     "text": [
      "Already downloaded data\n"
     ]
    }
   ],
   "source": [
    "# Download the files if they're not here\n",
    "if 'data' not in os.listdir('.') or not os.listdir('data'):\n",
    "    os.system('wget https://storage.googleapis.com/mids-w266-final-project-data/yelpHotelData.db -P data/')\n",
    "    os.system('wget https://storage.googleapis.com/mids-w266-final-project-data/yelpResData.db -P data/')\n",
    "    print('Data downloaded successfully!')\n",
    "else:\n",
    "    print('Already downloaded data')"
   ]
  },
  {
   "cell_type": "code",
   "execution_count": 51,
   "metadata": {},
   "outputs": [
    {
     "name": "stdout",
     "output_type": "stream",
     "text": [
      "[('review',), ('restaurant',), ('reviewer',)]\n",
      "[('review',), ('sqlite_stat1',), ('sqlite_stat2',), ('reviewer',), ('hotel',)]\n"
     ]
    }
   ],
   "source": [
    "con = sqlite3.connect('data/yelpResData.db')\n",
    "cursor = con.cursor()\n",
    "cursor.execute(\"SELECT name FROM sqlite_master WHERE type='table';\")\n",
    "print(cursor.fetchall())\n",
    "\n",
    "con = sqlite3.connect('data/yelpHotelData.db')\n",
    "cursor = con.cursor()\n",
    "cursor.execute(\"SELECT name FROM sqlite_master WHERE type='table';\")\n",
    "print(cursor.fetchall())"
   ]
  },
  {
   "cell_type": "code",
   "execution_count": 52,
   "metadata": {},
   "outputs": [
    {
     "name": "stdout",
     "output_type": "stream",
     "text": [
      "The data set contains 283086 hotels, 688329 reviews, and 5123 reviewers\n"
     ]
    }
   ],
   "source": [
    "# Reading from the hotels database\n",
    "hotels_db = sqlite3.connect(\"data/yelpHotelData.db\")\n",
    "hotels = pd.read_sql_query(\"SELECT * FROM hotel\", hotels_db)\n",
    "hotel_reviews = pd.read_sql_query(\"SELECT * FROM review\", hotels_db)\n",
    "hotel_reviewers = pd.read_sql_query(\"SELECT * FROM reviewer\", hotels_db)\n",
    "\n",
    "\n",
    "print(f'The data set contains {len(hotels)} hotels, {len(hotel_reviews)} reviews, and {len(hotel_reviewers)} reviewers')"
   ]
  },
  {
   "cell_type": "code",
   "execution_count": 53,
   "metadata": {},
   "outputs": [
    {
     "name": "stdout",
     "output_type": "stream",
     "text": [
      "The data set contains 242652 restaurants, 788471 reviews, and 16941 reviewers\n"
     ]
    }
   ],
   "source": [
    "# Reading from the restaurant database\n",
    "restaurant_db = sqlite3.connect(\"data/yelpResData.db\")\n",
    "restaurant_db.text_factory = lambda x: x.decode(\"utf-8\", errors='ignore')\n",
    "restaurants = pd.read_sql_query(\"SELECT * FROM restaurant\", restaurant_db)\n",
    "restaurant_reviews = pd.read_sql_query(\"SELECT * FROM review\", restaurant_db)\n",
    "restaurant_reviewers = pd.read_sql_query(\"SELECT * FROM reviewer\", restaurant_db)\n",
    "\n",
    "\n",
    "print(f'The data set contains {len(restaurants)} restaurants, {len(restaurant_reviews)} reviews, and {len(restaurant_reviewers)} reviewers')"
   ]
  },
  {
   "cell_type": "markdown",
   "metadata": {},
   "source": [
    "# Exploratory Data Analysis\n",
    "\n",
    "## ToDo: Performan EDA"
   ]
  },
  {
   "cell_type": "code",
   "execution_count": 54,
   "metadata": {
    "scrolled": true
   },
   "outputs": [
    {
     "name": "stdout",
     "output_type": "stream",
     "text": [
      "<class 'pandas.core.frame.DataFrame'>\n",
      "RangeIndex: 688329 entries, 0 to 688328\n",
      "Data columns (total 10 columns):\n",
      " #   Column         Non-Null Count   Dtype \n",
      "---  ------         --------------   ----- \n",
      " 0   date           688329 non-null  object\n",
      " 1   reviewID       688329 non-null  object\n",
      " 2   reviewerID     688329 non-null  object\n",
      " 3   reviewContent  688329 non-null  object\n",
      " 4   rating         688329 non-null  int64 \n",
      " 5   usefulCount    688329 non-null  int64 \n",
      " 6   coolCount      688329 non-null  int64 \n",
      " 7   funnyCount     688329 non-null  int64 \n",
      " 8   flagged        688329 non-null  object\n",
      " 9   hotelID        688329 non-null  object\n",
      "dtypes: int64(4), object(6)\n",
      "memory usage: 52.5+ MB\n"
     ]
    }
   ],
   "source": [
    "hotel_reviews.info()"
   ]
  },
  {
   "cell_type": "code",
   "execution_count": 55,
   "metadata": {},
   "outputs": [
    {
     "name": "stdout",
     "output_type": "stream",
     "text": [
      "<class 'pandas.core.frame.DataFrame'>\n",
      "RangeIndex: 788471 entries, 0 to 788470\n",
      "Data columns (total 10 columns):\n",
      " #   Column         Non-Null Count   Dtype \n",
      "---  ------         --------------   ----- \n",
      " 0   date           788471 non-null  object\n",
      " 1   reviewID       788471 non-null  object\n",
      " 2   reviewerID     788471 non-null  object\n",
      " 3   reviewContent  788471 non-null  object\n",
      " 4   rating         788471 non-null  int64 \n",
      " 5   usefulCount    788471 non-null  int64 \n",
      " 6   coolCount      788471 non-null  int64 \n",
      " 7   funnyCount     788471 non-null  int64 \n",
      " 8   flagged        788471 non-null  object\n",
      " 9   restaurantID   788471 non-null  object\n",
      "dtypes: int64(4), object(6)\n",
      "memory usage: 60.2+ MB\n"
     ]
    }
   ],
   "source": [
    "restaurant_reviews.info()"
   ]
  },
  {
   "cell_type": "code",
   "execution_count": 56,
   "metadata": {},
   "outputs": [
    {
     "data": {
      "text/plain": [
       "94         ***Alinea is truly a one-of-a-kind experience;...\n",
       "29403      ***Graham Elliot serves up refined casual food...\n",
       "43054      ***Longman & Eagle is a true gastropub--a casu...\n",
       "98176      ***Andrew Kirschner's Tar & Roses shows a lot ...\n",
       "98177      ***Jose Andres' China Poblano in the Cosmopoli...\n",
       "                                 ...                        \n",
       "1214489    **Sleek, upscale and reminiscent of the flashy...\n",
       "1214498    ***Great stadium design though the food was di...\n",
       "1214499    (3.5 stars) Mastro's is well known for their s...\n",
       "1214500    If you need something for your home improvemen...\n",
       "1214501    I finally made it up to Alcove for breakfast a...\n",
       "Name: reviewContent, Length: 3209, dtype: object"
      ]
     },
     "execution_count": 56,
     "metadata": {},
     "output_type": "execute_result"
    }
   ],
   "source": [
    "reviews = pd.concat([restaurant_reviews, hotel_reviews.rename(columns={'hotelID':'restaurantID'})], ignore_index=True)\n",
    "reviews.groupby('reviewerID').agg({\"usefulCount\": np.sum, \n",
    "                                   \"coolCount\": np.sum, \n",
    "                                   \"funnyCount\": np.sum}).sort_values(by=['usefulCount'], ascending=False)\n",
    "reviews[reviews['reviewerID'] == 'w-w-k-QXosIKQ8HQVwU6IQ']['reviewContent']"
   ]
  },
  {
   "cell_type": "code",
   "execution_count": 57,
   "metadata": {},
   "outputs": [
    {
     "data": {
      "text/html": [
       "<div>\n",
       "<style scoped>\n",
       "    .dataframe tbody tr th:only-of-type {\n",
       "        vertical-align: middle;\n",
       "    }\n",
       "\n",
       "    .dataframe tbody tr th {\n",
       "        vertical-align: top;\n",
       "    }\n",
       "\n",
       "    .dataframe thead th {\n",
       "        text-align: right;\n",
       "    }\n",
       "</style>\n",
       "<table border=\"1\" class=\"dataframe\">\n",
       "  <thead>\n",
       "    <tr style=\"text-align: right;\">\n",
       "      <th></th>\n",
       "      <th>rating</th>\n",
       "      <th>usefulCount</th>\n",
       "      <th>coolCount</th>\n",
       "      <th>funnyCount</th>\n",
       "    </tr>\n",
       "    <tr>\n",
       "      <th>flagged</th>\n",
       "      <th></th>\n",
       "      <th></th>\n",
       "      <th></th>\n",
       "      <th></th>\n",
       "    </tr>\n",
       "  </thead>\n",
       "  <tbody>\n",
       "    <tr>\n",
       "      <th>N</th>\n",
       "      <td>252531</td>\n",
       "      <td>65773</td>\n",
       "      <td>42690</td>\n",
       "      <td>36444</td>\n",
       "    </tr>\n",
       "    <tr>\n",
       "      <th>NR</th>\n",
       "      <td>3007835</td>\n",
       "      <td>1767423</td>\n",
       "      <td>1168514</td>\n",
       "      <td>995933</td>\n",
       "    </tr>\n",
       "    <tr>\n",
       "      <th>Y</th>\n",
       "      <td>34611</td>\n",
       "      <td>0</td>\n",
       "      <td>0</td>\n",
       "      <td>0</td>\n",
       "    </tr>\n",
       "    <tr>\n",
       "      <th>YR</th>\n",
       "      <td>2196506</td>\n",
       "      <td>868177</td>\n",
       "      <td>639502</td>\n",
       "      <td>516417</td>\n",
       "    </tr>\n",
       "  </tbody>\n",
       "</table>\n",
       "</div>"
      ],
      "text/plain": [
       "          rating  usefulCount  coolCount  funnyCount\n",
       "flagged                                             \n",
       "N         252531        65773      42690       36444\n",
       "NR       3007835      1767423    1168514      995933\n",
       "Y          34611            0          0           0\n",
       "YR       2196506       868177     639502      516417"
      ]
     },
     "execution_count": 57,
     "metadata": {},
     "output_type": "execute_result"
    }
   ],
   "source": [
    "reviews.groupby('flagged').agg('sum')"
   ]
  },
  {
   "cell_type": "code",
   "execution_count": null,
   "metadata": {},
   "outputs": [],
   "source": []
  }
 ],
 "metadata": {
  "anaconda-cloud": {},
  "kernelspec": {
   "display_name": "Python 3",
   "language": "python",
   "name": "python3"
  },
  "language_info": {
   "codemirror_mode": {
    "name": "ipython",
    "version": 3
   },
   "file_extension": ".py",
   "mimetype": "text/x-python",
   "name": "python",
   "nbconvert_exporter": "python",
   "pygments_lexer": "ipython3",
   "version": "3.8.5"
  }
 },
 "nbformat": 4,
 "nbformat_minor": 1
}
