{
 "cells": [
  {
   "cell_type": "markdown",
   "metadata": {},
   "source": [
    "# W266 Final Project\n",
    "\n",
    "Authors: Satheesh Joseph, Catherine Mou, Yi Zhang"
   ]
  },
  {
   "cell_type": "markdown",
   "metadata": {},
   "source": [
    "*TODO*\n",
    "\n",
    "- Introduction\n",
    "- Literature review"
   ]
  },
  {
   "cell_type": "markdown",
   "metadata": {},
   "source": [
    "## Downloading and loading the data\n",
    "\n",
    "We acquired the dataset from the researchers in the form of Sqlite `.db` files."
   ]
  },
  {
   "cell_type": "code",
   "execution_count": 36,
   "metadata": {},
   "outputs": [],
   "source": [
    "import os, sys, re, json, time, unittest\n",
    "import itertools, collections\n",
    "from importlib import reload\n",
    "from sklearn.model_selection import train_test_split\n",
    "import matplotlib.pyplot as plt\n",
    "\n",
    "import numpy as np\n",
    "from scipy import stats\n",
    "import pandas as pd\n",
    "import sqlite3\n",
    "import unicodedata\n",
    "import nltk\n",
    "\n",
    "import tensorflow as tf\n",
    "from sklearn.metrics import classification_report"
   ]
  },
  {
   "cell_type": "code",
   "execution_count": 16,
   "metadata": {},
   "outputs": [],
   "source": [
    "from tensorflow.keras.preprocessing.text import Tokenizer\n",
    "from tensorflow.keras.preprocessing.sequence import pad_sequences\n",
    "from tensorflow.keras.models import Sequential\n",
    "from tensorflow.keras.layers import Dense, Input, Flatten, LSTM, Conv1D, MaxPooling1D, Dropout, Activation, Embedding\n",
    "from tensorflow.keras.layers.experimental.preprocessing import TextVectorization"
   ]
  },
  {
   "cell_type": "code",
   "execution_count": 17,
   "metadata": {},
   "outputs": [
    {
     "name": "stdout",
     "output_type": "stream",
     "text": [
      "Already downloaded data\n"
     ]
    }
   ],
   "source": [
    "# Download the files if they're not here\n",
    "if 'data' not in os.listdir('.') or not os.listdir('data'):\n",
    "    os.system('wget https://storage.googleapis.com/mids-w266-final-project-data/yelpHotelData.db -P data/')\n",
    "    os.system('wget https://storage.googleapis.com/mids-w266-final-project-data/yelpResData.db -P data/')\n",
    "    print('Data downloaded successfully!')\n",
    "else:\n",
    "    print('Already downloaded data')"
   ]
  },
  {
   "cell_type": "code",
   "execution_count": 18,
   "metadata": {},
   "outputs": [
    {
     "name": "stdout",
     "output_type": "stream",
     "text": [
      "[('review',), ('restaurant',), ('reviewer',)]\n",
      "[('review',), ('sqlite_stat1',), ('sqlite_stat2',), ('reviewer',), ('hotel',)]\n"
     ]
    }
   ],
   "source": [
    "con = sqlite3.connect('data/yelpResData.db')\n",
    "cursor = con.cursor()\n",
    "cursor.execute(\"SELECT name FROM sqlite_master WHERE type='table';\")\n",
    "print(cursor.fetchall())\n",
    "\n",
    "con = sqlite3.connect('data/yelpHotelData.db')\n",
    "cursor = con.cursor()\n",
    "cursor.execute(\"SELECT name FROM sqlite_master WHERE type='table';\")\n",
    "print(cursor.fetchall())"
   ]
  },
  {
   "cell_type": "code",
   "execution_count": 19,
   "metadata": {},
   "outputs": [
    {
     "name": "stdout",
     "output_type": "stream",
     "text": [
      "The data set contains 283086 hotels, 5858 reviews, and 5123 reviewers\n"
     ]
    }
   ],
   "source": [
    "# Reading from the hotels database\n",
    "hotels_db = sqlite3.connect(\"data/yelpHotelData.db\")\n",
    "hotels = pd.read_sql_query(\"SELECT * FROM hotel\", hotels_db)\n",
    "hotel_reviews = pd.read_sql_query(\"SELECT * FROM review WHERE flagged in ('Y', 'N')\", hotels_db)\n",
    "hotel_reviewers = pd.read_sql_query(\"SELECT * FROM reviewer\", hotels_db)\n",
    "\n",
    "\n",
    "print(f'The data set contains {len(hotels)} hotels, {len(hotel_reviews)} reviews, and {len(hotel_reviewers)} reviewers')"
   ]
  },
  {
   "cell_type": "code",
   "execution_count": 20,
   "metadata": {},
   "outputs": [
    {
     "name": "stdout",
     "output_type": "stream",
     "text": [
      "The data set contains 242652 restaurants, 67019 reviews, and 16941 reviewers\n"
     ]
    }
   ],
   "source": [
    "# Reading from the restaurant database\n",
    "restaurant_db = sqlite3.connect(\"data/yelpResData.db\")\n",
    "restaurant_db.text_factory = lambda x: x.decode(\"utf-8\", errors='ignore')\n",
    "restaurants = pd.read_sql_query(\"SELECT * FROM restaurant\", restaurant_db)\n",
    "restaurant_reviews = pd.read_sql_query(\"SELECT * FROM review WHERE flagged in ('Y', 'N')\", restaurant_db)\n",
    "restaurant_reviewers = pd.read_sql_query(\"SELECT * FROM reviewer\", restaurant_db)\n",
    "\n",
    "\n",
    "print(f'The data set contains {len(restaurants)} restaurants, {len(restaurant_reviews)} reviews, and {len(restaurant_reviewers)} reviewers')"
   ]
  },
  {
   "cell_type": "markdown",
   "metadata": {},
   "source": [
    "# Exploratory Data Analysis\n",
    "\n",
    "## ToDo: Performan More EDA"
   ]
  },
  {
   "cell_type": "code",
   "execution_count": 21,
   "metadata": {
    "scrolled": false
   },
   "outputs": [
    {
     "name": "stdout",
     "output_type": "stream",
     "text": [
      "<class 'pandas.core.frame.DataFrame'>\n",
      "RangeIndex: 5858 entries, 0 to 5857\n",
      "Data columns (total 10 columns):\n",
      " #   Column         Non-Null Count  Dtype \n",
      "---  ------         --------------  ----- \n",
      " 0   date           5858 non-null   object\n",
      " 1   reviewID       5858 non-null   object\n",
      " 2   reviewerID     5858 non-null   object\n",
      " 3   reviewContent  5858 non-null   object\n",
      " 4   rating         5858 non-null   int64 \n",
      " 5   usefulCount    5858 non-null   int64 \n",
      " 6   coolCount      5858 non-null   int64 \n",
      " 7   funnyCount     5858 non-null   int64 \n",
      " 8   flagged        5858 non-null   object\n",
      " 9   hotelID        5858 non-null   object\n",
      "dtypes: int64(4), object(6)\n",
      "memory usage: 457.8+ KB\n"
     ]
    }
   ],
   "source": [
    "hotel_reviews.info()"
   ]
  },
  {
   "cell_type": "code",
   "execution_count": 22,
   "metadata": {},
   "outputs": [
    {
     "name": "stdout",
     "output_type": "stream",
     "text": [
      "<class 'pandas.core.frame.DataFrame'>\n",
      "RangeIndex: 67019 entries, 0 to 67018\n",
      "Data columns (total 10 columns):\n",
      " #   Column         Non-Null Count  Dtype \n",
      "---  ------         --------------  ----- \n",
      " 0   date           67019 non-null  object\n",
      " 1   reviewID       67019 non-null  object\n",
      " 2   reviewerID     67019 non-null  object\n",
      " 3   reviewContent  67019 non-null  object\n",
      " 4   rating         67019 non-null  int64 \n",
      " 5   usefulCount    67019 non-null  int64 \n",
      " 6   coolCount      67019 non-null  int64 \n",
      " 7   funnyCount     67019 non-null  int64 \n",
      " 8   flagged        67019 non-null  object\n",
      " 9   restaurantID   67019 non-null  object\n",
      "dtypes: int64(4), object(6)\n",
      "memory usage: 5.1+ MB\n"
     ]
    }
   ],
   "source": [
    "restaurant_reviews.info()"
   ]
  },
  {
   "cell_type": "code",
   "execution_count": 23,
   "metadata": {},
   "outputs": [
    {
     "data": {
      "text/plain": [
       "94       ***Alinea is truly a one-of-a-kind experience;...\n",
       "29403    ***Graham Elliot serves up refined casual food...\n",
       "43054    ***Longman & Eagle is a true gastropub--a casu...\n",
       "71630    ***While the rooms are small, Hotel Felix is a...\n",
       "Name: reviewContent, dtype: object"
      ]
     },
     "execution_count": 23,
     "metadata": {},
     "output_type": "execute_result"
    }
   ],
   "source": [
    "reviews = pd.concat([restaurant_reviews, hotel_reviews.rename(columns={'hotelID':'restaurantID'})], ignore_index=True)\n",
    "reviews.groupby('reviewerID').agg({\"usefulCount\": np.sum, \n",
    "                                   \"coolCount\": np.sum, \n",
    "                                   \"funnyCount\": np.sum}).sort_values(by=['usefulCount'], ascending=False)\n",
    "reviews[reviews['reviewerID'] == 'w-w-k-QXosIKQ8HQVwU6IQ']['reviewContent']"
   ]
  },
  {
   "cell_type": "code",
   "execution_count": 24,
   "metadata": {},
   "outputs": [
    {
     "data": {
      "text/html": [
       "<div>\n",
       "<style scoped>\n",
       "    .dataframe tbody tr th:only-of-type {\n",
       "        vertical-align: middle;\n",
       "    }\n",
       "\n",
       "    .dataframe tbody tr th {\n",
       "        vertical-align: top;\n",
       "    }\n",
       "\n",
       "    .dataframe thead th {\n",
       "        text-align: right;\n",
       "    }\n",
       "</style>\n",
       "<table border=\"1\" class=\"dataframe\">\n",
       "  <thead>\n",
       "    <tr style=\"text-align: right;\">\n",
       "      <th></th>\n",
       "      <th>rating</th>\n",
       "      <th>usefulCount</th>\n",
       "      <th>coolCount</th>\n",
       "      <th>funnyCount</th>\n",
       "    </tr>\n",
       "    <tr>\n",
       "      <th>flagged</th>\n",
       "      <th></th>\n",
       "      <th></th>\n",
       "      <th></th>\n",
       "      <th></th>\n",
       "    </tr>\n",
       "  </thead>\n",
       "  <tbody>\n",
       "    <tr>\n",
       "      <th>N</th>\n",
       "      <td>252531</td>\n",
       "      <td>65773</td>\n",
       "      <td>42690</td>\n",
       "      <td>36444</td>\n",
       "    </tr>\n",
       "    <tr>\n",
       "      <th>Y</th>\n",
       "      <td>34611</td>\n",
       "      <td>0</td>\n",
       "      <td>0</td>\n",
       "      <td>0</td>\n",
       "    </tr>\n",
       "  </tbody>\n",
       "</table>\n",
       "</div>"
      ],
      "text/plain": [
       "         rating  usefulCount  coolCount  funnyCount\n",
       "flagged                                            \n",
       "N        252531        65773      42690       36444\n",
       "Y         34611            0          0           0"
      ]
     },
     "execution_count": 24,
     "metadata": {},
     "output_type": "execute_result"
    }
   ],
   "source": [
    "reviews.groupby('flagged').agg('sum')\n"
   ]
  },
  {
   "cell_type": "code",
   "execution_count": 57,
   "metadata": {},
   "outputs": [
    {
     "data": {
      "text/html": [
       "<div>\n",
       "<style scoped>\n",
       "    .dataframe tbody tr th:only-of-type {\n",
       "        vertical-align: middle;\n",
       "    }\n",
       "\n",
       "    .dataframe tbody tr th {\n",
       "        vertical-align: top;\n",
       "    }\n",
       "\n",
       "    .dataframe thead th {\n",
       "        text-align: right;\n",
       "    }\n",
       "</style>\n",
       "<table border=\"1\" class=\"dataframe\">\n",
       "  <thead>\n",
       "    <tr style=\"text-align: right;\">\n",
       "      <th></th>\n",
       "      <th>date</th>\n",
       "      <th>reviewID</th>\n",
       "      <th>reviewerID</th>\n",
       "      <th>reviewContent</th>\n",
       "      <th>usefulCount</th>\n",
       "      <th>coolCount</th>\n",
       "      <th>funnyCount</th>\n",
       "      <th>flagged</th>\n",
       "      <th>restaurantID</th>\n",
       "    </tr>\n",
       "    <tr>\n",
       "      <th>rating</th>\n",
       "      <th></th>\n",
       "      <th></th>\n",
       "      <th></th>\n",
       "      <th></th>\n",
       "      <th></th>\n",
       "      <th></th>\n",
       "      <th></th>\n",
       "      <th></th>\n",
       "      <th></th>\n",
       "    </tr>\n",
       "  </thead>\n",
       "  <tbody>\n",
       "    <tr>\n",
       "      <th>1</th>\n",
       "      <td>2444</td>\n",
       "      <td>2444</td>\n",
       "      <td>2444</td>\n",
       "      <td>2444</td>\n",
       "      <td>2444</td>\n",
       "      <td>2444</td>\n",
       "      <td>2444</td>\n",
       "      <td>2444</td>\n",
       "      <td>2444</td>\n",
       "    </tr>\n",
       "    <tr>\n",
       "      <th>2</th>\n",
       "      <td>4610</td>\n",
       "      <td>4610</td>\n",
       "      <td>4610</td>\n",
       "      <td>4610</td>\n",
       "      <td>4610</td>\n",
       "      <td>4610</td>\n",
       "      <td>4610</td>\n",
       "      <td>4610</td>\n",
       "      <td>4610</td>\n",
       "    </tr>\n",
       "    <tr>\n",
       "      <th>3</th>\n",
       "      <td>9295</td>\n",
       "      <td>9295</td>\n",
       "      <td>9295</td>\n",
       "      <td>9295</td>\n",
       "      <td>9295</td>\n",
       "      <td>9295</td>\n",
       "      <td>9295</td>\n",
       "      <td>9295</td>\n",
       "      <td>9295</td>\n",
       "    </tr>\n",
       "    <tr>\n",
       "      <th>4</th>\n",
       "      <td>24243</td>\n",
       "      <td>24243</td>\n",
       "      <td>24243</td>\n",
       "      <td>24243</td>\n",
       "      <td>24243</td>\n",
       "      <td>24243</td>\n",
       "      <td>24243</td>\n",
       "      <td>24243</td>\n",
       "      <td>24243</td>\n",
       "    </tr>\n",
       "    <tr>\n",
       "      <th>5</th>\n",
       "      <td>23202</td>\n",
       "      <td>23202</td>\n",
       "      <td>23202</td>\n",
       "      <td>23202</td>\n",
       "      <td>23202</td>\n",
       "      <td>23202</td>\n",
       "      <td>23202</td>\n",
       "      <td>23202</td>\n",
       "      <td>23202</td>\n",
       "    </tr>\n",
       "  </tbody>\n",
       "</table>\n",
       "</div>"
      ],
      "text/plain": [
       "         date  reviewID  reviewerID  reviewContent  usefulCount  coolCount  \\\n",
       "rating                                                                       \n",
       "1        2444      2444        2444           2444         2444       2444   \n",
       "2        4610      4610        4610           4610         4610       4610   \n",
       "3        9295      9295        9295           9295         9295       9295   \n",
       "4       24243     24243       24243          24243        24243      24243   \n",
       "5       23202     23202       23202          23202        23202      23202   \n",
       "\n",
       "        funnyCount  flagged  restaurantID  \n",
       "rating                                     \n",
       "1             2444     2444          2444  \n",
       "2             4610     4610          4610  \n",
       "3             9295     9295          9295  \n",
       "4            24243    24243         24243  \n",
       "5            23202    23202         23202  "
      ]
     },
     "metadata": {},
     "output_type": "display_data"
    },
    {
     "data": {
      "text/plain": [
       "(array([ 2444.,     0.,  4610.,     0.,     0.,  9295.,     0., 24243.,\n",
       "            0., 23202.]),\n",
       " array([1. , 1.4, 1.8, 2.2, 2.6, 3. , 3.4, 3.8, 4.2, 4.6, 5. ]),\n",
       " <BarContainer object of 10 artists>)"
      ]
     },
     "execution_count": 57,
     "metadata": {},
     "output_type": "execute_result"
    },
    {
     "data": {
      "image/png": "[encoded data removed]",
      "text/plain": [
       "<Figure size 432x288 with 1 Axes>"
      ]
     },
     "metadata": {
      "needs_background": "light"
     },
     "output_type": "display_data"
    }
   ],
   "source": [
    "trueReviews = reviews[reviews['flagged'] == 'N']\n",
    "fakeReviews = reviews[reviews['flagged'] == 'Y']\n",
    "display(trueReviews.groupby('rating').agg('count'))\n",
    "plt.hist(x=trueReviews.rating, bins=10)"
   ]
  },
  {
   "cell_type": "code",
   "execution_count": 58,
   "metadata": {},
   "outputs": [
    {
     "data": {
      "text/html": [
       "<div>\n",
       "<style scoped>\n",
       "    .dataframe tbody tr th:only-of-type {\n",
       "        vertical-align: middle;\n",
       "    }\n",
       "\n",
       "    .dataframe tbody tr th {\n",
       "        vertical-align: top;\n",
       "    }\n",
       "\n",
       "    .dataframe thead th {\n",
       "        text-align: right;\n",
       "    }\n",
       "</style>\n",
       "<table border=\"1\" class=\"dataframe\">\n",
       "  <thead>\n",
       "    <tr style=\"text-align: right;\">\n",
       "      <th></th>\n",
       "      <th>date</th>\n",
       "      <th>reviewID</th>\n",
       "      <th>reviewerID</th>\n",
       "      <th>reviewContent</th>\n",
       "      <th>usefulCount</th>\n",
       "      <th>coolCount</th>\n",
       "      <th>funnyCount</th>\n",
       "      <th>flagged</th>\n",
       "      <th>restaurantID</th>\n",
       "    </tr>\n",
       "    <tr>\n",
       "      <th>rating</th>\n",
       "      <th></th>\n",
       "      <th></th>\n",
       "      <th></th>\n",
       "      <th></th>\n",
       "      <th></th>\n",
       "      <th></th>\n",
       "      <th></th>\n",
       "      <th></th>\n",
       "      <th></th>\n",
       "    </tr>\n",
       "  </thead>\n",
       "  <tbody>\n",
       "    <tr>\n",
       "      <th>1</th>\n",
       "      <td>1157</td>\n",
       "      <td>1157</td>\n",
       "      <td>1157</td>\n",
       "      <td>1157</td>\n",
       "      <td>1157</td>\n",
       "      <td>1157</td>\n",
       "      <td>1157</td>\n",
       "      <td>1157</td>\n",
       "      <td>1157</td>\n",
       "    </tr>\n",
       "    <tr>\n",
       "      <th>2</th>\n",
       "      <td>719</td>\n",
       "      <td>719</td>\n",
       "      <td>719</td>\n",
       "      <td>719</td>\n",
       "      <td>719</td>\n",
       "      <td>719</td>\n",
       "      <td>719</td>\n",
       "      <td>719</td>\n",
       "      <td>719</td>\n",
       "    </tr>\n",
       "    <tr>\n",
       "      <th>3</th>\n",
       "      <td>798</td>\n",
       "      <td>798</td>\n",
       "      <td>798</td>\n",
       "      <td>798</td>\n",
       "      <td>798</td>\n",
       "      <td>798</td>\n",
       "      <td>798</td>\n",
       "      <td>798</td>\n",
       "      <td>798</td>\n",
       "    </tr>\n",
       "    <tr>\n",
       "      <th>4</th>\n",
       "      <td>2423</td>\n",
       "      <td>2423</td>\n",
       "      <td>2423</td>\n",
       "      <td>2423</td>\n",
       "      <td>2423</td>\n",
       "      <td>2423</td>\n",
       "      <td>2423</td>\n",
       "      <td>2423</td>\n",
       "      <td>2423</td>\n",
       "    </tr>\n",
       "    <tr>\n",
       "      <th>5</th>\n",
       "      <td>3986</td>\n",
       "      <td>3986</td>\n",
       "      <td>3986</td>\n",
       "      <td>3986</td>\n",
       "      <td>3986</td>\n",
       "      <td>3986</td>\n",
       "      <td>3986</td>\n",
       "      <td>3986</td>\n",
       "      <td>3986</td>\n",
       "    </tr>\n",
       "  </tbody>\n",
       "</table>\n",
       "</div>"
      ],
      "text/plain": [
       "        date  reviewID  reviewerID  reviewContent  usefulCount  coolCount  \\\n",
       "rating                                                                      \n",
       "1       1157      1157        1157           1157         1157       1157   \n",
       "2        719       719         719            719          719        719   \n",
       "3        798       798         798            798          798        798   \n",
       "4       2423      2423        2423           2423         2423       2423   \n",
       "5       3986      3986        3986           3986         3986       3986   \n",
       "\n",
       "        funnyCount  flagged  restaurantID  \n",
       "rating                                     \n",
       "1             1157     1157          1157  \n",
       "2              719      719           719  \n",
       "3              798      798           798  \n",
       "4             2423     2423          2423  \n",
       "5             3986     3986          3986  "
      ]
     },
     "metadata": {},
     "output_type": "display_data"
    },
    {
     "data": {
      "text/plain": [
       "(array([1157.,    0.,  719.,    0.,    0.,  798.,    0., 2423.,    0.,\n",
       "        3986.]),\n",
       " array([1. , 1.4, 1.8, 2.2, 2.6, 3. , 3.4, 3.8, 4.2, 4.6, 5. ]),\n",
       " <BarContainer object of 10 artists>)"
      ]
     },
     "execution_count": 58,
     "metadata": {},
     "output_type": "execute_result"
    },
    {
     "data": {
      "image/png": "[encoded data removed]",
      "text/plain": [
       "<Figure size 432x288 with 1 Axes>"
      ]
     },
     "metadata": {
      "needs_background": "light"
     },
     "output_type": "display_data"
    }
   ],
   "source": [
    "display(fakeReviews.groupby('rating').agg('count'))\n",
    "plt.hist(x=fakeReviews.rating, bins=10)"
   ]
  },
  {
   "cell_type": "code",
   "execution_count": 107,
   "metadata": {},
   "outputs": [
    {
     "data": {
      "image/png": "[encoded data removed]",
      "text/plain": [
       "<Figure size 432x288 with 2 Axes>"
      ]
     },
     "metadata": {
      "needs_background": "light"
     },
     "output_type": "display_data"
    }
   ],
   "source": [
    "plt.subplot(1, 2, 1)\n",
    "plt.hist(x = trueReviews['reviewContent'].str.count(' ') + 1)\n",
    "plt.subplot(1, 2, 2)\n",
    "plt.hist(x = fakeReviews['reviewContent'].str.count(' ') + 1)\n",
    "plt.show()"
   ]
  },
  {
   "cell_type": "code",
   "execution_count": 106,
   "metadata": {},
   "outputs": [
    {
     "data": {
      "image/png": "[encoded data removed]",
      "text/plain": [
       "<Figure size 432x288 with 2 Axes>"
      ]
     },
     "metadata": {
      "needs_background": "light"
     },
     "output_type": "display_data"
    }
   ],
   "source": [
    "plt.subplot(1, 2, 1)\n",
    "plt.hist(x = trueReviews['reviewContent'].str.count('.') + 1)\n",
    "plt.subplot(1, 2, 2)\n",
    "plt.hist(x = fakeReviews['reviewContent'].str.count('.') + 1)\n",
    "plt.show()"
   ]
  },
  {
   "cell_type": "code",
   "execution_count": 137,
   "metadata": {},
   "outputs": [
    {
     "data": {
      "image/png": "[encoded data removed]",
      "text/plain": [
       "<Figure size 432x288 with 2 Axes>"
      ]
     },
     "metadata": {
      "needs_background": "light"
     },
     "output_type": "display_data"
    }
   ],
   "source": [
    "trueReviewerCounts = trueReviews.groupby(['reviewerID']).size().reset_index(name='counts')\n",
    "fakeReviewerCounts = fakeReviews.groupby(['reviewerID']).size().reset_index(name='counts')\n",
    "\n",
    "\n",
    "plt.subplot(1, 2, 1)\n",
    "plt.hist(x = trueReviewerCounts['counts'], bins=10)\n",
    "plt.subplot(1, 2, 2)\n",
    "plt.hist(x = fakeReviewerCounts['counts'], bins=10)\n",
    "plt.show()\n"
   ]
  },
  {
   "cell_type": "code",
   "execution_count": 136,
   "metadata": {},
   "outputs": [
    {
     "data": {
      "image/png": "[encoded data removed]",
      "text/plain": [
       "<Figure size 432x288 with 2 Axes>"
      ]
     },
     "metadata": {
      "needs_background": "light"
     },
     "output_type": "display_data"
    }
   ],
   "source": [
    "trueRestReviewCounts = trueReviews.groupby(['restaurantID']).size().reset_index(name='counts')\n",
    "fakeRestReviewCounts = fakeReviews.groupby(['restaurantID']).size().reset_index(name='counts')\n",
    "\n",
    "\n",
    "plt.subplot(1, 2, 1)\n",
    "plt.hist(x = trueRestReviewCounts['counts'], bins=10)\n",
    "plt.subplot(1, 2, 2)\n",
    "plt.hist(x = fakeRestReviewCounts['counts'], bins=10)\n",
    "plt.show()\n"
   ]
  },
  {
   "cell_type": "code",
   "execution_count": 139,
   "metadata": {},
   "outputs": [
    {
     "data": {
      "image/png": "[encoded data removed]",
      "text/plain": [
       "<Figure size 432x288 with 2 Axes>"
      ]
     },
     "metadata": {
      "needs_background": "light"
     },
     "output_type": "display_data"
    }
   ],
   "source": [
    "plt.subplot(1, 2, 1)\n",
    "trueReviews['reviewContent'].str.len().hist()\n",
    "plt.subplot(1, 2, 2)\n",
    "fakeReviews['reviewContent'].str.len().hist()\n",
    "plt.show()\n",
    "\n",
    "\n"
   ]
  },
  {
   "cell_type": "code",
   "execution_count": 197,
   "metadata": {},
   "outputs": [
    {
     "data": {
      "image/png": "[encoded data removed]",
      "text/plain": [
       "<Figure size 432x288 with 1 Axes>"
      ]
     },
     "metadata": {
      "needs_background": "light"
     },
     "output_type": "display_data"
    }
   ],
   "source": [
    "\n",
    "# Code Snippet for Top N-grams Barchart\n",
    "\n",
    "import seaborn as sns\n",
    "import numpy as np\n",
    "from nltk.corpus import stopwords\n",
    "from sklearn.feature_extraction.text import CountVectorizer\n",
    "from collections import  Counter\n",
    "\n",
    "def plot_top_ngrams_barchart(text, n=2):\n",
    "    synthetic = {'gmail', 'they', 'http', 'www'}\n",
    "    stop=set(stopwords.words('english')) | synthetic\n",
    "    new= text.str.split()\n",
    "    new= new.values.tolist()\n",
    "    corpus=[word for i in new for word in i if word.lower() not in stop]\n",
    "\n",
    "    def _get_top_ngram(corpus, n=None):\n",
    "        vec = CountVectorizer(ngram_range=(n, n)).fit(corpus)\n",
    "        bag_of_words = vec.transform(corpus)\n",
    "        sum_words = bag_of_words.sum(axis=0) \n",
    "        words_freq = [(word, sum_words[0, idx]) \n",
    "                      for word, idx in vec.vocabulary_.items()]\n",
    "        words_freq =sorted(words_freq, key = lambda x: x[1], reverse=True)\n",
    "        return words_freq[:20]\n",
    "\n",
    "    top_n_bigrams=_get_top_ngram(corpus,n)[:20]\n",
    "    x,y=map(list,zip(*top_n_bigrams))\n",
    "    sns.barplot(x=y,y=x)\n",
    "    \n",
    "\n",
    "plot_top_ngrams_barchart(trueReviews['reviewContent'],3)"
   ]
  },
  {
   "cell_type": "code",
   "execution_count": 198,
   "metadata": {},
   "outputs": [
    {
     "data": {
      "image/png": "[encoded data removed]",
      "text/plain": [
       "<Figure size 432x288 with 1 Axes>"
      ]
     },
     "metadata": {
      "needs_background": "light"
     },
     "output_type": "display_data"
    }
   ],
   "source": [
    "plot_top_ngrams_barchart(fakeReviews['reviewContent'],3)"
   ]
  },
  {
   "cell_type": "markdown",
   "metadata": {},
   "source": [
    "# Baseline Model"
   ]
  },
  {
   "cell_type": "markdown",
   "metadata": {},
   "source": [
    "Try a Plain LSTM model on the Hotel data set with fixed length learned embedding"
   ]
  },
  {
   "cell_type": "code",
   "execution_count": 25,
   "metadata": {},
   "outputs": [],
   "source": [
    "# Some Data Cleaning\n",
    "hotel_reviews['reviewContent'] = hotel_reviews['reviewContent'].apply(lambda x: unicodedata.normalize('NFKD', x))\n",
    "restaurant_reviews['reviewContent'] = restaurant_reviews['reviewContent'].apply(lambda x: unicodedata.normalize('NFKD', x))"
   ]
  },
  {
   "cell_type": "code",
   "execution_count": 26,
   "metadata": {},
   "outputs": [],
   "source": [
    "# Split train/test data for hotel reviews\n",
    "X_train, X_test, y_train, y_test = train_test_split(hotel_reviews, hotel_reviews['flagged']=='Y')"
   ]
  },
  {
   "cell_type": "code",
   "execution_count": 27,
   "metadata": {},
   "outputs": [],
   "source": [
    "vocabulary_size = 20000\n",
    "tokenizer = Tokenizer(num_words= vocabulary_size)\n",
    "tokenizer.fit_on_texts(X_train['reviewContent'])\n",
    "sequences = tokenizer.texts_to_sequences(X_train['reviewContent'])\n",
    "train_data = pad_sequences(sequences, maxlen=100)\n",
    "\n",
    "tokenizer = Tokenizer(num_words= vocabulary_size)\n",
    "tokenizer.fit_on_texts(X_test['reviewContent'])\n",
    "sequences = tokenizer.texts_to_sequences(X_test['reviewContent'])\n",
    "test_data = pad_sequences(sequences, maxlen=100)\n"
   ]
  },
  {
   "cell_type": "code",
   "execution_count": 28,
   "metadata": {},
   "outputs": [],
   "source": [
    "model = Sequential()\n",
    "model.add(Embedding(20000, 100, input_length=100))\n",
    "model.add(LSTM(100, dropout=0.2, recurrent_dropout=0.2))\n",
    "model.add(Dense(1, activation='sigmoid'))\n",
    "model.compile(loss='binary_crossentropy', optimizer='adam', metrics=['accuracy'])\n"
   ]
  },
  {
   "cell_type": "code",
   "execution_count": 29,
   "metadata": {},
   "outputs": [
    {
     "name": "stdout",
     "output_type": "stream",
     "text": [
      "Epoch 1/2\n",
      "138/138 [==============================] - 13s 83ms/step - loss: 0.4272 - accuracy: 0.8568\n",
      "Epoch 2/2\n",
      "138/138 [==============================] - 12s 85ms/step - loss: 0.3597 - accuracy: 0.8623\n"
     ]
    },
    {
     "data": {
      "text/plain": [
       "<keras.callbacks.History at 0x7ff7886363a0>"
      ]
     },
     "execution_count": 29,
     "metadata": {},
     "output_type": "execute_result"
    }
   ],
   "source": [
    "model.fit(train_data, y_train, epochs=2)"
   ]
  },
  {
   "cell_type": "code",
   "execution_count": 30,
   "metadata": {},
   "outputs": [
    {
     "data": {
      "text/plain": [
       "1439    False\n",
       "2560    False\n",
       "4250    False\n",
       "2137    False\n",
       "4878     True\n",
       "        ...  \n",
       "5475    False\n",
       "791     False\n",
       "2652    False\n",
       "1690    False\n",
       "648     False\n",
       "Name: flagged, Length: 1465, dtype: bool"
      ]
     },
     "execution_count": 30,
     "metadata": {},
     "output_type": "execute_result"
    }
   ],
   "source": [
    "y_test"
   ]
  },
  {
   "cell_type": "code",
   "execution_count": 31,
   "metadata": {},
   "outputs": [],
   "source": [
    "y_predicted = model.predict(test_data)"
   ]
  },
  {
   "cell_type": "code",
   "execution_count": 32,
   "metadata": {},
   "outputs": [
    {
     "name": "stdout",
     "output_type": "stream",
     "text": [
      "              precision    recall  f1-score   support\n",
      "\n",
      "       False       0.99      0.88      0.93      1456\n",
      "        True       0.01      0.22      0.02         9\n",
      "\n",
      "    accuracy                           0.88      1465\n",
      "   macro avg       0.50      0.55      0.48      1465\n",
      "weighted avg       0.99      0.88      0.93      1465\n",
      "\n"
     ]
    }
   ],
   "source": [
    "print(classification_report(y_predicted > 0.5, y_test))"
   ]
  },
  {
   "cell_type": "markdown",
   "metadata": {},
   "source": [
    "# Model 2 - Data Resampling + GloVe embedding"
   ]
  },
  {
   "cell_type": "code",
   "execution_count": 33,
   "metadata": {},
   "outputs": [
    {
     "name": "stdout",
     "output_type": "stream",
     "text": [
      "Data the GloVe embedding successfully!\n"
     ]
    }
   ],
   "source": [
    "# Download the GloVe embeddings\n",
    "if 'embedding' not in os.listdir('.') or not os.listdir('embedding'):\n",
    "    os.system('wget http://nlp.stanford.edu/data/glove.6B.zip -P embedding/')\n",
    "    os.system('cd embedding && unzip glove.6B.zip')\n",
    "    print('Data the GloVe embedding successfully!')\n",
    "else:\n",
    "    print('Already downloaded the embedding')"
   ]
  },
  {
   "cell_type": "code",
   "execution_count": 34,
   "metadata": {},
   "outputs": [
    {
     "ename": "FileNotFoundError",
     "evalue": "[Errno 2] No such file or directory: './embedding/glove.6B.100d.txt'",
     "output_type": "error",
     "traceback": [
      "\u001b[0;31m---------------------------------------------------------------------------\u001b[0m",
      "\u001b[0;31mFileNotFoundError\u001b[0m                         Traceback (most recent call last)",
      "\u001b[0;32m<ipython-input-34-0f490c51f41e>\u001b[0m in \u001b[0;36m<module>\u001b[0;34m\u001b[0m\n\u001b[1;32m      3\u001b[0m \u001b[0;34m\u001b[0m\u001b[0m\n\u001b[1;32m      4\u001b[0m \u001b[0membeddings_index\u001b[0m \u001b[0;34m=\u001b[0m \u001b[0;34m{\u001b[0m\u001b[0;34m}\u001b[0m\u001b[0;34m\u001b[0m\u001b[0;34m\u001b[0m\u001b[0m\n\u001b[0;32m----> 5\u001b[0;31m \u001b[0;32mwith\u001b[0m \u001b[0mopen\u001b[0m\u001b[0;34m(\u001b[0m\u001b[0mpath_to_glove_file\u001b[0m\u001b[0;34m)\u001b[0m \u001b[0;32mas\u001b[0m \u001b[0mf\u001b[0m\u001b[0;34m:\u001b[0m\u001b[0;34m\u001b[0m\u001b[0;34m\u001b[0m\u001b[0m\n\u001b[0m\u001b[1;32m      6\u001b[0m     \u001b[0;32mfor\u001b[0m \u001b[0mline\u001b[0m \u001b[0;32min\u001b[0m \u001b[0mf\u001b[0m\u001b[0;34m:\u001b[0m\u001b[0;34m\u001b[0m\u001b[0;34m\u001b[0m\u001b[0m\n\u001b[1;32m      7\u001b[0m         \u001b[0mword\u001b[0m\u001b[0;34m,\u001b[0m \u001b[0mcoefs\u001b[0m \u001b[0;34m=\u001b[0m \u001b[0mline\u001b[0m\u001b[0;34m.\u001b[0m\u001b[0msplit\u001b[0m\u001b[0;34m(\u001b[0m\u001b[0mmaxsplit\u001b[0m\u001b[0;34m=\u001b[0m\u001b[0;36m1\u001b[0m\u001b[0;34m)\u001b[0m\u001b[0;34m\u001b[0m\u001b[0;34m\u001b[0m\u001b[0m\n",
      "\u001b[0;31mFileNotFoundError\u001b[0m: [Errno 2] No such file or directory: './embedding/glove.6B.100d.txt'"
     ]
    }
   ],
   "source": [
    "# Use the 100 dimensional GloVe embedding\n",
    "path_to_glove_file = \"./embedding/glove.6B.100d.txt\"\n",
    "\n",
    "embeddings_index = {}\n",
    "with open(path_to_glove_file) as f:\n",
    "    for line in f:\n",
    "        word, coefs = line.split(maxsplit=1)\n",
    "        coefs = np.fromstring(coefs, \"f\", sep=\" \")\n",
    "        embeddings_index[word] = coefs\n",
    "\n",
    "print(\"Found %s word vectors.\" % len(embeddings_index))"
   ]
  },
  {
   "cell_type": "code",
   "execution_count": null,
   "metadata": {},
   "outputs": [],
   "source": [
    "# Split the positive/negative samples for more balanced sampling\n",
    "X_train_positive = X_train[X_train['flagged'] == 'Y']\n",
    "X_train_negative = X_train[X_train['flagged'] == 'N']\n",
    "\n",
    "num_samples = 2000\n",
    "positive_ratio = 0.4\n",
    "positives = X_train_positive.sample(int(num_samples * positive_ratio), replace=True).reset_index(drop=True)\n",
    "negatives = X_train_negative.sample(num_samples, replace=True).reset_index(drop=True)\n",
    "\n",
    "X_train_balanced = pd.concat([positives, negatives], ignore_index=True).sample(frac=1)\n",
    "y_train_balanced = X_train_balanced['flagged'] == 'Y'"
   ]
  },
  {
   "cell_type": "code",
   "execution_count": null,
   "metadata": {},
   "outputs": [],
   "source": [
    "# First layer, vectorizing the word input\n",
    "vocabulary_size = 30000\n",
    "max_tokens = 200\n",
    "\n",
    "vectorizer = TextVectorization(max_tokens=vocabulary_size, output_sequence_length=max_tokens)\n",
    "vectorizer.adapt(X_train_balanced['reviewContent'].to_numpy())\n",
    "\n",
    "voc = vectorizer.get_vocabulary()\n",
    "word_index = dict(zip(voc, range(len(voc))))\n",
    "\n",
    "print(f\"Vocabulary size is {len(voc)}\")\n"
   ]
  },
  {
   "cell_type": "code",
   "execution_count": null,
   "metadata": {},
   "outputs": [],
   "source": [
    "# Ref: https://keras.io/examples/nlp/pretrained_word_embeddings/\n",
    "# Build + Lock in the Embedding layer from GloVe\n",
    "embedding_dim = 100\n",
    "hits = 0\n",
    "misses = 0\n",
    "num_words = len(voc) + 2\n",
    "\n",
    "# Prepare embedding matrix\n",
    "# TODO: more pre-processing to avoid ~3000 words that don't have embeddings\n",
    "embedding_matrix = np.zeros((num_words, embedding_dim))\n",
    "for i, word in enumerate(voc):\n",
    "    embedding_vector = embeddings_index.get(word)\n",
    "    if embedding_vector is not None:\n",
    "        # Words not found in embedding index will be all-zeros.\n",
    "        # This includes the representation for \"padding\" and \"OOV\"\n",
    "        embedding_matrix[i] = embedding_vector\n",
    "        hits += 1\n",
    "    else:\n",
    "        misses += 1\n",
    "print(\"Converted %d words (%d misses)\" % (hits, misses))\n",
    "\n",
    "\n",
    "embedding_layer = Embedding(\n",
    "    num_words,\n",
    "    embedding_dim,\n",
    "    embeddings_initializer=tf.keras.initializers.Constant(embedding_matrix),\n",
    "    trainable=False,\n",
    ")\n"
   ]
  },
  {
   "cell_type": "code",
   "execution_count": null,
   "metadata": {},
   "outputs": [],
   "source": [
    "# Vectorize the input\n",
    "X_train_ready = vectorizer(X_train_balanced['reviewContent']).numpy()\n",
    "X_test_ready = vectorizer(X_test['reviewContent']).numpy()\n",
    "\n",
    "X_train_ready.shape"
   ]
  },
  {
   "cell_type": "code",
   "execution_count": null,
   "metadata": {},
   "outputs": [],
   "source": [
    "# Build and train the model with \n",
    "model = Sequential()\n",
    "model.add(embedding_layer)\n",
    "model.add(LSTM(50, dropout=0.2, recurrent_dropout=0.2))\n",
    "model.add(Dense(1, activation='sigmoid'))\n",
    "model.compile(loss='binary_crossentropy', optimizer='adam', metrics=['accuracy'])\n",
    "\n",
    "model.fit(X_train_ready, y_train_balanced, epochs=8)"
   ]
  },
  {
   "cell_type": "code",
   "execution_count": null,
   "metadata": {},
   "outputs": [],
   "source": [
    "model.evaluate(X_test_ready, y_test)\n",
    "y_predicted = model.predict(X_test_ready)\n",
    "print(classification_report(y_predicted > 0.5, y_test))\n",
    "X_test['flagged'].value_counts() / len(X_test)"
   ]
  },
  {
   "cell_type": "code",
   "execution_count": null,
   "metadata": {},
   "outputs": [],
   "source": []
  },
  {
   "cell_type": "code",
   "execution_count": null,
   "metadata": {},
   "outputs": [],
   "source": []
  },
  {
   "cell_type": "code",
   "execution_count": null,
   "metadata": {},
   "outputs": [],
   "source": []
  },
  {
   "cell_type": "code",
   "execution_count": null,
   "metadata": {},
   "outputs": [],
   "source": []
  }
 ],
 "metadata": {
  "anaconda-cloud": {},
  "kernelspec": {
   "display_name": "Python 3",
   "language": "python",
   "name": "python3"
  },
  "language_info": {
   "codemirror_mode": {
    "name": "ipython",
    "version": 3
   },
   "file_extension": ".py",
   "mimetype": "text/x-python",
   "name": "python",
   "nbconvert_exporter": "python",
   "pygments_lexer": "ipython3",
   "version": "3.8.5"
  }
 },
 "nbformat": 4,
 "nbformat_minor": 1
}
