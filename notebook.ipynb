{
 "cells": [
  {
   "cell_type": "markdown",
   "metadata": {},
   "source": [
    "# W266 Final Project\n",
    "\n",
    "Authors: Satheesh Joseph, Catherine Mou, Yi Zhang"
   ]
  },
  {
   "cell_type": "markdown",
   "metadata": {},
   "source": [
    "## Downloading and loading the data\n",
    "\n",
    "We acquired the dataset from the researchers in the form of Sqlite `.db` files."
   ]
  },
  {
   "cell_type": "code",
   "execution_count": 1,
   "metadata": {},
   "outputs": [],
   "source": [
    "import os, sys, re, json, time, unittest\n",
    "import itertools, collections\n",
    "from importlib import reload\n",
    "from sklearn.model_selection import train_test_split\n",
    "import matplotlib.pyplot as plt\n",
    "import datetime\n",
    "\n",
    "import numpy as np\n",
    "from scipy import stats\n",
    "import pandas as pd\n",
    "import sqlite3\n",
    "import unicodedata\n",
    "import nltk\n",
    "\n",
    "import tensorflow as tf\n",
    "from sklearn import metrics\n",
    "from sklearn import preprocessing\n",
    "from sklearn.metrics import classification_report"
   ]
  },
  {
   "cell_type": "code",
   "execution_count": 2,
   "metadata": {},
   "outputs": [],
   "source": [
    "from tensorflow.keras.preprocessing.text import Tokenizer\n",
    "from tensorflow.keras.preprocessing.sequence import pad_sequences\n",
    "from tensorflow.keras.models import Sequential\n",
    "from tensorflow.keras.layers import Dense, Input, Flatten, Lambda, LSTM, Conv1D, MaxPooling1D, Dropout, Activation, Embedding\n",
    "from tensorflow.keras.layers.experimental.preprocessing import TextVectorization\n",
    "\n",
    "import tensorflow.compat.v1 as tf1\n",
    "from tensorflow.keras.models import Model\n",
    "import tensorflow.compat.v1.keras.backend as K\n",
    "import tensorflow_hub as hub\n",
    "\n",
    "import tensorflow.keras as keras\n",
    "from tensorflow.python.keras import utils\n"
   ]
  },
  {
   "cell_type": "code",
   "execution_count": 3,
   "metadata": {},
   "outputs": [
    {
     "name": "stdout",
     "output_type": "stream",
     "text": [
      "Already downloaded data\n"
     ]
    }
   ],
   "source": [
    "# Download the files if they're not here\n",
    "if 'data' not in os.listdir('.') or not os.listdir('data'):\n",
    "    os.system('wget https://storage.googleapis.com/mids-w266-final-project-data/yelpHotelData.db -P data/')\n",
    "    os.system('wget https://storage.googleapis.com/mids-w266-final-project-data/yelpResData.db -P data/')\n",
    "    print('Data downloaded successfully!')\n",
    "else:\n",
    "    print('Already downloaded data')"
   ]
  },
  {
   "cell_type": "code",
   "execution_count": 4,
   "metadata": {},
   "outputs": [
    {
     "data": {
      "text/plain": [
       "'2.7.0'"
      ]
     },
     "execution_count": 4,
     "metadata": {},
     "output_type": "execute_result"
    }
   ],
   "source": [
    "tf.__version__"
   ]
  },
  {
   "cell_type": "code",
   "execution_count": 5,
   "metadata": {},
   "outputs": [
    {
     "name": "stdout",
     "output_type": "stream",
     "text": [
      "[('review',), ('restaurant',), ('reviewer',)]\n",
      "[('review',), ('sqlite_stat1',), ('sqlite_stat2',), ('reviewer',), ('hotel',)]\n"
     ]
    }
   ],
   "source": [
    "con = sqlite3.connect('data/yelpResData.db')\n",
    "cursor = con.cursor()\n",
    "cursor.execute(\"SELECT name FROM sqlite_master WHERE type='table';\")\n",
    "print(cursor.fetchall())\n",
    "\n",
    "con = sqlite3.connect('data/yelpHotelData.db')\n",
    "cursor = con.cursor()\n",
    "cursor.execute(\"SELECT name FROM sqlite_master WHERE type='table';\")\n",
    "print(cursor.fetchall())"
   ]
  },
  {
   "cell_type": "code",
   "execution_count": 6,
   "metadata": {},
   "outputs": [
    {
     "name": "stdout",
     "output_type": "stream",
     "text": [
      "The data set contains 283086 hotels, 5858 reviews, and 5123 reviewers\n"
     ]
    }
   ],
   "source": [
    "# Reading from the hotels database\n",
    "hotels_db = sqlite3.connect(\"data/yelpHotelData.db\")\n",
    "hotels = pd.read_sql_query(\"SELECT * FROM hotel\", hotels_db)\n",
    "hotel_reviews = pd.read_sql_query(\"SELECT * FROM review WHERE flagged in ('Y', 'N')\", hotels_db)\n",
    "hotel_reviewers = pd.read_sql_query(\"SELECT * FROM reviewer\", hotels_db)\n",
    "\n",
    "\n",
    "print(f'The data set contains {len(hotels)} hotels, {len(hotel_reviews)} reviews, and {len(hotel_reviewers)} reviewers')"
   ]
  },
  {
   "cell_type": "code",
   "execution_count": 7,
   "metadata": {},
   "outputs": [
    {
     "name": "stdout",
     "output_type": "stream",
     "text": [
      "The data set contains 242652 restaurants, 67019 reviews, and 16941 reviewers\n"
     ]
    }
   ],
   "source": [
    "# Reading from the restaurant database\n",
    "restaurant_db = sqlite3.connect(\"data/yelpResData.db\")\n",
    "restaurant_db.text_factory = lambda x: x.decode(\"utf-8\", errors='ignore')\n",
    "restaurants = pd.read_sql_query(\"SELECT * FROM restaurant\", restaurant_db)\n",
    "restaurant_reviews = pd.read_sql_query(\"SELECT * FROM review WHERE flagged in ('Y', 'N')\", restaurant_db)\n",
    "restaurant_reviewers = pd.read_sql_query(\"SELECT * FROM reviewer\", restaurant_db)\n",
    "\n",
    "\n",
    "print(f'The data set contains {len(restaurants)} restaurants, {len(restaurant_reviews)} reviews, and {len(restaurant_reviewers)} reviewers')"
   ]
  },
  {
   "cell_type": "code",
   "execution_count": 8,
   "metadata": {},
   "outputs": [],
   "source": [
    "# Data Cleaning\n",
    "hotel_reviews['reviewContent'] = hotel_reviews['reviewContent'].apply(lambda x: unicodedata.normalize('NFKD', x))\n",
    "hotel_reviews['date'] = hotel_reviews['date'].apply(lambda x: datetime.datetime.strptime(x.strip().split(' ')[-1], '%m/%d/%Y'))\n",
    "\n",
    "restaurant_reviews['reviewContent'] = restaurant_reviews['reviewContent'].apply(lambda x: unicodedata.normalize('NFKD', x))\n",
    "restaurant_reviews['date'] = restaurant_reviews['date'].apply(lambda x: datetime.datetime.strptime(x.strip().split(' ')[-1], '%m/%d/%Y'))\n"
   ]
  },
  {
   "cell_type": "code",
   "execution_count": 9,
   "metadata": {
    "scrolled": true
   },
   "outputs": [],
   "source": [
    "# Split data according to the research paper\n",
    "hotel_X_test = hotel_reviews[hotel_reviews['date'] >= datetime.datetime(2012, 1, 1)]\n",
    "hotel_y_test = hotel_X_test['flagged'] == 'Y'\n",
    "hotel_X_tran_and_dev = hotel_reviews[hotel_reviews['date'] < datetime.datetime(2012, 1, 1)]\n",
    "hotel_X_train, hotel_X_dev, hotel_y_train, hotel_y_dev = train_test_split(hotel_X_tran_and_dev, hotel_X_tran_and_dev['flagged']=='Y')\n",
    "\n",
    "restaurant_X_test = restaurant_reviews[restaurant_reviews['date'] >= datetime.datetime(2012, 1, 1)]\n",
    "restaurant_y_test = restaurant_X_test['flagged'] == 'Y'\n",
    "restaurant_X_tran_and_dev = restaurant_reviews[restaurant_reviews['date'] < datetime.datetime(2012, 1, 1)]\n",
    "restaurant_X_train, restaurant_X_dev, restaurant_y_train, restaurant_y_dev = train_test_split(restaurant_X_tran_and_dev, restaurant_X_tran_and_dev['flagged']=='Y')\n"
   ]
  },
  {
   "cell_type": "markdown",
   "metadata": {},
   "source": [
    "# Exploratory Data Analysis"
   ]
  },
  {
   "cell_type": "code",
   "execution_count": 10,
   "metadata": {
    "scrolled": false
   },
   "outputs": [
    {
     "name": "stdout",
     "output_type": "stream",
     "text": [
      "<class 'pandas.core.frame.DataFrame'>\n",
      "Int64Index: 3402 entries, 861 to 2172\n",
      "Data columns (total 10 columns):\n",
      " #   Column         Non-Null Count  Dtype         \n",
      "---  ------         --------------  -----         \n",
      " 0   date           3402 non-null   datetime64[ns]\n",
      " 1   reviewID       3402 non-null   object        \n",
      " 2   reviewerID     3402 non-null   object        \n",
      " 3   reviewContent  3402 non-null   object        \n",
      " 4   rating         3402 non-null   int64         \n",
      " 5   usefulCount    3402 non-null   int64         \n",
      " 6   coolCount      3402 non-null   int64         \n",
      " 7   funnyCount     3402 non-null   int64         \n",
      " 8   flagged        3402 non-null   object        \n",
      " 9   hotelID        3402 non-null   object        \n",
      "dtypes: datetime64[ns](1), int64(4), object(5)\n",
      "memory usage: 292.4+ KB\n"
     ]
    }
   ],
   "source": [
    "hotel_X_train.info()"
   ]
  },
  {
   "cell_type": "code",
   "execution_count": 11,
   "metadata": {},
   "outputs": [
    {
     "name": "stdout",
     "output_type": "stream",
     "text": [
      "<class 'pandas.core.frame.DataFrame'>\n",
      "Int64Index: 42086 entries, 62783 to 24094\n",
      "Data columns (total 10 columns):\n",
      " #   Column         Non-Null Count  Dtype         \n",
      "---  ------         --------------  -----         \n",
      " 0   date           42086 non-null  datetime64[ns]\n",
      " 1   reviewID       42086 non-null  object        \n",
      " 2   reviewerID     42086 non-null  object        \n",
      " 3   reviewContent  42086 non-null  object        \n",
      " 4   rating         42086 non-null  int64         \n",
      " 5   usefulCount    42086 non-null  int64         \n",
      " 6   coolCount      42086 non-null  int64         \n",
      " 7   funnyCount     42086 non-null  int64         \n",
      " 8   flagged        42086 non-null  object        \n",
      " 9   restaurantID   42086 non-null  object        \n",
      "dtypes: datetime64[ns](1), int64(4), object(5)\n",
      "memory usage: 3.5+ MB\n"
     ]
    }
   ],
   "source": [
    "restaurant_X_train.info()"
   ]
  },
  {
   "cell_type": "code",
   "execution_count": 12,
   "metadata": {},
   "outputs": [
    {
     "data": {
      "text/plain": [
       "28495    ***Graham Elliot serves up refined casual food...\n",
       "45270    ***While the rooms are small, Hotel Felix is a...\n",
       "Name: reviewContent, dtype: object"
      ]
     },
     "execution_count": 12,
     "metadata": {},
     "output_type": "execute_result"
    }
   ],
   "source": [
    "reviews = pd.concat([restaurant_X_train, hotel_X_train.rename(columns={'hotelID':'restaurantID'})], ignore_index=True)\n",
    "reviews.groupby('reviewerID').agg({\"usefulCount\": np.sum, \n",
    "                                   \"coolCount\": np.sum, \n",
    "                                   \"funnyCount\": np.sum}).sort_values(by=['usefulCount'], ascending=False)\n",
    "reviews[reviews['reviewerID'] == 'w-w-k-QXosIKQ8HQVwU6IQ']['reviewContent']"
   ]
  },
  {
   "cell_type": "code",
   "execution_count": 13,
   "metadata": {},
   "outputs": [
    {
     "data": {
      "text/html": [
       "<div>\n",
       "<style scoped>\n",
       "    .dataframe tbody tr th:only-of-type {\n",
       "        vertical-align: middle;\n",
       "    }\n",
       "\n",
       "    .dataframe tbody tr th {\n",
       "        vertical-align: top;\n",
       "    }\n",
       "\n",
       "    .dataframe thead th {\n",
       "        text-align: right;\n",
       "    }\n",
       "</style>\n",
       "<table border=\"1\" class=\"dataframe\">\n",
       "  <thead>\n",
       "    <tr style=\"text-align: right;\">\n",
       "      <th></th>\n",
       "      <th>rating</th>\n",
       "      <th>usefulCount</th>\n",
       "      <th>coolCount</th>\n",
       "      <th>funnyCount</th>\n",
       "    </tr>\n",
       "    <tr>\n",
       "      <th>flagged</th>\n",
       "      <th></th>\n",
       "      <th></th>\n",
       "      <th></th>\n",
       "      <th></th>\n",
       "    </tr>\n",
       "  </thead>\n",
       "  <tbody>\n",
       "    <tr>\n",
       "      <th>N</th>\n",
       "      <td>158176</td>\n",
       "      <td>44326</td>\n",
       "      <td>29286</td>\n",
       "      <td>24782</td>\n",
       "    </tr>\n",
       "    <tr>\n",
       "      <th>Y</th>\n",
       "      <td>21574</td>\n",
       "      <td>0</td>\n",
       "      <td>0</td>\n",
       "      <td>0</td>\n",
       "    </tr>\n",
       "  </tbody>\n",
       "</table>\n",
       "</div>"
      ],
      "text/plain": [
       "         rating  usefulCount  coolCount  funnyCount\n",
       "flagged                                            \n",
       "N        158176        44326      29286       24782\n",
       "Y         21574            0          0           0"
      ]
     },
     "execution_count": 13,
     "metadata": {},
     "output_type": "execute_result"
    }
   ],
   "source": [
    "reviews.groupby('flagged').agg('sum')\n"
   ]
  },
  {
   "cell_type": "code",
   "execution_count": 14,
   "metadata": {},
   "outputs": [
    {
     "data": {
      "text/html": [
       "<div>\n",
       "<style scoped>\n",
       "    .dataframe tbody tr th:only-of-type {\n",
       "        vertical-align: middle;\n",
       "    }\n",
       "\n",
       "    .dataframe tbody tr th {\n",
       "        vertical-align: top;\n",
       "    }\n",
       "\n",
       "    .dataframe thead th {\n",
       "        text-align: right;\n",
       "    }\n",
       "</style>\n",
       "<table border=\"1\" class=\"dataframe\">\n",
       "  <thead>\n",
       "    <tr style=\"text-align: right;\">\n",
       "      <th></th>\n",
       "      <th>date</th>\n",
       "      <th>reviewID</th>\n",
       "      <th>reviewerID</th>\n",
       "      <th>reviewContent</th>\n",
       "      <th>usefulCount</th>\n",
       "      <th>coolCount</th>\n",
       "      <th>funnyCount</th>\n",
       "      <th>flagged</th>\n",
       "      <th>restaurantID</th>\n",
       "    </tr>\n",
       "    <tr>\n",
       "      <th>rating</th>\n",
       "      <th></th>\n",
       "      <th></th>\n",
       "      <th></th>\n",
       "      <th></th>\n",
       "      <th></th>\n",
       "      <th></th>\n",
       "      <th></th>\n",
       "      <th></th>\n",
       "      <th></th>\n",
       "    </tr>\n",
       "  </thead>\n",
       "  <tbody>\n",
       "    <tr>\n",
       "      <th>1</th>\n",
       "      <td>1419</td>\n",
       "      <td>1419</td>\n",
       "      <td>1419</td>\n",
       "      <td>1419</td>\n",
       "      <td>1419</td>\n",
       "      <td>1419</td>\n",
       "      <td>1419</td>\n",
       "      <td>1419</td>\n",
       "      <td>1419</td>\n",
       "    </tr>\n",
       "    <tr>\n",
       "      <th>2</th>\n",
       "      <td>2841</td>\n",
       "      <td>2841</td>\n",
       "      <td>2841</td>\n",
       "      <td>2841</td>\n",
       "      <td>2841</td>\n",
       "      <td>2841</td>\n",
       "      <td>2841</td>\n",
       "      <td>2841</td>\n",
       "      <td>2841</td>\n",
       "    </tr>\n",
       "    <tr>\n",
       "      <th>3</th>\n",
       "      <td>5866</td>\n",
       "      <td>5866</td>\n",
       "      <td>5866</td>\n",
       "      <td>5866</td>\n",
       "      <td>5866</td>\n",
       "      <td>5866</td>\n",
       "      <td>5866</td>\n",
       "      <td>5866</td>\n",
       "      <td>5866</td>\n",
       "    </tr>\n",
       "    <tr>\n",
       "      <th>4</th>\n",
       "      <td>15363</td>\n",
       "      <td>15363</td>\n",
       "      <td>15363</td>\n",
       "      <td>15363</td>\n",
       "      <td>15363</td>\n",
       "      <td>15363</td>\n",
       "      <td>15363</td>\n",
       "      <td>15363</td>\n",
       "      <td>15363</td>\n",
       "    </tr>\n",
       "    <tr>\n",
       "      <th>5</th>\n",
       "      <td>14405</td>\n",
       "      <td>14405</td>\n",
       "      <td>14405</td>\n",
       "      <td>14405</td>\n",
       "      <td>14405</td>\n",
       "      <td>14405</td>\n",
       "      <td>14405</td>\n",
       "      <td>14405</td>\n",
       "      <td>14405</td>\n",
       "    </tr>\n",
       "  </tbody>\n",
       "</table>\n",
       "</div>"
      ],
      "text/plain": [
       "         date  reviewID  reviewerID  reviewContent  usefulCount  coolCount  \\\n",
       "rating                                                                       \n",
       "1        1419      1419        1419           1419         1419       1419   \n",
       "2        2841      2841        2841           2841         2841       2841   \n",
       "3        5866      5866        5866           5866         5866       5866   \n",
       "4       15363     15363       15363          15363        15363      15363   \n",
       "5       14405     14405       14405          14405        14405      14405   \n",
       "\n",
       "        funnyCount  flagged  restaurantID  \n",
       "rating                                     \n",
       "1             1419     1419          1419  \n",
       "2             2841     2841          2841  \n",
       "3             5866     5866          5866  \n",
       "4            15363    15363         15363  \n",
       "5            14405    14405         14405  "
      ]
     },
     "metadata": {},
     "output_type": "display_data"
    },
    {
     "data": {
      "text/plain": [
       "(array([ 1419.,     0.,  2841.,     0.,     0.,  5866.,     0., 15363.,\n",
       "            0., 14405.]),\n",
       " array([1. , 1.4, 1.8, 2.2, 2.6, 3. , 3.4, 3.8, 4.2, 4.6, 5. ]),\n",
       " <BarContainer object of 10 artists>)"
      ]
     },
     "execution_count": 14,
     "metadata": {},
     "output_type": "execute_result"
    },
    {
     "data": {
      "image/png": "[encoded data removed]",
      "text/plain": [
       "<Figure size 432x288 with 1 Axes>"
      ]
     },
     "metadata": {
      "needs_background": "light"
     },
     "output_type": "display_data"
    }
   ],
   "source": [
    "trueReviews = reviews[reviews['flagged'] == 'N']\n",
    "fakeReviews = reviews[reviews['flagged'] == 'Y']\n",
    "display(trueReviews.groupby('rating').agg('count'))\n",
    "plt.hist(x=trueReviews.rating, bins=10)"
   ]
  },
  {
   "cell_type": "code",
   "execution_count": 15,
   "metadata": {},
   "outputs": [
    {
     "data": {
      "text/html": [
       "<div>\n",
       "<style scoped>\n",
       "    .dataframe tbody tr th:only-of-type {\n",
       "        vertical-align: middle;\n",
       "    }\n",
       "\n",
       "    .dataframe tbody tr th {\n",
       "        vertical-align: top;\n",
       "    }\n",
       "\n",
       "    .dataframe thead th {\n",
       "        text-align: right;\n",
       "    }\n",
       "</style>\n",
       "<table border=\"1\" class=\"dataframe\">\n",
       "  <thead>\n",
       "    <tr style=\"text-align: right;\">\n",
       "      <th></th>\n",
       "      <th>date</th>\n",
       "      <th>reviewID</th>\n",
       "      <th>reviewerID</th>\n",
       "      <th>reviewContent</th>\n",
       "      <th>usefulCount</th>\n",
       "      <th>coolCount</th>\n",
       "      <th>funnyCount</th>\n",
       "      <th>flagged</th>\n",
       "      <th>restaurantID</th>\n",
       "    </tr>\n",
       "    <tr>\n",
       "      <th>rating</th>\n",
       "      <th></th>\n",
       "      <th></th>\n",
       "      <th></th>\n",
       "      <th></th>\n",
       "      <th></th>\n",
       "      <th></th>\n",
       "      <th></th>\n",
       "      <th></th>\n",
       "      <th></th>\n",
       "    </tr>\n",
       "  </thead>\n",
       "  <tbody>\n",
       "    <tr>\n",
       "      <th>1</th>\n",
       "      <td>647</td>\n",
       "      <td>647</td>\n",
       "      <td>647</td>\n",
       "      <td>647</td>\n",
       "      <td>647</td>\n",
       "      <td>647</td>\n",
       "      <td>647</td>\n",
       "      <td>647</td>\n",
       "      <td>647</td>\n",
       "    </tr>\n",
       "    <tr>\n",
       "      <th>2</th>\n",
       "      <td>421</td>\n",
       "      <td>421</td>\n",
       "      <td>421</td>\n",
       "      <td>421</td>\n",
       "      <td>421</td>\n",
       "      <td>421</td>\n",
       "      <td>421</td>\n",
       "      <td>421</td>\n",
       "      <td>421</td>\n",
       "    </tr>\n",
       "    <tr>\n",
       "      <th>3</th>\n",
       "      <td>502</td>\n",
       "      <td>502</td>\n",
       "      <td>502</td>\n",
       "      <td>502</td>\n",
       "      <td>502</td>\n",
       "      <td>502</td>\n",
       "      <td>502</td>\n",
       "      <td>502</td>\n",
       "      <td>502</td>\n",
       "    </tr>\n",
       "    <tr>\n",
       "      <th>4</th>\n",
       "      <td>1541</td>\n",
       "      <td>1541</td>\n",
       "      <td>1541</td>\n",
       "      <td>1541</td>\n",
       "      <td>1541</td>\n",
       "      <td>1541</td>\n",
       "      <td>1541</td>\n",
       "      <td>1541</td>\n",
       "      <td>1541</td>\n",
       "    </tr>\n",
       "    <tr>\n",
       "      <th>5</th>\n",
       "      <td>2483</td>\n",
       "      <td>2483</td>\n",
       "      <td>2483</td>\n",
       "      <td>2483</td>\n",
       "      <td>2483</td>\n",
       "      <td>2483</td>\n",
       "      <td>2483</td>\n",
       "      <td>2483</td>\n",
       "      <td>2483</td>\n",
       "    </tr>\n",
       "  </tbody>\n",
       "</table>\n",
       "</div>"
      ],
      "text/plain": [
       "        date  reviewID  reviewerID  reviewContent  usefulCount  coolCount  \\\n",
       "rating                                                                      \n",
       "1        647       647         647            647          647        647   \n",
       "2        421       421         421            421          421        421   \n",
       "3        502       502         502            502          502        502   \n",
       "4       1541      1541        1541           1541         1541       1541   \n",
       "5       2483      2483        2483           2483         2483       2483   \n",
       "\n",
       "        funnyCount  flagged  restaurantID  \n",
       "rating                                     \n",
       "1              647      647           647  \n",
       "2              421      421           421  \n",
       "3              502      502           502  \n",
       "4             1541     1541          1541  \n",
       "5             2483     2483          2483  "
      ]
     },
     "metadata": {},
     "output_type": "display_data"
    },
    {
     "data": {
      "text/plain": [
       "(array([ 647.,    0.,  421.,    0.,    0.,  502.,    0., 1541.,    0.,\n",
       "        2483.]),\n",
       " array([1. , 1.4, 1.8, 2.2, 2.6, 3. , 3.4, 3.8, 4.2, 4.6, 5. ]),\n",
       " <BarContainer object of 10 artists>)"
      ]
     },
     "execution_count": 15,
     "metadata": {},
     "output_type": "execute_result"
    },
    {
     "data": {
      "image/png": "[encoded data removed]",
      "text/plain": [
       "<Figure size 432x288 with 1 Axes>"
      ]
     },
     "metadata": {
      "needs_background": "light"
     },
     "output_type": "display_data"
    }
   ],
   "source": [
    "display(fakeReviews.groupby('rating').agg('count'))\n",
    "plt.hist(x=fakeReviews.rating, bins=10)"
   ]
  },
  {
   "cell_type": "code",
   "execution_count": 16,
   "metadata": {},
   "outputs": [
    {
     "data": {
      "image/png": "[encoded data removed]",
      "text/plain": [
       "<Figure size 432x288 with 2 Axes>"
      ]
     },
     "metadata": {
      "needs_background": "light"
     },
     "output_type": "display_data"
    }
   ],
   "source": [
    "plt.subplot(1, 2, 1)\n",
    "plt.hist(x = trueReviews['reviewContent'].str.count(' ') + 1)\n",
    "plt.subplot(1, 2, 2)\n",
    "plt.hist(x = fakeReviews['reviewContent'].str.count(' ') + 1)\n",
    "plt.show()"
   ]
  },
  {
   "cell_type": "code",
   "execution_count": 17,
   "metadata": {},
   "outputs": [
    {
     "data": {
      "image/png": "[encoded data removed]",
      "text/plain": [
       "<Figure size 432x288 with 2 Axes>"
      ]
     },
     "metadata": {
      "needs_background": "light"
     },
     "output_type": "display_data"
    }
   ],
   "source": [
    "plt.subplot(1, 2, 1)\n",
    "plt.hist(x = trueReviews['reviewContent'].str.count('.') + 1)\n",
    "plt.subplot(1, 2, 2)\n",
    "plt.hist(x = fakeReviews['reviewContent'].str.count('.') + 1)\n",
    "plt.show()"
   ]
  },
  {
   "cell_type": "code",
   "execution_count": 18,
   "metadata": {},
   "outputs": [
    {
     "data": {
      "image/png": "[encoded data removed]",
      "text/plain": [
       "<Figure size 432x288 with 2 Axes>"
      ]
     },
     "metadata": {
      "needs_background": "light"
     },
     "output_type": "display_data"
    }
   ],
   "source": [
    "trueReviewerCounts = trueReviews.groupby(['reviewerID']).size().reset_index(name='counts')\n",
    "fakeReviewerCounts = fakeReviews.groupby(['reviewerID']).size().reset_index(name='counts')\n",
    "\n",
    "\n",
    "plt.subplot(1, 2, 1)\n",
    "plt.hist(x = trueReviewerCounts['counts'], bins=10)\n",
    "plt.subplot(1, 2, 2)\n",
    "plt.hist(x = fakeReviewerCounts['counts'], bins=10)\n",
    "plt.show()\n"
   ]
  },
  {
   "cell_type": "code",
   "execution_count": 19,
   "metadata": {},
   "outputs": [
    {
     "data": {
      "image/png": "[encoded data removed]",
      "text/plain": [
       "<Figure size 432x288 with 2 Axes>"
      ]
     },
     "metadata": {
      "needs_background": "light"
     },
     "output_type": "display_data"
    }
   ],
   "source": [
    "trueRestReviewCounts = trueReviews.groupby(['restaurantID']).size().reset_index(name='counts')\n",
    "fakeRestReviewCounts = fakeReviews.groupby(['restaurantID']).size().reset_index(name='counts')\n",
    "\n",
    "\n",
    "plt.subplot(1, 2, 1)\n",
    "plt.hist(x = trueRestReviewCounts['counts'], bins=10)\n",
    "plt.subplot(1, 2, 2)\n",
    "plt.hist(x = fakeRestReviewCounts['counts'], bins=10)\n",
    "plt.show()\n"
   ]
  },
  {
   "cell_type": "code",
   "execution_count": 20,
   "metadata": {},
   "outputs": [
    {
     "data": {
      "image/png": "[encoded data removed]",
      "text/plain": [
       "<Figure size 432x288 with 2 Axes>"
      ]
     },
     "metadata": {
      "needs_background": "light"
     },
     "output_type": "display_data"
    }
   ],
   "source": [
    "plt.subplot(1, 2, 1)\n",
    "trueReviews['reviewContent'].str.len().hist()\n",
    "plt.subplot(1, 2, 2)\n",
    "fakeReviews['reviewContent'].str.len().hist()\n",
    "plt.show()"
   ]
  },
  {
   "cell_type": "code",
   "execution_count": 22,
   "metadata": {},
   "outputs": [
    {
     "name": "stderr",
     "output_type": "stream",
     "text": [
      "[nltk_data] Downloading package stopwords to\n",
      "[nltk_data]     /Users/yizhang/nltk_data...\n",
      "[nltk_data]   Unzipping corpora/stopwords.zip.\n"
     ]
    },
    {
     "data": {
      "image/png": "[encoded data removed]",
      "text/plain": [
       "<Figure size 432x288 with 1 Axes>"
      ]
     },
     "metadata": {
      "needs_background": "light"
     },
     "output_type": "display_data"
    }
   ],
   "source": [
    "# Code Snippet for Top N-grams Barchart\n",
    "\n",
    "import seaborn as sns\n",
    "import numpy as np\n",
    "from nltk.corpus import stopwords\n",
    "from sklearn.feature_extraction.text import CountVectorizer\n",
    "from collections import  Counter\n",
    "\n",
    "nltk.download('stopwords')\n",
    "\n",
    "def plot_top_ngrams_barchart(text, n=2):\n",
    "    synthetic = {'gmail', 'they', 'http', 'www'}\n",
    "    stop=set(stopwords.words('english')) | synthetic\n",
    "    new= text.str.split()\n",
    "    new= new.values.tolist()\n",
    "    corpus=[word for i in new for word in i if word.lower() not in stop]\n",
    "\n",
    "    def _get_top_ngram(corpus, n=None):\n",
    "        vec = CountVectorizer(ngram_range=(n, n)).fit(corpus)\n",
    "        bag_of_words = vec.transform(corpus)\n",
    "        sum_words = bag_of_words.sum(axis=0) \n",
    "        words_freq = [(word, sum_words[0, idx]) \n",
    "                      for word, idx in vec.vocabulary_.items()]\n",
    "        words_freq =sorted(words_freq, key = lambda x: x[1], reverse=True)\n",
    "        return words_freq[:20]\n",
    "\n",
    "    top_n_bigrams=_get_top_ngram(corpus,n)[:20]\n",
    "    x,y=map(list,zip(*top_n_bigrams))\n",
    "    sns.barplot(x=y,y=x)\n",
    "    \n",
    "\n",
    "plot_top_ngrams_barchart(trueReviews['reviewContent'],3)"
   ]
  },
  {
   "cell_type": "code",
   "execution_count": 23,
   "metadata": {},
   "outputs": [
    {
     "data": {
      "image/png": "[encoded data removed]",
      "text/plain": [
       "<Figure size 432x288 with 1 Axes>"
      ]
     },
     "metadata": {
      "needs_background": "light"
     },
     "output_type": "display_data"
    }
   ],
   "source": [
    "plot_top_ngrams_barchart(fakeReviews['reviewContent'],3)"
   ]
  },
  {
   "cell_type": "code",
   "execution_count": 24,
   "metadata": {},
   "outputs": [
    {
     "name": "stdout",
     "output_type": "stream",
     "text": [
      "Fake Reviewers 7118\n",
      "True Reviewers 28049\n",
      "True and Fake Reviewers 138\n"
     ]
    }
   ],
   "source": [
    "fake_df = restaurant_reviews[restaurant_reviews['flagged'] == 'Y'][\"reviewerID\"].to_frame()\n",
    "true_df = restaurant_reviews[restaurant_reviews['flagged'] == 'N'][\"reviewerID\"].to_frame()\n",
    "print(\"Fake Reviewers \" + str(len(fake_df[\"reviewerID\"].unique())))\n",
    "print(\"True Reviewers \" + str(len(true_df[\"reviewerID\"].unique())))\n",
    "print(\"True and Fake Reviewers \" + str(len(list(set(fake_df[\"reviewerID\"].unique()) & set(true_df[\"reviewerID\"].unique())))))"
   ]
  },
  {
   "cell_type": "code",
   "execution_count": 25,
   "metadata": {},
   "outputs": [
    {
     "name": "stdout",
     "output_type": "stream",
     "text": [
      "Fake stats Counts 6206 Sum 1549\n",
      "True stats Counts 20752 Sum 225700\n"
     ]
    }
   ],
   "source": [
    "full_rest_df = pd.merge(restaurant_reviews, restaurant_reviewers, on=\"reviewerID\")\n",
    "fake_df = full_rest_df[full_rest_df['flagged'] == 'Y'][\"firstCount\"]\n",
    "true_df = full_rest_df[full_rest_df['flagged'] == 'N'][\"firstCount\"]\n",
    "print(\"Fake stats Counts \" + str(fake_df.count()) + str(\" Sum \") + str(fake_df.sum()))\n",
    "print(\"True stats Counts \" + str(true_df.count()) + str(\" Sum \") + str(true_df.sum()))"
   ]
  },
  {
   "cell_type": "markdown",
   "metadata": {},
   "source": [
    "# Baseline Model"
   ]
  },
  {
   "cell_type": "markdown",
   "metadata": {},
   "source": [
    "Try a Plain LSTM model on the Hotel data set with fixed length learned embedding"
   ]
  },
  {
   "cell_type": "markdown",
   "metadata": {},
   "source": [
    "## Hotels Dataset"
   ]
  },
  {
   "cell_type": "code",
   "execution_count": 26,
   "metadata": {},
   "outputs": [],
   "source": [
    "vocabulary_size = 20000\n",
    "tokenizer = Tokenizer(num_words= vocabulary_size)\n",
    "tokenizer.fit_on_texts(hotel_X_train['reviewContent'])\n",
    "sequences = tokenizer.texts_to_sequences(hotel_X_train['reviewContent'])\n",
    "hotel_train_data = pad_sequences(sequences, maxlen=100)\n",
    "\n",
    "tokenizer = Tokenizer(num_words= vocabulary_size)\n",
    "tokenizer.fit_on_texts(hotel_X_dev['reviewContent'])\n",
    "sequences = tokenizer.texts_to_sequences(hotel_X_dev['reviewContent'])\n",
    "hotel_dev_data = pad_sequences(sequences, maxlen=100)\n"
   ]
  },
  {
   "cell_type": "code",
   "execution_count": 27,
   "metadata": {},
   "outputs": [
    {
     "name": "stderr",
     "output_type": "stream",
     "text": [
      "2021-11-20 23:28:07.299019: I tensorflow/core/platform/cpu_feature_guard.cc:151] This TensorFlow binary is optimized with oneAPI Deep Neural Network Library (oneDNN) to use the following CPU instructions in performance-critical operations:  AVX2 FMA\n",
      "To enable them in other operations, rebuild TensorFlow with the appropriate compiler flags.\n"
     ]
    }
   ],
   "source": [
    "model = Sequential()\n",
    "model.add(Embedding(20000, 100, input_length=100))\n",
    "model.add(LSTM(100, dropout=0.2, recurrent_dropout=0.2))\n",
    "model.add(Dense(1, activation='sigmoid'))\n",
    "model.compile(loss='binary_crossentropy', optimizer='adam', metrics=['accuracy'])\n"
   ]
  },
  {
   "cell_type": "code",
   "execution_count": 28,
   "metadata": {},
   "outputs": [
    {
     "name": "stdout",
     "output_type": "stream",
     "text": [
      "Epoch 1/2\n",
      "107/107 [==============================] - 13s 102ms/step - loss: 0.4011 - accuracy: 0.8739\n",
      "Epoch 2/2\n",
      "107/107 [==============================] - 11s 103ms/step - loss: 0.3582 - accuracy: 0.8774\n"
     ]
    },
    {
     "data": {
      "text/plain": [
       "<keras.callbacks.History at 0x7fd9c5501750>"
      ]
     },
     "execution_count": 28,
     "metadata": {},
     "output_type": "execute_result"
    }
   ],
   "source": [
    "model.fit(hotel_train_data, hotel_y_train, epochs=2)"
   ]
  },
  {
   "cell_type": "code",
   "execution_count": 29,
   "metadata": {},
   "outputs": [],
   "source": [
    "hotel_y_predicted = model.predict(hotel_dev_data)"
   ]
  },
  {
   "cell_type": "code",
   "execution_count": 30,
   "metadata": {},
   "outputs": [
    {
     "name": "stdout",
     "output_type": "stream",
     "text": [
      "              precision    recall  f1-score   support\n",
      "\n",
      "       False       1.00      0.87      0.93      1134\n",
      "        True       0.00      0.00      0.00         0\n",
      "\n",
      "    accuracy                           0.87      1134\n",
      "   macro avg       0.50      0.44      0.47      1134\n",
      "weighted avg       1.00      0.87      0.93      1134\n",
      "\n"
     ]
    },
    {
     "name": "stderr",
     "output_type": "stream",
     "text": [
      "/Users/yizhang/Documents/MIDS/W266/w266-final-project/venv/lib/python3.7/site-packages/sklearn/metrics/_classification.py:1308: UndefinedMetricWarning: Recall and F-score are ill-defined and being set to 0.0 in labels with no true samples. Use `zero_division` parameter to control this behavior.\n",
      "  _warn_prf(average, modifier, msg_start, len(result))\n",
      "/Users/yizhang/Documents/MIDS/W266/w266-final-project/venv/lib/python3.7/site-packages/sklearn/metrics/_classification.py:1308: UndefinedMetricWarning: Recall and F-score are ill-defined and being set to 0.0 in labels with no true samples. Use `zero_division` parameter to control this behavior.\n",
      "  _warn_prf(average, modifier, msg_start, len(result))\n",
      "/Users/yizhang/Documents/MIDS/W266/w266-final-project/venv/lib/python3.7/site-packages/sklearn/metrics/_classification.py:1308: UndefinedMetricWarning: Recall and F-score are ill-defined and being set to 0.0 in labels with no true samples. Use `zero_division` parameter to control this behavior.\n",
      "  _warn_prf(average, modifier, msg_start, len(result))\n"
     ]
    }
   ],
   "source": [
    "print(classification_report(hotel_y_predicted > 0.5, hotel_y_dev))"
   ]
  },
  {
   "cell_type": "markdown",
   "metadata": {},
   "source": [
    "# Model 2 - Data Resampling + GloVe embedding"
   ]
  },
  {
   "cell_type": "code",
   "execution_count": 31,
   "metadata": {},
   "outputs": [
    {
     "name": "stdout",
     "output_type": "stream",
     "text": [
      "Already downloaded the embedding\n"
     ]
    }
   ],
   "source": [
    "# Download the GloVe embeddings\n",
    "if 'embedding' not in os.listdir('.') or not os.listdir('embedding'):\n",
    "    os.system('wget http://nlp.stanford.edu/data/glove.6B.zip -P embedding/')\n",
    "    os.system('cd embedding && unzip glove.6B.zip')\n",
    "    print('Data the GloVe embedding successfully!')\n",
    "else:\n",
    "    print('Already downloaded the embedding')"
   ]
  },
  {
   "cell_type": "code",
   "execution_count": 32,
   "metadata": {},
   "outputs": [
    {
     "name": "stdout",
     "output_type": "stream",
     "text": [
      "Found 400000 word vectors.\n"
     ]
    }
   ],
   "source": [
    "# Use the 100 dimensional GloVe embedding\n",
    "path_to_glove_file = \"./embedding/glove.6B.100d.txt\"\n",
    "\n",
    "embeddings_index = {}\n",
    "with open(path_to_glove_file) as f:\n",
    "    for line in f:\n",
    "        word, coefs = line.split(maxsplit=1)\n",
    "        coefs = np.fromstring(coefs, \"f\", sep=\" \")\n",
    "        embeddings_index[word] = coefs\n",
    "\n",
    "print(\"Found %s word vectors.\" % len(embeddings_index))"
   ]
  },
  {
   "cell_type": "code",
   "execution_count": 33,
   "metadata": {},
   "outputs": [
    {
     "name": "stdout",
     "output_type": "stream",
     "text": [
      "There are 417 positive examples\n",
      "There are 2985 negative examples\n"
     ]
    }
   ],
   "source": [
    "# Split the positive/negative samples for more balanced sampling\n",
    "hotel_X_train_positive = hotel_X_train[hotel_X_train['flagged'] == 'Y']\n",
    "hotel_X_train_negative = hotel_X_train[hotel_X_train['flagged'] == 'N']\n",
    "\n",
    "print(f'There are {len(hotel_X_train_positive)} positive examples')\n",
    "print(f'There are {len(hotel_X_train_negative)} negative examples')\n",
    "\n",
    "num_samples = 2000\n",
    "positive_ratio = 0.5\n",
    "hotel_positives = hotel_X_train_positive.sample(int(num_samples * positive_ratio), replace=True).reset_index(drop=True)\n",
    "hotel_negatives = hotel_X_train_negative.sample(num_samples, replace=True).reset_index(drop=True)\n",
    "\n",
    "hotel_X_train_balanced = pd.concat([hotel_positives, hotel_negatives], ignore_index=True).sample(frac=1)\n",
    "hotel_y_train_balanced = hotel_X_train_balanced['flagged'] == 'Y'\n"
   ]
  },
  {
   "cell_type": "code",
   "execution_count": 34,
   "metadata": {},
   "outputs": [
    {
     "name": "stdout",
     "output_type": "stream",
     "text": [
      "Vocabulary size is 13740\n"
     ]
    }
   ],
   "source": [
    "# First layer, vectorizing the word input\n",
    "vocabulary_size = 30000\n",
    "max_tokens = 200\n",
    "\n",
    "vectorizer = TextVectorization(max_tokens=vocabulary_size, output_sequence_length=max_tokens)\n",
    "vectorizer.adapt(hotel_X_train_balanced['reviewContent'].to_numpy())\n",
    "\n",
    "voc = vectorizer.get_vocabulary()\n",
    "word_index = dict(zip(voc, range(len(voc))))\n",
    "\n",
    "print(f\"Vocabulary size is {len(voc)}\")\n"
   ]
  },
  {
   "cell_type": "code",
   "execution_count": 35,
   "metadata": {},
   "outputs": [
    {
     "name": "stdout",
     "output_type": "stream",
     "text": [
      "Converted 11145 words (2595 misses)\n"
     ]
    }
   ],
   "source": [
    "# Ref: https://keras.io/examples/nlp/pretrained_word_embeddings/\n",
    "# Build + Lock in the Embedding layer from GloVe\n",
    "embedding_dim = 100\n",
    "hits = 0\n",
    "misses = 0\n",
    "num_words = len(voc) + 2\n",
    "\n",
    "# Prepare embedding matrix\n",
    "# TODO: more pre-processing to avoid ~3000 words that don't have embeddings\n",
    "embedding_matrix = np.zeros((num_words, embedding_dim))\n",
    "for i, word in enumerate(voc):\n",
    "    embedding_vector = embeddings_index.get(word)\n",
    "    if embedding_vector is not None:\n",
    "        # Words not found in embedding index will be all-zeros.\n",
    "        # This includes the representation for \"padding\" and \"OOV\"\n",
    "        embedding_matrix[i] = embedding_vector\n",
    "        hits += 1\n",
    "    else:\n",
    "        misses += 1\n",
    "print(\"Converted %d words (%d misses)\" % (hits, misses))\n",
    "\n",
    "\n",
    "embedding_layer = Embedding(\n",
    "    num_words,\n",
    "    embedding_dim,\n",
    "    embeddings_initializer=tf.keras.initializers.Constant(embedding_matrix),\n",
    "    trainable=False,\n",
    ")\n"
   ]
  },
  {
   "cell_type": "code",
   "execution_count": 36,
   "metadata": {},
   "outputs": [
    {
     "data": {
      "text/plain": [
       "(3000, 200)"
      ]
     },
     "execution_count": 36,
     "metadata": {},
     "output_type": "execute_result"
    }
   ],
   "source": [
    "# Vectorize the input\n",
    "hotel_X_train_ready = vectorizer(hotel_X_train_balanced['reviewContent']).numpy()\n",
    "hotel_X_dev_ready = vectorizer(hotel_X_dev['reviewContent']).numpy()\n",
    "\n",
    "hotel_X_train_ready.shape"
   ]
  },
  {
   "cell_type": "code",
   "execution_count": 37,
   "metadata": {},
   "outputs": [
    {
     "name": "stdout",
     "output_type": "stream",
     "text": [
      "Epoch 1/8\n",
      "94/94 [==============================] - 14s 128ms/step - loss: 0.6394 - accuracy: 0.6653\n",
      "Epoch 2/8\n",
      "94/94 [==============================] - 12s 130ms/step - loss: 0.6211 - accuracy: 0.6670\n",
      "Epoch 3/8\n",
      "94/94 [==============================] - 12s 129ms/step - loss: 0.6109 - accuracy: 0.6770\n",
      "Epoch 4/8\n",
      "94/94 [==============================] - 13s 140ms/step - loss: 0.5998 - accuracy: 0.6817\n",
      "Epoch 5/8\n",
      "94/94 [==============================] - 14s 145ms/step - loss: 0.5934 - accuracy: 0.6887\n",
      "Epoch 6/8\n",
      "94/94 [==============================] - 13s 134ms/step - loss: 0.5787 - accuracy: 0.6950\n",
      "Epoch 7/8\n",
      "94/94 [==============================] - 13s 133ms/step - loss: 0.5751 - accuracy: 0.6953\n",
      "Epoch 8/8\n",
      "94/94 [==============================] - 13s 134ms/step - loss: 0.5578 - accuracy: 0.7043\n"
     ]
    },
    {
     "data": {
      "text/plain": [
       "<keras.callbacks.History at 0x7fd98adbb950>"
      ]
     },
     "execution_count": 37,
     "metadata": {},
     "output_type": "execute_result"
    }
   ],
   "source": [
    "# Build and train the model with \n",
    "model = Sequential()\n",
    "model.add(embedding_layer)\n",
    "model.add(LSTM(50, dropout=0.2, recurrent_dropout=0.2))\n",
    "model.add(Dense(1, activation='sigmoid'))\n",
    "model.compile(loss='binary_crossentropy', optimizer='adam', metrics=['accuracy'])\n",
    "\n",
    "model.fit(hotel_X_train_ready, hotel_y_train_balanced, epochs=8)"
   ]
  },
  {
   "cell_type": "code",
   "execution_count": 38,
   "metadata": {},
   "outputs": [
    {
     "name": "stdout",
     "output_type": "stream",
     "text": [
      "36/36 [==============================] - 1s 18ms/step - loss: 0.4893 - accuracy: 0.8686\n",
      "              precision    recall  f1-score   support\n",
      "\n",
      "       False       0.99      0.87      0.93      1129\n",
      "        True       0.00      0.00      0.00         5\n",
      "\n",
      "    accuracy                           0.87      1134\n",
      "   macro avg       0.50      0.44      0.46      1134\n",
      "weighted avg       0.99      0.87      0.93      1134\n",
      "\n"
     ]
    },
    {
     "data": {
      "text/plain": [
       "N    0.873016\n",
       "Y    0.126984\n",
       "Name: flagged, dtype: float64"
      ]
     },
     "execution_count": 38,
     "metadata": {},
     "output_type": "execute_result"
    }
   ],
   "source": [
    "model.evaluate(hotel_X_dev_ready, hotel_y_dev)\n",
    "hotel_y_predicted = model.predict(hotel_X_dev_ready)\n",
    "print(classification_report(hotel_y_predicted > 0.5, hotel_y_dev))\n",
    "hotel_X_dev['flagged'].value_counts() / len(hotel_X_dev)"
   ]
  },
  {
   "cell_type": "markdown",
   "metadata": {},
   "source": [
    "# Model 3: Train with generated fake reviews"
   ]
  },
  {
   "cell_type": "code",
   "execution_count": null,
   "metadata": {},
   "outputs": [],
   "source": [
    "# Generating fake reviews from gpt-2 based on the training fake review set.\n",
    "# Catherine ran it in an AWS instance and it takes a really long time.\n",
    "# Commenting out the code to not run over and over again.\n",
    "##########################\n",
    "# !pip install transformers\n",
    "# !pip install torch\n",
    "\n",
    "# hotel_reviews_fake = hotel_X_train[hotel_X_train['flagged'] == 'Y']\n",
    "# np.savetxt(r'data/hotel_fake.txt', hotel_reviews_fake['reviewContent'].values, fmt='%s')\n",
    "\n",
    "# !python gpt2_fine_tuning.py \\\n",
    "#     --output_dir hotel \\\n",
    "#     --model_name_or_path=gpt2 \\\n",
    "#     --do_train \\\n",
    "#     --train_data_file='./data/hotel_fake.txt' \\\n",
    "#     --per_gpu_train_batch_size=1\n",
    "\n",
    "# !python gpt2_generation.py \\\n",
    "#     --model_name_or_path hotel \\\n",
    "#     --length=10 \\\n",
    "#     --seed=3"
   ]
  },
  {
   "cell_type": "code",
   "execution_count": 41,
   "metadata": {},
   "outputs": [
    {
     "name": "stdout",
     "output_type": "stream",
     "text": [
      "There are 417 positive examples\n",
      "There are 3821 generated positive examples\n",
      "There are 2985 negative examples\n",
      "Training samples: 2985 positive, 2985 negative\n",
      "Vocabulary size is 22616\n",
      "Converted 16535 words (6081 misses)\n",
      "Epoch 1/5\n",
      " 41/187 [=====>........................] - ETA: 1:49 - loss: 0.6935 - accuracy: 0.5000"
     ]
    },
    {
     "ename": "KeyboardInterrupt",
     "evalue": "",
     "output_type": "error",
     "traceback": [
      "\u001b[0;31m---------------------------------------------------------------------------\u001b[0m",
      "\u001b[0;31mKeyboardInterrupt\u001b[0m                         Traceback (most recent call last)",
      "\u001b[0;32m/var/folders/rf/yj5w80g96pz9yc0hk_w7ccmr0000gn/T/ipykernel_19185/904864544.py\u001b[0m in \u001b[0;36m<module>\u001b[0;34m\u001b[0m\n\u001b[1;32m     77\u001b[0m \u001b[0mmodel\u001b[0m\u001b[0;34m.\u001b[0m\u001b[0mcompile\u001b[0m\u001b[0;34m(\u001b[0m\u001b[0mloss\u001b[0m\u001b[0;34m=\u001b[0m\u001b[0;34m'binary_crossentropy'\u001b[0m\u001b[0;34m,\u001b[0m \u001b[0moptimizer\u001b[0m\u001b[0;34m=\u001b[0m\u001b[0;34m'adam'\u001b[0m\u001b[0;34m,\u001b[0m \u001b[0mmetrics\u001b[0m\u001b[0;34m=\u001b[0m\u001b[0;34m[\u001b[0m\u001b[0;34m'accuracy'\u001b[0m\u001b[0;34m]\u001b[0m\u001b[0;34m)\u001b[0m\u001b[0;34m\u001b[0m\u001b[0;34m\u001b[0m\u001b[0m\n\u001b[1;32m     78\u001b[0m \u001b[0;34m\u001b[0m\u001b[0m\n\u001b[0;32m---> 79\u001b[0;31m \u001b[0mmodel\u001b[0m\u001b[0;34m.\u001b[0m\u001b[0mfit\u001b[0m\u001b[0;34m(\u001b[0m\u001b[0mhotel_X_train_ready\u001b[0m\u001b[0;34m,\u001b[0m \u001b[0mhotel_y_train_balanced\u001b[0m\u001b[0;34m,\u001b[0m \u001b[0mepochs\u001b[0m\u001b[0;34m=\u001b[0m\u001b[0;36m5\u001b[0m\u001b[0;34m)\u001b[0m\u001b[0;34m\u001b[0m\u001b[0;34m\u001b[0m\u001b[0m\n\u001b[0m\u001b[1;32m     80\u001b[0m \u001b[0;34m\u001b[0m\u001b[0m\n\u001b[1;32m     81\u001b[0m \u001b[0mmodel\u001b[0m\u001b[0;34m.\u001b[0m\u001b[0mevaluate\u001b[0m\u001b[0;34m(\u001b[0m\u001b[0mhotel_X_dev_ready\u001b[0m\u001b[0;34m,\u001b[0m \u001b[0mhotel_y_dev\u001b[0m\u001b[0;34m)\u001b[0m\u001b[0;34m\u001b[0m\u001b[0;34m\u001b[0m\u001b[0m\n",
      "\u001b[0;32m~/Documents/MIDS/W266/w266-final-project/venv/lib/python3.7/site-packages/keras/utils/traceback_utils.py\u001b[0m in \u001b[0;36merror_handler\u001b[0;34m(*args, **kwargs)\u001b[0m\n\u001b[1;32m     62\u001b[0m     \u001b[0mfiltered_tb\u001b[0m \u001b[0;34m=\u001b[0m \u001b[0;32mNone\u001b[0m\u001b[0;34m\u001b[0m\u001b[0;34m\u001b[0m\u001b[0m\n\u001b[1;32m     63\u001b[0m     \u001b[0;32mtry\u001b[0m\u001b[0;34m:\u001b[0m\u001b[0;34m\u001b[0m\u001b[0;34m\u001b[0m\u001b[0m\n\u001b[0;32m---> 64\u001b[0;31m       \u001b[0;32mreturn\u001b[0m \u001b[0mfn\u001b[0m\u001b[0;34m(\u001b[0m\u001b[0;34m*\u001b[0m\u001b[0margs\u001b[0m\u001b[0;34m,\u001b[0m \u001b[0;34m**\u001b[0m\u001b[0mkwargs\u001b[0m\u001b[0;34m)\u001b[0m\u001b[0;34m\u001b[0m\u001b[0;34m\u001b[0m\u001b[0m\n\u001b[0m\u001b[1;32m     65\u001b[0m     \u001b[0;32mexcept\u001b[0m \u001b[0mException\u001b[0m \u001b[0;32mas\u001b[0m \u001b[0me\u001b[0m\u001b[0;34m:\u001b[0m  \u001b[0;31m# pylint: disable=broad-except\u001b[0m\u001b[0;34m\u001b[0m\u001b[0;34m\u001b[0m\u001b[0m\n\u001b[1;32m     66\u001b[0m       \u001b[0mfiltered_tb\u001b[0m \u001b[0;34m=\u001b[0m \u001b[0m_process_traceback_frames\u001b[0m\u001b[0;34m(\u001b[0m\u001b[0me\u001b[0m\u001b[0;34m.\u001b[0m\u001b[0m__traceback__\u001b[0m\u001b[0;34m)\u001b[0m\u001b[0;34m\u001b[0m\u001b[0;34m\u001b[0m\u001b[0m\n",
      "\u001b[0;32m~/Documents/MIDS/W266/w266-final-project/venv/lib/python3.7/site-packages/keras/engine/training.py\u001b[0m in \u001b[0;36mfit\u001b[0;34m(self, x, y, batch_size, epochs, verbose, callbacks, validation_split, validation_data, shuffle, class_weight, sample_weight, initial_epoch, steps_per_epoch, validation_steps, validation_batch_size, validation_freq, max_queue_size, workers, use_multiprocessing)\u001b[0m\n\u001b[1;32m   1214\u001b[0m                 _r=1):\n\u001b[1;32m   1215\u001b[0m               \u001b[0mcallbacks\u001b[0m\u001b[0;34m.\u001b[0m\u001b[0mon_train_batch_begin\u001b[0m\u001b[0;34m(\u001b[0m\u001b[0mstep\u001b[0m\u001b[0;34m)\u001b[0m\u001b[0;34m\u001b[0m\u001b[0;34m\u001b[0m\u001b[0m\n\u001b[0;32m-> 1216\u001b[0;31m               \u001b[0mtmp_logs\u001b[0m \u001b[0;34m=\u001b[0m \u001b[0mself\u001b[0m\u001b[0;34m.\u001b[0m\u001b[0mtrain_function\u001b[0m\u001b[0;34m(\u001b[0m\u001b[0miterator\u001b[0m\u001b[0;34m)\u001b[0m\u001b[0;34m\u001b[0m\u001b[0;34m\u001b[0m\u001b[0m\n\u001b[0m\u001b[1;32m   1217\u001b[0m               \u001b[0;32mif\u001b[0m \u001b[0mdata_handler\u001b[0m\u001b[0;34m.\u001b[0m\u001b[0mshould_sync\u001b[0m\u001b[0;34m:\u001b[0m\u001b[0;34m\u001b[0m\u001b[0;34m\u001b[0m\u001b[0m\n\u001b[1;32m   1218\u001b[0m                 \u001b[0mcontext\u001b[0m\u001b[0;34m.\u001b[0m\u001b[0masync_wait\u001b[0m\u001b[0;34m(\u001b[0m\u001b[0;34m)\u001b[0m\u001b[0;34m\u001b[0m\u001b[0;34m\u001b[0m\u001b[0m\n",
      "\u001b[0;32m~/Documents/MIDS/W266/w266-final-project/venv/lib/python3.7/site-packages/tensorflow/python/util/traceback_utils.py\u001b[0m in \u001b[0;36merror_handler\u001b[0;34m(*args, **kwargs)\u001b[0m\n\u001b[1;32m    148\u001b[0m     \u001b[0mfiltered_tb\u001b[0m \u001b[0;34m=\u001b[0m \u001b[0;32mNone\u001b[0m\u001b[0;34m\u001b[0m\u001b[0;34m\u001b[0m\u001b[0m\n\u001b[1;32m    149\u001b[0m     \u001b[0;32mtry\u001b[0m\u001b[0;34m:\u001b[0m\u001b[0;34m\u001b[0m\u001b[0;34m\u001b[0m\u001b[0m\n\u001b[0;32m--> 150\u001b[0;31m       \u001b[0;32mreturn\u001b[0m \u001b[0mfn\u001b[0m\u001b[0;34m(\u001b[0m\u001b[0;34m*\u001b[0m\u001b[0margs\u001b[0m\u001b[0;34m,\u001b[0m \u001b[0;34m**\u001b[0m\u001b[0mkwargs\u001b[0m\u001b[0;34m)\u001b[0m\u001b[0;34m\u001b[0m\u001b[0;34m\u001b[0m\u001b[0m\n\u001b[0m\u001b[1;32m    151\u001b[0m     \u001b[0;32mexcept\u001b[0m \u001b[0mException\u001b[0m \u001b[0;32mas\u001b[0m \u001b[0me\u001b[0m\u001b[0;34m:\u001b[0m\u001b[0;34m\u001b[0m\u001b[0;34m\u001b[0m\u001b[0m\n\u001b[1;32m    152\u001b[0m       \u001b[0mfiltered_tb\u001b[0m \u001b[0;34m=\u001b[0m \u001b[0m_process_traceback_frames\u001b[0m\u001b[0;34m(\u001b[0m\u001b[0me\u001b[0m\u001b[0;34m.\u001b[0m\u001b[0m__traceback__\u001b[0m\u001b[0;34m)\u001b[0m\u001b[0;34m\u001b[0m\u001b[0;34m\u001b[0m\u001b[0m\n",
      "\u001b[0;32m~/Documents/MIDS/W266/w266-final-project/venv/lib/python3.7/site-packages/tensorflow/python/eager/def_function.py\u001b[0m in \u001b[0;36m__call__\u001b[0;34m(self, *args, **kwds)\u001b[0m\n\u001b[1;32m    908\u001b[0m \u001b[0;34m\u001b[0m\u001b[0m\n\u001b[1;32m    909\u001b[0m       \u001b[0;32mwith\u001b[0m \u001b[0mOptionalXlaContext\u001b[0m\u001b[0;34m(\u001b[0m\u001b[0mself\u001b[0m\u001b[0;34m.\u001b[0m\u001b[0m_jit_compile\u001b[0m\u001b[0;34m)\u001b[0m\u001b[0;34m:\u001b[0m\u001b[0;34m\u001b[0m\u001b[0;34m\u001b[0m\u001b[0m\n\u001b[0;32m--> 910\u001b[0;31m         \u001b[0mresult\u001b[0m \u001b[0;34m=\u001b[0m \u001b[0mself\u001b[0m\u001b[0;34m.\u001b[0m\u001b[0m_call\u001b[0m\u001b[0;34m(\u001b[0m\u001b[0;34m*\u001b[0m\u001b[0margs\u001b[0m\u001b[0;34m,\u001b[0m \u001b[0;34m**\u001b[0m\u001b[0mkwds\u001b[0m\u001b[0;34m)\u001b[0m\u001b[0;34m\u001b[0m\u001b[0;34m\u001b[0m\u001b[0m\n\u001b[0m\u001b[1;32m    911\u001b[0m \u001b[0;34m\u001b[0m\u001b[0m\n\u001b[1;32m    912\u001b[0m       \u001b[0mnew_tracing_count\u001b[0m \u001b[0;34m=\u001b[0m \u001b[0mself\u001b[0m\u001b[0;34m.\u001b[0m\u001b[0mexperimental_get_tracing_count\u001b[0m\u001b[0;34m(\u001b[0m\u001b[0;34m)\u001b[0m\u001b[0;34m\u001b[0m\u001b[0;34m\u001b[0m\u001b[0m\n",
      "\u001b[0;32m~/Documents/MIDS/W266/w266-final-project/venv/lib/python3.7/site-packages/tensorflow/python/eager/def_function.py\u001b[0m in \u001b[0;36m_call\u001b[0;34m(self, *args, **kwds)\u001b[0m\n\u001b[1;32m    940\u001b[0m       \u001b[0;31m# In this case we have created variables on the first call, so we run the\u001b[0m\u001b[0;34m\u001b[0m\u001b[0;34m\u001b[0m\u001b[0;34m\u001b[0m\u001b[0m\n\u001b[1;32m    941\u001b[0m       \u001b[0;31m# defunned version which is guaranteed to never create variables.\u001b[0m\u001b[0;34m\u001b[0m\u001b[0;34m\u001b[0m\u001b[0;34m\u001b[0m\u001b[0m\n\u001b[0;32m--> 942\u001b[0;31m       \u001b[0;32mreturn\u001b[0m \u001b[0mself\u001b[0m\u001b[0;34m.\u001b[0m\u001b[0m_stateless_fn\u001b[0m\u001b[0;34m(\u001b[0m\u001b[0;34m*\u001b[0m\u001b[0margs\u001b[0m\u001b[0;34m,\u001b[0m \u001b[0;34m**\u001b[0m\u001b[0mkwds\u001b[0m\u001b[0;34m)\u001b[0m  \u001b[0;31m# pylint: disable=not-callable\u001b[0m\u001b[0;34m\u001b[0m\u001b[0;34m\u001b[0m\u001b[0m\n\u001b[0m\u001b[1;32m    943\u001b[0m     \u001b[0;32melif\u001b[0m \u001b[0mself\u001b[0m\u001b[0;34m.\u001b[0m\u001b[0m_stateful_fn\u001b[0m \u001b[0;32mis\u001b[0m \u001b[0;32mnot\u001b[0m \u001b[0;32mNone\u001b[0m\u001b[0;34m:\u001b[0m\u001b[0;34m\u001b[0m\u001b[0;34m\u001b[0m\u001b[0m\n\u001b[1;32m    944\u001b[0m       \u001b[0;31m# Release the lock early so that multiple threads can perform the call\u001b[0m\u001b[0;34m\u001b[0m\u001b[0;34m\u001b[0m\u001b[0;34m\u001b[0m\u001b[0m\n",
      "\u001b[0;32m~/Documents/MIDS/W266/w266-final-project/venv/lib/python3.7/site-packages/tensorflow/python/eager/function.py\u001b[0m in \u001b[0;36m__call__\u001b[0;34m(self, *args, **kwargs)\u001b[0m\n\u001b[1;32m   3129\u001b[0m        filtered_flat_args) = self._maybe_define_function(args, kwargs)\n\u001b[1;32m   3130\u001b[0m     return graph_function._call_flat(\n\u001b[0;32m-> 3131\u001b[0;31m         filtered_flat_args, captured_inputs=graph_function.captured_inputs)  # pylint: disable=protected-access\n\u001b[0m\u001b[1;32m   3132\u001b[0m \u001b[0;34m\u001b[0m\u001b[0m\n\u001b[1;32m   3133\u001b[0m   \u001b[0;34m@\u001b[0m\u001b[0mproperty\u001b[0m\u001b[0;34m\u001b[0m\u001b[0;34m\u001b[0m\u001b[0m\n",
      "\u001b[0;32m~/Documents/MIDS/W266/w266-final-project/venv/lib/python3.7/site-packages/tensorflow/python/eager/function.py\u001b[0m in \u001b[0;36m_call_flat\u001b[0;34m(self, args, captured_inputs, cancellation_manager)\u001b[0m\n\u001b[1;32m   1958\u001b[0m       \u001b[0;31m# No tape is watching; skip to running the function.\u001b[0m\u001b[0;34m\u001b[0m\u001b[0;34m\u001b[0m\u001b[0;34m\u001b[0m\u001b[0m\n\u001b[1;32m   1959\u001b[0m       return self._build_call_outputs(self._inference_function.call(\n\u001b[0;32m-> 1960\u001b[0;31m           ctx, args, cancellation_manager=cancellation_manager))\n\u001b[0m\u001b[1;32m   1961\u001b[0m     forward_backward = self._select_forward_and_backward_functions(\n\u001b[1;32m   1962\u001b[0m         \u001b[0margs\u001b[0m\u001b[0;34m,\u001b[0m\u001b[0;34m\u001b[0m\u001b[0;34m\u001b[0m\u001b[0m\n",
      "\u001b[0;32m~/Documents/MIDS/W266/w266-final-project/venv/lib/python3.7/site-packages/tensorflow/python/eager/function.py\u001b[0m in \u001b[0;36mcall\u001b[0;34m(self, ctx, args, cancellation_manager)\u001b[0m\n\u001b[1;32m    601\u001b[0m               \u001b[0minputs\u001b[0m\u001b[0;34m=\u001b[0m\u001b[0margs\u001b[0m\u001b[0;34m,\u001b[0m\u001b[0;34m\u001b[0m\u001b[0;34m\u001b[0m\u001b[0m\n\u001b[1;32m    602\u001b[0m               \u001b[0mattrs\u001b[0m\u001b[0;34m=\u001b[0m\u001b[0mattrs\u001b[0m\u001b[0;34m,\u001b[0m\u001b[0;34m\u001b[0m\u001b[0;34m\u001b[0m\u001b[0m\n\u001b[0;32m--> 603\u001b[0;31m               ctx=ctx)\n\u001b[0m\u001b[1;32m    604\u001b[0m         \u001b[0;32melse\u001b[0m\u001b[0;34m:\u001b[0m\u001b[0;34m\u001b[0m\u001b[0;34m\u001b[0m\u001b[0m\n\u001b[1;32m    605\u001b[0m           outputs = execute.execute_with_cancellation(\n",
      "\u001b[0;32m~/Documents/MIDS/W266/w266-final-project/venv/lib/python3.7/site-packages/tensorflow/python/eager/execute.py\u001b[0m in \u001b[0;36mquick_execute\u001b[0;34m(op_name, num_outputs, inputs, attrs, ctx, name)\u001b[0m\n\u001b[1;32m     57\u001b[0m     \u001b[0mctx\u001b[0m\u001b[0;34m.\u001b[0m\u001b[0mensure_initialized\u001b[0m\u001b[0;34m(\u001b[0m\u001b[0;34m)\u001b[0m\u001b[0;34m\u001b[0m\u001b[0;34m\u001b[0m\u001b[0m\n\u001b[1;32m     58\u001b[0m     tensors = pywrap_tfe.TFE_Py_Execute(ctx._handle, device_name, op_name,\n\u001b[0;32m---> 59\u001b[0;31m                                         inputs, attrs, num_outputs)\n\u001b[0m\u001b[1;32m     60\u001b[0m   \u001b[0;32mexcept\u001b[0m \u001b[0mcore\u001b[0m\u001b[0;34m.\u001b[0m\u001b[0m_NotOkStatusException\u001b[0m \u001b[0;32mas\u001b[0m \u001b[0me\u001b[0m\u001b[0;34m:\u001b[0m\u001b[0;34m\u001b[0m\u001b[0;34m\u001b[0m\u001b[0m\n\u001b[1;32m     61\u001b[0m     \u001b[0;32mif\u001b[0m \u001b[0mname\u001b[0m \u001b[0;32mis\u001b[0m \u001b[0;32mnot\u001b[0m \u001b[0;32mNone\u001b[0m\u001b[0;34m:\u001b[0m\u001b[0;34m\u001b[0m\u001b[0;34m\u001b[0m\u001b[0m\n",
      "\u001b[0;31mKeyboardInterrupt\u001b[0m: "
     ]
    }
   ],
   "source": [
    "# Load in previous generated fake reviews\n",
    "with open('generated_hotel_fake.txt') as f:\n",
    "    lines = f.read().splitlines()\n",
    "    hotel_X_train_positive_generated = pd.DataFrame({'reviewContent':lines, 'flagged': 'Y'})\n",
    "\n",
    "\n",
    "# Add generated fake reviews into the training set\n",
    "hotel_X_train_positive = hotel_X_train[hotel_X_train['flagged'] == 'Y']\n",
    "hotel_X_train_negative = hotel_X_train[hotel_X_train['flagged'] == 'N']\n",
    "\n",
    "print(f'There are {len(hotel_X_train_positive)} positive examples')\n",
    "print(f'There are {len(hotel_X_train_positive_generated)} generated positive examples')\n",
    "print(f'There are {len(hotel_X_train_negative)} negative examples')\n",
    "\n",
    "num_positive_needed = len(hotel_X_train_negative) - len(hotel_X_train_positive)\n",
    "hotel_X_train_positive_generated_sampled = hotel_X_train_positive_generated.sample(n=num_positive_needed)\n",
    "hotel_X_train_all_positive = pd.concat([hotel_X_train_positive, hotel_X_train_positive_generated_sampled], ignore_index=True)\n",
    "hotel_X_train_balanced = pd.concat([hotel_X_train_all_positive, hotel_X_train_negative], ignore_index=True).sample(frac=1)\n",
    "hotel_y_train_balanced = hotel_X_train_balanced['flagged'] == 'Y'\n",
    "\n",
    "print(f\"Training samples: {sum(hotel_X_train_balanced['flagged'] == 'Y')} positive, {sum(hotel_X_train_balanced['flagged'] == 'N')} negative\")\n",
    "\n",
    "# First layer, vectorizing the word input\n",
    "vocabulary_size = 15000\n",
    "max_sequence_length = 150\n",
    "\n",
    "vectorizer = TextVectorization()#(max_tokens=vocabulary_size, output_sequence_length=max_sequence_length)\n",
    "vectorizer.adapt(hotel_X_train_balanced['reviewContent'].to_numpy())\n",
    "\n",
    "voc = vectorizer.get_vocabulary()\n",
    "word_index = dict(zip(voc, range(len(voc))))\n",
    "\n",
    "print(f\"Vocabulary size is {len(voc)}\")\n",
    "\n",
    "\n",
    "# Building the embedding layer\n",
    "# Ref: https://keras.io/examples/nlp/pretrained_word_embeddings/\n",
    "# Build + Lock in the Embedding layer from GloVe\n",
    "embedding_dim = 100\n",
    "hits = 0\n",
    "misses = 0\n",
    "num_words = len(voc) + 2\n",
    "\n",
    "# Prepare embedding matrix\n",
    "# TODO: more pre-processing to avoid ~3000 words that don't have embeddings\n",
    "embedding_matrix = np.zeros((num_words, embedding_dim))\n",
    "for i, word in enumerate(voc):\n",
    "    embedding_vector = embeddings_index.get(word)\n",
    "    if embedding_vector is not None:\n",
    "        # Words not found in embedding index will be all-zeros.\n",
    "        # This includes the representation for \"padding\" and \"OOV\"\n",
    "        embedding_matrix[i] = embedding_vector\n",
    "        hits += 1\n",
    "    else:\n",
    "        misses += 1\n",
    "print(\"Converted %d words (%d misses)\" % (hits, misses))\n",
    "\n",
    "\n",
    "embedding_layer = Embedding(\n",
    "    num_words,\n",
    "    embedding_dim,\n",
    "    embeddings_initializer=tf.keras.initializers.Constant(embedding_matrix),\n",
    "    trainable=False,\n",
    ")\n",
    "\n",
    "\n",
    "# Vectorize the input\n",
    "hotel_X_train_ready = vectorizer(hotel_X_train_balanced['reviewContent']).numpy()\n",
    "hotel_X_dev_ready = vectorizer(hotel_X_dev['reviewContent']).numpy()\n",
    "\n",
    "\n",
    "# Build and train the model with \n",
    "model = Sequential()\n",
    "model.add(embedding_layer)\n",
    "model.add(LSTM(64, dropout=0.3, recurrent_dropout=0.3))\n",
    "model.add(Dense(1, activation='sigmoid'))\n",
    "model.compile(loss='binary_crossentropy', optimizer='adam', metrics=['accuracy'])\n",
    "\n",
    "model.fit(hotel_X_train_ready, hotel_y_train_balanced, epochs=5)\n",
    "\n",
    "model.evaluate(hotel_X_dev_ready, hotel_y_dev)\n",
    "hotel_y_predicted = model.predict(hotel_X_dev_ready)\n",
    "print(classification_report(hotel_y_predicted > 0.5, hotel_y_dev))\n",
    "hotel_X_dev['flagged'].value_counts() / len(hotel_X_dev)\n"
   ]
  },
  {
   "cell_type": "code",
   "execution_count": 32,
   "metadata": {},
   "outputs": [
    {
     "name": "stdout",
     "output_type": "stream",
     "text": [
      "There are 416 positive examples\n",
      "There are 3821 generated positive examples\n",
      "There are 2986 negative examples\n",
      "Training samples: 4237 positive, 2986 negative\n",
      "Model: \"model_5\"\n",
      "__________________________________________________________________________________________________\n",
      " Layer (type)                   Output Shape         Param #     Connected to                     \n",
      "==================================================================================================\n",
      " input_4 (InputLayer)           [(None,)]            0           []                               \n",
      "                                                                                                  \n",
      " keras_layer_12 (KerasLayer)    {'input_mask': (Non  0           ['input_4[0][0]']                \n",
      "                                e, 128),                                                          \n",
      "                                 'input_word_ids':                                                \n",
      "                                (None, 128),                                                      \n",
      "                                 'input_type_ids':                                                \n",
      "                                (None, 128)}                                                      \n",
      "                                                                                                  \n",
      " keras_layer_13 (KerasLayer)    {'sequence_output':  9591041     ['keras_layer_12[0][0]',         \n",
      "                                 (None, 128, 256),                'keras_layer_12[0][1]',         \n",
      "                                 'pooled_output': (               'keras_layer_12[0][2]']         \n",
      "                                None, 256),                                                       \n",
      "                                 'encoder_outputs':                                               \n",
      "                                 [(None, 128, 256),                                               \n",
      "                                 (None, 128, 256)],                                               \n",
      "                                 'default': (None,                                                \n",
      "                                256)}                                                             \n",
      "                                                                                                  \n",
      " dropout_5 (Dropout)            (None, 256)          0           ['keras_layer_13[0][3]']         \n",
      "                                                                                                  \n",
      " classifier (Dense)             (None, 1)            257         ['dropout_5[0][0]']              \n",
      "                                                                                                  \n",
      "==================================================================================================\n",
      "Total params: 9,591,298\n",
      "Trainable params: 9,591,297\n",
      "Non-trainable params: 1\n",
      "__________________________________________________________________________________________________\n"
     ]
    }
   ],
   "source": [
    "# This is training BERT. BERT has its own preprocessing layer\n",
    "import tensorflow_text as text  # Registers the ops.\n",
    "\n",
    "\n",
    "# Load in previous generated fake reviews\n",
    "with open('generated_hotel_fake.txt') as f:\n",
    "    lines = f.read().splitlines()\n",
    "    hotel_X_train_positive_generated = pd.DataFrame({'reviewContent':lines, 'flagged': 'Y'})\n",
    "\n",
    "\n",
    "# Add generated fake reviews into the training set\n",
    "hotel_X_train_positive = hotel_X_train[hotel_X_train['flagged'] == 'Y']\n",
    "hotel_X_train_negative = hotel_X_train[hotel_X_train['flagged'] == 'N']\n",
    "\n",
    "print(f'There are {len(hotel_X_train_positive)} positive examples')\n",
    "print(f'There are {len(hotel_X_train_positive_generated)} generated positive examples')\n",
    "print(f'There are {len(hotel_X_train_negative)} negative examples')\n",
    "\n",
    "hotel_X_train_all_positive = pd.concat([hotel_X_train_positive, hotel_X_train_positive_generated], ignore_index=True)\n",
    "hotel_X_train_more_positive = pd.concat([hotel_X_train_all_positive, hotel_X_train_negative], ignore_index=True).sample(frac=1)\n",
    "hotel_y_train_more_positive = hotel_X_train_balanced['flagged'] == 'Y'\n",
    "\n",
    "print(f\"Training samples: {sum(hotel_X_train_more_positive['flagged'] == 'Y')} positive, {sum(hotel_X_train_more_positive['flagged'] == 'N')} negative\")\n",
    "\n",
    "\n",
    "def build_classifier_model():\n",
    "    text_input = tf.keras.layers.Input(shape=(), dtype=tf.string)\n",
    "    preprocessor = hub.KerasLayer(\"https://tfhub.dev/tensorflow/bert_en_uncased_preprocess/3\")\n",
    "    encoder_inputs = preprocessor(text_input)\n",
    "    encoder = hub.KerasLayer(\"https://tfhub.dev/tensorflow/small_bert/bert_en_uncased_L-2_H-256_A-4/2\", trainable=True)\n",
    "    outputs = encoder(encoder_inputs)\n",
    "\n",
    "    net = outputs['pooled_output']\n",
    "    net = tf.keras.layers.Dropout(0.2)(net)\n",
    "    net = tf.keras.layers.Dense(1, activation='sigmoid', name='classifier')(net)\n",
    "    return tf.keras.Model(text_input, net)\n",
    "\n",
    "classifier_model = build_classifier_model()\n",
    "classifier_model.compile(loss='binary_crossentropy', optimizer='adam', metrics=['accuracy'])\n",
    "\n",
    "\n",
    "classifier_model.summary()\n"
   ]
  },
  {
   "cell_type": "code",
   "execution_count": 35,
   "metadata": {},
   "outputs": [
    {
     "name": "stdout",
     "output_type": "stream",
     "text": [
      "Epoch 1/4\n",
      "187/187 [==============================] - 120s 641ms/step - loss: 0.3105 - accuracy: 0.8716\n",
      "Epoch 2/4\n",
      "187/187 [==============================] - 117s 624ms/step - loss: 0.2926 - accuracy: 0.8826\n",
      "Epoch 3/4\n",
      "187/187 [==============================] - 128s 684ms/step - loss: 0.2681 - accuracy: 0.8922\n",
      "Epoch 4/4\n",
      "187/187 [==============================] - 128s 682ms/step - loss: 0.2795 - accuracy: 0.8876\n",
      "36/36 [==============================] - 8s 209ms/step - loss: 0.5909 - accuracy: 0.7275\n"
     ]
    },
    {
     "data": {
      "text/plain": [
       "[0.5908752083778381, 0.7275132536888123]"
      ]
     },
     "execution_count": 35,
     "metadata": {},
     "output_type": "execute_result"
    }
   ],
   "source": [
    "# Seems to take ~1h per epoch :o\n",
    "classifier_model.fit(hotel_X_train_balanced['reviewContent'], hotel_y_train_balanced, epochs=4)\n",
    "\n",
    "classifier_model.evaluate(hotel_X_dev['reviewContent'], hotel_y_dev)"
   ]
  },
  {
   "cell_type": "code",
   "execution_count": 36,
   "metadata": {},
   "outputs": [
    {
     "name": "stdout",
     "output_type": "stream",
     "text": [
      "              precision    recall  f1-score   support\n",
      "\n",
      "       False       0.78      0.89      0.83       866\n",
      "        True       0.36      0.19      0.25       268\n",
      "\n",
      "    accuracy                           0.73      1134\n",
      "   macro avg       0.57      0.54      0.54      1134\n",
      "weighted avg       0.68      0.73      0.70      1134\n",
      "\n"
     ]
    },
    {
     "data": {
      "text/plain": [
       "N    0.872134\n",
       "Y    0.127866\n",
       "Name: flagged, dtype: float64"
      ]
     },
     "execution_count": 36,
     "metadata": {},
     "output_type": "execute_result"
    }
   ],
   "source": [
    "hotel_y_predicted = classifier_model.predict(hotel_X_dev['reviewContent'])\n",
    "print(classification_report(hotel_y_predicted > 0.5, hotel_y_dev))\n",
    "hotel_X_dev['flagged'].value_counts() / len(hotel_X_dev)\n"
   ]
  },
  {
   "cell_type": "code",
   "execution_count": 37,
   "metadata": {},
   "outputs": [
    {
     "name": "stdout",
     "output_type": "stream",
     "text": [
      "              precision    recall  f1-score   support\n",
      "\n",
      "       False       0.78      0.87      0.82       988\n",
      "        True       0.41      0.27      0.32       334\n",
      "\n",
      "    accuracy                           0.72      1322\n",
      "   macro avg       0.59      0.57      0.57      1322\n",
      "weighted avg       0.68      0.72      0.69      1322\n",
      "\n"
     ]
    },
    {
     "data": {
      "text/plain": [
       "N    0.834342\n",
       "Y    0.165658\n",
       "Name: flagged, dtype: float64"
      ]
     },
     "execution_count": 37,
     "metadata": {},
     "output_type": "execute_result"
    }
   ],
   "source": [
    "hotel_y_predicted = classifier_model.predict(hotel_X_test['reviewContent'])\n",
    "print(classification_report(hotel_y_predicted > 0.5, hotel_y_test))\n",
    "hotel_X_test['flagged'].value_counts() / len(hotel_X_test)\n"
   ]
  },
  {
   "cell_type": "markdown",
   "metadata": {},
   "source": [
    "# ELMo"
   ]
  },
  {
   "cell_type": "code",
   "execution_count": 120,
   "metadata": {},
   "outputs": [
    {
     "data": {
      "text/plain": [
       "5231     True\n",
       "5542    False\n",
       "653     False\n",
       "4621    False\n",
       "2494    False\n",
       "        ...  \n",
       "2660    False\n",
       "4643    False\n",
       "1624    False\n",
       "2822    False\n",
       "239     False\n",
       "Name: flagged, Length: 3402, dtype: bool"
      ]
     },
     "execution_count": 120,
     "metadata": {},
     "output_type": "execute_result"
    }
   ],
   "source": [
    "hotel_y_train"
   ]
  },
  {
   "cell_type": "code",
   "execution_count": 124,
   "metadata": {},
   "outputs": [
    {
     "name": "stdout",
     "output_type": "stream",
     "text": [
      "INFO:tensorflow:Saver not created because there are no variables in the graph to restore\n"
     ]
    },
    {
     "name": "stderr",
     "output_type": "stream",
     "text": [
      "INFO:tensorflow:Saver not created because there are no variables in the graph to restore\n"
     ]
    },
    {
     "name": "stdout",
     "output_type": "stream",
     "text": [
      "Train on 3402 samples\n",
      "Epoch 1/3\n",
      "3402/3402 [==============================] - 1819s 535ms/sample - loss: 0.3810 - accuracy: 0.8707\n",
      "Epoch 2/3\n",
      "3402/3402 [==============================] - 1664s 489ms/sample - loss: 0.3546 - accuracy: 0.8718\n",
      "Epoch 3/3\n",
      "3402/3402 [==============================] - 1698s 499ms/sample - loss: 0.3489 - accuracy: 0.8739\n"
     ]
    }
   ],
   "source": [
    "tf1.disable_eager_execution()\n",
    "\n",
    "def encode(le, labels):\n",
    "    enc = le.transform(labels)\n",
    "    return keras.utils.to_categorical(enc)\n",
    "\n",
    "def decode(le, one_hot):\n",
    "    dec = np.argmax(one_hot, axis=1)\n",
    "    return le.inverse_transform(dec)\n",
    "\n",
    "def ELMoEmbedding(x):\n",
    "    return embed(tf.squeeze(tf.cast(x, tf.string)), signature=\"default\", as_dict=True)[\"default\"]\n",
    "\n",
    "embed = hub.Module(\"https://tfhub.dev/google/elmo/3\")\n",
    "\n",
    "y = list(hotel_y_train)\n",
    "x = list(hotel_X_train['reviewContent'])\n",
    "le = preprocessing.LabelEncoder()\n",
    "le.fit(y)\n",
    "x_enc = x\n",
    "y_enc = encode(le, y)\n",
    "\n",
    "x_train = np.asarray(x_enc[:3402])\n",
    "y_train = np.asarray(y_enc[:3402])\n",
    "\n",
    "input_text = Input(shape=(1,), dtype=tf.string)\n",
    "embedding = Lambda(ELMoEmbedding, output_shape=(1024, ))(input_text)\n",
    "dense = Dense(256, activation='relu')(embedding)\n",
    "pred = Dense(2, activation='softmax')(dense)\n",
    "model = Model(inputs=[input_text], outputs=pred)\n",
    "model.compile(loss='categorical_crossentropy', optimizer='adam', metrics=['accuracy'])\n",
    "\n",
    "with tf1.Session() as session:\n",
    "    K.set_session(session)\n",
    "    session.run(tf1.global_variables_initializer())\n",
    "    #session.run(tf1.tables_initializer())\n",
    "    history = model.fit(x_train, y_train, epochs=3, batch_size=32)\n",
    "    model.save_weights('./elmo-hotel-model.h5')"
   ]
  },
  {
   "cell_type": "code",
   "execution_count": 125,
   "metadata": {},
   "outputs": [
    {
     "name": "stderr",
     "output_type": "stream",
     "text": [
      "/opt/anaconda3/lib/python3.8/site-packages/keras/engine/training_v1.py:2079: UserWarning: `Model.state_updates` will be removed in a future version. This property should not be used in TensorFlow 2.0, as `updates` are applied automatically.\n",
      "  updates=self.state_updates,\n"
     ]
    },
    {
     "name": "stdout",
     "output_type": "stream",
     "text": [
      "              precision    recall  f1-score   support\n",
      "\n",
      "       False       0.90      0.98      0.94      1010\n",
      "        True       0.43      0.15      0.23       124\n",
      "\n",
      "    accuracy                           0.89      1134\n",
      "   macro avg       0.67      0.56      0.58      1134\n",
      "weighted avg       0.85      0.89      0.86      1134\n",
      "\n"
     ]
    }
   ],
   "source": [
    "x_dev = np.asarray(list(hotel_X_dev['reviewContent'])[:1134])\n",
    "y_dev_raw = np.asarray(encode(le, list(hotel_y_dev))[:1134]) \n",
    "\n",
    "with tf1.Session() as session:\n",
    "    K.set_session(session)\n",
    "    session.run(tf1.global_variables_initializer())\n",
    "    #session.run(tf1.tables_initializer())\n",
    "    model.load_weights('./elmo-hotel-model.h5')\n",
    "    predicts = model.predict(x_dev, batch_size=32)\n",
    "\n",
    "y_dev = decode(le, y_dev_raw)\n",
    "y_preds = decode(le, predicts)\n",
    "\n",
    "metrics.confusion_matrix(y_dev, y_preds)\n",
    "print(metrics.classification_report(y_dev, y_preds))"
   ]
  },
  {
   "cell_type": "code",
   "execution_count": 128,
   "metadata": {},
   "outputs": [
    {
     "name": "stdout",
     "output_type": "stream",
     "text": [
      "              precision    recall  f1-score   support\n",
      "\n",
      "       False       0.85      0.96      0.90      1103\n",
      "        True       0.43      0.14      0.21       219\n",
      "\n",
      "    accuracy                           0.83      1322\n",
      "   macro avg       0.64      0.55      0.56      1322\n",
      "weighted avg       0.78      0.83      0.79      1322\n",
      "\n"
     ]
    }
   ],
   "source": [
    "x_test = np.asarray(list(hotel_X_test['reviewContent'])[:1322])\n",
    "y_test_raw = np.asarray(encode(le, list(hotel_y_test))[:1322]) \n",
    "\n",
    "with tf1.Session() as session:\n",
    "    K.set_session(session)\n",
    "    session.run(tf1.global_variables_initializer())\n",
    "    #session.run(tf1.tables_initializer())\n",
    "    model.load_weights('./elmo-hotel-model.h5')\n",
    "    predicts = model.predict(x_test, batch_size=32)\n",
    "\n",
    "y_test = decode(le, y_test_raw)\n",
    "y_preds = decode(le, predicts)\n",
    "\n",
    "metrics.confusion_matrix(y_test, y_preds)\n",
    "print(metrics.classification_report(y_test, y_preds))"
   ]
  },
  {
   "cell_type": "markdown",
   "metadata": {},
   "source": [
    "# "
   ]
  }
 ],
 "metadata": {
  "anaconda-cloud": {},
  "kernelspec": {
   "display_name": "Python 3 (ipykernel)",
   "language": "python",
   "name": "python3"
  },
  "language_info": {
   "codemirror_mode": {
    "name": "ipython",
    "version": 3
   },
   "file_extension": ".py",
   "mimetype": "text/x-python",
   "name": "python",
   "nbconvert_exporter": "python",
   "pygments_lexer": "ipython3",
   "version": "3.7.9"
  }
 },
 "nbformat": 4,
 "nbformat_minor": 1
}
