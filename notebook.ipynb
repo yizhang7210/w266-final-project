{
 "cells": [
  {
   "cell_type": "markdown",
   "metadata": {},
   "source": [
    "# W266 Final Project\n",
    "\n",
    "Authors: Satheesh Joseph, Catherine Mou, Yi Zhang"
   ]
  },
  {
   "cell_type": "markdown",
   "metadata": {},
   "source": [
    "*TODO*\n",
    "\n",
    "- Introduction\n",
    "- Literature review"
   ]
  },
  {
   "cell_type": "markdown",
   "metadata": {},
   "source": [
    "## Downloading and loading the data\n",
    "\n",
    "We acquired the dataset from the researchers in the form of Sqlite `.db` files."
   ]
  },
  {
   "cell_type": "code",
   "execution_count": 1,
   "metadata": {},
   "outputs": [],
   "source": [
    "import os, sys, re, json, time, unittest\n",
    "import itertools, collections\n",
    "from importlib import reload\n",
    "from sklearn.model_selection import train_test_split\n",
    "import matplotlib.pyplot as plt\n",
    "import datetime\n",
    "\n",
    "import numpy as np\n",
    "from scipy import stats\n",
    "import pandas as pd\n",
    "import sqlite3\n",
    "import unicodedata\n",
    "import nltk\n",
    "\n",
    "import tensorflow as tf\n",
    "from sklearn.metrics import classification_report"
   ]
  },
  {
   "cell_type": "code",
   "execution_count": 2,
   "metadata": {},
   "outputs": [],
   "source": [
    "from tensorflow.keras.preprocessing.text import Tokenizer\n",
    "from tensorflow.keras.preprocessing.sequence import pad_sequences\n",
    "from tensorflow.keras.models import Sequential\n",
    "from tensorflow.keras.layers import Dense, Input, Flatten, LSTM, Conv1D, MaxPooling1D, Dropout, Activation, Embedding\n",
    "from tensorflow.keras.layers.experimental.preprocessing import TextVectorization"
   ]
  },
  {
   "cell_type": "code",
   "execution_count": 3,
   "metadata": {},
   "outputs": [
    {
     "name": "stdout",
     "output_type": "stream",
     "text": [
      "Already downloaded data\n"
     ]
    }
   ],
   "source": [
    "# Download the files if they're not here\n",
    "if 'data' not in os.listdir('.') or not os.listdir('data'):\n",
    "    os.system('wget https://storage.googleapis.com/mids-w266-final-project-data/yelpHotelData.db -P data/')\n",
    "    os.system('wget https://storage.googleapis.com/mids-w266-final-project-data/yelpResData.db -P data/')\n",
    "    print('Data downloaded successfully!')\n",
    "else:\n",
    "    print('Already downloaded data')"
   ]
  },
  {
   "cell_type": "code",
   "execution_count": 4,
   "metadata": {},
   "outputs": [
    {
     "name": "stdout",
     "output_type": "stream",
     "text": [
      "[('review',), ('restaurant',), ('reviewer',)]\n",
      "[('review',), ('sqlite_stat1',), ('sqlite_stat2',), ('reviewer',), ('hotel',)]\n"
     ]
    }
   ],
   "source": [
    "con = sqlite3.connect('data/yelpResData.db')\n",
    "cursor = con.cursor()\n",
    "cursor.execute(\"SELECT name FROM sqlite_master WHERE type='table';\")\n",
    "print(cursor.fetchall())\n",
    "\n",
    "con = sqlite3.connect('data/yelpHotelData.db')\n",
    "cursor = con.cursor()\n",
    "cursor.execute(\"SELECT name FROM sqlite_master WHERE type='table';\")\n",
    "print(cursor.fetchall())"
   ]
  },
  {
   "cell_type": "code",
   "execution_count": 5,
   "metadata": {},
   "outputs": [
    {
     "name": "stdout",
     "output_type": "stream",
     "text": [
      "The data set contains 283086 hotels, 5858 reviews, and 5123 reviewers\n"
     ]
    }
   ],
   "source": [
    "# Reading from the hotels database\n",
    "hotels_db = sqlite3.connect(\"data/yelpHotelData.db\")\n",
    "hotels = pd.read_sql_query(\"SELECT * FROM hotel\", hotels_db)\n",
    "hotel_reviews = pd.read_sql_query(\"SELECT * FROM review WHERE flagged in ('Y', 'N')\", hotels_db)\n",
    "hotel_reviewers = pd.read_sql_query(\"SELECT * FROM reviewer\", hotels_db)\n",
    "\n",
    "\n",
    "print(f'The data set contains {len(hotels)} hotels, {len(hotel_reviews)} reviews, and {len(hotel_reviewers)} reviewers')"
   ]
  },
  {
   "cell_type": "code",
   "execution_count": 6,
   "metadata": {},
   "outputs": [
    {
     "name": "stdout",
     "output_type": "stream",
     "text": [
      "The data set contains 242652 restaurants, 67019 reviews, and 16941 reviewers\n"
     ]
    }
   ],
   "source": [
    "# Reading from the restaurant database\n",
    "restaurant_db = sqlite3.connect(\"data/yelpResData.db\")\n",
    "restaurant_db.text_factory = lambda x: x.decode(\"utf-8\", errors='ignore')\n",
    "restaurants = pd.read_sql_query(\"SELECT * FROM restaurant\", restaurant_db)\n",
    "restaurant_reviews = pd.read_sql_query(\"SELECT * FROM review WHERE flagged in ('Y', 'N')\", restaurant_db)\n",
    "restaurant_reviewers = pd.read_sql_query(\"SELECT * FROM reviewer\", restaurant_db)\n",
    "\n",
    "\n",
    "print(f'The data set contains {len(restaurants)} restaurants, {len(restaurant_reviews)} reviews, and {len(restaurant_reviewers)} reviewers')"
   ]
  },
  {
   "cell_type": "code",
   "execution_count": 7,
   "metadata": {},
   "outputs": [],
   "source": [
    "# Data Cleaning\n",
    "hotel_reviews['reviewContent'] = hotel_reviews['reviewContent'].apply(lambda x: unicodedata.normalize('NFKD', x))\n",
    "hotel_reviews['date'] = hotel_reviews['date'].apply(lambda x: datetime.datetime.strptime(x.strip().split(' ')[-1], '%m/%d/%Y'))\n",
    "\n",
    "restaurant_reviews['reviewContent'] = restaurant_reviews['reviewContent'].apply(lambda x: unicodedata.normalize('NFKD', x))\n",
    "restaurant_reviews['date'] = restaurant_reviews['date'].apply(lambda x: datetime.datetime.strptime(x.strip().split(' ')[-1], '%m/%d/%Y'))\n"
   ]
  },
  {
   "cell_type": "code",
   "execution_count": 8,
   "metadata": {
    "scrolled": true
   },
   "outputs": [],
   "source": [
    "# Split data according to the research paper\n",
    "hotel_X_test = hotel_reviews[hotel_reviews['date'] >= datetime.datetime(2012, 1, 1)]\n",
    "hotel_y_test = hotel_X_test['flagged'] == 'Y'\n",
    "hotel_X_tran_and_dev = hotel_reviews[hotel_reviews['date'] < datetime.datetime(2012, 1, 1)]\n",
    "hotel_X_train, hotel_X_dev, hotel_y_train, hotel_y_dev = train_test_split(hotel_X_tran_and_dev, hotel_X_tran_and_dev['flagged']=='Y')\n",
    "\n",
    "restaurant_X_test = restaurant_reviews[restaurant_reviews['date'] >= datetime.datetime(2012, 1, 1)]\n",
    "restaurant_y_test = restaurant_X_test['flagged'] == 'Y'\n",
    "restaurant_X_tran_and_dev = restaurant_reviews[restaurant_reviews['date'] < datetime.datetime(2012, 1, 1)]\n",
    "restaurant_X_train, restaurant_X_dev, restaurant_y_train, restaurant_y_dev = train_test_split(restaurant_X_tran_and_dev, restaurant_X_tran_and_dev['flagged']=='Y')\n"
   ]
  },
  {
   "cell_type": "markdown",
   "metadata": {},
   "source": [
    "# Exploratory Data Analysis\n",
    "\n",
    "## ToDo: Performan More EDA"
   ]
  },
  {
   "cell_type": "code",
   "execution_count": 9,
   "metadata": {
    "scrolled": false
   },
   "outputs": [
    {
     "name": "stdout",
     "output_type": "stream",
     "text": [
      "<class 'pandas.core.frame.DataFrame'>\n",
      "Int64Index: 3402 entries, 3186 to 284\n",
      "Data columns (total 10 columns):\n",
      " #   Column         Non-Null Count  Dtype         \n",
      "---  ------         --------------  -----         \n",
      " 0   date           3402 non-null   datetime64[ns]\n",
      " 1   reviewID       3402 non-null   object        \n",
      " 2   reviewerID     3402 non-null   object        \n",
      " 3   reviewContent  3402 non-null   object        \n",
      " 4   rating         3402 non-null   int64         \n",
      " 5   usefulCount    3402 non-null   int64         \n",
      " 6   coolCount      3402 non-null   int64         \n",
      " 7   funnyCount     3402 non-null   int64         \n",
      " 8   flagged        3402 non-null   object        \n",
      " 9   hotelID        3402 non-null   object        \n",
      "dtypes: datetime64[ns](1), int64(4), object(5)\n",
      "memory usage: 292.4+ KB\n"
     ]
    }
   ],
   "source": [
    "hotel_X_train.info()"
   ]
  },
  {
   "cell_type": "code",
   "execution_count": 10,
   "metadata": {},
   "outputs": [
    {
     "name": "stdout",
     "output_type": "stream",
     "text": [
      "<class 'pandas.core.frame.DataFrame'>\n",
      "Int64Index: 42086 entries, 32365 to 48633\n",
      "Data columns (total 10 columns):\n",
      " #   Column         Non-Null Count  Dtype         \n",
      "---  ------         --------------  -----         \n",
      " 0   date           42086 non-null  datetime64[ns]\n",
      " 1   reviewID       42086 non-null  object        \n",
      " 2   reviewerID     42086 non-null  object        \n",
      " 3   reviewContent  42086 non-null  object        \n",
      " 4   rating         42086 non-null  int64         \n",
      " 5   usefulCount    42086 non-null  int64         \n",
      " 6   coolCount      42086 non-null  int64         \n",
      " 7   funnyCount     42086 non-null  int64         \n",
      " 8   flagged        42086 non-null  object        \n",
      " 9   restaurantID   42086 non-null  object        \n",
      "dtypes: datetime64[ns](1), int64(4), object(5)\n",
      "memory usage: 3.5+ MB\n"
     ]
    }
   ],
   "source": [
    "restaurant_X_train.info()"
   ]
  },
  {
   "cell_type": "code",
   "execution_count": 11,
   "metadata": {},
   "outputs": [
    {
     "data": {
      "text/plain": [
       "24492    ***Alinea is truly a one-of-a-kind experience;...\n",
       "38981    ***Longman & Eagle is a true gastropub--a casu...\n",
       "45209    ***While the rooms are small, Hotel Felix is a...\n",
       "Name: reviewContent, dtype: object"
      ]
     },
     "execution_count": 11,
     "metadata": {},
     "output_type": "execute_result"
    }
   ],
   "source": [
    "reviews = pd.concat([restaurant_X_train, hotel_X_train.rename(columns={'hotelID':'restaurantID'})], ignore_index=True)\n",
    "reviews.groupby('reviewerID').agg({\"usefulCount\": np.sum, \n",
    "                                   \"coolCount\": np.sum, \n",
    "                                   \"funnyCount\": np.sum}).sort_values(by=['usefulCount'], ascending=False)\n",
    "reviews[reviews['reviewerID'] == 'w-w-k-QXosIKQ8HQVwU6IQ']['reviewContent']"
   ]
  },
  {
   "cell_type": "code",
   "execution_count": 12,
   "metadata": {},
   "outputs": [
    {
     "data": {
      "text/html": [
       "<div>\n",
       "<style scoped>\n",
       "    .dataframe tbody tr th:only-of-type {\n",
       "        vertical-align: middle;\n",
       "    }\n",
       "\n",
       "    .dataframe tbody tr th {\n",
       "        vertical-align: top;\n",
       "    }\n",
       "\n",
       "    .dataframe thead th {\n",
       "        text-align: right;\n",
       "    }\n",
       "</style>\n",
       "<table border=\"1\" class=\"dataframe\">\n",
       "  <thead>\n",
       "    <tr style=\"text-align: right;\">\n",
       "      <th></th>\n",
       "      <th>rating</th>\n",
       "      <th>usefulCount</th>\n",
       "      <th>coolCount</th>\n",
       "      <th>funnyCount</th>\n",
       "    </tr>\n",
       "    <tr>\n",
       "      <th>flagged</th>\n",
       "      <th></th>\n",
       "      <th></th>\n",
       "      <th></th>\n",
       "      <th></th>\n",
       "    </tr>\n",
       "  </thead>\n",
       "  <tbody>\n",
       "    <tr>\n",
       "      <th>N</th>\n",
       "      <td>158030</td>\n",
       "      <td>44343</td>\n",
       "      <td>29319</td>\n",
       "      <td>24954</td>\n",
       "    </tr>\n",
       "    <tr>\n",
       "      <th>Y</th>\n",
       "      <td>21506</td>\n",
       "      <td>0</td>\n",
       "      <td>0</td>\n",
       "      <td>0</td>\n",
       "    </tr>\n",
       "  </tbody>\n",
       "</table>\n",
       "</div>"
      ],
      "text/plain": [
       "         rating  usefulCount  coolCount  funnyCount\n",
       "flagged                                            \n",
       "N        158030        44343      29319       24954\n",
       "Y         21506            0          0           0"
      ]
     },
     "execution_count": 12,
     "metadata": {},
     "output_type": "execute_result"
    }
   ],
   "source": [
    "reviews.groupby('flagged').agg('sum')\n"
   ]
  },
  {
   "cell_type": "code",
   "execution_count": 13,
   "metadata": {},
   "outputs": [
    {
     "data": {
      "text/html": [
       "<div>\n",
       "<style scoped>\n",
       "    .dataframe tbody tr th:only-of-type {\n",
       "        vertical-align: middle;\n",
       "    }\n",
       "\n",
       "    .dataframe tbody tr th {\n",
       "        vertical-align: top;\n",
       "    }\n",
       "\n",
       "    .dataframe thead th {\n",
       "        text-align: right;\n",
       "    }\n",
       "</style>\n",
       "<table border=\"1\" class=\"dataframe\">\n",
       "  <thead>\n",
       "    <tr style=\"text-align: right;\">\n",
       "      <th></th>\n",
       "      <th>date</th>\n",
       "      <th>reviewID</th>\n",
       "      <th>reviewerID</th>\n",
       "      <th>reviewContent</th>\n",
       "      <th>usefulCount</th>\n",
       "      <th>coolCount</th>\n",
       "      <th>funnyCount</th>\n",
       "      <th>flagged</th>\n",
       "      <th>restaurantID</th>\n",
       "    </tr>\n",
       "    <tr>\n",
       "      <th>rating</th>\n",
       "      <th></th>\n",
       "      <th></th>\n",
       "      <th></th>\n",
       "      <th></th>\n",
       "      <th></th>\n",
       "      <th></th>\n",
       "      <th></th>\n",
       "      <th></th>\n",
       "      <th></th>\n",
       "    </tr>\n",
       "  </thead>\n",
       "  <tbody>\n",
       "    <tr>\n",
       "      <th>1</th>\n",
       "      <td>1408</td>\n",
       "      <td>1408</td>\n",
       "      <td>1408</td>\n",
       "      <td>1408</td>\n",
       "      <td>1408</td>\n",
       "      <td>1408</td>\n",
       "      <td>1408</td>\n",
       "      <td>1408</td>\n",
       "      <td>1408</td>\n",
       "    </tr>\n",
       "    <tr>\n",
       "      <th>2</th>\n",
       "      <td>2873</td>\n",
       "      <td>2873</td>\n",
       "      <td>2873</td>\n",
       "      <td>2873</td>\n",
       "      <td>2873</td>\n",
       "      <td>2873</td>\n",
       "      <td>2873</td>\n",
       "      <td>2873</td>\n",
       "      <td>2873</td>\n",
       "    </tr>\n",
       "    <tr>\n",
       "      <th>3</th>\n",
       "      <td>5924</td>\n",
       "      <td>5924</td>\n",
       "      <td>5924</td>\n",
       "      <td>5924</td>\n",
       "      <td>5924</td>\n",
       "      <td>5924</td>\n",
       "      <td>5924</td>\n",
       "      <td>5924</td>\n",
       "      <td>5924</td>\n",
       "    </tr>\n",
       "    <tr>\n",
       "      <th>4</th>\n",
       "      <td>15316</td>\n",
       "      <td>15316</td>\n",
       "      <td>15316</td>\n",
       "      <td>15316</td>\n",
       "      <td>15316</td>\n",
       "      <td>15316</td>\n",
       "      <td>15316</td>\n",
       "      <td>15316</td>\n",
       "      <td>15316</td>\n",
       "    </tr>\n",
       "    <tr>\n",
       "      <th>5</th>\n",
       "      <td>14368</td>\n",
       "      <td>14368</td>\n",
       "      <td>14368</td>\n",
       "      <td>14368</td>\n",
       "      <td>14368</td>\n",
       "      <td>14368</td>\n",
       "      <td>14368</td>\n",
       "      <td>14368</td>\n",
       "      <td>14368</td>\n",
       "    </tr>\n",
       "  </tbody>\n",
       "</table>\n",
       "</div>"
      ],
      "text/plain": [
       "         date  reviewID  reviewerID  reviewContent  usefulCount  coolCount  \\\n",
       "rating                                                                       \n",
       "1        1408      1408        1408           1408         1408       1408   \n",
       "2        2873      2873        2873           2873         2873       2873   \n",
       "3        5924      5924        5924           5924         5924       5924   \n",
       "4       15316     15316       15316          15316        15316      15316   \n",
       "5       14368     14368       14368          14368        14368      14368   \n",
       "\n",
       "        funnyCount  flagged  restaurantID  \n",
       "rating                                     \n",
       "1             1408     1408          1408  \n",
       "2             2873     2873          2873  \n",
       "3             5924     5924          5924  \n",
       "4            15316    15316         15316  \n",
       "5            14368    14368         14368  "
      ]
     },
     "metadata": {},
     "output_type": "display_data"
    },
    {
     "data": {
      "text/plain": [
       "(array([ 1408.,     0.,  2873.,     0.,     0.,  5924.,     0., 15316.,\n",
       "            0., 14368.]),\n",
       " array([1. , 1.4, 1.8, 2.2, 2.6, 3. , 3.4, 3.8, 4.2, 4.6, 5. ]),\n",
       " <BarContainer object of 10 artists>)"
      ]
     },
     "execution_count": 13,
     "metadata": {},
     "output_type": "execute_result"
    },
    {
     "data": {
      "image/png": "[encoded data removed]",
      "text/plain": [
       "<Figure size 432x288 with 1 Axes>"
      ]
     },
     "metadata": {
      "needs_background": "light"
     },
     "output_type": "display_data"
    }
   ],
   "source": [
    "trueReviews = reviews[reviews['flagged'] == 'N']\n",
    "fakeReviews = reviews[reviews['flagged'] == 'Y']\n",
    "display(trueReviews.groupby('rating').agg('count'))\n",
    "plt.hist(x=trueReviews.rating, bins=10)"
   ]
  },
  {
   "cell_type": "code",
   "execution_count": 14,
   "metadata": {},
   "outputs": [
    {
     "data": {
      "text/html": [
       "<div>\n",
       "<style scoped>\n",
       "    .dataframe tbody tr th:only-of-type {\n",
       "        vertical-align: middle;\n",
       "    }\n",
       "\n",
       "    .dataframe tbody tr th {\n",
       "        vertical-align: top;\n",
       "    }\n",
       "\n",
       "    .dataframe thead th {\n",
       "        text-align: right;\n",
       "    }\n",
       "</style>\n",
       "<table border=\"1\" class=\"dataframe\">\n",
       "  <thead>\n",
       "    <tr style=\"text-align: right;\">\n",
       "      <th></th>\n",
       "      <th>date</th>\n",
       "      <th>reviewID</th>\n",
       "      <th>reviewerID</th>\n",
       "      <th>reviewContent</th>\n",
       "      <th>usefulCount</th>\n",
       "      <th>coolCount</th>\n",
       "      <th>funnyCount</th>\n",
       "      <th>flagged</th>\n",
       "      <th>restaurantID</th>\n",
       "    </tr>\n",
       "    <tr>\n",
       "      <th>rating</th>\n",
       "      <th></th>\n",
       "      <th></th>\n",
       "      <th></th>\n",
       "      <th></th>\n",
       "      <th></th>\n",
       "      <th></th>\n",
       "      <th></th>\n",
       "      <th></th>\n",
       "      <th></th>\n",
       "    </tr>\n",
       "  </thead>\n",
       "  <tbody>\n",
       "    <tr>\n",
       "      <th>1</th>\n",
       "      <td>673</td>\n",
       "      <td>673</td>\n",
       "      <td>673</td>\n",
       "      <td>673</td>\n",
       "      <td>673</td>\n",
       "      <td>673</td>\n",
       "      <td>673</td>\n",
       "      <td>673</td>\n",
       "      <td>673</td>\n",
       "    </tr>\n",
       "    <tr>\n",
       "      <th>2</th>\n",
       "      <td>442</td>\n",
       "      <td>442</td>\n",
       "      <td>442</td>\n",
       "      <td>442</td>\n",
       "      <td>442</td>\n",
       "      <td>442</td>\n",
       "      <td>442</td>\n",
       "      <td>442</td>\n",
       "      <td>442</td>\n",
       "    </tr>\n",
       "    <tr>\n",
       "      <th>3</th>\n",
       "      <td>488</td>\n",
       "      <td>488</td>\n",
       "      <td>488</td>\n",
       "      <td>488</td>\n",
       "      <td>488</td>\n",
       "      <td>488</td>\n",
       "      <td>488</td>\n",
       "      <td>488</td>\n",
       "      <td>488</td>\n",
       "    </tr>\n",
       "    <tr>\n",
       "      <th>4</th>\n",
       "      <td>1495</td>\n",
       "      <td>1495</td>\n",
       "      <td>1495</td>\n",
       "      <td>1495</td>\n",
       "      <td>1495</td>\n",
       "      <td>1495</td>\n",
       "      <td>1495</td>\n",
       "      <td>1495</td>\n",
       "      <td>1495</td>\n",
       "    </tr>\n",
       "    <tr>\n",
       "      <th>5</th>\n",
       "      <td>2501</td>\n",
       "      <td>2501</td>\n",
       "      <td>2501</td>\n",
       "      <td>2501</td>\n",
       "      <td>2501</td>\n",
       "      <td>2501</td>\n",
       "      <td>2501</td>\n",
       "      <td>2501</td>\n",
       "      <td>2501</td>\n",
       "    </tr>\n",
       "  </tbody>\n",
       "</table>\n",
       "</div>"
      ],
      "text/plain": [
       "        date  reviewID  reviewerID  reviewContent  usefulCount  coolCount  \\\n",
       "rating                                                                      \n",
       "1        673       673         673            673          673        673   \n",
       "2        442       442         442            442          442        442   \n",
       "3        488       488         488            488          488        488   \n",
       "4       1495      1495        1495           1495         1495       1495   \n",
       "5       2501      2501        2501           2501         2501       2501   \n",
       "\n",
       "        funnyCount  flagged  restaurantID  \n",
       "rating                                     \n",
       "1              673      673           673  \n",
       "2              442      442           442  \n",
       "3              488      488           488  \n",
       "4             1495     1495          1495  \n",
       "5             2501     2501          2501  "
      ]
     },
     "metadata": {},
     "output_type": "display_data"
    },
    {
     "data": {
      "text/plain": [
       "(array([ 673.,    0.,  442.,    0.,    0.,  488.,    0., 1495.,    0.,\n",
       "        2501.]),\n",
       " array([1. , 1.4, 1.8, 2.2, 2.6, 3. , 3.4, 3.8, 4.2, 4.6, 5. ]),\n",
       " <BarContainer object of 10 artists>)"
      ]
     },
     "execution_count": 14,
     "metadata": {},
     "output_type": "execute_result"
    },
    {
     "data": {
      "image/png": "[encoded data removed]",
      "text/plain": [
       "<Figure size 432x288 with 1 Axes>"
      ]
     },
     "metadata": {
      "needs_background": "light"
     },
     "output_type": "display_data"
    }
   ],
   "source": [
    "display(fakeReviews.groupby('rating').agg('count'))\n",
    "plt.hist(x=fakeReviews.rating, bins=10)"
   ]
  },
  {
   "cell_type": "code",
   "execution_count": 15,
   "metadata": {},
   "outputs": [
    {
     "data": {
      "image/png": "[encoded data removed]",
      "text/plain": [
       "<Figure size 432x288 with 2 Axes>"
      ]
     },
     "metadata": {
      "needs_background": "light"
     },
     "output_type": "display_data"
    }
   ],
   "source": [
    "plt.subplot(1, 2, 1)\n",
    "plt.hist(x = trueReviews['reviewContent'].str.count(' ') + 1)\n",
    "plt.subplot(1, 2, 2)\n",
    "plt.hist(x = fakeReviews['reviewContent'].str.count(' ') + 1)\n",
    "plt.show()"
   ]
  },
  {
   "cell_type": "code",
   "execution_count": 16,
   "metadata": {},
   "outputs": [
    {
     "data": {
      "image/png": "[encoded data removed]",
      "text/plain": [
       "<Figure size 432x288 with 2 Axes>"
      ]
     },
     "metadata": {
      "needs_background": "light"
     },
     "output_type": "display_data"
    }
   ],
   "source": [
    "plt.subplot(1, 2, 1)\n",
    "plt.hist(x = trueReviews['reviewContent'].str.count('.') + 1)\n",
    "plt.subplot(1, 2, 2)\n",
    "plt.hist(x = fakeReviews['reviewContent'].str.count('.') + 1)\n",
    "plt.show()"
   ]
  },
  {
   "cell_type": "code",
   "execution_count": 17,
   "metadata": {},
   "outputs": [
    {
     "data": {
      "image/png": "[encoded data removed]",
      "text/plain": [
       "<Figure size 432x288 with 2 Axes>"
      ]
     },
     "metadata": {
      "needs_background": "light"
     },
     "output_type": "display_data"
    }
   ],
   "source": [
    "trueReviewerCounts = trueReviews.groupby(['reviewerID']).size().reset_index(name='counts')\n",
    "fakeReviewerCounts = fakeReviews.groupby(['reviewerID']).size().reset_index(name='counts')\n",
    "\n",
    "\n",
    "plt.subplot(1, 2, 1)\n",
    "plt.hist(x = trueReviewerCounts['counts'], bins=10)\n",
    "plt.subplot(1, 2, 2)\n",
    "plt.hist(x = fakeReviewerCounts['counts'], bins=10)\n",
    "plt.show()\n"
   ]
  },
  {
   "cell_type": "code",
   "execution_count": 18,
   "metadata": {},
   "outputs": [
    {
     "data": {
      "image/png": "[encoded data removed]",
      "text/plain": [
       "<Figure size 432x288 with 2 Axes>"
      ]
     },
     "metadata": {
      "needs_background": "light"
     },
     "output_type": "display_data"
    }
   ],
   "source": [
    "trueRestReviewCounts = trueReviews.groupby(['restaurantID']).size().reset_index(name='counts')\n",
    "fakeRestReviewCounts = fakeReviews.groupby(['restaurantID']).size().reset_index(name='counts')\n",
    "\n",
    "\n",
    "plt.subplot(1, 2, 1)\n",
    "plt.hist(x = trueRestReviewCounts['counts'], bins=10)\n",
    "plt.subplot(1, 2, 2)\n",
    "plt.hist(x = fakeRestReviewCounts['counts'], bins=10)\n",
    "plt.show()\n"
   ]
  },
  {
   "cell_type": "code",
   "execution_count": 19,
   "metadata": {},
   "outputs": [
    {
     "data": {
      "image/png": "[encoded data removed]",
      "text/plain": [
       "<Figure size 432x288 with 2 Axes>"
      ]
     },
     "metadata": {
      "needs_background": "light"
     },
     "output_type": "display_data"
    }
   ],
   "source": [
    "plt.subplot(1, 2, 1)\n",
    "trueReviews['reviewContent'].str.len().hist()\n",
    "plt.subplot(1, 2, 2)\n",
    "fakeReviews['reviewContent'].str.len().hist()\n",
    "plt.show()\n",
    "\n",
    "\n"
   ]
  },
  {
   "cell_type": "code",
   "execution_count": 20,
   "metadata": {},
   "outputs": [
    {
     "name": "stderr",
     "output_type": "stream",
     "text": [
      "[nltk_data] Downloading package stopwords to\n",
      "[nltk_data]     /home/yizhang7210/nltk_data...\n",
      "[nltk_data]   Package stopwords is already up-to-date!\n"
     ]
    },
    {
     "data": {
      "image/png": "[encoded data removed]",
      "text/plain": [
       "<Figure size 432x288 with 1 Axes>"
      ]
     },
     "metadata": {
      "needs_background": "light"
     },
     "output_type": "display_data"
    }
   ],
   "source": [
    "\n",
    "# Code Snippet for Top N-grams Barchart\n",
    "\n",
    "import seaborn as sns\n",
    "import numpy as np\n",
    "from nltk.corpus import stopwords\n",
    "from sklearn.feature_extraction.text import CountVectorizer\n",
    "from collections import  Counter\n",
    "\n",
    "nltk.download('stopwords')\n",
    "\n",
    "def plot_top_ngrams_barchart(text, n=2):\n",
    "    synthetic = {'gmail', 'they', 'http', 'www'}\n",
    "    stop=set(stopwords.words('english')) | synthetic\n",
    "    new= text.str.split()\n",
    "    new= new.values.tolist()\n",
    "    corpus=[word for i in new for word in i if word.lower() not in stop]\n",
    "\n",
    "    def _get_top_ngram(corpus, n=None):\n",
    "        vec = CountVectorizer(ngram_range=(n, n)).fit(corpus)\n",
    "        bag_of_words = vec.transform(corpus)\n",
    "        sum_words = bag_of_words.sum(axis=0) \n",
    "        words_freq = [(word, sum_words[0, idx]) \n",
    "                      for word, idx in vec.vocabulary_.items()]\n",
    "        words_freq =sorted(words_freq, key = lambda x: x[1], reverse=True)\n",
    "        return words_freq[:20]\n",
    "\n",
    "    top_n_bigrams=_get_top_ngram(corpus,n)[:20]\n",
    "    x,y=map(list,zip(*top_n_bigrams))\n",
    "    sns.barplot(x=y,y=x)\n",
    "    \n",
    "\n",
    "plot_top_ngrams_barchart(trueReviews['reviewContent'],3)"
   ]
  },
  {
   "cell_type": "code",
   "execution_count": 21,
   "metadata": {},
   "outputs": [
    {
     "data": {
      "image/png": "[encoded data removed]",
      "text/plain": [
       "<Figure size 432x288 with 1 Axes>"
      ]
     },
     "metadata": {
      "needs_background": "light"
     },
     "output_type": "display_data"
    }
   ],
   "source": [
    "plot_top_ngrams_barchart(fakeReviews['reviewContent'],3)"
   ]
  },
  {
   "cell_type": "markdown",
   "metadata": {},
   "source": [
    "# Baseline Model"
   ]
  },
  {
   "cell_type": "markdown",
   "metadata": {},
   "source": [
    "Try a Plain LSTM model on the Hotel data set with fixed length learned embedding"
   ]
  },
  {
   "cell_type": "markdown",
   "metadata": {},
   "source": [
    "# Hotels Dataset"
   ]
  },
  {
   "cell_type": "code",
   "execution_count": 22,
   "metadata": {},
   "outputs": [],
   "source": [
    "vocabulary_size = 20000\n",
    "tokenizer = Tokenizer(num_words= vocabulary_size)\n",
    "tokenizer.fit_on_texts(hotel_X_train['reviewContent'])\n",
    "sequences = tokenizer.texts_to_sequences(hotel_X_train['reviewContent'])\n",
    "hotel_train_data = pad_sequences(sequences, maxlen=100)\n",
    "\n",
    "tokenizer = Tokenizer(num_words= vocabulary_size)\n",
    "tokenizer.fit_on_texts(hotel_X_dev['reviewContent'])\n",
    "sequences = tokenizer.texts_to_sequences(hotel_X_dev['reviewContent'])\n",
    "hotel_dev_data = pad_sequences(sequences, maxlen=100)\n"
   ]
  },
  {
   "cell_type": "code",
   "execution_count": 23,
   "metadata": {},
   "outputs": [],
   "source": [
    "model = Sequential()\n",
    "model.add(Embedding(20000, 100, input_length=100))\n",
    "model.add(LSTM(100, dropout=0.2, recurrent_dropout=0.2))\n",
    "model.add(Dense(1, activation='sigmoid'))\n",
    "model.compile(loss='binary_crossentropy', optimizer='adam', metrics=['accuracy'])\n"
   ]
  },
  {
   "cell_type": "code",
   "execution_count": 24,
   "metadata": {},
   "outputs": [
    {
     "name": "stdout",
     "output_type": "stream",
     "text": [
      "Epoch 1/2\n",
      "107/107 [==============================] - 32s 276ms/step - loss: 0.4701 - accuracy: 0.8447\n",
      "Epoch 2/2\n",
      "107/107 [==============================] - 30s 279ms/step - loss: 0.3478 - accuracy: 0.8768\n"
     ]
    },
    {
     "data": {
      "text/plain": [
       "<tensorflow.python.keras.callbacks.History at 0x7f15e50ccf40>"
      ]
     },
     "execution_count": 24,
     "metadata": {},
     "output_type": "execute_result"
    }
   ],
   "source": [
    "model.fit(hotel_train_data, hotel_y_train, epochs=2)"
   ]
  },
  {
   "cell_type": "code",
   "execution_count": 25,
   "metadata": {},
   "outputs": [],
   "source": [
    "hotel_y_predicted = model.predict(hotel_dev_data)"
   ]
  },
  {
   "cell_type": "code",
   "execution_count": 26,
   "metadata": {},
   "outputs": [
    {
     "name": "stdout",
     "output_type": "stream",
     "text": [
      "              precision    recall  f1-score   support\n",
      "\n",
      "       False       1.00      0.89      0.94      1133\n",
      "        True       0.00      0.00      0.00         1\n",
      "\n",
      "    accuracy                           0.89      1134\n",
      "   macro avg       0.50      0.44      0.47      1134\n",
      "weighted avg       1.00      0.89      0.94      1134\n",
      "\n"
     ]
    }
   ],
   "source": [
    "print(classification_report(hotel_y_predicted > 0.5, hotel_y_dev))"
   ]
  },
  {
   "cell_type": "markdown",
   "metadata": {},
   "source": [
    "# Model 2 - Data Resampling + GloVe embedding"
   ]
  },
  {
   "cell_type": "code",
   "execution_count": 27,
   "metadata": {},
   "outputs": [
    {
     "name": "stdout",
     "output_type": "stream",
     "text": [
      "Already downloaded the embedding\n"
     ]
    }
   ],
   "source": [
    "# Download the GloVe embeddings\n",
    "if 'embedding' not in os.listdir('.') or not os.listdir('embedding'):\n",
    "    os.system('wget http://nlp.stanford.edu/data/glove.6B.zip -P embedding/')\n",
    "    os.system('cd embedding && unzip glove.6B.zip')\n",
    "    print('Data the GloVe embedding successfully!')\n",
    "else:\n",
    "    print('Already downloaded the embedding')"
   ]
  },
  {
   "cell_type": "code",
   "execution_count": 28,
   "metadata": {},
   "outputs": [
    {
     "name": "stdout",
     "output_type": "stream",
     "text": [
      "Found 400000 word vectors.\n"
     ]
    }
   ],
   "source": [
    "# Use the 100 dimensional GloVe embedding\n",
    "path_to_glove_file = \"./embedding/glove.6B.100d.txt\"\n",
    "\n",
    "embeddings_index = {}\n",
    "with open(path_to_glove_file) as f:\n",
    "    for line in f:\n",
    "        word, coefs = line.split(maxsplit=1)\n",
    "        coefs = np.fromstring(coefs, \"f\", sep=\" \")\n",
    "        embeddings_index[word] = coefs\n",
    "\n",
    "print(\"Found %s word vectors.\" % len(embeddings_index))"
   ]
  },
  {
   "cell_type": "code",
   "execution_count": 29,
   "metadata": {},
   "outputs": [
    {
     "name": "stdout",
     "output_type": "stream",
     "text": [
      "There are 433 positive examples\n",
      "There are 2969 negative examples\n"
     ]
    }
   ],
   "source": [
    "# Split the positive/negative samples for more balanced sampling\n",
    "hotel_X_train_positive = hotel_X_train[hotel_X_train['flagged'] == 'Y']\n",
    "hotel_X_train_negative = hotel_X_train[hotel_X_train['flagged'] == 'N']\n",
    "\n",
    "print(f'There are {len(hotel_X_train_positive)} positive examples')\n",
    "print(f'There are {len(hotel_X_train_negative)} negative examples')\n",
    "\n",
    "num_samples = 2000\n",
    "positive_ratio = 0.3\n",
    "hotel_positives = hotel_X_train_positive.sample(int(num_samples * positive_ratio), replace=True).reset_index(drop=True)\n",
    "hotel_negatives = hotel_X_train_negative.sample(num_samples, replace=True).reset_index(drop=True)\n",
    "\n",
    "hotel_X_train_balanced = pd.concat([hotel_positives, hotel_negatives], ignore_index=True).sample(frac=1)\n",
    "hotel_y_train_balanced = hotel_X_train_balanced['flagged'] == 'Y'\n"
   ]
  },
  {
   "cell_type": "code",
   "execution_count": 30,
   "metadata": {},
   "outputs": [
    {
     "name": "stdout",
     "output_type": "stream",
     "text": [
      "Vocabulary size is 13520\n"
     ]
    }
   ],
   "source": [
    "# First layer, vectorizing the word input\n",
    "vocabulary_size = 30000\n",
    "max_tokens = 200\n",
    "\n",
    "vectorizer = TextVectorization(max_tokens=vocabulary_size, output_sequence_length=max_tokens)\n",
    "vectorizer.adapt(hotel_X_train_balanced['reviewContent'].to_numpy())\n",
    "\n",
    "voc = vectorizer.get_vocabulary()\n",
    "word_index = dict(zip(voc, range(len(voc))))\n",
    "\n",
    "print(f\"Vocabulary size is {len(voc)}\")\n"
   ]
  },
  {
   "cell_type": "code",
   "execution_count": 31,
   "metadata": {},
   "outputs": [
    {
     "name": "stdout",
     "output_type": "stream",
     "text": [
      "Converted 10993 words (2527 misses)\n"
     ]
    }
   ],
   "source": [
    "# Ref: https://keras.io/examples/nlp/pretrained_word_embeddings/\n",
    "# Build + Lock in the Embedding layer from GloVe\n",
    "embedding_dim = 100\n",
    "hits = 0\n",
    "misses = 0\n",
    "num_words = len(voc) + 2\n",
    "\n",
    "# Prepare embedding matrix\n",
    "# TODO: more pre-processing to avoid ~3000 words that don't have embeddings\n",
    "embedding_matrix = np.zeros((num_words, embedding_dim))\n",
    "for i, word in enumerate(voc):\n",
    "    embedding_vector = embeddings_index.get(word)\n",
    "    if embedding_vector is not None:\n",
    "        # Words not found in embedding index will be all-zeros.\n",
    "        # This includes the representation for \"padding\" and \"OOV\"\n",
    "        embedding_matrix[i] = embedding_vector\n",
    "        hits += 1\n",
    "    else:\n",
    "        misses += 1\n",
    "print(\"Converted %d words (%d misses)\" % (hits, misses))\n",
    "\n",
    "\n",
    "embedding_layer = Embedding(\n",
    "    num_words,\n",
    "    embedding_dim,\n",
    "    embeddings_initializer=tf.keras.initializers.Constant(embedding_matrix),\n",
    "    trainable=False,\n",
    ")\n"
   ]
  },
  {
   "cell_type": "code",
   "execution_count": 32,
   "metadata": {},
   "outputs": [
    {
     "data": {
      "text/plain": [
       "(2600, 200)"
      ]
     },
     "execution_count": 32,
     "metadata": {},
     "output_type": "execute_result"
    }
   ],
   "source": [
    "# Vectorize the input\n",
    "hotel_X_train_ready = vectorizer(hotel_X_train_balanced['reviewContent']).numpy()\n",
    "hotel_X_dev_ready = vectorizer(hotel_X_dev['reviewContent']).numpy()\n",
    "\n",
    "hotel_X_train_ready.shape"
   ]
  },
  {
   "cell_type": "code",
   "execution_count": 33,
   "metadata": {},
   "outputs": [
    {
     "name": "stdout",
     "output_type": "stream",
     "text": [
      "Epoch 1/8\n",
      "82/82 [==============================] - 28s 307ms/step - loss: 0.6056 - accuracy: 0.7698\n",
      "Epoch 2/8\n",
      "82/82 [==============================] - 25s 301ms/step - loss: 0.5416 - accuracy: 0.7613\n",
      "Epoch 3/8\n",
      "82/82 [==============================] - 25s 301ms/step - loss: 0.5188 - accuracy: 0.7772\n",
      "Epoch 4/8\n",
      "82/82 [==============================] - 25s 304ms/step - loss: 0.5122 - accuracy: 0.7798\n",
      "Epoch 5/8\n",
      "82/82 [==============================] - 25s 301ms/step - loss: 0.5040 - accuracy: 0.7815\n",
      "Epoch 6/8\n",
      "82/82 [==============================] - 25s 303ms/step - loss: 0.5101 - accuracy: 0.7818\n",
      "Epoch 7/8\n",
      "82/82 [==============================] - 25s 304ms/step - loss: 0.5038 - accuracy: 0.7783\n",
      "Epoch 8/8\n",
      "82/82 [==============================] - 25s 303ms/step - loss: 0.4952 - accuracy: 0.7787\n"
     ]
    },
    {
     "data": {
      "text/plain": [
       "<tensorflow.python.keras.callbacks.History at 0x7f15baf244c0>"
      ]
     },
     "execution_count": 33,
     "metadata": {},
     "output_type": "execute_result"
    }
   ],
   "source": [
    "# Build and train the model with \n",
    "model = Sequential()\n",
    "model.add(embedding_layer)\n",
    "model.add(LSTM(50, dropout=0.2, recurrent_dropout=0.2))\n",
    "model.add(Dense(1, activation='sigmoid'))\n",
    "model.compile(loss='binary_crossentropy', optimizer='adam', metrics=['accuracy'])\n",
    "\n",
    "model.fit(hotel_X_train_ready, hotel_y_train_balanced, epochs=8)"
   ]
  },
  {
   "cell_type": "code",
   "execution_count": 34,
   "metadata": {},
   "outputs": [
    {
     "name": "stdout",
     "output_type": "stream",
     "text": [
      "36/36 [==============================] - 3s 73ms/step - loss: 0.3955 - accuracy: 0.8686\n",
      "              precision    recall  f1-score   support\n",
      "\n",
      "       False       0.98      0.89      0.93      1109\n",
      "        True       0.02      0.08      0.03        25\n",
      "\n",
      "    accuracy                           0.87      1134\n",
      "   macro avg       0.50      0.48      0.48      1134\n",
      "weighted avg       0.96      0.87      0.91      1134\n",
      "\n"
     ]
    },
    {
     "data": {
      "text/plain": [
       "N    0.887125\n",
       "Y    0.112875\n",
       "Name: flagged, dtype: float64"
      ]
     },
     "execution_count": 34,
     "metadata": {},
     "output_type": "execute_result"
    }
   ],
   "source": [
    "model.evaluate(hotel_X_dev_ready, hotel_y_dev)\n",
    "hotel_y_predicted = model.predict(hotel_X_dev_ready)\n",
    "print(classification_report(hotel_y_predicted > 0.5, hotel_y_dev))\n",
    "hotel_X_dev['flagged'].value_counts() / len(hotel_X_dev)"
   ]
  },
  {
   "cell_type": "code",
   "execution_count": null,
   "metadata": {},
   "outputs": [],
   "source": []
  },
  {
   "cell_type": "code",
   "execution_count": null,
   "metadata": {},
   "outputs": [],
   "source": []
  },
  {
   "cell_type": "code",
   "execution_count": null,
   "metadata": {},
   "outputs": [],
   "source": []
  },
  {
   "cell_type": "code",
   "execution_count": null,
   "metadata": {},
   "outputs": [],
   "source": []
  }
 ],
 "metadata": {
  "anaconda-cloud": {},
  "kernelspec": {
   "display_name": "Python 3",
   "language": "python",
   "name": "python3"
  },
  "language_info": {
   "codemirror_mode": {
    "name": "ipython",
    "version": 3
   },
   "file_extension": ".py",
   "mimetype": "text/x-python",
   "name": "python",
   "nbconvert_exporter": "python",
   "pygments_lexer": "ipython3",
   "version": "3.8.8"
  }
 },
 "nbformat": 4,
 "nbformat_minor": 1
}
