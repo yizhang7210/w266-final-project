{
 "cells": [
  {
   "cell_type": "markdown",
   "metadata": {},
   "source": [
    "# W266 Final Project\n",
    "\n",
    "Authors: Satheesh Joseph, Catherine Mou, Yi Zhang"
   ]
  },
  {
   "cell_type": "markdown",
   "metadata": {},
   "source": [
    "# Part 1: Downloading and preparing the data\n",
    "\n",
    "We acquired the dataset from the researchers in the form of Sqlite `.db` files."
   ]
  },
  {
   "cell_type": "code",
   "execution_count": 1,
   "metadata": {},
   "outputs": [],
   "source": [
    "# Imports\n",
    "import os, sys, re, json, time, unittest\n",
    "import itertools, collections\n",
    "from importlib import reload\n",
    "from sklearn.model_selection import train_test_split\n",
    "import matplotlib.pyplot as plt\n",
    "import datetime\n",
    "\n",
    "import numpy as np\n",
    "from scipy import stats\n",
    "import pandas as pd\n",
    "import sqlite3\n",
    "import unicodedata\n",
    "import nltk\n",
    "\n",
    "import tensorflow as tf\n",
    "from sklearn import metrics\n",
    "from sklearn import preprocessing\n",
    "from sklearn.metrics import classification_report\n",
    "from tensorflow.keras.preprocessing.text import Tokenizer\n",
    "from tensorflow.keras.preprocessing.sequence import pad_sequences\n",
    "from tensorflow.keras.models import Sequential\n",
    "from tensorflow.keras.layers import Dense, Input, Flatten, Lambda, Bidirectional, LSTM, Conv1D, MaxPooling1D, Dropout, Activation, InputLayer, Embedding\n",
    "from tensorflow.keras.layers import TextVectorization\n",
    "import tensorflow_text as text  # Registers the ops.\n",
    "\n",
    "from tensorflow.keras.models import Model\n",
    "import tensorflow.keras.backend as K\n",
    "import tensorflow_hub as hub\n",
    "\n",
    "import tensorflow.keras as keras\n",
    "from tensorflow.python.keras import utils"
   ]
  },
  {
   "cell_type": "code",
   "execution_count": 2,
   "metadata": {},
   "outputs": [
    {
     "name": "stdout",
     "output_type": "stream",
     "text": [
      "Already downloaded data\n"
     ]
    }
   ],
   "source": [
    "# Download the files if they're not here\n",
    "if 'data' not in os.listdir('.') or not os.listdir('data'):\n",
    "    os.system('wget https://storage.googleapis.com/mids-w266-final-project-data/yelpHotelData.db -P data/')\n",
    "    os.system('wget https://storage.googleapis.com/mids-w266-final-project-data/yelpResData.db -P data/')\n",
    "    print('Data downloaded successfully!')\n",
    "else:\n",
    "    print('Already downloaded data')"
   ]
  },
  {
   "cell_type": "code",
   "execution_count": 3,
   "metadata": {},
   "outputs": [
    {
     "name": "stdout",
     "output_type": "stream",
     "text": [
      "[('review',), ('restaurant',), ('reviewer',)]\n",
      "[('review',), ('sqlite_stat1',), ('sqlite_stat2',), ('reviewer',), ('hotel',)]\n"
     ]
    }
   ],
   "source": [
    "# Load data from the database\n",
    "con = sqlite3.connect('data/yelpResData.db')\n",
    "cursor = con.cursor()\n",
    "cursor.execute(\"SELECT name FROM sqlite_master WHERE type='table';\")\n",
    "print(cursor.fetchall())\n",
    "\n",
    "con = sqlite3.connect('data/yelpHotelData.db')\n",
    "cursor = con.cursor()\n",
    "cursor.execute(\"SELECT name FROM sqlite_master WHERE type='table';\")\n",
    "print(cursor.fetchall())"
   ]
  },
  {
   "cell_type": "code",
   "execution_count": 4,
   "metadata": {},
   "outputs": [
    {
     "name": "stdout",
     "output_type": "stream",
     "text": [
      "The data set contains 5858 reviews, and 5123 reviewers\n"
     ]
    }
   ],
   "source": [
    "# Reading from the hotels database\n",
    "hotels_db = sqlite3.connect(\"data/yelpHotelData.db\")\n",
    "hotels = pd.read_sql_query(\"SELECT * FROM hotel\", hotels_db)\n",
    "hotel_reviews = pd.read_sql_query(\"SELECT * FROM review WHERE flagged in ('Y', 'N')\", hotels_db)\n",
    "hotel_reviewers = pd.read_sql_query(\"SELECT * FROM reviewer\", hotels_db)\n",
    "\n",
    "print(f'The data set contains {len(hotel_reviews)} reviews, and {len(hotel_reviewers)} reviewers')"
   ]
  },
  {
   "cell_type": "code",
   "execution_count": 5,
   "metadata": {},
   "outputs": [
    {
     "name": "stdout",
     "output_type": "stream",
     "text": [
      "The data set contains 67019 reviews, and 16941 reviewers\n"
     ]
    }
   ],
   "source": [
    "# Reading from the restaurant database\n",
    "restaurant_db = sqlite3.connect(\"data/yelpResData.db\")\n",
    "restaurant_db.text_factory = lambda x: x.decode(\"utf-8\", errors='ignore')\n",
    "restaurants = pd.read_sql_query(\"SELECT * FROM restaurant\", restaurant_db)\n",
    "restaurant_reviews = pd.read_sql_query(\"SELECT * FROM review WHERE flagged in ('Y', 'N')\", restaurant_db)\n",
    "restaurant_reviewers = pd.read_sql_query(\"SELECT * FROM reviewer\", restaurant_db)\n",
    "\n",
    "print(f'The data set contains {len(restaurant_reviews)} reviews, and {len(restaurant_reviewers)} reviewers')"
   ]
  },
  {
   "cell_type": "code",
   "execution_count": 6,
   "metadata": {},
   "outputs": [],
   "source": [
    "# Data Cleaning\n",
    "hotel_reviews['reviewContent'] = hotel_reviews['reviewContent'].apply(lambda x: unicodedata.normalize('NFKD', x))\n",
    "hotel_reviews['date'] = hotel_reviews['date'].apply(lambda x: datetime.datetime.strptime(x.strip().split(' ')[-1], '%m/%d/%Y'))\n",
    "\n",
    "restaurant_reviews['reviewContent'] = restaurant_reviews['reviewContent'].apply(lambda x: unicodedata.normalize('NFKD', x))\n",
    "restaurant_reviews['date'] = restaurant_reviews['date'].apply(lambda x: datetime.datetime.strptime(x.strip().split(' ')[-1], '%m/%d/%Y'))\n"
   ]
  },
  {
   "cell_type": "code",
   "execution_count": 7,
   "metadata": {
    "scrolled": true
   },
   "outputs": [],
   "source": [
    "# Split data according to the research paper, i.e. balanced new reviews after 2012-01-01\n",
    "hotel_X_test = hotel_reviews[hotel_reviews['date'] >= datetime.datetime(2012, 1, 1)]\n",
    "hotel_X_test = hotel_X_test.sort_values('date', ignore_index=True).groupby('reviewerID', as_index=False).first()\n",
    "hotel_X_test_positive = hotel_X_test[hotel_X_test['flagged'] == 'Y']\n",
    "hotel_X_test_negative = hotel_X_test[hotel_X_test['flagged'] == 'N']\n",
    "hotel_X_test_balanced = pd.concat([hotel_X_test_positive, hotel_X_test_negative.sample(n=len(hotel_X_test_positive))], ignore_index=True)\n",
    "hotel_X_test = hotel_X_test_balanced.sample(frac=1)\n",
    "hotel_y_test = hotel_X_test_balanced['flagged'] == 'Y'\n",
    "hotel_X_train_and_dev = hotel_reviews[hotel_reviews['date'] < datetime.datetime(2012, 1, 1)]\n",
    "hotel_X_train, hotel_X_dev, hotel_y_train, hotel_y_dev = train_test_split(hotel_X_train_and_dev, hotel_X_train_and_dev['flagged']=='Y')\n",
    "\n",
    "restaurant_X_test = restaurant_reviews[restaurant_reviews['date'] >= datetime.datetime(2012, 1, 1)]\n",
    "restaurant_X_test = restaurant_X_test.sort_values('date', ignore_index=True).groupby('reviewerID', as_index=False).first()\n",
    "restaurant_X_test_positive = restaurant_X_test[restaurant_X_test['flagged'] == 'Y']\n",
    "restaurant_X_test_negative = restaurant_X_test[restaurant_X_test['flagged'] == 'N']\n",
    "restaurant_X_test_balanced = pd.concat([restaurant_X_test_positive, restaurant_X_test_negative.sample(n=len(restaurant_X_test_positive))], ignore_index=True)\n",
    "restaurant_X_test = restaurant_X_test_balanced.sample(frac=1)\n",
    "restaurant_y_test = restaurant_X_test_balanced['flagged'] == 'Y'\n",
    "restaurant_X_train_and_dev = restaurant_reviews[restaurant_reviews['date'] < datetime.datetime(2012, 1, 1)]\n",
    "restaurant_X_train, restaurant_X_dev, restaurant_y_train, restaurant_y_dev = train_test_split(restaurant_X_train_and_dev, restaurant_X_train_and_dev['flagged']=='Y')\n"
   ]
  },
  {
   "cell_type": "markdown",
   "metadata": {},
   "source": [
    "# Part 2: Exploratory Data Analysis"
   ]
  },
  {
   "cell_type": "code",
   "execution_count": 8,
   "metadata": {
    "scrolled": false
   },
   "outputs": [
    {
     "name": "stdout",
     "output_type": "stream",
     "text": [
      "<class 'pandas.core.frame.DataFrame'>\n",
      "Int64Index: 3402 entries, 1604 to 319\n",
      "Data columns (total 10 columns):\n",
      " #   Column         Non-Null Count  Dtype         \n",
      "---  ------         --------------  -----         \n",
      " 0   date           3402 non-null   datetime64[ns]\n",
      " 1   reviewID       3402 non-null   object        \n",
      " 2   reviewerID     3402 non-null   object        \n",
      " 3   reviewContent  3402 non-null   object        \n",
      " 4   rating         3402 non-null   int64         \n",
      " 5   usefulCount    3402 non-null   int64         \n",
      " 6   coolCount      3402 non-null   int64         \n",
      " 7   funnyCount     3402 non-null   int64         \n",
      " 8   flagged        3402 non-null   object        \n",
      " 9   hotelID        3402 non-null   object        \n",
      "dtypes: datetime64[ns](1), int64(4), object(5)\n",
      "memory usage: 292.4+ KB\n"
     ]
    }
   ],
   "source": [
    "hotel_X_train.info()"
   ]
  },
  {
   "cell_type": "code",
   "execution_count": 9,
   "metadata": {},
   "outputs": [
    {
     "name": "stdout",
     "output_type": "stream",
     "text": [
      "<class 'pandas.core.frame.DataFrame'>\n",
      "Int64Index: 42086 entries, 10524 to 47798\n",
      "Data columns (total 10 columns):\n",
      " #   Column         Non-Null Count  Dtype         \n",
      "---  ------         --------------  -----         \n",
      " 0   date           42086 non-null  datetime64[ns]\n",
      " 1   reviewID       42086 non-null  object        \n",
      " 2   reviewerID     42086 non-null  object        \n",
      " 3   reviewContent  42086 non-null  object        \n",
      " 4   rating         42086 non-null  int64         \n",
      " 5   usefulCount    42086 non-null  int64         \n",
      " 6   coolCount      42086 non-null  int64         \n",
      " 7   funnyCount     42086 non-null  int64         \n",
      " 8   flagged        42086 non-null  object        \n",
      " 9   restaurantID   42086 non-null  object        \n",
      "dtypes: datetime64[ns](1), int64(4), object(5)\n",
      "memory usage: 3.5+ MB\n"
     ]
    }
   ],
   "source": [
    "restaurant_X_train.info()"
   ]
  },
  {
   "cell_type": "code",
   "execution_count": 10,
   "metadata": {},
   "outputs": [
    {
     "data": {
      "text/plain": [
       "15052    ***Alinea is truly a one-of-a-kind experience;...\n",
       "39211    ***Longman & Eagle is a true gastropub--a casu...\n",
       "39524    ***Graham Elliot serves up refined casual food...\n",
       "Name: reviewContent, dtype: object"
      ]
     },
     "execution_count": 10,
     "metadata": {},
     "output_type": "execute_result"
    }
   ],
   "source": [
    "reviews = pd.concat([restaurant_X_train, hotel_X_train.rename(columns={'hotelID':'restaurantID'})], ignore_index=True)\n",
    "reviews.groupby('reviewerID').agg({\"usefulCount\": np.sum, \n",
    "                                   \"coolCount\": np.sum, \n",
    "                                   \"funnyCount\": np.sum}).sort_values(by=['usefulCount'], ascending=False)\n",
    "reviews[reviews['reviewerID'] == 'w-w-k-QXosIKQ8HQVwU6IQ']['reviewContent']"
   ]
  },
  {
   "cell_type": "code",
   "execution_count": 11,
   "metadata": {},
   "outputs": [
    {
     "data": {
      "text/html": [
       "<div>\n",
       "<style scoped>\n",
       "    .dataframe tbody tr th:only-of-type {\n",
       "        vertical-align: middle;\n",
       "    }\n",
       "\n",
       "    .dataframe tbody tr th {\n",
       "        vertical-align: top;\n",
       "    }\n",
       "\n",
       "    .dataframe thead th {\n",
       "        text-align: right;\n",
       "    }\n",
       "</style>\n",
       "<table border=\"1\" class=\"dataframe\">\n",
       "  <thead>\n",
       "    <tr style=\"text-align: right;\">\n",
       "      <th></th>\n",
       "      <th>rating</th>\n",
       "      <th>usefulCount</th>\n",
       "      <th>coolCount</th>\n",
       "      <th>funnyCount</th>\n",
       "    </tr>\n",
       "    <tr>\n",
       "      <th>flagged</th>\n",
       "      <th></th>\n",
       "      <th></th>\n",
       "      <th></th>\n",
       "      <th></th>\n",
       "    </tr>\n",
       "  </thead>\n",
       "  <tbody>\n",
       "    <tr>\n",
       "      <th>N</th>\n",
       "      <td>158255</td>\n",
       "      <td>44474</td>\n",
       "      <td>29420</td>\n",
       "      <td>25257</td>\n",
       "    </tr>\n",
       "    <tr>\n",
       "      <th>Y</th>\n",
       "      <td>21366</td>\n",
       "      <td>0</td>\n",
       "      <td>0</td>\n",
       "      <td>0</td>\n",
       "    </tr>\n",
       "  </tbody>\n",
       "</table>\n",
       "</div>"
      ],
      "text/plain": [
       "         rating  usefulCount  coolCount  funnyCount\n",
       "flagged                                            \n",
       "N        158255        44474      29420       25257\n",
       "Y         21366            0          0           0"
      ]
     },
     "execution_count": 11,
     "metadata": {},
     "output_type": "execute_result"
    }
   ],
   "source": [
    "reviews.groupby('flagged').agg('sum')"
   ]
  },
  {
   "cell_type": "code",
   "execution_count": 12,
   "metadata": {},
   "outputs": [
    {
     "data": {
      "text/html": [
       "<div>\n",
       "<style scoped>\n",
       "    .dataframe tbody tr th:only-of-type {\n",
       "        vertical-align: middle;\n",
       "    }\n",
       "\n",
       "    .dataframe tbody tr th {\n",
       "        vertical-align: top;\n",
       "    }\n",
       "\n",
       "    .dataframe thead th {\n",
       "        text-align: right;\n",
       "    }\n",
       "</style>\n",
       "<table border=\"1\" class=\"dataframe\">\n",
       "  <thead>\n",
       "    <tr style=\"text-align: right;\">\n",
       "      <th></th>\n",
       "      <th>date</th>\n",
       "      <th>reviewID</th>\n",
       "      <th>reviewerID</th>\n",
       "      <th>reviewContent</th>\n",
       "      <th>usefulCount</th>\n",
       "      <th>coolCount</th>\n",
       "      <th>funnyCount</th>\n",
       "      <th>flagged</th>\n",
       "      <th>restaurantID</th>\n",
       "    </tr>\n",
       "    <tr>\n",
       "      <th>rating</th>\n",
       "      <th></th>\n",
       "      <th></th>\n",
       "      <th></th>\n",
       "      <th></th>\n",
       "      <th></th>\n",
       "      <th></th>\n",
       "      <th></th>\n",
       "      <th></th>\n",
       "      <th></th>\n",
       "    </tr>\n",
       "  </thead>\n",
       "  <tbody>\n",
       "    <tr>\n",
       "      <th>1</th>\n",
       "      <td>1438</td>\n",
       "      <td>1438</td>\n",
       "      <td>1438</td>\n",
       "      <td>1438</td>\n",
       "      <td>1438</td>\n",
       "      <td>1438</td>\n",
       "      <td>1438</td>\n",
       "      <td>1438</td>\n",
       "      <td>1438</td>\n",
       "    </tr>\n",
       "    <tr>\n",
       "      <th>2</th>\n",
       "      <td>2853</td>\n",
       "      <td>2853</td>\n",
       "      <td>2853</td>\n",
       "      <td>2853</td>\n",
       "      <td>2853</td>\n",
       "      <td>2853</td>\n",
       "      <td>2853</td>\n",
       "      <td>2853</td>\n",
       "      <td>2853</td>\n",
       "    </tr>\n",
       "    <tr>\n",
       "      <th>3</th>\n",
       "      <td>5849</td>\n",
       "      <td>5849</td>\n",
       "      <td>5849</td>\n",
       "      <td>5849</td>\n",
       "      <td>5849</td>\n",
       "      <td>5849</td>\n",
       "      <td>5849</td>\n",
       "      <td>5849</td>\n",
       "      <td>5849</td>\n",
       "    </tr>\n",
       "    <tr>\n",
       "      <th>4</th>\n",
       "      <td>15376</td>\n",
       "      <td>15376</td>\n",
       "      <td>15376</td>\n",
       "      <td>15376</td>\n",
       "      <td>15376</td>\n",
       "      <td>15376</td>\n",
       "      <td>15376</td>\n",
       "      <td>15376</td>\n",
       "      <td>15376</td>\n",
       "    </tr>\n",
       "    <tr>\n",
       "      <th>5</th>\n",
       "      <td>14412</td>\n",
       "      <td>14412</td>\n",
       "      <td>14412</td>\n",
       "      <td>14412</td>\n",
       "      <td>14412</td>\n",
       "      <td>14412</td>\n",
       "      <td>14412</td>\n",
       "      <td>14412</td>\n",
       "      <td>14412</td>\n",
       "    </tr>\n",
       "  </tbody>\n",
       "</table>\n",
       "</div>"
      ],
      "text/plain": [
       "         date  reviewID  reviewerID  reviewContent  usefulCount  coolCount  \\\n",
       "rating                                                                       \n",
       "1        1438      1438        1438           1438         1438       1438   \n",
       "2        2853      2853        2853           2853         2853       2853   \n",
       "3        5849      5849        5849           5849         5849       5849   \n",
       "4       15376     15376       15376          15376        15376      15376   \n",
       "5       14412     14412       14412          14412        14412      14412   \n",
       "\n",
       "        funnyCount  flagged  restaurantID  \n",
       "rating                                     \n",
       "1             1438     1438          1438  \n",
       "2             2853     2853          2853  \n",
       "3             5849     5849          5849  \n",
       "4            15376    15376         15376  \n",
       "5            14412    14412         14412  "
      ]
     },
     "metadata": {},
     "output_type": "display_data"
    },
    {
     "data": {
      "text/plain": [
       "(array([ 1438.,     0.,  2853.,     0.,     0.,  5849.,     0., 15376.,\n",
       "            0., 14412.]),\n",
       " array([1. , 1.4, 1.8, 2.2, 2.6, 3. , 3.4, 3.8, 4.2, 4.6, 5. ]),\n",
       " <BarContainer object of 10 artists>)"
      ]
     },
     "execution_count": 12,
     "metadata": {},
     "output_type": "execute_result"
    },
    {
     "data": {
      "image/png": "[encoded data removed]",
      "text/plain": [
       "<Figure size 432x288 with 1 Axes>"
      ]
     },
     "metadata": {
      "needs_background": "light"
     },
     "output_type": "display_data"
    }
   ],
   "source": [
    "trueReviews = reviews[reviews['flagged'] == 'N']\n",
    "fakeReviews = reviews[reviews['flagged'] == 'Y']\n",
    "display(trueReviews.groupby('rating').agg('count'))\n",
    "plt.hist(x=trueReviews.rating, bins=10)"
   ]
  },
  {
   "cell_type": "code",
   "execution_count": 13,
   "metadata": {},
   "outputs": [
    {
     "data": {
      "text/html": [
       "<div>\n",
       "<style scoped>\n",
       "    .dataframe tbody tr th:only-of-type {\n",
       "        vertical-align: middle;\n",
       "    }\n",
       "\n",
       "    .dataframe tbody tr th {\n",
       "        vertical-align: top;\n",
       "    }\n",
       "\n",
       "    .dataframe thead th {\n",
       "        text-align: right;\n",
       "    }\n",
       "</style>\n",
       "<table border=\"1\" class=\"dataframe\">\n",
       "  <thead>\n",
       "    <tr style=\"text-align: right;\">\n",
       "      <th></th>\n",
       "      <th>date</th>\n",
       "      <th>reviewID</th>\n",
       "      <th>reviewerID</th>\n",
       "      <th>reviewContent</th>\n",
       "      <th>usefulCount</th>\n",
       "      <th>coolCount</th>\n",
       "      <th>funnyCount</th>\n",
       "      <th>flagged</th>\n",
       "      <th>restaurantID</th>\n",
       "    </tr>\n",
       "    <tr>\n",
       "      <th>rating</th>\n",
       "      <th></th>\n",
       "      <th></th>\n",
       "      <th></th>\n",
       "      <th></th>\n",
       "      <th></th>\n",
       "      <th></th>\n",
       "      <th></th>\n",
       "      <th></th>\n",
       "      <th></th>\n",
       "    </tr>\n",
       "  </thead>\n",
       "  <tbody>\n",
       "    <tr>\n",
       "      <th>1</th>\n",
       "      <td>659</td>\n",
       "      <td>659</td>\n",
       "      <td>659</td>\n",
       "      <td>659</td>\n",
       "      <td>659</td>\n",
       "      <td>659</td>\n",
       "      <td>659</td>\n",
       "      <td>659</td>\n",
       "      <td>659</td>\n",
       "    </tr>\n",
       "    <tr>\n",
       "      <th>2</th>\n",
       "      <td>433</td>\n",
       "      <td>433</td>\n",
       "      <td>433</td>\n",
       "      <td>433</td>\n",
       "      <td>433</td>\n",
       "      <td>433</td>\n",
       "      <td>433</td>\n",
       "      <td>433</td>\n",
       "      <td>433</td>\n",
       "    </tr>\n",
       "    <tr>\n",
       "      <th>3</th>\n",
       "      <td>510</td>\n",
       "      <td>510</td>\n",
       "      <td>510</td>\n",
       "      <td>510</td>\n",
       "      <td>510</td>\n",
       "      <td>510</td>\n",
       "      <td>510</td>\n",
       "      <td>510</td>\n",
       "      <td>510</td>\n",
       "    </tr>\n",
       "    <tr>\n",
       "      <th>4</th>\n",
       "      <td>1479</td>\n",
       "      <td>1479</td>\n",
       "      <td>1479</td>\n",
       "      <td>1479</td>\n",
       "      <td>1479</td>\n",
       "      <td>1479</td>\n",
       "      <td>1479</td>\n",
       "      <td>1479</td>\n",
       "      <td>1479</td>\n",
       "    </tr>\n",
       "    <tr>\n",
       "      <th>5</th>\n",
       "      <td>2479</td>\n",
       "      <td>2479</td>\n",
       "      <td>2479</td>\n",
       "      <td>2479</td>\n",
       "      <td>2479</td>\n",
       "      <td>2479</td>\n",
       "      <td>2479</td>\n",
       "      <td>2479</td>\n",
       "      <td>2479</td>\n",
       "    </tr>\n",
       "  </tbody>\n",
       "</table>\n",
       "</div>"
      ],
      "text/plain": [
       "        date  reviewID  reviewerID  reviewContent  usefulCount  coolCount  \\\n",
       "rating                                                                      \n",
       "1        659       659         659            659          659        659   \n",
       "2        433       433         433            433          433        433   \n",
       "3        510       510         510            510          510        510   \n",
       "4       1479      1479        1479           1479         1479       1479   \n",
       "5       2479      2479        2479           2479         2479       2479   \n",
       "\n",
       "        funnyCount  flagged  restaurantID  \n",
       "rating                                     \n",
       "1              659      659           659  \n",
       "2              433      433           433  \n",
       "3              510      510           510  \n",
       "4             1479     1479          1479  \n",
       "5             2479     2479          2479  "
      ]
     },
     "metadata": {},
     "output_type": "display_data"
    },
    {
     "data": {
      "text/plain": [
       "(array([ 659.,    0.,  433.,    0.,    0.,  510.,    0., 1479.,    0.,\n",
       "        2479.]),\n",
       " array([1. , 1.4, 1.8, 2.2, 2.6, 3. , 3.4, 3.8, 4.2, 4.6, 5. ]),\n",
       " <BarContainer object of 10 artists>)"
      ]
     },
     "execution_count": 13,
     "metadata": {},
     "output_type": "execute_result"
    },
    {
     "data": {
      "image/png": "[encoded data removed]",
      "text/plain": [
       "<Figure size 432x288 with 1 Axes>"
      ]
     },
     "metadata": {
      "needs_background": "light"
     },
     "output_type": "display_data"
    }
   ],
   "source": [
    "display(fakeReviews.groupby('rating').agg('count'))\n",
    "plt.hist(x=fakeReviews.rating, bins=10)"
   ]
  },
  {
   "cell_type": "code",
   "execution_count": 14,
   "metadata": {},
   "outputs": [
    {
     "data": {
      "image/png": "[encoded data removed]",
      "text/plain": [
       "<Figure size 432x288 with 2 Axes>"
      ]
     },
     "metadata": {
      "needs_background": "light"
     },
     "output_type": "display_data"
    }
   ],
   "source": [
    "plt.subplot(1, 2, 1)\n",
    "plt.hist(x = trueReviews['reviewContent'].str.count(' ') + 1)\n",
    "plt.subplot(1, 2, 2)\n",
    "plt.hist(x = fakeReviews['reviewContent'].str.count(' ') + 1)\n",
    "plt.show()"
   ]
  },
  {
   "cell_type": "code",
   "execution_count": 15,
   "metadata": {},
   "outputs": [
    {
     "data": {
      "image/png": "[encoded data removed]",
      "text/plain": [
       "<Figure size 432x288 with 2 Axes>"
      ]
     },
     "metadata": {
      "needs_background": "light"
     },
     "output_type": "display_data"
    }
   ],
   "source": [
    "plt.subplot(1, 2, 1)\n",
    "plt.hist(x = trueReviews['reviewContent'].str.count('.') + 1)\n",
    "plt.subplot(1, 2, 2)\n",
    "plt.hist(x = fakeReviews['reviewContent'].str.count('.') + 1)\n",
    "plt.show()"
   ]
  },
  {
   "cell_type": "code",
   "execution_count": 16,
   "metadata": {},
   "outputs": [
    {
     "data": {
      "image/png": "[encoded data removed]",
      "text/plain": [
       "<Figure size 432x288 with 2 Axes>"
      ]
     },
     "metadata": {
      "needs_background": "light"
     },
     "output_type": "display_data"
    }
   ],
   "source": [
    "trueReviewerCounts = trueReviews.groupby(['reviewerID']).size().reset_index(name='counts')\n",
    "fakeReviewerCounts = fakeReviews.groupby(['reviewerID']).size().reset_index(name='counts')\n",
    "\n",
    "\n",
    "plt.subplot(1, 2, 1)\n",
    "plt.hist(x = trueReviewerCounts['counts'], bins=10)\n",
    "plt.subplot(1, 2, 2)\n",
    "plt.hist(x = fakeReviewerCounts['counts'], bins=10)\n",
    "plt.show()\n"
   ]
  },
  {
   "cell_type": "code",
   "execution_count": 17,
   "metadata": {},
   "outputs": [
    {
     "data": {
      "image/png": "[encoded data removed]",
      "text/plain": [
       "<Figure size 432x288 with 2 Axes>"
      ]
     },
     "metadata": {
      "needs_background": "light"
     },
     "output_type": "display_data"
    }
   ],
   "source": [
    "trueRestReviewCounts = trueReviews.groupby(['restaurantID']).size().reset_index(name='counts')\n",
    "fakeRestReviewCounts = fakeReviews.groupby(['restaurantID']).size().reset_index(name='counts')\n",
    "\n",
    "\n",
    "plt.subplot(1, 2, 1)\n",
    "plt.hist(x = trueRestReviewCounts['counts'], bins=10)\n",
    "plt.subplot(1, 2, 2)\n",
    "plt.hist(x = fakeRestReviewCounts['counts'], bins=10)\n",
    "plt.show()\n"
   ]
  },
  {
   "cell_type": "code",
   "execution_count": 18,
   "metadata": {},
   "outputs": [
    {
     "data": {
      "image/png": "[encoded data removed]",
      "text/plain": [
       "<Figure size 432x288 with 2 Axes>"
      ]
     },
     "metadata": {
      "needs_background": "light"
     },
     "output_type": "display_data"
    }
   ],
   "source": [
    "plt.subplot(1, 2, 1)\n",
    "trueReviews['reviewContent'].str.len().hist()\n",
    "plt.subplot(1, 2, 2)\n",
    "fakeReviews['reviewContent'].str.len().hist()\n",
    "plt.show()"
   ]
  },
  {
   "cell_type": "code",
   "execution_count": 19,
   "metadata": {},
   "outputs": [
    {
     "name": "stderr",
     "output_type": "stream",
     "text": [
      "[nltk_data] Downloading package stopwords to\n",
      "[nltk_data]     /Users/yizhang/nltk_data...\n",
      "[nltk_data]   Package stopwords is already up-to-date!\n"
     ]
    },
    {
     "data": {
      "image/png": "[encoded data removed]",
      "text/plain": [
       "<Figure size 432x288 with 1 Axes>"
      ]
     },
     "metadata": {
      "needs_background": "light"
     },
     "output_type": "display_data"
    }
   ],
   "source": [
    "# Code Snippet for Top N-grams Barchart\n",
    "\n",
    "import seaborn as sns\n",
    "import numpy as np\n",
    "from nltk.corpus import stopwords\n",
    "from sklearn.feature_extraction.text import CountVectorizer\n",
    "from collections import  Counter\n",
    "\n",
    "nltk.download('stopwords')\n",
    "\n",
    "def plot_top_ngrams_barchart(text, n=2):\n",
    "    synthetic = {'gmail', 'they', 'http', 'www'}\n",
    "    stop=set(stopwords.words('english')) | synthetic\n",
    "    new= text.str.split()\n",
    "    new= new.values.tolist()\n",
    "    corpus=[word for i in new for word in i if word.lower() not in stop]\n",
    "\n",
    "    def _get_top_ngram(corpus, n=None):\n",
    "        vec = CountVectorizer(ngram_range=(n, n)).fit(corpus)\n",
    "        bag_of_words = vec.transform(corpus)\n",
    "        sum_words = bag_of_words.sum(axis=0) \n",
    "        words_freq = [(word, sum_words[0, idx]) \n",
    "                      for word, idx in vec.vocabulary_.items()]\n",
    "        words_freq =sorted(words_freq, key = lambda x: x[1], reverse=True)\n",
    "        return words_freq[:20]\n",
    "\n",
    "    top_n_bigrams=_get_top_ngram(corpus,n)[:20]\n",
    "    x,y=map(list,zip(*top_n_bigrams))\n",
    "    sns.barplot(x=y,y=x)\n",
    "    \n",
    "\n",
    "plot_top_ngrams_barchart(trueReviews['reviewContent'],3)"
   ]
  },
  {
   "cell_type": "code",
   "execution_count": 20,
   "metadata": {},
   "outputs": [
    {
     "data": {
      "image/png": "[encoded data removed]",
      "text/plain": [
       "<Figure size 432x288 with 1 Axes>"
      ]
     },
     "metadata": {
      "needs_background": "light"
     },
     "output_type": "display_data"
    }
   ],
   "source": [
    "plot_top_ngrams_barchart(fakeReviews['reviewContent'],3)"
   ]
  },
  {
   "cell_type": "code",
   "execution_count": 21,
   "metadata": {},
   "outputs": [
    {
     "name": "stdout",
     "output_type": "stream",
     "text": [
      "Fake Reviewers 7118\n",
      "True Reviewers 28049\n",
      "True and Fake Reviewers 138\n"
     ]
    }
   ],
   "source": [
    "fake_df = restaurant_reviews[restaurant_reviews['flagged'] == 'Y'][\"reviewerID\"].to_frame()\n",
    "true_df = restaurant_reviews[restaurant_reviews['flagged'] == 'N'][\"reviewerID\"].to_frame()\n",
    "print(\"Fake Reviewers \" + str(len(fake_df[\"reviewerID\"].unique())))\n",
    "print(\"True Reviewers \" + str(len(true_df[\"reviewerID\"].unique())))\n",
    "print(\"True and Fake Reviewers \" + str(len(list(set(fake_df[\"reviewerID\"].unique()) & set(true_df[\"reviewerID\"].unique())))))"
   ]
  },
  {
   "cell_type": "code",
   "execution_count": 22,
   "metadata": {},
   "outputs": [
    {
     "name": "stdout",
     "output_type": "stream",
     "text": [
      "Fake stats Counts 6206 Sum 1549\n",
      "True stats Counts 20752 Sum 225700\n"
     ]
    }
   ],
   "source": [
    "full_rest_df = pd.merge(restaurant_reviews, restaurant_reviewers, on=\"reviewerID\")\n",
    "fake_df = full_rest_df[full_rest_df['flagged'] == 'Y'][\"firstCount\"]\n",
    "true_df = full_rest_df[full_rest_df['flagged'] == 'N'][\"firstCount\"]\n",
    "print(\"Fake stats Counts \" + str(fake_df.count()) + str(\" Sum \") + str(fake_df.sum()))\n",
    "print(\"True stats Counts \" + str(true_df.count()) + str(\" Sum \") + str(true_df.sum()))"
   ]
  },
  {
   "cell_type": "markdown",
   "metadata": {},
   "source": [
    "# Part 3: Model Training"
   ]
  },
  {
   "cell_type": "markdown",
   "metadata": {},
   "source": [
    "## Preparing for the word embeddings"
   ]
  },
  {
   "cell_type": "code",
   "execution_count": 23,
   "metadata": {},
   "outputs": [
    {
     "name": "stdout",
     "output_type": "stream",
     "text": [
      "Already downloaded the embedding\n",
      "Found 400000 word vectors.\n"
     ]
    }
   ],
   "source": [
    "# GloVe Embeddings\n",
    "# Download the GloVe embeddings\n",
    "if 'embedding' not in os.listdir('.') or not os.listdir('embedding'):\n",
    "    os.system('wget http://nlp.stanford.edu/data/glove.6B.zip -P embedding/')\n",
    "    os.system('cd embedding && unzip glove.6B.zip')\n",
    "    print('Data the GloVe embedding successfully!')\n",
    "else:\n",
    "    print('Already downloaded the embedding')\n",
    "    \n",
    "# Use the 100 dimensional GloVe embedding\n",
    "path_to_glove_file = \"./embedding/glove.6B.300d.txt\"\n",
    "\n",
    "glove_dimension = 300\n",
    "glove_embedding_map = {}\n",
    "with open(path_to_glove_file) as f:\n",
    "    for line in f:\n",
    "        word, coefs = line.split(maxsplit=1)\n",
    "        coefs = np.fromstring(coefs, \"f\", sep=\" \")\n",
    "        glove_embedding_map[word] = coefs\n",
    "\n",
    "print(\"Found %s word vectors.\" % len(glove_embedding_map))\n",
    "\n",
    "def get_glove_embedding(word):\n",
    "    return glove_embedding_map.get(word.strip(), None)\n"
   ]
  },
  {
   "cell_type": "code",
   "execution_count": 24,
   "metadata": {},
   "outputs": [
    {
     "name": "stderr",
     "output_type": "stream",
     "text": [
      "2021-11-27 00:05:19.604202: I tensorflow/core/platform/cpu_feature_guard.cc:151] This TensorFlow binary is optimized with oneAPI Deep Neural Network Library (oneDNN) to use the following CPU instructions in performance-critical operations:  AVX2 FMA\n",
      "To enable them in other operations, rebuild TensorFlow with the appropriate compiler flags.\n"
     ]
    }
   ],
   "source": [
    "# Pre-trained Elmo\n",
    "elmo = hub.load(\"https://tfhub.dev/google/elmo/3\")\n",
    "\n",
    "def get_elmo_embedding(words):\n",
    "    return elmo.signatures['default'](tf.constant(words))['elmo']\n"
   ]
  },
  {
   "cell_type": "markdown",
   "metadata": {},
   "source": [
    "## Model 1: GloVe Embedding + Plain LSTM"
   ]
  },
  {
   "cell_type": "code",
   "execution_count": 25,
   "metadata": {},
   "outputs": [
    {
     "name": "stdout",
     "output_type": "stream",
     "text": [
      "Model 1: Hotels reviews vocabulary size is 19218\n",
      "Converted 14701 words (4517 misses)\n",
      "training set shape: (3402, 50)\n",
      "Model: \"model_1_hotel\"\n",
      "_________________________________________________________________\n",
      " Layer (type)                Output Shape              Param #   \n",
      "=================================================================\n",
      " embedding (Embedding)       (None, None, 300)         5765400   \n",
      "                                                                 \n",
      " lstm (LSTM)                 (None, 64)                93440     \n",
      "                                                                 \n",
      " dense (Dense)               (None, 1)                 65        \n",
      "                                                                 \n",
      "=================================================================\n",
      "Total params: 5,858,905\n",
      "Trainable params: 93,505\n",
      "Non-trainable params: 5,765,400\n",
      "_________________________________________________________________\n",
      "None\n",
      "Epoch 1/2\n",
      "107/107 [==============================] - 7s 46ms/step - loss: 0.3858 - accuracy: 0.8704\n",
      "Epoch 2/2\n",
      "107/107 [==============================] - 5s 42ms/step - loss: 0.3642 - accuracy: 0.8777\n"
     ]
    },
    {
     "name": "stderr",
     "output_type": "stream",
     "text": [
      "/Users/yizhang/Documents/MIDS/W266/w266-final-project/venv/lib/python3.7/site-packages/sklearn/metrics/_classification.py:1308: UndefinedMetricWarning: Recall and F-score are ill-defined and being set to 0.0 in labels with no true samples. Use `zero_division` parameter to control this behavior.\n",
      "  _warn_prf(average, modifier, msg_start, len(result))\n",
      "/Users/yizhang/Documents/MIDS/W266/w266-final-project/venv/lib/python3.7/site-packages/sklearn/metrics/_classification.py:1308: UndefinedMetricWarning: Recall and F-score are ill-defined and being set to 0.0 in labels with no true samples. Use `zero_division` parameter to control this behavior.\n",
      "  _warn_prf(average, modifier, msg_start, len(result))\n",
      "/Users/yizhang/Documents/MIDS/W266/w266-final-project/venv/lib/python3.7/site-packages/sklearn/metrics/_classification.py:1308: UndefinedMetricWarning: Recall and F-score are ill-defined and being set to 0.0 in labels with no true samples. Use `zero_division` parameter to control this behavior.\n",
      "  _warn_prf(average, modifier, msg_start, len(result))\n"
     ]
    },
    {
     "name": "stdout",
     "output_type": "stream",
     "text": [
      "              precision    recall  f1-score   support\n",
      "\n",
      "       False       1.00      0.87      0.93      1134\n",
      "        True       0.00      0.00      0.00         0\n",
      "\n",
      "    accuracy                           0.87      1134\n",
      "   macro avg       0.50      0.44      0.47      1134\n",
      "weighted avg       1.00      0.87      0.93      1134\n",
      "\n",
      "Dev set class distribution\n",
      "N    0.872134\n",
      "Y    0.127866\n",
      "Name: flagged, dtype: float64\n",
      "              precision    recall  f1-score   support\n",
      "\n",
      "       False       1.00      0.50      0.67       432\n",
      "        True       0.00      0.00      0.00         0\n",
      "\n",
      "    accuracy                           0.50       432\n",
      "   macro avg       0.50      0.25      0.33       432\n",
      "weighted avg       1.00      0.50      0.67       432\n",
      "\n",
      "Test set class distribution\n",
      "N    0.5\n",
      "Y    0.5\n",
      "Name: flagged, dtype: float64\n"
     ]
    },
    {
     "name": "stderr",
     "output_type": "stream",
     "text": [
      "/Users/yizhang/Documents/MIDS/W266/w266-final-project/venv/lib/python3.7/site-packages/sklearn/metrics/_classification.py:1308: UndefinedMetricWarning: Recall and F-score are ill-defined and being set to 0.0 in labels with no true samples. Use `zero_division` parameter to control this behavior.\n",
      "  _warn_prf(average, modifier, msg_start, len(result))\n",
      "/Users/yizhang/Documents/MIDS/W266/w266-final-project/venv/lib/python3.7/site-packages/sklearn/metrics/_classification.py:1308: UndefinedMetricWarning: Recall and F-score are ill-defined and being set to 0.0 in labels with no true samples. Use `zero_division` parameter to control this behavior.\n",
      "  _warn_prf(average, modifier, msg_start, len(result))\n",
      "/Users/yizhang/Documents/MIDS/W266/w266-final-project/venv/lib/python3.7/site-packages/sklearn/metrics/_classification.py:1308: UndefinedMetricWarning: Recall and F-score are ill-defined and being set to 0.0 in labels with no true samples. Use `zero_division` parameter to control this behavior.\n",
      "  _warn_prf(average, modifier, msg_start, len(result))\n"
     ]
    }
   ],
   "source": [
    "def build_model_1_hotel(num_epochs=2, sequence_length=50):\n",
    "    \n",
    "    # First layer, vectorizing the word input\n",
    "    m1_hotel_vectorizer = TextVectorization(output_sequence_length=sequence_length)\n",
    "    m1_hotel_vectorizer.adapt(hotel_X_train['reviewContent'].to_numpy())\n",
    "    m1_hotel_voc = m1_hotel_vectorizer.get_vocabulary()\n",
    "\n",
    "    print(f\"Model 1: Hotels reviews vocabulary size is {len(m1_hotel_voc)}\")\n",
    "\n",
    "    # Build + Lock in the Embedding layer from GloVe\n",
    "    # Ref: https://keras.io/examples/nlp/pretrained_word_embeddings/\n",
    "    hits = 0\n",
    "    misses = 0\n",
    "    num_words = len(m1_hotel_voc)\n",
    "\n",
    "    # Prepare embedding matrix\n",
    "    m1_hotel_embedding_matrix = np.zeros((num_words, glove_dimension))\n",
    "    for i, word in enumerate(m1_hotel_voc):\n",
    "        embedding_vector = get_glove_embedding(word)\n",
    "        if embedding_vector is not None:\n",
    "            # Words not found in embedding index will be all-zeros.\n",
    "            # This includes the representation for \"padding\" and \"OOV\"\n",
    "            m1_hotel_embedding_matrix[i] = embedding_vector\n",
    "            hits += 1\n",
    "        else:\n",
    "            misses += 1\n",
    "    print(\"Converted %d words (%d misses)\" % (hits, misses))\n",
    "\n",
    "    m1_hotel_embedding_layer = Embedding(\n",
    "        num_words,\n",
    "        glove_dimension,\n",
    "        embeddings_initializer=tf.keras.initializers.Constant(m1_hotel_embedding_matrix),\n",
    "        trainable=False,\n",
    "    )\n",
    "\n",
    "    # Vectorize the input\n",
    "    hotel_X_train_ready = m1_hotel_vectorizer(hotel_X_train['reviewContent']).numpy()\n",
    "    hotel_X_dev_ready = m1_hotel_vectorizer(hotel_X_dev['reviewContent']).numpy()\n",
    "    hotel_X_test_ready = m1_hotel_vectorizer(hotel_X_test['reviewContent']).numpy()\n",
    "    print(f'training set shape: {hotel_X_train_ready.shape}')\n",
    "\n",
    "    # Build and train the model with \n",
    "    model = Sequential(name='model_1_hotel')\n",
    "    model.add(m1_hotel_embedding_layer)\n",
    "    model.add(LSTM(64, dropout=0.2, recurrent_dropout=0.2))\n",
    "    model.add(Dense(1, activation='sigmoid'))\n",
    "    model.compile(loss='binary_crossentropy', optimizer='adam', metrics=['accuracy'])\n",
    "\n",
    "    print(model.summary())\n",
    "    model.fit(hotel_X_train_ready, hotel_y_train, epochs=num_epochs)\n",
    "\n",
    "    # Evaluate on the dev set\n",
    "    hotel_y_predicted = model.predict(hotel_X_dev_ready)\n",
    "    print(classification_report(hotel_y_predicted > 0.5, hotel_y_dev))\n",
    "    print('Dev set class distribution')\n",
    "    print(hotel_X_dev['flagged'].value_counts() / len(hotel_X_dev))\n",
    "\n",
    "    # Evaluate on the test set\n",
    "    hotel_y_predicted = model.predict(hotel_X_test_ready)\n",
    "    print(classification_report(hotel_y_predicted > 0.5, hotel_y_test))\n",
    "    print('Test set class distribution')\n",
    "    print(hotel_X_test['flagged'].value_counts() / len(hotel_X_test))\n",
    "    \n",
    "build_model_1_hotel()"
   ]
  },
  {
   "cell_type": "markdown",
   "metadata": {},
   "source": [
    "## Model 2 - Data Resampling + GloVe Embedding + LSTM"
   ]
  },
  {
   "cell_type": "code",
   "execution_count": 26,
   "metadata": {},
   "outputs": [
    {
     "name": "stdout",
     "output_type": "stream",
     "text": [
      "There are 416 positive examples\n",
      "There are 2986 negative examples\n",
      "Model 1: Hotels reviews vocabulary size is 19218\n",
      "Converted 14701 words (4517 misses)\n",
      "training set shape: (5972, 50)\n",
      "Model: \"model_2_hotel\"\n",
      "_________________________________________________________________\n",
      " Layer (type)                Output Shape              Param #   \n",
      "=================================================================\n",
      " embedding_1 (Embedding)     (None, None, 300)         5765400   \n",
      "                                                                 \n",
      " lstm_1 (LSTM)               (None, 64)                93440     \n",
      "                                                                 \n",
      " dense_1 (Dense)             (None, 1)                 65        \n",
      "                                                                 \n",
      "=================================================================\n",
      "Total params: 5,858,905\n",
      "Trainable params: 93,505\n",
      "Non-trainable params: 5,765,400\n",
      "_________________________________________________________________\n",
      "None\n",
      "Epoch 1/2\n",
      "187/187 [==============================] - 10s 43ms/step - loss: 0.6657 - accuracy: 0.5953\n",
      "Epoch 2/2\n",
      "187/187 [==============================] - 9s 47ms/step - loss: 0.5658 - accuracy: 0.7163\n",
      "              precision    recall  f1-score   support\n",
      "\n",
      "       False       0.71      0.90      0.80       777\n",
      "        True       0.48      0.20      0.28       357\n",
      "\n",
      "    accuracy                           0.68      1134\n",
      "   macro avg       0.60      0.55      0.54      1134\n",
      "weighted avg       0.64      0.68      0.63      1134\n",
      "\n",
      "Dev set class distribution\n",
      "N    0.872134\n",
      "Y    0.127866\n",
      "Name: flagged, dtype: float64\n",
      "              precision    recall  f1-score   support\n",
      "\n",
      "       False       0.57      0.48      0.52       254\n",
      "        True       0.39      0.48      0.43       178\n",
      "\n",
      "    accuracy                           0.48       432\n",
      "   macro avg       0.48      0.48      0.48       432\n",
      "weighted avg       0.50      0.48      0.49       432\n",
      "\n",
      "Test set class distribution\n",
      "N    0.5\n",
      "Y    0.5\n",
      "Name: flagged, dtype: float64\n"
     ]
    }
   ],
   "source": [
    "# Split the positive/negative samples for more balanced sampling\n",
    "hotel_X_train_positive = hotel_X_train[hotel_X_train['flagged'] == 'Y']\n",
    "hotel_X_train_negative = hotel_X_train[hotel_X_train['flagged'] == 'N']\n",
    "\n",
    "print(f'There are {len(hotel_X_train_positive)} positive examples')\n",
    "print(f'There are {len(hotel_X_train_negative)} negative examples')\n",
    "\n",
    "def build_model_2_hotel(num_epochs=2, sequence_length=50, resample_ratio=0.5):\n",
    "\n",
    "    # First layer, vectorizing the word input\n",
    "    m2_hotel_vectorizer = TextVectorization(output_sequence_length=sequence_length)\n",
    "    m2_hotel_vectorizer.adapt(hotel_X_train['reviewContent'].to_numpy())\n",
    "    m2_hotel_voc = m2_hotel_vectorizer.get_vocabulary()\n",
    "\n",
    "    print(f\"Model 1: Hotels reviews vocabulary size is {len(m2_hotel_voc)}\")\n",
    "\n",
    "    # Build + Lock in the Embedding layer from GloVe\n",
    "    # Ref: https://keras.io/examples/nlp/pretrained_word_embeddings/\n",
    "    hits = 0\n",
    "    misses = 0\n",
    "    num_words = len(m2_hotel_voc)\n",
    "\n",
    "    # Prepare embedding matrix\n",
    "    m2_hotel_embedding_matrix = np.zeros((num_words, glove_dimension))\n",
    "    for i, word in enumerate(m2_hotel_voc):\n",
    "        embedding_vector = get_glove_embedding(word)\n",
    "        if embedding_vector is not None:\n",
    "            # Words not found in embedding index will be all-zeros.\n",
    "            # This includes the representation for \"padding\" and \"OOV\"\n",
    "            m2_hotel_embedding_matrix[i] = embedding_vector\n",
    "            hits += 1\n",
    "        else:\n",
    "            misses += 1\n",
    "    print(\"Converted %d words (%d misses)\" % (hits, misses))\n",
    "\n",
    "    m2_hotel_embedding_layer = Embedding(\n",
    "        num_words,\n",
    "        glove_dimension,\n",
    "        embeddings_initializer=tf.keras.initializers.Constant(m2_hotel_embedding_matrix),\n",
    "        trainable=False,\n",
    "    )\n",
    "    \n",
    "    # Oversample some positive training samples\n",
    "    num_negative_samples = len(hotel_X_train_negative)\n",
    "    positive_ratio = resample_ratio\n",
    "    hotel_positives = hotel_X_train_positive.sample(n=int(num_negative_samples * positive_ratio), replace=True).reset_index(drop=True)\n",
    "    hotel_negatives = hotel_X_train_negative\n",
    "\n",
    "    hotel_X_train_balanced = pd.concat([hotel_positives, hotel_negatives], ignore_index=True).sample(frac=1)\n",
    "    hotel_y_train_balanced = hotel_X_train_balanced['flagged'] == 'Y'\n",
    "    \n",
    "    # Vectorize the input\n",
    "    hotel_X_train_ready = m2_hotel_vectorizer(hotel_X_train_balanced['reviewContent']).numpy()\n",
    "    hotel_X_dev_ready = m2_hotel_vectorizer(hotel_X_dev['reviewContent']).numpy()\n",
    "    hotel_X_test_ready = m2_hotel_vectorizer(hotel_X_test['reviewContent']).numpy()\n",
    "    print(f'training set shape: {hotel_X_train_ready.shape}')\n",
    "\n",
    "    # Build and train the model with \n",
    "    model = Sequential(name='model_2_hotel')\n",
    "    model.add(m2_hotel_embedding_layer)\n",
    "    model.add(LSTM(64, dropout=0.2, recurrent_dropout=0.2))\n",
    "    model.add(Dense(1, activation='sigmoid'))\n",
    "    model.compile(loss='binary_crossentropy', optimizer='adam', metrics=['accuracy'])\n",
    "\n",
    "    print(model.summary())\n",
    "    model.fit(hotel_X_train_ready, hotel_y_train_balanced, epochs=num_epochs)\n",
    "\n",
    "    # Evaluate on the dev set\n",
    "    hotel_y_predicted = model.predict(hotel_X_dev_ready)\n",
    "    print(classification_report(hotel_y_predicted > 0.5, hotel_y_dev))\n",
    "    print('Dev set class distribution')\n",
    "    print(hotel_X_dev['flagged'].value_counts() / len(hotel_X_dev))\n",
    "\n",
    "    # Evaluate on the test set\n",
    "    hotel_y_predicted = model.predict(hotel_X_test_ready)\n",
    "    print(classification_report(hotel_y_predicted > 0.5, hotel_y_test))\n",
    "    print('Test set class distribution')\n",
    "    print(hotel_X_test['flagged'].value_counts() / len(hotel_X_test))\n",
    "    \n",
    "build_model_2_hotel(resample_ratio=1)\n",
    "\n"
   ]
  },
  {
   "cell_type": "markdown",
   "metadata": {},
   "source": [
    "# Model 3: Train with generated fake reviews on LSTM"
   ]
  },
  {
   "cell_type": "code",
   "execution_count": 27,
   "metadata": {},
   "outputs": [],
   "source": [
    "# Generating fake reviews from gpt-2 based on the training fake review set.\n",
    "# Catherine ran it in an AWS instance and it takes a really long time.\n",
    "# Commenting out the code to not run over and over again.\n",
    "##########################\n",
    "# !pip install transformers\n",
    "# !pip install torch\n",
    "\n",
    "# hotel_reviews_fake = hotel_X_train[hotel_X_train['flagged'] == 'Y']\n",
    "# np.savetxt(r'data/hotel_fake.txt', hotel_reviews_fake['reviewContent'].values, fmt='%s')\n",
    "\n",
    "# !python gpt2_fine_tuning.py \\\n",
    "#     --output_dir hotel \\\n",
    "#     --model_name_or_path=gpt2 \\\n",
    "#     --do_train \\\n",
    "#     --train_data_file='./data/hotel_fake.txt' \\\n",
    "#     --per_gpu_train_batch_size=1\n",
    "\n",
    "# !python gpt2_generation.py \\\n",
    "#     --model_name_or_path hotel \\\n",
    "#     --length=10 \\\n",
    "#     --seed=3"
   ]
  },
  {
   "cell_type": "code",
   "execution_count": 28,
   "metadata": {},
   "outputs": [
    {
     "name": "stdout",
     "output_type": "stream",
     "text": [
      "There are 416 positive examples\n",
      "There are 3821 generated positive examples\n",
      "There are 2986 negative examples\n",
      "Training samples: 2986 positive, 2986 negative\n",
      "Model 3: Hotels reviews vocabulary size is 22659\n",
      "Converted 16721 words (5938 misses)\n",
      "training set shape: (5972, 50)\n",
      "Model: \"model_3_hotel\"\n",
      "_________________________________________________________________\n",
      " Layer (type)                Output Shape              Param #   \n",
      "=================================================================\n",
      " embedding_2 (Embedding)     (None, None, 300)         6797700   \n",
      "                                                                 \n",
      " lstm_2 (LSTM)               (None, 64)                93440     \n",
      "                                                                 \n",
      " dense_2 (Dense)             (None, 1)                 65        \n",
      "                                                                 \n",
      "=================================================================\n",
      "Total params: 6,891,205\n",
      "Trainable params: 93,505\n",
      "Non-trainable params: 6,797,700\n",
      "_________________________________________________________________\n",
      "None\n",
      "Epoch 1/10\n",
      "187/187 [==============================] - 11s 45ms/step - loss: 0.5636 - accuracy: 0.7242\n",
      "Epoch 2/10\n",
      "187/187 [==============================] - 9s 46ms/step - loss: 0.4845 - accuracy: 0.7472\n",
      "Epoch 3/10\n",
      "187/187 [==============================] - 8s 43ms/step - loss: 0.4516 - accuracy: 0.7728\n",
      "Epoch 4/10\n",
      "187/187 [==============================] - 9s 46ms/step - loss: 0.4100 - accuracy: 0.8017\n",
      "Epoch 5/10\n",
      "187/187 [==============================] - 8s 43ms/step - loss: 0.3789 - accuracy: 0.8222\n",
      "Epoch 6/10\n",
      "187/187 [==============================] - 8s 45ms/step - loss: 0.3491 - accuracy: 0.8468\n",
      "Epoch 7/10\n",
      "187/187 [==============================] - 9s 46ms/step - loss: 0.3218 - accuracy: 0.8615\n",
      "Epoch 8/10\n",
      "187/187 [==============================] - 9s 48ms/step - loss: 0.2908 - accuracy: 0.8769\n",
      "Epoch 9/10\n",
      "187/187 [==============================] - 9s 50ms/step - loss: 0.2629 - accuracy: 0.8900\n",
      "Epoch 10/10\n",
      "187/187 [==============================] - 10s 51ms/step - loss: 0.2424 - accuracy: 0.8963\n",
      "              precision    recall  f1-score   support\n",
      "\n",
      "       False       0.85      0.90      0.87       938\n",
      "        True       0.34      0.26      0.29       196\n",
      "\n",
      "    accuracy                           0.79      1134\n",
      "   macro avg       0.60      0.58      0.58      1134\n",
      "weighted avg       0.76      0.79      0.77      1134\n",
      "\n",
      "Dev set class distribution\n",
      "N    0.872134\n",
      "Y    0.127866\n",
      "Name: flagged, dtype: float64\n",
      "              precision    recall  f1-score   support\n",
      "\n",
      "       False       0.75      0.50      0.60       323\n",
      "        True       0.25      0.50      0.33       109\n",
      "\n",
      "    accuracy                           0.50       432\n",
      "   macro avg       0.50      0.50      0.46       432\n",
      "weighted avg       0.62      0.50      0.53       432\n",
      "\n",
      "Test set class distribution\n",
      "N    0.5\n",
      "Y    0.5\n",
      "Name: flagged, dtype: float64\n"
     ]
    }
   ],
   "source": [
    "# Load more generated fake reviews for model 3:\n",
    "# Load in previous generated fake reviews\n",
    "with open('generated_hotel_fake.txt') as f:\n",
    "    lines = f.read().splitlines()\n",
    "    hotel_X_train_positive_generated = pd.DataFrame({'reviewContent':lines, 'flagged': 'Y'})\n",
    "\n",
    "def build_model_3_hotel(num_epochs=2, sequence_length=50):\n",
    "    # Add generated fake reviews into the training set\n",
    "    hotel_X_train_positive = hotel_X_train[hotel_X_train['flagged'] == 'Y']\n",
    "    hotel_X_train_negative = hotel_X_train[hotel_X_train['flagged'] == 'N']\n",
    "\n",
    "    print(f'There are {len(hotel_X_train_positive)} positive examples')\n",
    "    print(f'There are {len(hotel_X_train_positive_generated)} generated positive examples')\n",
    "    print(f'There are {len(hotel_X_train_negative)} negative examples')\n",
    "\n",
    "    num_positive_needed = len(hotel_X_train_negative) - len(hotel_X_train_positive)\n",
    "    hotel_X_train_positive_generated_sampled = hotel_X_train_positive_generated.sample(n=num_positive_needed)\n",
    "    hotel_X_train_all_positive = pd.concat([hotel_X_train_positive, hotel_X_train_positive_generated_sampled], ignore_index=True)\n",
    "    hotel_X_train_balanced = pd.concat([hotel_X_train_all_positive, hotel_X_train_negative], ignore_index=True).sample(frac=1)\n",
    "    hotel_y_train_balanced = hotel_X_train_balanced['flagged'] == 'Y'\n",
    "\n",
    "    print(f\"Training samples: {sum(hotel_X_train_balanced['flagged'] == 'Y')} positive, {sum(hotel_X_train_balanced['flagged'] == 'N')} negative\")\n",
    "\n",
    "    # For model 3, have to re-do the embedding again:\n",
    "    m3_hotel_vectorizer = TextVectorization(output_sequence_length=sequence_length)\n",
    "    m3_hotel_vectorizer.adapt(hotel_X_train_balanced['reviewContent'].to_numpy())\n",
    "    m3_hotel_voc = m3_hotel_vectorizer.get_vocabulary()\n",
    "    print(f\"Model 3: Hotels reviews vocabulary size is {len(m3_hotel_voc)}\")\n",
    "\n",
    "    # Build + Lock in the Embedding layer from GloVe again\n",
    "    hits = 0\n",
    "    misses = 0\n",
    "    num_words = len(m3_hotel_voc)\n",
    "\n",
    "    # Prepare embedding matrix\n",
    "    m3_hotel_embedding_matrix = np.zeros((num_words, glove_dimension))\n",
    "    for i, word in enumerate(m3_hotel_voc):\n",
    "        embedding_vector = get_glove_embedding(word)\n",
    "        if embedding_vector is not None:\n",
    "            # Words not found in embedding index will be all-zeros.\n",
    "            # This includes the representation for \"padding\" and \"OOV\"\n",
    "            m3_hotel_embedding_matrix[i] = embedding_vector\n",
    "            hits += 1\n",
    "        else:\n",
    "            misses += 1\n",
    "    print(\"Converted %d words (%d misses)\" % (hits, misses))\n",
    "\n",
    "    m3_hotel_embedding_layer = Embedding(\n",
    "        num_words,\n",
    "        glove_dimension,\n",
    "        embeddings_initializer=tf.keras.initializers.Constant(m3_hotel_embedding_matrix),\n",
    "        trainable=False,\n",
    "    )\n",
    "\n",
    "    # Vectorize the input\n",
    "    hotel_X_train_ready = m3_hotel_vectorizer(hotel_X_train_balanced['reviewContent']).numpy()\n",
    "    hotel_X_dev_ready = m3_hotel_vectorizer(hotel_X_dev['reviewContent']).numpy()\n",
    "    hotel_X_test_ready = m3_hotel_vectorizer(hotel_X_test['reviewContent']).numpy()\n",
    "    print(f'training set shape: {hotel_X_train_ready.shape}')\n",
    "\n",
    "    # Build and train the model with \n",
    "    model = Sequential(name='model_3_hotel')\n",
    "    model.add(m3_hotel_embedding_layer)\n",
    "    model.add(LSTM(64, dropout=0.2, recurrent_dropout=0.2))\n",
    "    model.add(Dense(1, activation='sigmoid'))\n",
    "    model.compile(loss='binary_crossentropy', optimizer='adam', metrics=['accuracy'])\n",
    "\n",
    "    print(model.summary())\n",
    "    model.fit(hotel_X_train_ready, hotel_y_train_balanced, epochs=num_epochs)\n",
    "\n",
    "    # Evaluate on the dev set\n",
    "    hotel_y_predicted = model.predict(hotel_X_dev_ready)\n",
    "    print(classification_report(hotel_y_predicted > 0.5, hotel_y_dev))\n",
    "    print('Dev set class distribution')\n",
    "    print(hotel_X_dev['flagged'].value_counts() / len(hotel_X_dev))\n",
    "\n",
    "    # Evaluate on the test set\n",
    "    hotel_y_predicted = model.predict(hotel_X_test_ready)\n",
    "    print(classification_report(hotel_y_predicted > 0.5, hotel_y_test))\n",
    "    print('Test set class distribution')\n",
    "    print(hotel_X_test['flagged'].value_counts() / len(hotel_X_test))\n",
    "    \n",
    "build_model_3_hotel(num_epochs=10)\n"
   ]
  },
  {
   "cell_type": "markdown",
   "metadata": {},
   "source": [
    "# Model 4: Training with generated fake reviews on BERT"
   ]
  },
  {
   "cell_type": "code",
   "execution_count": 29,
   "metadata": {},
   "outputs": [
    {
     "name": "stdout",
     "output_type": "stream",
     "text": [
      "There are 416 positive examples\n",
      "There are 3821 generated positive examples\n",
      "There are 2986 negative examples\n",
      "Training samples: 2986 positive, 2986 negative\n",
      "Model: \"model\"\n",
      "__________________________________________________________________________________________________\n",
      " Layer (type)                   Output Shape         Param #     Connected to                     \n",
      "==================================================================================================\n",
      " input_1 (InputLayer)           [(None,)]            0           []                               \n",
      "                                                                                                  \n",
      " keras_layer (KerasLayer)       {'input_word_ids':   0           ['input_1[0][0]']                \n",
      "                                (None, 128),                                                      \n",
      "                                 'input_mask': (Non                                               \n",
      "                                e, 128),                                                          \n",
      "                                 'input_type_ids':                                                \n",
      "                                (None, 128)}                                                      \n",
      "                                                                                                  \n",
      " keras_layer_1 (KerasLayer)     {'sequence_output':  9591041     ['keras_layer[0][0]',            \n",
      "                                 (None, 128, 256),                'keras_layer[0][1]',            \n",
      "                                 'pooled_output': (               'keras_layer[0][2]']            \n",
      "                                None, 256),                                                       \n",
      "                                 'encoder_outputs':                                               \n",
      "                                 [(None, 128, 256),                                               \n",
      "                                 (None, 128, 256)],                                               \n",
      "                                 'default': (None,                                                \n",
      "                                256)}                                                             \n",
      "                                                                                                  \n",
      " dropout (Dropout)              (None, 256)          0           ['keras_layer_1[0][3]']          \n",
      "                                                                                                  \n",
      " model_4_hotel (Dense)          (None, 1)            257         ['dropout[0][0]']                \n",
      "                                                                                                  \n",
      "==================================================================================================\n",
      "Total params: 9,591,298\n",
      "Trainable params: 9,591,297\n",
      "Non-trainable params: 1\n",
      "__________________________________________________________________________________________________\n",
      "None\n",
      "187/187 [==============================] - 125s 652ms/step - loss: 0.5555 - accuracy: 0.7192\n",
      "              precision    recall  f1-score   support\n",
      "\n",
      "       False       0.89      0.89      0.89       989\n",
      "        True       0.24      0.24      0.24       145\n",
      "\n",
      "    accuracy                           0.81      1134\n",
      "   macro avg       0.57      0.57      0.57      1134\n",
      "weighted avg       0.81      0.81      0.81      1134\n",
      "\n",
      "Dev set class distribution\n",
      "N    0.872134\n",
      "Y    0.127866\n",
      "Name: flagged, dtype: float64\n",
      "              precision    recall  f1-score   support\n",
      "\n",
      "       False       0.81      0.51      0.63       340\n",
      "        True       0.23      0.54      0.32        92\n",
      "\n",
      "    accuracy                           0.52       432\n",
      "   macro avg       0.52      0.53      0.48       432\n",
      "weighted avg       0.68      0.52      0.56       432\n",
      "\n",
      "Test set class distribution\n",
      "N    0.5\n",
      "Y    0.5\n",
      "Name: flagged, dtype: float64\n"
     ]
    }
   ],
   "source": [
    "# Train BERT\n",
    "import tensorflow_text as text \n",
    "def build_model_4_hotel(num_epochs=1):\n",
    "    # Add generated fake reviews into the training set\n",
    "    hotel_X_train_positive = hotel_X_train[hotel_X_train['flagged'] == 'Y']\n",
    "    hotel_X_train_negative = hotel_X_train[hotel_X_train['flagged'] == 'N']\n",
    "\n",
    "    print(f'There are {len(hotel_X_train_positive)} positive examples')\n",
    "    print(f'There are {len(hotel_X_train_positive_generated)} generated positive examples')\n",
    "    print(f'There are {len(hotel_X_train_negative)} negative examples')\n",
    "\n",
    "    num_positive_needed = len(hotel_X_train_negative) - len(hotel_X_train_positive)\n",
    "    hotel_X_train_positive_generated_sampled = hotel_X_train_positive_generated.sample(n=num_positive_needed)\n",
    "    hotel_X_train_all_positive = pd.concat([hotel_X_train_positive, hotel_X_train_positive_generated_sampled], ignore_index=True)\n",
    "    hotel_X_train_balanced = pd.concat([hotel_X_train_all_positive, hotel_X_train_negative], ignore_index=True).sample(frac=1)\n",
    "    hotel_y_train_balanced = hotel_X_train_balanced['flagged'] == 'Y'\n",
    "\n",
    "    print(f\"Training samples: {sum(hotel_X_train_balanced['flagged'] == 'Y')} positive, {sum(hotel_X_train_balanced['flagged'] == 'N')} negative\")\n",
    "\n",
    "    # BERT has its own input and preprocessing\n",
    "    text_input = tf.keras.layers.Input(shape=(), dtype=tf.string)\n",
    "    preprocessor = hub.KerasLayer(\"https://tfhub.dev/tensorflow/albert_en_preprocess/3\")\n",
    "    encoder_inputs = preprocessor(text_input)\n",
    "    encoder = hub.KerasLayer(\"https://tfhub.dev/tensorflow/small_bert/bert_en_uncased_L-2_H-256_A-4/1\", trainable=True)\n",
    "    outputs = encoder(encoder_inputs)\n",
    "\n",
    "    net = outputs['pooled_output']\n",
    "    net = Dropout(0.2)(net)\n",
    "    net = Dense(1, activation='sigmoid', name='model_4_hotel')(net)\n",
    "    model = tf.keras.Model(text_input, net)\n",
    "    model.compile(loss='binary_crossentropy', optimizer='adam', metrics=['accuracy'])\n",
    "    print(model.summary())\n",
    "\n",
    "    model.fit(hotel_X_train_balanced['reviewContent'], hotel_y_train_balanced, epochs=num_epochs)\n",
    "\n",
    "    # Evaluate on the dev set\n",
    "    hotel_y_predicted = model.predict(hotel_X_dev['reviewContent'])\n",
    "    print(classification_report(hotel_y_predicted > 0.5, hotel_y_dev))\n",
    "    print('Dev set class distribution')\n",
    "    print(hotel_X_dev['flagged'].value_counts() / len(hotel_X_dev))\n",
    "\n",
    "    # Evaluate on the test set\n",
    "    hotel_y_predicted = model.predict(hotel_X_test['reviewContent'])\n",
    "    print(classification_report(hotel_y_predicted > 0.5, hotel_y_test))\n",
    "    print('Test set class distribution')\n",
    "    print(hotel_X_test['flagged'].value_counts() / len(hotel_X_test))\n",
    "    \n",
    "build_model_4_hotel()\n"
   ]
  },
  {
   "cell_type": "markdown",
   "metadata": {},
   "source": [
    "# Model 5: Training with generated fake reviews on BERT with Elmo embedding"
   ]
  },
  {
   "cell_type": "code",
   "execution_count": 30,
   "metadata": {
    "scrolled": true
   },
   "outputs": [
    {
     "name": "stdout",
     "output_type": "stream",
     "text": [
      "There are 416 positive examples\n",
      "There are 3821 generated positive examples\n",
      "There are 2986 negative examples\n",
      "Training samples: 2986 positive, 2986 negative\n",
      "Model 5: Hotels reviews vocabulary size is 22745\n",
      "training set shape: (5972, 50)\n",
      "Model: \"model_5_hotel\"\n",
      "_________________________________________________________________\n",
      " Layer (type)                Output Shape              Param #   \n",
      "=================================================================\n",
      " embedding_3 (Embedding)     (None, None, 1024)        23290880  \n",
      "                                                                 \n",
      " lstm_3 (LSTM)               (None, 64)                278784    \n",
      "                                                                 \n",
      " dense_3 (Dense)             (None, 1)                 65        \n",
      "                                                                 \n",
      "=================================================================\n",
      "Total params: 23,569,729\n",
      "Trainable params: 278,849\n",
      "Non-trainable params: 23,290,880\n",
      "_________________________________________________________________\n",
      "None\n",
      "Epoch 1/2\n",
      "187/187 [==============================] - 19s 87ms/step - loss: 0.5482 - accuracy: 0.7338\n",
      "Epoch 2/2\n",
      "187/187 [==============================] - 17s 89ms/step - loss: 0.5230 - accuracy: 0.7388\n",
      "              precision    recall  f1-score   support\n",
      "\n",
      "       False       0.89      0.89      0.89       996\n",
      "        True       0.22      0.23      0.23       138\n",
      "\n",
      "    accuracy                           0.81      1134\n",
      "   macro avg       0.56      0.56      0.56      1134\n",
      "weighted avg       0.81      0.81      0.81      1134\n",
      "\n",
      "Dev set class distribution\n",
      "N    0.872134\n",
      "Y    0.127866\n",
      "Name: flagged, dtype: float64\n",
      "              precision    recall  f1-score   support\n",
      "\n",
      "       False       0.80      0.50      0.62       342\n",
      "        True       0.21      0.51      0.30        90\n",
      "\n",
      "    accuracy                           0.50       432\n",
      "   macro avg       0.50      0.51      0.46       432\n",
      "weighted avg       0.67      0.50      0.55       432\n",
      "\n",
      "Test set class distribution\n",
      "N    0.5\n",
      "Y    0.5\n",
      "Name: flagged, dtype: float64\n"
     ]
    }
   ],
   "source": [
    "def build_model_5_hotel(num_epochs=2, sequence_length=50):\n",
    "    # Add generated fake reviews into the training set\n",
    "    hotel_X_train_positive = hotel_X_train[hotel_X_train['flagged'] == 'Y']\n",
    "    hotel_X_train_negative = hotel_X_train[hotel_X_train['flagged'] == 'N']\n",
    "\n",
    "    print(f'There are {len(hotel_X_train_positive)} positive examples')\n",
    "    print(f'There are {len(hotel_X_train_positive_generated)} generated positive examples')\n",
    "    print(f'There are {len(hotel_X_train_negative)} negative examples')\n",
    "\n",
    "    num_positive_needed = len(hotel_X_train_negative) - len(hotel_X_train_positive)\n",
    "    hotel_X_train_positive_generated_sampled = hotel_X_train_positive_generated.sample(n=num_positive_needed)\n",
    "    hotel_X_train_all_positive = pd.concat([hotel_X_train_positive, hotel_X_train_positive_generated_sampled], ignore_index=True)\n",
    "    hotel_X_train_balanced = pd.concat([hotel_X_train_all_positive, hotel_X_train_negative], ignore_index=True).sample(frac=1)\n",
    "    hotel_y_train_balanced = hotel_X_train_balanced['flagged'] == 'Y'\n",
    "\n",
    "    print(f\"Training samples: {sum(hotel_X_train_balanced['flagged'] == 'Y')} positive, {sum(hotel_X_train_balanced['flagged'] == 'N')} negative\")\n",
    "\n",
    "\n",
    "    m5_hotel_vectorizer = TextVectorization(output_sequence_length=sequence_length)\n",
    "    m5_hotel_vectorizer.adapt(hotel_X_train_balanced['reviewContent'].to_numpy())\n",
    "    m5_hotel_voc = m5_hotel_vectorizer.get_vocabulary()\n",
    "    print(f\"Model 5: Hotels reviews vocabulary size is {len(m5_hotel_voc)}\")\n",
    "\n",
    "    elmo_embeddings = get_elmo_embedding(m5_hotel_voc)\n",
    "\n",
    "    # Building the embedding layer using Elmo results\n",
    "    elmo_embedding_dim = 1024\n",
    "    num_words = len(m5_hotel_voc)\n",
    "\n",
    "    m5_hotel_embedding_matrix = np.zeros((num_words, elmo_embedding_dim))\n",
    "    for i, word in enumerate(m5_hotel_voc):\n",
    "        m5_hotel_embedding_matrix[i] = elmo_embeddings[i][0]\n",
    "\n",
    "    m5_hotel_embedding_layer = Embedding(\n",
    "        num_words,\n",
    "        elmo_embedding_dim,\n",
    "        embeddings_initializer=tf.keras.initializers.Constant(m5_hotel_embedding_matrix),\n",
    "        trainable=False,\n",
    "    )\n",
    "\n",
    "    # Vectorize the input\n",
    "    hotel_X_train_ready = m5_hotel_vectorizer(hotel_X_train_balanced['reviewContent']).numpy()\n",
    "    hotel_X_dev_ready = m5_hotel_vectorizer(hotel_X_dev['reviewContent']).numpy()\n",
    "    hotel_X_test_ready = m5_hotel_vectorizer(hotel_X_test['reviewContent']).numpy()\n",
    "    print(f'training set shape: {hotel_X_train_ready.shape}')\n",
    "\n",
    "    # Build and train the model with \n",
    "    model = Sequential(name='model_5_hotel')\n",
    "    model.add(m5_hotel_embedding_layer)\n",
    "    model.add(LSTM(64, dropout=0.2, recurrent_dropout=0.2))\n",
    "    model.add(Dense(1, activation='sigmoid'))\n",
    "    model.compile(loss='binary_crossentropy', optimizer='adam', metrics=['accuracy'])\n",
    "\n",
    "    print(model.summary())\n",
    "    model.fit(hotel_X_train_ready, hotel_y_train_balanced, epochs=num_epochs)\n",
    "\n",
    "    # Evaluate on the dev set\n",
    "    hotel_y_predicted = model.predict(hotel_X_dev_ready)\n",
    "    print(classification_report(hotel_y_predicted > 0.5, hotel_y_dev))\n",
    "    print('Dev set class distribution')\n",
    "    print(hotel_X_dev['flagged'].value_counts() / len(hotel_X_dev))\n",
    "\n",
    "    # Evaluate on the test set\n",
    "    hotel_y_predicted = model.predict(hotel_X_test_ready)\n",
    "    print(classification_report(hotel_y_predicted > 0.5, hotel_y_test))\n",
    "    print('Test set class distribution')\n",
    "    print(hotel_X_test['flagged'].value_counts() / len(hotel_X_test))\n",
    "\n",
    "\n",
    "build_model_5_hotel()\n"
   ]
  },
  {
   "cell_type": "markdown",
   "metadata": {},
   "source": [
    "# "
   ]
  }
 ],
 "metadata": {
  "anaconda-cloud": {},
  "kernelspec": {
   "display_name": "Python 3 (ipykernel)",
   "language": "python",
   "name": "python3"
  },
  "language_info": {
   "codemirror_mode": {
    "name": "ipython",
    "version": 3
   },
   "file_extension": ".py",
   "mimetype": "text/x-python",
   "name": "python",
   "nbconvert_exporter": "python",
   "pygments_lexer": "ipython3",
   "version": "3.7.9"
  }
 },
 "nbformat": 4,
 "nbformat_minor": 1
}
