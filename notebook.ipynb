{
 "cells": [
  {
   "cell_type": "markdown",
   "metadata": {},
   "source": [
    "# W266 Final Project\n",
    "\n",
    "Authors: Satheesh Joseph, Catherine Mou, Yi Zhang"
   ]
  },
  {
   "cell_type": "markdown",
   "metadata": {},
   "source": [
    "*TODO*\n",
    "\n",
    "- Introduction\n",
    "- Literature review"
   ]
  },
  {
   "cell_type": "markdown",
   "metadata": {},
   "source": [
    "## Downloading and loading the data\n",
    "\n",
    "We acquired the dataset from the researchers in the form of Sqlite `.db` files."
   ]
  },
  {
   "cell_type": "code",
   "execution_count": 75,
   "metadata": {},
   "outputs": [],
   "source": [
    "import os, sys, re, json, time, unittest\n",
    "import itertools, collections\n",
    "from importlib import reload\n",
    "from sklearn.model_selection import train_test_split\n",
    "import matplotlib.pyplot as plt\n",
    "import datetime\n",
    "\n",
    "import numpy as np\n",
    "from scipy import stats\n",
    "import pandas as pd\n",
    "import sqlite3\n",
    "import unicodedata\n",
    "import nltk\n",
    "\n",
    "import tensorflow as tf\n",
    "from sklearn import metrics\n",
    "from sklearn.metrics import classification_report\n",
    "\n",
    "import tensorflow.compat.v1 as tf1\n",
    "from keras.layers import Input,Lambda, Dense\n",
    "from keras.models import Model\n",
    "import keras.backend as K\n",
    "import tensorflow_hub as hub\n",
    "from sklearn import preprocessing\n",
    "import keras\n",
    "from keras.utils import np_utils"
   ]
  },
  {
   "cell_type": "code",
   "execution_count": 76,
   "metadata": {},
   "outputs": [],
   "source": [
    "from tensorflow.keras.preprocessing.text import Tokenizer\n",
    "from tensorflow.keras.preprocessing.sequence import pad_sequences\n",
    "from tensorflow.keras.models import Sequential\n",
    "from tensorflow.keras.layers import Dense, Input, Flatten, LSTM, Conv1D, MaxPooling1D, Dropout, Activation, Embedding\n",
    "from tensorflow.keras.layers.experimental.preprocessing import TextVectorization"
   ]
  },
  {
   "cell_type": "code",
   "execution_count": 77,
   "metadata": {},
   "outputs": [
    {
     "name": "stdout",
     "output_type": "stream",
     "text": [
      "Already downloaded data\n"
     ]
    }
   ],
   "source": [
    "# Download the files if they're not here\n",
    "if 'data' not in os.listdir('.') or not os.listdir('data'):\n",
    "    os.system('wget https://storage.googleapis.com/mids-w266-final-project-data/yelpHotelData.db -P data/')\n",
    "    os.system('wget https://storage.googleapis.com/mids-w266-final-project-data/yelpResData.db -P data/')\n",
    "    print('Data downloaded successfully!')\n",
    "else:\n",
    "    print('Already downloaded data')"
   ]
  },
  {
   "cell_type": "code",
   "execution_count": 78,
   "metadata": {},
   "outputs": [
    {
     "name": "stdout",
     "output_type": "stream",
     "text": [
      "[('review',), ('restaurant',), ('reviewer',)]\n",
      "[('review',), ('sqlite_stat1',), ('sqlite_stat2',), ('reviewer',), ('hotel',)]\n"
     ]
    }
   ],
   "source": [
    "con = sqlite3.connect('data/yelpResData.db')\n",
    "cursor = con.cursor()\n",
    "cursor.execute(\"SELECT name FROM sqlite_master WHERE type='table';\")\n",
    "print(cursor.fetchall())\n",
    "\n",
    "con = sqlite3.connect('data/yelpHotelData.db')\n",
    "cursor = con.cursor()\n",
    "cursor.execute(\"SELECT name FROM sqlite_master WHERE type='table';\")\n",
    "print(cursor.fetchall())"
   ]
  },
  {
   "cell_type": "code",
   "execution_count": 79,
   "metadata": {},
   "outputs": [
    {
     "name": "stdout",
     "output_type": "stream",
     "text": [
      "The data set contains 283086 hotels, 5858 reviews, and 5123 reviewers\n"
     ]
    }
   ],
   "source": [
    "# Reading from the hotels database\n",
    "hotels_db = sqlite3.connect(\"data/yelpHotelData.db\")\n",
    "hotels = pd.read_sql_query(\"SELECT * FROM hotel\", hotels_db)\n",
    "hotel_reviews = pd.read_sql_query(\"SELECT * FROM review WHERE flagged in ('Y', 'N')\", hotels_db)\n",
    "hotel_reviewers = pd.read_sql_query(\"SELECT * FROM reviewer\", hotels_db)\n",
    "\n",
    "\n",
    "print(f'The data set contains {len(hotels)} hotels, {len(hotel_reviews)} reviews, and {len(hotel_reviewers)} reviewers')"
   ]
  },
  {
   "cell_type": "code",
   "execution_count": 80,
   "metadata": {},
   "outputs": [
    {
     "name": "stdout",
     "output_type": "stream",
     "text": [
      "The data set contains 242652 restaurants, 67019 reviews, and 16941 reviewers\n"
     ]
    }
   ],
   "source": [
    "# Reading from the restaurant database\n",
    "restaurant_db = sqlite3.connect(\"data/yelpResData.db\")\n",
    "restaurant_db.text_factory = lambda x: x.decode(\"utf-8\", errors='ignore')\n",
    "restaurants = pd.read_sql_query(\"SELECT * FROM restaurant\", restaurant_db)\n",
    "restaurant_reviews = pd.read_sql_query(\"SELECT * FROM review WHERE flagged in ('Y', 'N')\", restaurant_db)\n",
    "restaurant_reviewers = pd.read_sql_query(\"SELECT * FROM reviewer\", restaurant_db)\n",
    "\n",
    "\n",
    "print(f'The data set contains {len(restaurants)} restaurants, {len(restaurant_reviews)} reviews, and {len(restaurant_reviewers)} reviewers')"
   ]
  },
  {
   "cell_type": "code",
   "execution_count": 81,
   "metadata": {},
   "outputs": [],
   "source": [
    "# Data Cleaning\n",
    "hotel_reviews['reviewContent'] = hotel_reviews['reviewContent'].apply(lambda x: unicodedata.normalize('NFKD', x))\n",
    "hotel_reviews['date'] = hotel_reviews['date'].apply(lambda x: datetime.datetime.strptime(x.strip().split(' ')[-1], '%m/%d/%Y'))\n",
    "\n",
    "restaurant_reviews['reviewContent'] = restaurant_reviews['reviewContent'].apply(lambda x: unicodedata.normalize('NFKD', x))\n",
    "restaurant_reviews['date'] = restaurant_reviews['date'].apply(lambda x: datetime.datetime.strptime(x.strip().split(' ')[-1], '%m/%d/%Y'))\n"
   ]
  },
  {
   "cell_type": "code",
   "execution_count": 82,
   "metadata": {
    "scrolled": true
   },
   "outputs": [],
   "source": [
    "# Split data according to the research paper\n",
    "hotel_X_test = hotel_reviews[hotel_reviews['date'] >= datetime.datetime(2012, 1, 1)]\n",
    "hotel_y_test = hotel_X_test['flagged'] == 'Y'\n",
    "hotel_X_tran_and_dev = hotel_reviews[hotel_reviews['date'] < datetime.datetime(2012, 1, 1)]\n",
    "hotel_X_train, hotel_X_dev, hotel_y_train, hotel_y_dev = train_test_split(hotel_X_tran_and_dev, hotel_X_tran_and_dev['flagged']=='Y')\n",
    "\n",
    "restaurant_X_test = restaurant_reviews[restaurant_reviews['date'] >= datetime.datetime(2012, 1, 1)]\n",
    "restaurant_y_test = restaurant_X_test['flagged'] == 'Y'\n",
    "restaurant_X_tran_and_dev = restaurant_reviews[restaurant_reviews['date'] < datetime.datetime(2012, 1, 1)]\n",
    "restaurant_X_train, restaurant_X_dev, restaurant_y_train, restaurant_y_dev = train_test_split(restaurant_X_tran_and_dev, restaurant_X_tran_and_dev['flagged']=='Y')\n"
   ]
  },
  {
   "cell_type": "markdown",
   "metadata": {},
   "source": [
    "# Exploratory Data Analysis\n",
    "\n",
    "## ToDo: Performan More EDA"
   ]
  },
  {
   "cell_type": "code",
   "execution_count": 83,
   "metadata": {
    "scrolled": false
   },
   "outputs": [
    {
     "name": "stdout",
     "output_type": "stream",
     "text": [
      "<class 'pandas.core.frame.DataFrame'>\n",
      "Int64Index: 3402 entries, 4092 to 37\n",
      "Data columns (total 10 columns):\n",
      " #   Column         Non-Null Count  Dtype         \n",
      "---  ------         --------------  -----         \n",
      " 0   date           3402 non-null   datetime64[ns]\n",
      " 1   reviewID       3402 non-null   object        \n",
      " 2   reviewerID     3402 non-null   object        \n",
      " 3   reviewContent  3402 non-null   object        \n",
      " 4   rating         3402 non-null   int64         \n",
      " 5   usefulCount    3402 non-null   int64         \n",
      " 6   coolCount      3402 non-null   int64         \n",
      " 7   funnyCount     3402 non-null   int64         \n",
      " 8   flagged        3402 non-null   object        \n",
      " 9   hotelID        3402 non-null   object        \n",
      "dtypes: datetime64[ns](1), int64(4), object(5)\n",
      "memory usage: 292.4+ KB\n"
     ]
    }
   ],
   "source": [
    "hotel_X_train.info()"
   ]
  },
  {
   "cell_type": "code",
   "execution_count": 84,
   "metadata": {},
   "outputs": [
    {
     "name": "stdout",
     "output_type": "stream",
     "text": [
      "<class 'pandas.core.frame.DataFrame'>\n",
      "Int64Index: 42086 entries, 53884 to 46276\n",
      "Data columns (total 10 columns):\n",
      " #   Column         Non-Null Count  Dtype         \n",
      "---  ------         --------------  -----         \n",
      " 0   date           42086 non-null  datetime64[ns]\n",
      " 1   reviewID       42086 non-null  object        \n",
      " 2   reviewerID     42086 non-null  object        \n",
      " 3   reviewContent  42086 non-null  object        \n",
      " 4   rating         42086 non-null  int64         \n",
      " 5   usefulCount    42086 non-null  int64         \n",
      " 6   coolCount      42086 non-null  int64         \n",
      " 7   funnyCount     42086 non-null  int64         \n",
      " 8   flagged        42086 non-null  object        \n",
      " 9   restaurantID   42086 non-null  object        \n",
      "dtypes: datetime64[ns](1), int64(4), object(5)\n",
      "memory usage: 3.5+ MB\n"
     ]
    }
   ],
   "source": [
    "restaurant_X_train.info()"
   ]
  },
  {
   "cell_type": "code",
   "execution_count": 85,
   "metadata": {},
   "outputs": [
    {
     "data": {
      "text/plain": [
       "10243    ***Graham Elliot serves up refined casual food...\n",
       "42257    ***While the rooms are small, Hotel Felix is a...\n",
       "Name: reviewContent, dtype: object"
      ]
     },
     "execution_count": 85,
     "metadata": {},
     "output_type": "execute_result"
    }
   ],
   "source": [
    "reviews = pd.concat([restaurant_X_train, hotel_X_train.rename(columns={'hotelID':'restaurantID'})], ignore_index=True)\n",
    "reviews.groupby('reviewerID').agg({\"usefulCount\": np.sum, \n",
    "                                   \"coolCount\": np.sum, \n",
    "                                   \"funnyCount\": np.sum}).sort_values(by=['usefulCount'], ascending=False)\n",
    "reviews[reviews['reviewerID'] == 'w-w-k-QXosIKQ8HQVwU6IQ']['reviewContent']"
   ]
  },
  {
   "cell_type": "code",
   "execution_count": 86,
   "metadata": {},
   "outputs": [
    {
     "data": {
      "text/html": [
       "<div>\n",
       "<style scoped>\n",
       "    .dataframe tbody tr th:only-of-type {\n",
       "        vertical-align: middle;\n",
       "    }\n",
       "\n",
       "    .dataframe tbody tr th {\n",
       "        vertical-align: top;\n",
       "    }\n",
       "\n",
       "    .dataframe thead th {\n",
       "        text-align: right;\n",
       "    }\n",
       "</style>\n",
       "<table border=\"1\" class=\"dataframe\">\n",
       "  <thead>\n",
       "    <tr style=\"text-align: right;\">\n",
       "      <th></th>\n",
       "      <th>rating</th>\n",
       "      <th>usefulCount</th>\n",
       "      <th>coolCount</th>\n",
       "      <th>funnyCount</th>\n",
       "    </tr>\n",
       "    <tr>\n",
       "      <th>flagged</th>\n",
       "      <th></th>\n",
       "      <th></th>\n",
       "      <th></th>\n",
       "      <th></th>\n",
       "    </tr>\n",
       "  </thead>\n",
       "  <tbody>\n",
       "    <tr>\n",
       "      <th>N</th>\n",
       "      <td>158013</td>\n",
       "      <td>43919</td>\n",
       "      <td>28823</td>\n",
       "      <td>24667</td>\n",
       "    </tr>\n",
       "    <tr>\n",
       "      <th>Y</th>\n",
       "      <td>21624</td>\n",
       "      <td>0</td>\n",
       "      <td>0</td>\n",
       "      <td>0</td>\n",
       "    </tr>\n",
       "  </tbody>\n",
       "</table>\n",
       "</div>"
      ],
      "text/plain": [
       "         rating  usefulCount  coolCount  funnyCount\n",
       "flagged                                            \n",
       "N        158013        43919      28823       24667\n",
       "Y         21624            0          0           0"
      ]
     },
     "execution_count": 86,
     "metadata": {},
     "output_type": "execute_result"
    }
   ],
   "source": [
    "reviews.groupby('flagged').agg('sum')\n"
   ]
  },
  {
   "cell_type": "code",
   "execution_count": 87,
   "metadata": {},
   "outputs": [
    {
     "data": {
      "text/html": [
       "<div>\n",
       "<style scoped>\n",
       "    .dataframe tbody tr th:only-of-type {\n",
       "        vertical-align: middle;\n",
       "    }\n",
       "\n",
       "    .dataframe tbody tr th {\n",
       "        vertical-align: top;\n",
       "    }\n",
       "\n",
       "    .dataframe thead th {\n",
       "        text-align: right;\n",
       "    }\n",
       "</style>\n",
       "<table border=\"1\" class=\"dataframe\">\n",
       "  <thead>\n",
       "    <tr style=\"text-align: right;\">\n",
       "      <th></th>\n",
       "      <th>date</th>\n",
       "      <th>reviewID</th>\n",
       "      <th>reviewerID</th>\n",
       "      <th>reviewContent</th>\n",
       "      <th>usefulCount</th>\n",
       "      <th>coolCount</th>\n",
       "      <th>funnyCount</th>\n",
       "      <th>flagged</th>\n",
       "      <th>restaurantID</th>\n",
       "    </tr>\n",
       "    <tr>\n",
       "      <th>rating</th>\n",
       "      <th></th>\n",
       "      <th></th>\n",
       "      <th></th>\n",
       "      <th></th>\n",
       "      <th></th>\n",
       "      <th></th>\n",
       "      <th></th>\n",
       "      <th></th>\n",
       "      <th></th>\n",
       "    </tr>\n",
       "  </thead>\n",
       "  <tbody>\n",
       "    <tr>\n",
       "      <th>1</th>\n",
       "      <td>1407</td>\n",
       "      <td>1407</td>\n",
       "      <td>1407</td>\n",
       "      <td>1407</td>\n",
       "      <td>1407</td>\n",
       "      <td>1407</td>\n",
       "      <td>1407</td>\n",
       "      <td>1407</td>\n",
       "      <td>1407</td>\n",
       "    </tr>\n",
       "    <tr>\n",
       "      <th>2</th>\n",
       "      <td>2842</td>\n",
       "      <td>2842</td>\n",
       "      <td>2842</td>\n",
       "      <td>2842</td>\n",
       "      <td>2842</td>\n",
       "      <td>2842</td>\n",
       "      <td>2842</td>\n",
       "      <td>2842</td>\n",
       "      <td>2842</td>\n",
       "    </tr>\n",
       "    <tr>\n",
       "      <th>3</th>\n",
       "      <td>5930</td>\n",
       "      <td>5930</td>\n",
       "      <td>5930</td>\n",
       "      <td>5930</td>\n",
       "      <td>5930</td>\n",
       "      <td>5930</td>\n",
       "      <td>5930</td>\n",
       "      <td>5930</td>\n",
       "      <td>5930</td>\n",
       "    </tr>\n",
       "    <tr>\n",
       "      <th>4</th>\n",
       "      <td>15308</td>\n",
       "      <td>15308</td>\n",
       "      <td>15308</td>\n",
       "      <td>15308</td>\n",
       "      <td>15308</td>\n",
       "      <td>15308</td>\n",
       "      <td>15308</td>\n",
       "      <td>15308</td>\n",
       "      <td>15308</td>\n",
       "    </tr>\n",
       "    <tr>\n",
       "      <th>5</th>\n",
       "      <td>14380</td>\n",
       "      <td>14380</td>\n",
       "      <td>14380</td>\n",
       "      <td>14380</td>\n",
       "      <td>14380</td>\n",
       "      <td>14380</td>\n",
       "      <td>14380</td>\n",
       "      <td>14380</td>\n",
       "      <td>14380</td>\n",
       "    </tr>\n",
       "  </tbody>\n",
       "</table>\n",
       "</div>"
      ],
      "text/plain": [
       "         date  reviewID  reviewerID  reviewContent  usefulCount  coolCount  \\\n",
       "rating                                                                       \n",
       "1        1407      1407        1407           1407         1407       1407   \n",
       "2        2842      2842        2842           2842         2842       2842   \n",
       "3        5930      5930        5930           5930         5930       5930   \n",
       "4       15308     15308       15308          15308        15308      15308   \n",
       "5       14380     14380       14380          14380        14380      14380   \n",
       "\n",
       "        funnyCount  flagged  restaurantID  \n",
       "rating                                     \n",
       "1             1407     1407          1407  \n",
       "2             2842     2842          2842  \n",
       "3             5930     5930          5930  \n",
       "4            15308    15308         15308  \n",
       "5            14380    14380         14380  "
      ]
     },
     "metadata": {},
     "output_type": "display_data"
    },
    {
     "data": {
      "text/plain": [
       "(array([ 1407.,     0.,  2842.,     0.,     0.,  5930.,     0., 15308.,\n",
       "            0., 14380.]),\n",
       " array([1. , 1.4, 1.8, 2.2, 2.6, 3. , 3.4, 3.8, 4.2, 4.6, 5. ]),\n",
       " <BarContainer object of 10 artists>)"
      ]
     },
     "execution_count": 87,
     "metadata": {},
     "output_type": "execute_result"
    },
    {
     "data": {
      "image/png": "[encoded data removed]",
      "text/plain": [
       "<Figure size 432x288 with 1 Axes>"
      ]
     },
     "metadata": {
      "needs_background": "light"
     },
     "output_type": "display_data"
    }
   ],
   "source": [
    "trueReviews = reviews[reviews['flagged'] == 'N']\n",
    "fakeReviews = reviews[reviews['flagged'] == 'Y']\n",
    "display(trueReviews.groupby('rating').agg('count'))\n",
    "plt.hist(x=trueReviews.rating, bins=10)"
   ]
  },
  {
   "cell_type": "code",
   "execution_count": 88,
   "metadata": {},
   "outputs": [
    {
     "data": {
      "text/html": [
       "<div>\n",
       "<style scoped>\n",
       "    .dataframe tbody tr th:only-of-type {\n",
       "        vertical-align: middle;\n",
       "    }\n",
       "\n",
       "    .dataframe tbody tr th {\n",
       "        vertical-align: top;\n",
       "    }\n",
       "\n",
       "    .dataframe thead th {\n",
       "        text-align: right;\n",
       "    }\n",
       "</style>\n",
       "<table border=\"1\" class=\"dataframe\">\n",
       "  <thead>\n",
       "    <tr style=\"text-align: right;\">\n",
       "      <th></th>\n",
       "      <th>date</th>\n",
       "      <th>reviewID</th>\n",
       "      <th>reviewerID</th>\n",
       "      <th>reviewContent</th>\n",
       "      <th>usefulCount</th>\n",
       "      <th>coolCount</th>\n",
       "      <th>funnyCount</th>\n",
       "      <th>flagged</th>\n",
       "      <th>restaurantID</th>\n",
       "    </tr>\n",
       "    <tr>\n",
       "      <th>rating</th>\n",
       "      <th></th>\n",
       "      <th></th>\n",
       "      <th></th>\n",
       "      <th></th>\n",
       "      <th></th>\n",
       "      <th></th>\n",
       "      <th></th>\n",
       "      <th></th>\n",
       "      <th></th>\n",
       "    </tr>\n",
       "  </thead>\n",
       "  <tbody>\n",
       "    <tr>\n",
       "      <th>1</th>\n",
       "      <td>660</td>\n",
       "      <td>660</td>\n",
       "      <td>660</td>\n",
       "      <td>660</td>\n",
       "      <td>660</td>\n",
       "      <td>660</td>\n",
       "      <td>660</td>\n",
       "      <td>660</td>\n",
       "      <td>660</td>\n",
       "    </tr>\n",
       "    <tr>\n",
       "      <th>2</th>\n",
       "      <td>435</td>\n",
       "      <td>435</td>\n",
       "      <td>435</td>\n",
       "      <td>435</td>\n",
       "      <td>435</td>\n",
       "      <td>435</td>\n",
       "      <td>435</td>\n",
       "      <td>435</td>\n",
       "      <td>435</td>\n",
       "    </tr>\n",
       "    <tr>\n",
       "      <th>3</th>\n",
       "      <td>507</td>\n",
       "      <td>507</td>\n",
       "      <td>507</td>\n",
       "      <td>507</td>\n",
       "      <td>507</td>\n",
       "      <td>507</td>\n",
       "      <td>507</td>\n",
       "      <td>507</td>\n",
       "      <td>507</td>\n",
       "    </tr>\n",
       "    <tr>\n",
       "      <th>4</th>\n",
       "      <td>1522</td>\n",
       "      <td>1522</td>\n",
       "      <td>1522</td>\n",
       "      <td>1522</td>\n",
       "      <td>1522</td>\n",
       "      <td>1522</td>\n",
       "      <td>1522</td>\n",
       "      <td>1522</td>\n",
       "      <td>1522</td>\n",
       "    </tr>\n",
       "    <tr>\n",
       "      <th>5</th>\n",
       "      <td>2497</td>\n",
       "      <td>2497</td>\n",
       "      <td>2497</td>\n",
       "      <td>2497</td>\n",
       "      <td>2497</td>\n",
       "      <td>2497</td>\n",
       "      <td>2497</td>\n",
       "      <td>2497</td>\n",
       "      <td>2497</td>\n",
       "    </tr>\n",
       "  </tbody>\n",
       "</table>\n",
       "</div>"
      ],
      "text/plain": [
       "        date  reviewID  reviewerID  reviewContent  usefulCount  coolCount  \\\n",
       "rating                                                                      \n",
       "1        660       660         660            660          660        660   \n",
       "2        435       435         435            435          435        435   \n",
       "3        507       507         507            507          507        507   \n",
       "4       1522      1522        1522           1522         1522       1522   \n",
       "5       2497      2497        2497           2497         2497       2497   \n",
       "\n",
       "        funnyCount  flagged  restaurantID  \n",
       "rating                                     \n",
       "1              660      660           660  \n",
       "2              435      435           435  \n",
       "3              507      507           507  \n",
       "4             1522     1522          1522  \n",
       "5             2497     2497          2497  "
      ]
     },
     "metadata": {},
     "output_type": "display_data"
    },
    {
     "data": {
      "text/plain": [
       "(array([ 660.,    0.,  435.,    0.,    0.,  507.,    0., 1522.,    0.,\n",
       "        2497.]),\n",
       " array([1. , 1.4, 1.8, 2.2, 2.6, 3. , 3.4, 3.8, 4.2, 4.6, 5. ]),\n",
       " <BarContainer object of 10 artists>)"
      ]
     },
     "execution_count": 88,
     "metadata": {},
     "output_type": "execute_result"
    },
    {
     "data": {
      "image/png": "[encoded data removed]",
      "text/plain": [
       "<Figure size 432x288 with 1 Axes>"
      ]
     },
     "metadata": {
      "needs_background": "light"
     },
     "output_type": "display_data"
    }
   ],
   "source": [
    "display(fakeReviews.groupby('rating').agg('count'))\n",
    "plt.hist(x=fakeReviews.rating, bins=10)"
   ]
  },
  {
   "cell_type": "code",
   "execution_count": 89,
   "metadata": {},
   "outputs": [
    {
     "data": {
      "image/png": "[encoded data removed]",
      "text/plain": [
       "<Figure size 432x288 with 2 Axes>"
      ]
     },
     "metadata": {
      "needs_background": "light"
     },
     "output_type": "display_data"
    }
   ],
   "source": [
    "plt.subplot(1, 2, 1)\n",
    "plt.hist(x = trueReviews['reviewContent'].str.count(' ') + 1)\n",
    "plt.subplot(1, 2, 2)\n",
    "plt.hist(x = fakeReviews['reviewContent'].str.count(' ') + 1)\n",
    "plt.show()"
   ]
  },
  {
   "cell_type": "code",
   "execution_count": 90,
   "metadata": {},
   "outputs": [
    {
     "data": {
      "image/png": "[encoded data removed]",
      "text/plain": [
       "<Figure size 432x288 with 2 Axes>"
      ]
     },
     "metadata": {
      "needs_background": "light"
     },
     "output_type": "display_data"
    }
   ],
   "source": [
    "plt.subplot(1, 2, 1)\n",
    "plt.hist(x = trueReviews['reviewContent'].str.count('.') + 1)\n",
    "plt.subplot(1, 2, 2)\n",
    "plt.hist(x = fakeReviews['reviewContent'].str.count('.') + 1)\n",
    "plt.show()"
   ]
  },
  {
   "cell_type": "code",
   "execution_count": 91,
   "metadata": {},
   "outputs": [
    {
     "data": {
      "image/png": "[encoded data removed]",
      "text/plain": [
       "<Figure size 432x288 with 2 Axes>"
      ]
     },
     "metadata": {
      "needs_background": "light"
     },
     "output_type": "display_data"
    }
   ],
   "source": [
    "trueReviewerCounts = trueReviews.groupby(['reviewerID']).size().reset_index(name='counts')\n",
    "fakeReviewerCounts = fakeReviews.groupby(['reviewerID']).size().reset_index(name='counts')\n",
    "\n",
    "\n",
    "plt.subplot(1, 2, 1)\n",
    "plt.hist(x = trueReviewerCounts['counts'], bins=10)\n",
    "plt.subplot(1, 2, 2)\n",
    "plt.hist(x = fakeReviewerCounts['counts'], bins=10)\n",
    "plt.show()\n"
   ]
  },
  {
   "cell_type": "code",
   "execution_count": 92,
   "metadata": {},
   "outputs": [
    {
     "data": {
      "image/png": "[encoded data removed]",
      "text/plain": [
       "<Figure size 432x288 with 2 Axes>"
      ]
     },
     "metadata": {
      "needs_background": "light"
     },
     "output_type": "display_data"
    }
   ],
   "source": [
    "trueRestReviewCounts = trueReviews.groupby(['restaurantID']).size().reset_index(name='counts')\n",
    "fakeRestReviewCounts = fakeReviews.groupby(['restaurantID']).size().reset_index(name='counts')\n",
    "\n",
    "\n",
    "plt.subplot(1, 2, 1)\n",
    "plt.hist(x = trueRestReviewCounts['counts'], bins=10)\n",
    "plt.subplot(1, 2, 2)\n",
    "plt.hist(x = fakeRestReviewCounts['counts'], bins=10)\n",
    "plt.show()\n"
   ]
  },
  {
   "cell_type": "code",
   "execution_count": 93,
   "metadata": {},
   "outputs": [
    {
     "data": {
      "image/png": "[encoded data removed]",
      "text/plain": [
       "<Figure size 432x288 with 2 Axes>"
      ]
     },
     "metadata": {
      "needs_background": "light"
     },
     "output_type": "display_data"
    }
   ],
   "source": [
    "plt.subplot(1, 2, 1)\n",
    "trueReviews['reviewContent'].str.len().hist()\n",
    "plt.subplot(1, 2, 2)\n",
    "fakeReviews['reviewContent'].str.len().hist()\n",
    "plt.show()\n",
    "\n",
    "\n"
   ]
  },
  {
   "cell_type": "code",
   "execution_count": 94,
   "metadata": {},
   "outputs": [
    {
     "name": "stderr",
     "output_type": "stream",
     "text": [
      "[nltk_data] Downloading package stopwords to\n",
      "[nltk_data]     /Users/anusatheesh/nltk_data...\n",
      "[nltk_data]   Package stopwords is already up-to-date!\n"
     ]
    },
    {
     "data": {
      "image/png": "[encoded data removed]",
      "text/plain": [
       "<Figure size 432x288 with 1 Axes>"
      ]
     },
     "metadata": {
      "needs_background": "light"
     },
     "output_type": "display_data"
    }
   ],
   "source": [
    "\n",
    "# Code Snippet for Top N-grams Barchart\n",
    "\n",
    "import seaborn as sns\n",
    "import numpy as np\n",
    "from nltk.corpus import stopwords\n",
    "from sklearn.feature_extraction.text import CountVectorizer\n",
    "from collections import  Counter\n",
    "\n",
    "nltk.download('stopwords')\n",
    "\n",
    "def plot_top_ngrams_barchart(text, n=2):\n",
    "    synthetic = {'gmail', 'they', 'http', 'www'}\n",
    "    stop=set(stopwords.words('english')) | synthetic\n",
    "    new= text.str.split()\n",
    "    new= new.values.tolist()\n",
    "    corpus=[word for i in new for word in i if word.lower() not in stop]\n",
    "\n",
    "    def _get_top_ngram(corpus, n=None):\n",
    "        vec = CountVectorizer(ngram_range=(n, n)).fit(corpus)\n",
    "        bag_of_words = vec.transform(corpus)\n",
    "        sum_words = bag_of_words.sum(axis=0) \n",
    "        words_freq = [(word, sum_words[0, idx]) \n",
    "                      for word, idx in vec.vocabulary_.items()]\n",
    "        words_freq =sorted(words_freq, key = lambda x: x[1], reverse=True)\n",
    "        return words_freq[:20]\n",
    "\n",
    "    top_n_bigrams=_get_top_ngram(corpus,n)[:20]\n",
    "    x,y=map(list,zip(*top_n_bigrams))\n",
    "    sns.barplot(x=y,y=x)\n",
    "    \n",
    "\n",
    "plot_top_ngrams_barchart(trueReviews['reviewContent'],3)"
   ]
  },
  {
   "cell_type": "code",
   "execution_count": 95,
   "metadata": {},
   "outputs": [
    {
     "data": {
      "image/png": "[encoded data removed]",
      "text/plain": [
       "<Figure size 432x288 with 1 Axes>"
      ]
     },
     "metadata": {
      "needs_background": "light"
     },
     "output_type": "display_data"
    }
   ],
   "source": [
    "plot_top_ngrams_barchart(fakeReviews['reviewContent'],3)"
   ]
  },
  {
   "cell_type": "markdown",
   "metadata": {},
   "source": [
    "# Baseline Model"
   ]
  },
  {
   "cell_type": "markdown",
   "metadata": {},
   "source": [
    "Try a Plain LSTM model on the Hotel data set with fixed length learned embedding"
   ]
  },
  {
   "cell_type": "markdown",
   "metadata": {},
   "source": [
    "# Hotels Dataset"
   ]
  },
  {
   "cell_type": "code",
   "execution_count": 96,
   "metadata": {},
   "outputs": [],
   "source": [
    "vocabulary_size = 20000\n",
    "tokenizer = Tokenizer(num_words= vocabulary_size)\n",
    "tokenizer.fit_on_texts(hotel_X_train['reviewContent'])\n",
    "sequences = tokenizer.texts_to_sequences(hotel_X_train['reviewContent'])\n",
    "hotel_train_data = pad_sequences(sequences, maxlen=100)\n",
    "\n",
    "tokenizer = Tokenizer(num_words= vocabulary_size)\n",
    "tokenizer.fit_on_texts(hotel_X_dev['reviewContent'])\n",
    "sequences = tokenizer.texts_to_sequences(hotel_X_dev['reviewContent'])\n",
    "hotel_dev_data = pad_sequences(sequences, maxlen=100)\n"
   ]
  },
  {
   "cell_type": "code",
   "execution_count": 97,
   "metadata": {},
   "outputs": [],
   "source": [
    "model = Sequential()\n",
    "model.add(Embedding(20000, 100, input_length=100))\n",
    "model.add(LSTM(100, dropout=0.2, recurrent_dropout=0.2))\n",
    "model.add(Dense(1, activation='sigmoid'))\n",
    "model.compile(loss='binary_crossentropy', optimizer='adam', metrics=['accuracy'])\n"
   ]
  },
  {
   "cell_type": "code",
   "execution_count": 98,
   "metadata": {},
   "outputs": [
    {
     "name": "stdout",
     "output_type": "stream",
     "text": [
      "Train on 3402 samples\n",
      "ERROR:tensorflow:==================================\n",
      "Object was never used (type <class 'tensorflow.python.framework.ops.Tensor'>):\n",
      "<tf.Tensor 'VarIsInitializedOp_138:0' shape=() dtype=bool>\n",
      "If you want to mark it as used call its \"mark_used()\" method.\n",
      "It was originally created here:\n",
      "  File \"/opt/anaconda3/lib/python3.8/site-packages/keras/backend.py\", line 3955, in batch_set_value\n",
      "    get_session().run(assign_ops, feed_dict=feed_dict)  File \"/opt/anaconda3/lib/python3.8/site-packages/keras/backend.py\", line 726, in get_session\n",
      "    _initialize_variables(session)  File \"/opt/anaconda3/lib/python3.8/site-packages/keras/backend.py\", line 1176, in _initialize_variables\n",
      "    is_initialized = session.run(  File \"/opt/anaconda3/lib/python3.8/site-packages/keras/backend.py\", line 1177, in <listcomp>\n",
      "    [tf.compat.v1.is_variable_initialized(v) for v in candidate_vars])  File \"/opt/anaconda3/lib/python3.8/site-packages/tensorflow/python/util/tf_should_use.py\", line 247, in wrapped\n",
      "    return _add_should_use_warning(fn(*args, **kwargs),\n",
      "==================================\n"
     ]
    },
    {
     "name": "stderr",
     "output_type": "stream",
     "text": [
      "ERROR:tensorflow:==================================\n",
      "Object was never used (type <class 'tensorflow.python.framework.ops.Tensor'>):\n",
      "<tf.Tensor 'VarIsInitializedOp_138:0' shape=() dtype=bool>\n",
      "If you want to mark it as used call its \"mark_used()\" method.\n",
      "It was originally created here:\n",
      "  File \"/opt/anaconda3/lib/python3.8/site-packages/keras/backend.py\", line 3955, in batch_set_value\n",
      "    get_session().run(assign_ops, feed_dict=feed_dict)  File \"/opt/anaconda3/lib/python3.8/site-packages/keras/backend.py\", line 726, in get_session\n",
      "    _initialize_variables(session)  File \"/opt/anaconda3/lib/python3.8/site-packages/keras/backend.py\", line 1176, in _initialize_variables\n",
      "    is_initialized = session.run(  File \"/opt/anaconda3/lib/python3.8/site-packages/keras/backend.py\", line 1177, in <listcomp>\n",
      "    [tf.compat.v1.is_variable_initialized(v) for v in candidate_vars])  File \"/opt/anaconda3/lib/python3.8/site-packages/tensorflow/python/util/tf_should_use.py\", line 247, in wrapped\n",
      "    return _add_should_use_warning(fn(*args, **kwargs),\n",
      "==================================\n"
     ]
    },
    {
     "name": "stdout",
     "output_type": "stream",
     "text": [
      "ERROR:tensorflow:==================================\n",
      "Object was never used (type <class 'tensorflow.python.framework.ops.Tensor'>):\n",
      "<tf.Tensor 'VarIsInitializedOp_137:0' shape=() dtype=bool>\n",
      "If you want to mark it as used call its \"mark_used()\" method.\n",
      "It was originally created here:\n",
      "  File \"/opt/anaconda3/lib/python3.8/site-packages/keras/backend.py\", line 3955, in batch_set_value\n",
      "    get_session().run(assign_ops, feed_dict=feed_dict)  File \"/opt/anaconda3/lib/python3.8/site-packages/keras/backend.py\", line 726, in get_session\n",
      "    _initialize_variables(session)  File \"/opt/anaconda3/lib/python3.8/site-packages/keras/backend.py\", line 1176, in _initialize_variables\n",
      "    is_initialized = session.run(  File \"/opt/anaconda3/lib/python3.8/site-packages/keras/backend.py\", line 1177, in <listcomp>\n",
      "    [tf.compat.v1.is_variable_initialized(v) for v in candidate_vars])  File \"/opt/anaconda3/lib/python3.8/site-packages/tensorflow/python/util/tf_should_use.py\", line 247, in wrapped\n",
      "    return _add_should_use_warning(fn(*args, **kwargs),\n",
      "==================================\n"
     ]
    },
    {
     "name": "stderr",
     "output_type": "stream",
     "text": [
      "ERROR:tensorflow:==================================\n",
      "Object was never used (type <class 'tensorflow.python.framework.ops.Tensor'>):\n",
      "<tf.Tensor 'VarIsInitializedOp_137:0' shape=() dtype=bool>\n",
      "If you want to mark it as used call its \"mark_used()\" method.\n",
      "It was originally created here:\n",
      "  File \"/opt/anaconda3/lib/python3.8/site-packages/keras/backend.py\", line 3955, in batch_set_value\n",
      "    get_session().run(assign_ops, feed_dict=feed_dict)  File \"/opt/anaconda3/lib/python3.8/site-packages/keras/backend.py\", line 726, in get_session\n",
      "    _initialize_variables(session)  File \"/opt/anaconda3/lib/python3.8/site-packages/keras/backend.py\", line 1176, in _initialize_variables\n",
      "    is_initialized = session.run(  File \"/opt/anaconda3/lib/python3.8/site-packages/keras/backend.py\", line 1177, in <listcomp>\n",
      "    [tf.compat.v1.is_variable_initialized(v) for v in candidate_vars])  File \"/opt/anaconda3/lib/python3.8/site-packages/tensorflow/python/util/tf_should_use.py\", line 247, in wrapped\n",
      "    return _add_should_use_warning(fn(*args, **kwargs),\n",
      "==================================\n"
     ]
    },
    {
     "name": "stdout",
     "output_type": "stream",
     "text": [
      "ERROR:tensorflow:==================================\n",
      "Object was never used (type <class 'tensorflow.python.framework.ops.Tensor'>):\n",
      "<tf.Tensor 'VarIsInitializedOp_136:0' shape=() dtype=bool>\n",
      "If you want to mark it as used call its \"mark_used()\" method.\n",
      "It was originally created here:\n",
      "  File \"/opt/anaconda3/lib/python3.8/site-packages/keras/backend.py\", line 3955, in batch_set_value\n",
      "    get_session().run(assign_ops, feed_dict=feed_dict)  File \"/opt/anaconda3/lib/python3.8/site-packages/keras/backend.py\", line 726, in get_session\n",
      "    _initialize_variables(session)  File \"/opt/anaconda3/lib/python3.8/site-packages/keras/backend.py\", line 1176, in _initialize_variables\n",
      "    is_initialized = session.run(  File \"/opt/anaconda3/lib/python3.8/site-packages/keras/backend.py\", line 1177, in <listcomp>\n",
      "    [tf.compat.v1.is_variable_initialized(v) for v in candidate_vars])  File \"/opt/anaconda3/lib/python3.8/site-packages/tensorflow/python/util/tf_should_use.py\", line 247, in wrapped\n",
      "    return _add_should_use_warning(fn(*args, **kwargs),\n",
      "==================================\n"
     ]
    },
    {
     "name": "stderr",
     "output_type": "stream",
     "text": [
      "ERROR:tensorflow:==================================\n",
      "Object was never used (type <class 'tensorflow.python.framework.ops.Tensor'>):\n",
      "<tf.Tensor 'VarIsInitializedOp_136:0' shape=() dtype=bool>\n",
      "If you want to mark it as used call its \"mark_used()\" method.\n",
      "It was originally created here:\n",
      "  File \"/opt/anaconda3/lib/python3.8/site-packages/keras/backend.py\", line 3955, in batch_set_value\n",
      "    get_session().run(assign_ops, feed_dict=feed_dict)  File \"/opt/anaconda3/lib/python3.8/site-packages/keras/backend.py\", line 726, in get_session\n",
      "    _initialize_variables(session)  File \"/opt/anaconda3/lib/python3.8/site-packages/keras/backend.py\", line 1176, in _initialize_variables\n",
      "    is_initialized = session.run(  File \"/opt/anaconda3/lib/python3.8/site-packages/keras/backend.py\", line 1177, in <listcomp>\n",
      "    [tf.compat.v1.is_variable_initialized(v) for v in candidate_vars])  File \"/opt/anaconda3/lib/python3.8/site-packages/tensorflow/python/util/tf_should_use.py\", line 247, in wrapped\n",
      "    return _add_should_use_warning(fn(*args, **kwargs),\n",
      "==================================\n"
     ]
    },
    {
     "name": "stdout",
     "output_type": "stream",
     "text": [
      "ERROR:tensorflow:==================================\n",
      "Object was never used (type <class 'tensorflow.python.framework.ops.Tensor'>):\n",
      "<tf.Tensor 'VarIsInitializedOp_135:0' shape=() dtype=bool>\n",
      "If you want to mark it as used call its \"mark_used()\" method.\n",
      "It was originally created here:\n",
      "  File \"/opt/anaconda3/lib/python3.8/site-packages/keras/backend.py\", line 3955, in batch_set_value\n",
      "    get_session().run(assign_ops, feed_dict=feed_dict)  File \"/opt/anaconda3/lib/python3.8/site-packages/keras/backend.py\", line 726, in get_session\n",
      "    _initialize_variables(session)  File \"/opt/anaconda3/lib/python3.8/site-packages/keras/backend.py\", line 1176, in _initialize_variables\n",
      "    is_initialized = session.run(  File \"/opt/anaconda3/lib/python3.8/site-packages/keras/backend.py\", line 1177, in <listcomp>\n",
      "    [tf.compat.v1.is_variable_initialized(v) for v in candidate_vars])  File \"/opt/anaconda3/lib/python3.8/site-packages/tensorflow/python/util/tf_should_use.py\", line 247, in wrapped\n",
      "    return _add_should_use_warning(fn(*args, **kwargs),\n",
      "==================================\n"
     ]
    },
    {
     "name": "stderr",
     "output_type": "stream",
     "text": [
      "ERROR:tensorflow:==================================\n",
      "Object was never used (type <class 'tensorflow.python.framework.ops.Tensor'>):\n",
      "<tf.Tensor 'VarIsInitializedOp_135:0' shape=() dtype=bool>\n",
      "If you want to mark it as used call its \"mark_used()\" method.\n",
      "It was originally created here:\n",
      "  File \"/opt/anaconda3/lib/python3.8/site-packages/keras/backend.py\", line 3955, in batch_set_value\n",
      "    get_session().run(assign_ops, feed_dict=feed_dict)  File \"/opt/anaconda3/lib/python3.8/site-packages/keras/backend.py\", line 726, in get_session\n",
      "    _initialize_variables(session)  File \"/opt/anaconda3/lib/python3.8/site-packages/keras/backend.py\", line 1176, in _initialize_variables\n",
      "    is_initialized = session.run(  File \"/opt/anaconda3/lib/python3.8/site-packages/keras/backend.py\", line 1177, in <listcomp>\n",
      "    [tf.compat.v1.is_variable_initialized(v) for v in candidate_vars])  File \"/opt/anaconda3/lib/python3.8/site-packages/tensorflow/python/util/tf_should_use.py\", line 247, in wrapped\n",
      "    return _add_should_use_warning(fn(*args, **kwargs),\n",
      "==================================\n"
     ]
    },
    {
     "name": "stdout",
     "output_type": "stream",
     "text": [
      "ERROR:tensorflow:==================================\n",
      "Object was never used (type <class 'tensorflow.python.framework.ops.Tensor'>):\n",
      "<tf.Tensor 'VarIsInitializedOp_134:0' shape=() dtype=bool>\n",
      "If you want to mark it as used call its \"mark_used()\" method.\n",
      "It was originally created here:\n",
      "  File \"/opt/anaconda3/lib/python3.8/site-packages/keras/backend.py\", line 3955, in batch_set_value\n",
      "    get_session().run(assign_ops, feed_dict=feed_dict)  File \"/opt/anaconda3/lib/python3.8/site-packages/keras/backend.py\", line 726, in get_session\n",
      "    _initialize_variables(session)  File \"/opt/anaconda3/lib/python3.8/site-packages/keras/backend.py\", line 1176, in _initialize_variables\n",
      "    is_initialized = session.run(  File \"/opt/anaconda3/lib/python3.8/site-packages/keras/backend.py\", line 1177, in <listcomp>\n",
      "    [tf.compat.v1.is_variable_initialized(v) for v in candidate_vars])  File \"/opt/anaconda3/lib/python3.8/site-packages/tensorflow/python/util/tf_should_use.py\", line 247, in wrapped\n",
      "    return _add_should_use_warning(fn(*args, **kwargs),\n",
      "==================================\n"
     ]
    },
    {
     "name": "stderr",
     "output_type": "stream",
     "text": [
      "ERROR:tensorflow:==================================\n",
      "Object was never used (type <class 'tensorflow.python.framework.ops.Tensor'>):\n",
      "<tf.Tensor 'VarIsInitializedOp_134:0' shape=() dtype=bool>\n",
      "If you want to mark it as used call its \"mark_used()\" method.\n",
      "It was originally created here:\n",
      "  File \"/opt/anaconda3/lib/python3.8/site-packages/keras/backend.py\", line 3955, in batch_set_value\n",
      "    get_session().run(assign_ops, feed_dict=feed_dict)  File \"/opt/anaconda3/lib/python3.8/site-packages/keras/backend.py\", line 726, in get_session\n",
      "    _initialize_variables(session)  File \"/opt/anaconda3/lib/python3.8/site-packages/keras/backend.py\", line 1176, in _initialize_variables\n",
      "    is_initialized = session.run(  File \"/opt/anaconda3/lib/python3.8/site-packages/keras/backend.py\", line 1177, in <listcomp>\n",
      "    [tf.compat.v1.is_variable_initialized(v) for v in candidate_vars])  File \"/opt/anaconda3/lib/python3.8/site-packages/tensorflow/python/util/tf_should_use.py\", line 247, in wrapped\n",
      "    return _add_should_use_warning(fn(*args, **kwargs),\n",
      "==================================\n"
     ]
    },
    {
     "name": "stdout",
     "output_type": "stream",
     "text": [
      "ERROR:tensorflow:==================================\n",
      "Object was never used (type <class 'tensorflow.python.framework.ops.Tensor'>):\n",
      "<tf.Tensor 'VarIsInitializedOp_133:0' shape=() dtype=bool>\n",
      "If you want to mark it as used call its \"mark_used()\" method.\n",
      "It was originally created here:\n",
      "  File \"/opt/anaconda3/lib/python3.8/site-packages/keras/backend.py\", line 3955, in batch_set_value\n",
      "    get_session().run(assign_ops, feed_dict=feed_dict)  File \"/opt/anaconda3/lib/python3.8/site-packages/keras/backend.py\", line 726, in get_session\n",
      "    _initialize_variables(session)  File \"/opt/anaconda3/lib/python3.8/site-packages/keras/backend.py\", line 1176, in _initialize_variables\n",
      "    is_initialized = session.run(  File \"/opt/anaconda3/lib/python3.8/site-packages/keras/backend.py\", line 1177, in <listcomp>\n",
      "    [tf.compat.v1.is_variable_initialized(v) for v in candidate_vars])  File \"/opt/anaconda3/lib/python3.8/site-packages/tensorflow/python/util/tf_should_use.py\", line 247, in wrapped\n",
      "    return _add_should_use_warning(fn(*args, **kwargs),\n",
      "==================================\n"
     ]
    },
    {
     "name": "stderr",
     "output_type": "stream",
     "text": [
      "ERROR:tensorflow:==================================\n",
      "Object was never used (type <class 'tensorflow.python.framework.ops.Tensor'>):\n",
      "<tf.Tensor 'VarIsInitializedOp_133:0' shape=() dtype=bool>\n",
      "If you want to mark it as used call its \"mark_used()\" method.\n",
      "It was originally created here:\n",
      "  File \"/opt/anaconda3/lib/python3.8/site-packages/keras/backend.py\", line 3955, in batch_set_value\n",
      "    get_session().run(assign_ops, feed_dict=feed_dict)  File \"/opt/anaconda3/lib/python3.8/site-packages/keras/backend.py\", line 726, in get_session\n",
      "    _initialize_variables(session)  File \"/opt/anaconda3/lib/python3.8/site-packages/keras/backend.py\", line 1176, in _initialize_variables\n",
      "    is_initialized = session.run(  File \"/opt/anaconda3/lib/python3.8/site-packages/keras/backend.py\", line 1177, in <listcomp>\n",
      "    [tf.compat.v1.is_variable_initialized(v) for v in candidate_vars])  File \"/opt/anaconda3/lib/python3.8/site-packages/tensorflow/python/util/tf_should_use.py\", line 247, in wrapped\n",
      "    return _add_should_use_warning(fn(*args, **kwargs),\n",
      "==================================\n"
     ]
    },
    {
     "name": "stdout",
     "output_type": "stream",
     "text": [
      "ERROR:tensorflow:==================================\n",
      "Object was never used (type <class 'tensorflow.python.framework.ops.Tensor'>):\n",
      "<tf.Tensor 'VarIsInitializedOp_132:0' shape=() dtype=bool>\n",
      "If you want to mark it as used call its \"mark_used()\" method.\n",
      "It was originally created here:\n",
      "  File \"/opt/anaconda3/lib/python3.8/site-packages/keras/backend.py\", line 3955, in batch_set_value\n",
      "    get_session().run(assign_ops, feed_dict=feed_dict)  File \"/opt/anaconda3/lib/python3.8/site-packages/keras/backend.py\", line 726, in get_session\n",
      "    _initialize_variables(session)  File \"/opt/anaconda3/lib/python3.8/site-packages/keras/backend.py\", line 1176, in _initialize_variables\n",
      "    is_initialized = session.run(  File \"/opt/anaconda3/lib/python3.8/site-packages/keras/backend.py\", line 1177, in <listcomp>\n",
      "    [tf.compat.v1.is_variable_initialized(v) for v in candidate_vars])  File \"/opt/anaconda3/lib/python3.8/site-packages/tensorflow/python/util/tf_should_use.py\", line 247, in wrapped\n",
      "    return _add_should_use_warning(fn(*args, **kwargs),\n",
      "==================================\n"
     ]
    },
    {
     "name": "stderr",
     "output_type": "stream",
     "text": [
      "ERROR:tensorflow:==================================\n",
      "Object was never used (type <class 'tensorflow.python.framework.ops.Tensor'>):\n",
      "<tf.Tensor 'VarIsInitializedOp_132:0' shape=() dtype=bool>\n",
      "If you want to mark it as used call its \"mark_used()\" method.\n",
      "It was originally created here:\n",
      "  File \"/opt/anaconda3/lib/python3.8/site-packages/keras/backend.py\", line 3955, in batch_set_value\n",
      "    get_session().run(assign_ops, feed_dict=feed_dict)  File \"/opt/anaconda3/lib/python3.8/site-packages/keras/backend.py\", line 726, in get_session\n",
      "    _initialize_variables(session)  File \"/opt/anaconda3/lib/python3.8/site-packages/keras/backend.py\", line 1176, in _initialize_variables\n",
      "    is_initialized = session.run(  File \"/opt/anaconda3/lib/python3.8/site-packages/keras/backend.py\", line 1177, in <listcomp>\n",
      "    [tf.compat.v1.is_variable_initialized(v) for v in candidate_vars])  File \"/opt/anaconda3/lib/python3.8/site-packages/tensorflow/python/util/tf_should_use.py\", line 247, in wrapped\n",
      "    return _add_should_use_warning(fn(*args, **kwargs),\n",
      "==================================\n"
     ]
    },
    {
     "name": "stdout",
     "output_type": "stream",
     "text": [
      "ERROR:tensorflow:==================================\n",
      "Object was never used (type <class 'tensorflow.python.framework.ops.Tensor'>):\n",
      "<tf.Tensor 'VarIsInitializedOp_131:0' shape=() dtype=bool>\n",
      "If you want to mark it as used call its \"mark_used()\" method.\n",
      "It was originally created here:\n",
      "  File \"/opt/anaconda3/lib/python3.8/site-packages/keras/backend.py\", line 3955, in batch_set_value\n",
      "    get_session().run(assign_ops, feed_dict=feed_dict)  File \"/opt/anaconda3/lib/python3.8/site-packages/keras/backend.py\", line 726, in get_session\n",
      "    _initialize_variables(session)  File \"/opt/anaconda3/lib/python3.8/site-packages/keras/backend.py\", line 1176, in _initialize_variables\n",
      "    is_initialized = session.run(  File \"/opt/anaconda3/lib/python3.8/site-packages/keras/backend.py\", line 1177, in <listcomp>\n",
      "    [tf.compat.v1.is_variable_initialized(v) for v in candidate_vars])  File \"/opt/anaconda3/lib/python3.8/site-packages/tensorflow/python/util/tf_should_use.py\", line 247, in wrapped\n",
      "    return _add_should_use_warning(fn(*args, **kwargs),\n",
      "==================================\n"
     ]
    },
    {
     "name": "stderr",
     "output_type": "stream",
     "text": [
      "ERROR:tensorflow:==================================\n",
      "Object was never used (type <class 'tensorflow.python.framework.ops.Tensor'>):\n",
      "<tf.Tensor 'VarIsInitializedOp_131:0' shape=() dtype=bool>\n",
      "If you want to mark it as used call its \"mark_used()\" method.\n",
      "It was originally created here:\n",
      "  File \"/opt/anaconda3/lib/python3.8/site-packages/keras/backend.py\", line 3955, in batch_set_value\n",
      "    get_session().run(assign_ops, feed_dict=feed_dict)  File \"/opt/anaconda3/lib/python3.8/site-packages/keras/backend.py\", line 726, in get_session\n",
      "    _initialize_variables(session)  File \"/opt/anaconda3/lib/python3.8/site-packages/keras/backend.py\", line 1176, in _initialize_variables\n",
      "    is_initialized = session.run(  File \"/opt/anaconda3/lib/python3.8/site-packages/keras/backend.py\", line 1177, in <listcomp>\n",
      "    [tf.compat.v1.is_variable_initialized(v) for v in candidate_vars])  File \"/opt/anaconda3/lib/python3.8/site-packages/tensorflow/python/util/tf_should_use.py\", line 247, in wrapped\n",
      "    return _add_should_use_warning(fn(*args, **kwargs),\n",
      "==================================\n"
     ]
    },
    {
     "name": "stdout",
     "output_type": "stream",
     "text": [
      "ERROR:tensorflow:==================================\n",
      "Object was never used (type <class 'tensorflow.python.framework.ops.Tensor'>):\n",
      "<tf.Tensor 'VarIsInitializedOp_130:0' shape=() dtype=bool>\n",
      "If you want to mark it as used call its \"mark_used()\" method.\n",
      "It was originally created here:\n",
      "  File \"/opt/anaconda3/lib/python3.8/site-packages/keras/backend.py\", line 3955, in batch_set_value\n",
      "    get_session().run(assign_ops, feed_dict=feed_dict)  File \"/opt/anaconda3/lib/python3.8/site-packages/keras/backend.py\", line 726, in get_session\n",
      "    _initialize_variables(session)  File \"/opt/anaconda3/lib/python3.8/site-packages/keras/backend.py\", line 1176, in _initialize_variables\n",
      "    is_initialized = session.run(  File \"/opt/anaconda3/lib/python3.8/site-packages/keras/backend.py\", line 1177, in <listcomp>\n",
      "    [tf.compat.v1.is_variable_initialized(v) for v in candidate_vars])  File \"/opt/anaconda3/lib/python3.8/site-packages/tensorflow/python/util/tf_should_use.py\", line 247, in wrapped\n",
      "    return _add_should_use_warning(fn(*args, **kwargs),\n",
      "==================================\n"
     ]
    },
    {
     "name": "stderr",
     "output_type": "stream",
     "text": [
      "ERROR:tensorflow:==================================\n",
      "Object was never used (type <class 'tensorflow.python.framework.ops.Tensor'>):\n",
      "<tf.Tensor 'VarIsInitializedOp_130:0' shape=() dtype=bool>\n",
      "If you want to mark it as used call its \"mark_used()\" method.\n",
      "It was originally created here:\n",
      "  File \"/opt/anaconda3/lib/python3.8/site-packages/keras/backend.py\", line 3955, in batch_set_value\n",
      "    get_session().run(assign_ops, feed_dict=feed_dict)  File \"/opt/anaconda3/lib/python3.8/site-packages/keras/backend.py\", line 726, in get_session\n",
      "    _initialize_variables(session)  File \"/opt/anaconda3/lib/python3.8/site-packages/keras/backend.py\", line 1176, in _initialize_variables\n",
      "    is_initialized = session.run(  File \"/opt/anaconda3/lib/python3.8/site-packages/keras/backend.py\", line 1177, in <listcomp>\n",
      "    [tf.compat.v1.is_variable_initialized(v) for v in candidate_vars])  File \"/opt/anaconda3/lib/python3.8/site-packages/tensorflow/python/util/tf_should_use.py\", line 247, in wrapped\n",
      "    return _add_should_use_warning(fn(*args, **kwargs),\n",
      "==================================\n"
     ]
    },
    {
     "name": "stdout",
     "output_type": "stream",
     "text": [
      "ERROR:tensorflow:==================================\n",
      "Object was never used (type <class 'tensorflow.python.framework.ops.Tensor'>):\n",
      "<tf.Tensor 'VarIsInitializedOp_129:0' shape=() dtype=bool>\n",
      "If you want to mark it as used call its \"mark_used()\" method.\n",
      "It was originally created here:\n",
      "  File \"/opt/anaconda3/lib/python3.8/site-packages/keras/backend.py\", line 3955, in batch_set_value\n",
      "    get_session().run(assign_ops, feed_dict=feed_dict)  File \"/opt/anaconda3/lib/python3.8/site-packages/keras/backend.py\", line 726, in get_session\n",
      "    _initialize_variables(session)  File \"/opt/anaconda3/lib/python3.8/site-packages/keras/backend.py\", line 1176, in _initialize_variables\n",
      "    is_initialized = session.run(  File \"/opt/anaconda3/lib/python3.8/site-packages/keras/backend.py\", line 1177, in <listcomp>\n",
      "    [tf.compat.v1.is_variable_initialized(v) for v in candidate_vars])  File \"/opt/anaconda3/lib/python3.8/site-packages/tensorflow/python/util/tf_should_use.py\", line 247, in wrapped\n",
      "    return _add_should_use_warning(fn(*args, **kwargs),\n",
      "==================================\n"
     ]
    },
    {
     "name": "stderr",
     "output_type": "stream",
     "text": [
      "ERROR:tensorflow:==================================\n",
      "Object was never used (type <class 'tensorflow.python.framework.ops.Tensor'>):\n",
      "<tf.Tensor 'VarIsInitializedOp_129:0' shape=() dtype=bool>\n",
      "If you want to mark it as used call its \"mark_used()\" method.\n",
      "It was originally created here:\n",
      "  File \"/opt/anaconda3/lib/python3.8/site-packages/keras/backend.py\", line 3955, in batch_set_value\n",
      "    get_session().run(assign_ops, feed_dict=feed_dict)  File \"/opt/anaconda3/lib/python3.8/site-packages/keras/backend.py\", line 726, in get_session\n",
      "    _initialize_variables(session)  File \"/opt/anaconda3/lib/python3.8/site-packages/keras/backend.py\", line 1176, in _initialize_variables\n",
      "    is_initialized = session.run(  File \"/opt/anaconda3/lib/python3.8/site-packages/keras/backend.py\", line 1177, in <listcomp>\n",
      "    [tf.compat.v1.is_variable_initialized(v) for v in candidate_vars])  File \"/opt/anaconda3/lib/python3.8/site-packages/tensorflow/python/util/tf_should_use.py\", line 247, in wrapped\n",
      "    return _add_should_use_warning(fn(*args, **kwargs),\n",
      "==================================\n"
     ]
    },
    {
     "name": "stdout",
     "output_type": "stream",
     "text": [
      "ERROR:tensorflow:==================================\n",
      "Object was never used (type <class 'tensorflow.python.framework.ops.Tensor'>):\n",
      "<tf.Tensor 'VarIsInitializedOp_128:0' shape=() dtype=bool>\n",
      "If you want to mark it as used call its \"mark_used()\" method.\n",
      "It was originally created here:\n",
      "  File \"/opt/anaconda3/lib/python3.8/site-packages/keras/backend.py\", line 3955, in batch_set_value\n",
      "    get_session().run(assign_ops, feed_dict=feed_dict)  File \"/opt/anaconda3/lib/python3.8/site-packages/keras/backend.py\", line 726, in get_session\n",
      "    _initialize_variables(session)  File \"/opt/anaconda3/lib/python3.8/site-packages/keras/backend.py\", line 1176, in _initialize_variables\n",
      "    is_initialized = session.run(  File \"/opt/anaconda3/lib/python3.8/site-packages/keras/backend.py\", line 1177, in <listcomp>\n",
      "    [tf.compat.v1.is_variable_initialized(v) for v in candidate_vars])  File \"/opt/anaconda3/lib/python3.8/site-packages/tensorflow/python/util/tf_should_use.py\", line 247, in wrapped\n",
      "    return _add_should_use_warning(fn(*args, **kwargs),\n",
      "==================================\n"
     ]
    },
    {
     "name": "stderr",
     "output_type": "stream",
     "text": [
      "ERROR:tensorflow:==================================\n",
      "Object was never used (type <class 'tensorflow.python.framework.ops.Tensor'>):\n",
      "<tf.Tensor 'VarIsInitializedOp_128:0' shape=() dtype=bool>\n",
      "If you want to mark it as used call its \"mark_used()\" method.\n",
      "It was originally created here:\n",
      "  File \"/opt/anaconda3/lib/python3.8/site-packages/keras/backend.py\", line 3955, in batch_set_value\n",
      "    get_session().run(assign_ops, feed_dict=feed_dict)  File \"/opt/anaconda3/lib/python3.8/site-packages/keras/backend.py\", line 726, in get_session\n",
      "    _initialize_variables(session)  File \"/opt/anaconda3/lib/python3.8/site-packages/keras/backend.py\", line 1176, in _initialize_variables\n",
      "    is_initialized = session.run(  File \"/opt/anaconda3/lib/python3.8/site-packages/keras/backend.py\", line 1177, in <listcomp>\n",
      "    [tf.compat.v1.is_variable_initialized(v) for v in candidate_vars])  File \"/opt/anaconda3/lib/python3.8/site-packages/tensorflow/python/util/tf_should_use.py\", line 247, in wrapped\n",
      "    return _add_should_use_warning(fn(*args, **kwargs),\n",
      "==================================\n"
     ]
    },
    {
     "name": "stdout",
     "output_type": "stream",
     "text": [
      "ERROR:tensorflow:==================================\n",
      "Object was never used (type <class 'tensorflow.python.framework.ops.Tensor'>):\n",
      "<tf.Tensor 'VarIsInitializedOp_127:0' shape=() dtype=bool>\n",
      "If you want to mark it as used call its \"mark_used()\" method.\n",
      "It was originally created here:\n",
      "  File \"/opt/anaconda3/lib/python3.8/site-packages/keras/backend.py\", line 3955, in batch_set_value\n",
      "    get_session().run(assign_ops, feed_dict=feed_dict)  File \"/opt/anaconda3/lib/python3.8/site-packages/keras/backend.py\", line 726, in get_session\n",
      "    _initialize_variables(session)  File \"/opt/anaconda3/lib/python3.8/site-packages/keras/backend.py\", line 1176, in _initialize_variables\n",
      "    is_initialized = session.run(  File \"/opt/anaconda3/lib/python3.8/site-packages/keras/backend.py\", line 1177, in <listcomp>\n",
      "    [tf.compat.v1.is_variable_initialized(v) for v in candidate_vars])  File \"/opt/anaconda3/lib/python3.8/site-packages/tensorflow/python/util/tf_should_use.py\", line 247, in wrapped\n",
      "    return _add_should_use_warning(fn(*args, **kwargs),\n",
      "==================================\n"
     ]
    },
    {
     "name": "stderr",
     "output_type": "stream",
     "text": [
      "ERROR:tensorflow:==================================\n",
      "Object was never used (type <class 'tensorflow.python.framework.ops.Tensor'>):\n",
      "<tf.Tensor 'VarIsInitializedOp_127:0' shape=() dtype=bool>\n",
      "If you want to mark it as used call its \"mark_used()\" method.\n",
      "It was originally created here:\n",
      "  File \"/opt/anaconda3/lib/python3.8/site-packages/keras/backend.py\", line 3955, in batch_set_value\n",
      "    get_session().run(assign_ops, feed_dict=feed_dict)  File \"/opt/anaconda3/lib/python3.8/site-packages/keras/backend.py\", line 726, in get_session\n",
      "    _initialize_variables(session)  File \"/opt/anaconda3/lib/python3.8/site-packages/keras/backend.py\", line 1176, in _initialize_variables\n",
      "    is_initialized = session.run(  File \"/opt/anaconda3/lib/python3.8/site-packages/keras/backend.py\", line 1177, in <listcomp>\n",
      "    [tf.compat.v1.is_variable_initialized(v) for v in candidate_vars])  File \"/opt/anaconda3/lib/python3.8/site-packages/tensorflow/python/util/tf_should_use.py\", line 247, in wrapped\n",
      "    return _add_should_use_warning(fn(*args, **kwargs),\n",
      "==================================\n"
     ]
    },
    {
     "name": "stdout",
     "output_type": "stream",
     "text": [
      "ERROR:tensorflow:==================================\n",
      "Object was never used (type <class 'tensorflow.python.framework.ops.Tensor'>):\n",
      "<tf.Tensor 'VarIsInitializedOp_126:0' shape=() dtype=bool>\n",
      "If you want to mark it as used call its \"mark_used()\" method.\n",
      "It was originally created here:\n",
      "  File \"/opt/anaconda3/lib/python3.8/site-packages/keras/backend.py\", line 3955, in batch_set_value\n",
      "    get_session().run(assign_ops, feed_dict=feed_dict)  File \"/opt/anaconda3/lib/python3.8/site-packages/keras/backend.py\", line 726, in get_session\n",
      "    _initialize_variables(session)  File \"/opt/anaconda3/lib/python3.8/site-packages/keras/backend.py\", line 1176, in _initialize_variables\n",
      "    is_initialized = session.run(  File \"/opt/anaconda3/lib/python3.8/site-packages/keras/backend.py\", line 1177, in <listcomp>\n",
      "    [tf.compat.v1.is_variable_initialized(v) for v in candidate_vars])  File \"/opt/anaconda3/lib/python3.8/site-packages/tensorflow/python/util/tf_should_use.py\", line 247, in wrapped\n",
      "    return _add_should_use_warning(fn(*args, **kwargs),\n",
      "==================================\n"
     ]
    },
    {
     "name": "stderr",
     "output_type": "stream",
     "text": [
      "ERROR:tensorflow:==================================\n",
      "Object was never used (type <class 'tensorflow.python.framework.ops.Tensor'>):\n",
      "<tf.Tensor 'VarIsInitializedOp_126:0' shape=() dtype=bool>\n",
      "If you want to mark it as used call its \"mark_used()\" method.\n",
      "It was originally created here:\n",
      "  File \"/opt/anaconda3/lib/python3.8/site-packages/keras/backend.py\", line 3955, in batch_set_value\n",
      "    get_session().run(assign_ops, feed_dict=feed_dict)  File \"/opt/anaconda3/lib/python3.8/site-packages/keras/backend.py\", line 726, in get_session\n",
      "    _initialize_variables(session)  File \"/opt/anaconda3/lib/python3.8/site-packages/keras/backend.py\", line 1176, in _initialize_variables\n",
      "    is_initialized = session.run(  File \"/opt/anaconda3/lib/python3.8/site-packages/keras/backend.py\", line 1177, in <listcomp>\n",
      "    [tf.compat.v1.is_variable_initialized(v) for v in candidate_vars])  File \"/opt/anaconda3/lib/python3.8/site-packages/tensorflow/python/util/tf_should_use.py\", line 247, in wrapped\n",
      "    return _add_should_use_warning(fn(*args, **kwargs),\n",
      "==================================\n"
     ]
    },
    {
     "name": "stdout",
     "output_type": "stream",
     "text": [
      "ERROR:tensorflow:==================================\n",
      "Object was never used (type <class 'tensorflow.python.framework.ops.Tensor'>):\n",
      "<tf.Tensor 'VarIsInitializedOp_125:0' shape=() dtype=bool>\n",
      "If you want to mark it as used call its \"mark_used()\" method.\n",
      "It was originally created here:\n",
      "  File \"/opt/anaconda3/lib/python3.8/site-packages/keras/backend.py\", line 3955, in batch_set_value\n",
      "    get_session().run(assign_ops, feed_dict=feed_dict)  File \"/opt/anaconda3/lib/python3.8/site-packages/keras/backend.py\", line 726, in get_session\n",
      "    _initialize_variables(session)  File \"/opt/anaconda3/lib/python3.8/site-packages/keras/backend.py\", line 1176, in _initialize_variables\n",
      "    is_initialized = session.run(  File \"/opt/anaconda3/lib/python3.8/site-packages/keras/backend.py\", line 1177, in <listcomp>\n",
      "    [tf.compat.v1.is_variable_initialized(v) for v in candidate_vars])  File \"/opt/anaconda3/lib/python3.8/site-packages/tensorflow/python/util/tf_should_use.py\", line 247, in wrapped\n",
      "    return _add_should_use_warning(fn(*args, **kwargs),\n",
      "==================================\n"
     ]
    },
    {
     "name": "stderr",
     "output_type": "stream",
     "text": [
      "ERROR:tensorflow:==================================\n",
      "Object was never used (type <class 'tensorflow.python.framework.ops.Tensor'>):\n",
      "<tf.Tensor 'VarIsInitializedOp_125:0' shape=() dtype=bool>\n",
      "If you want to mark it as used call its \"mark_used()\" method.\n",
      "It was originally created here:\n",
      "  File \"/opt/anaconda3/lib/python3.8/site-packages/keras/backend.py\", line 3955, in batch_set_value\n",
      "    get_session().run(assign_ops, feed_dict=feed_dict)  File \"/opt/anaconda3/lib/python3.8/site-packages/keras/backend.py\", line 726, in get_session\n",
      "    _initialize_variables(session)  File \"/opt/anaconda3/lib/python3.8/site-packages/keras/backend.py\", line 1176, in _initialize_variables\n",
      "    is_initialized = session.run(  File \"/opt/anaconda3/lib/python3.8/site-packages/keras/backend.py\", line 1177, in <listcomp>\n",
      "    [tf.compat.v1.is_variable_initialized(v) for v in candidate_vars])  File \"/opt/anaconda3/lib/python3.8/site-packages/tensorflow/python/util/tf_should_use.py\", line 247, in wrapped\n",
      "    return _add_should_use_warning(fn(*args, **kwargs),\n",
      "==================================\n"
     ]
    },
    {
     "name": "stdout",
     "output_type": "stream",
     "text": [
      "ERROR:tensorflow:==================================\n",
      "Object was never used (type <class 'tensorflow.python.framework.ops.Tensor'>):\n",
      "<tf.Tensor 'VarIsInitializedOp_124:0' shape=() dtype=bool>\n",
      "If you want to mark it as used call its \"mark_used()\" method.\n",
      "It was originally created here:\n",
      "  File \"/opt/anaconda3/lib/python3.8/site-packages/keras/backend.py\", line 3955, in batch_set_value\n",
      "    get_session().run(assign_ops, feed_dict=feed_dict)  File \"/opt/anaconda3/lib/python3.8/site-packages/keras/backend.py\", line 726, in get_session\n",
      "    _initialize_variables(session)  File \"/opt/anaconda3/lib/python3.8/site-packages/keras/backend.py\", line 1176, in _initialize_variables\n",
      "    is_initialized = session.run(  File \"/opt/anaconda3/lib/python3.8/site-packages/keras/backend.py\", line 1177, in <listcomp>\n",
      "    [tf.compat.v1.is_variable_initialized(v) for v in candidate_vars])  File \"/opt/anaconda3/lib/python3.8/site-packages/tensorflow/python/util/tf_should_use.py\", line 247, in wrapped\n",
      "    return _add_should_use_warning(fn(*args, **kwargs),\n",
      "==================================\n"
     ]
    },
    {
     "name": "stderr",
     "output_type": "stream",
     "text": [
      "ERROR:tensorflow:==================================\n",
      "Object was never used (type <class 'tensorflow.python.framework.ops.Tensor'>):\n",
      "<tf.Tensor 'VarIsInitializedOp_124:0' shape=() dtype=bool>\n",
      "If you want to mark it as used call its \"mark_used()\" method.\n",
      "It was originally created here:\n",
      "  File \"/opt/anaconda3/lib/python3.8/site-packages/keras/backend.py\", line 3955, in batch_set_value\n",
      "    get_session().run(assign_ops, feed_dict=feed_dict)  File \"/opt/anaconda3/lib/python3.8/site-packages/keras/backend.py\", line 726, in get_session\n",
      "    _initialize_variables(session)  File \"/opt/anaconda3/lib/python3.8/site-packages/keras/backend.py\", line 1176, in _initialize_variables\n",
      "    is_initialized = session.run(  File \"/opt/anaconda3/lib/python3.8/site-packages/keras/backend.py\", line 1177, in <listcomp>\n",
      "    [tf.compat.v1.is_variable_initialized(v) for v in candidate_vars])  File \"/opt/anaconda3/lib/python3.8/site-packages/tensorflow/python/util/tf_should_use.py\", line 247, in wrapped\n",
      "    return _add_should_use_warning(fn(*args, **kwargs),\n",
      "==================================\n"
     ]
    },
    {
     "name": "stdout",
     "output_type": "stream",
     "text": [
      "ERROR:tensorflow:==================================\n",
      "Object was never used (type <class 'tensorflow.python.framework.ops.Tensor'>):\n",
      "<tf.Tensor 'VarIsInitializedOp_123:0' shape=() dtype=bool>\n",
      "If you want to mark it as used call its \"mark_used()\" method.\n",
      "It was originally created here:\n",
      "  File \"/opt/anaconda3/lib/python3.8/site-packages/keras/backend.py\", line 3955, in batch_set_value\n",
      "    get_session().run(assign_ops, feed_dict=feed_dict)  File \"/opt/anaconda3/lib/python3.8/site-packages/keras/backend.py\", line 726, in get_session\n",
      "    _initialize_variables(session)  File \"/opt/anaconda3/lib/python3.8/site-packages/keras/backend.py\", line 1176, in _initialize_variables\n",
      "    is_initialized = session.run(  File \"/opt/anaconda3/lib/python3.8/site-packages/keras/backend.py\", line 1177, in <listcomp>\n",
      "    [tf.compat.v1.is_variable_initialized(v) for v in candidate_vars])  File \"/opt/anaconda3/lib/python3.8/site-packages/tensorflow/python/util/tf_should_use.py\", line 247, in wrapped\n",
      "    return _add_should_use_warning(fn(*args, **kwargs),\n",
      "==================================\n"
     ]
    },
    {
     "name": "stderr",
     "output_type": "stream",
     "text": [
      "ERROR:tensorflow:==================================\n",
      "Object was never used (type <class 'tensorflow.python.framework.ops.Tensor'>):\n",
      "<tf.Tensor 'VarIsInitializedOp_123:0' shape=() dtype=bool>\n",
      "If you want to mark it as used call its \"mark_used()\" method.\n",
      "It was originally created here:\n",
      "  File \"/opt/anaconda3/lib/python3.8/site-packages/keras/backend.py\", line 3955, in batch_set_value\n",
      "    get_session().run(assign_ops, feed_dict=feed_dict)  File \"/opt/anaconda3/lib/python3.8/site-packages/keras/backend.py\", line 726, in get_session\n",
      "    _initialize_variables(session)  File \"/opt/anaconda3/lib/python3.8/site-packages/keras/backend.py\", line 1176, in _initialize_variables\n",
      "    is_initialized = session.run(  File \"/opt/anaconda3/lib/python3.8/site-packages/keras/backend.py\", line 1177, in <listcomp>\n",
      "    [tf.compat.v1.is_variable_initialized(v) for v in candidate_vars])  File \"/opt/anaconda3/lib/python3.8/site-packages/tensorflow/python/util/tf_should_use.py\", line 247, in wrapped\n",
      "    return _add_should_use_warning(fn(*args, **kwargs),\n",
      "==================================\n"
     ]
    },
    {
     "name": "stdout",
     "output_type": "stream",
     "text": [
      "ERROR:tensorflow:==================================\n",
      "Object was never used (type <class 'tensorflow.python.framework.ops.Tensor'>):\n",
      "<tf.Tensor 'VarIsInitializedOp_122:0' shape=() dtype=bool>\n",
      "If you want to mark it as used call its \"mark_used()\" method.\n",
      "It was originally created here:\n",
      "  File \"/opt/anaconda3/lib/python3.8/site-packages/keras/backend.py\", line 3955, in batch_set_value\n",
      "    get_session().run(assign_ops, feed_dict=feed_dict)  File \"/opt/anaconda3/lib/python3.8/site-packages/keras/backend.py\", line 726, in get_session\n",
      "    _initialize_variables(session)  File \"/opt/anaconda3/lib/python3.8/site-packages/keras/backend.py\", line 1176, in _initialize_variables\n",
      "    is_initialized = session.run(  File \"/opt/anaconda3/lib/python3.8/site-packages/keras/backend.py\", line 1177, in <listcomp>\n",
      "    [tf.compat.v1.is_variable_initialized(v) for v in candidate_vars])  File \"/opt/anaconda3/lib/python3.8/site-packages/tensorflow/python/util/tf_should_use.py\", line 247, in wrapped\n",
      "    return _add_should_use_warning(fn(*args, **kwargs),\n",
      "==================================\n"
     ]
    },
    {
     "name": "stderr",
     "output_type": "stream",
     "text": [
      "ERROR:tensorflow:==================================\n",
      "Object was never used (type <class 'tensorflow.python.framework.ops.Tensor'>):\n",
      "<tf.Tensor 'VarIsInitializedOp_122:0' shape=() dtype=bool>\n",
      "If you want to mark it as used call its \"mark_used()\" method.\n",
      "It was originally created here:\n",
      "  File \"/opt/anaconda3/lib/python3.8/site-packages/keras/backend.py\", line 3955, in batch_set_value\n",
      "    get_session().run(assign_ops, feed_dict=feed_dict)  File \"/opt/anaconda3/lib/python3.8/site-packages/keras/backend.py\", line 726, in get_session\n",
      "    _initialize_variables(session)  File \"/opt/anaconda3/lib/python3.8/site-packages/keras/backend.py\", line 1176, in _initialize_variables\n",
      "    is_initialized = session.run(  File \"/opt/anaconda3/lib/python3.8/site-packages/keras/backend.py\", line 1177, in <listcomp>\n",
      "    [tf.compat.v1.is_variable_initialized(v) for v in candidate_vars])  File \"/opt/anaconda3/lib/python3.8/site-packages/tensorflow/python/util/tf_should_use.py\", line 247, in wrapped\n",
      "    return _add_should_use_warning(fn(*args, **kwargs),\n",
      "==================================\n"
     ]
    },
    {
     "name": "stdout",
     "output_type": "stream",
     "text": [
      "ERROR:tensorflow:==================================\n",
      "Object was never used (type <class 'tensorflow.python.framework.ops.Tensor'>):\n",
      "<tf.Tensor 'VarIsInitializedOp_121:0' shape=() dtype=bool>\n",
      "If you want to mark it as used call its \"mark_used()\" method.\n",
      "It was originally created here:\n",
      "  File \"/opt/anaconda3/lib/python3.8/site-packages/keras/backend.py\", line 3955, in batch_set_value\n",
      "    get_session().run(assign_ops, feed_dict=feed_dict)  File \"/opt/anaconda3/lib/python3.8/site-packages/keras/backend.py\", line 726, in get_session\n",
      "    _initialize_variables(session)  File \"/opt/anaconda3/lib/python3.8/site-packages/keras/backend.py\", line 1176, in _initialize_variables\n",
      "    is_initialized = session.run(  File \"/opt/anaconda3/lib/python3.8/site-packages/keras/backend.py\", line 1177, in <listcomp>\n",
      "    [tf.compat.v1.is_variable_initialized(v) for v in candidate_vars])  File \"/opt/anaconda3/lib/python3.8/site-packages/tensorflow/python/util/tf_should_use.py\", line 247, in wrapped\n",
      "    return _add_should_use_warning(fn(*args, **kwargs),\n",
      "==================================\n"
     ]
    },
    {
     "name": "stderr",
     "output_type": "stream",
     "text": [
      "ERROR:tensorflow:==================================\n",
      "Object was never used (type <class 'tensorflow.python.framework.ops.Tensor'>):\n",
      "<tf.Tensor 'VarIsInitializedOp_121:0' shape=() dtype=bool>\n",
      "If you want to mark it as used call its \"mark_used()\" method.\n",
      "It was originally created here:\n",
      "  File \"/opt/anaconda3/lib/python3.8/site-packages/keras/backend.py\", line 3955, in batch_set_value\n",
      "    get_session().run(assign_ops, feed_dict=feed_dict)  File \"/opt/anaconda3/lib/python3.8/site-packages/keras/backend.py\", line 726, in get_session\n",
      "    _initialize_variables(session)  File \"/opt/anaconda3/lib/python3.8/site-packages/keras/backend.py\", line 1176, in _initialize_variables\n",
      "    is_initialized = session.run(  File \"/opt/anaconda3/lib/python3.8/site-packages/keras/backend.py\", line 1177, in <listcomp>\n",
      "    [tf.compat.v1.is_variable_initialized(v) for v in candidate_vars])  File \"/opt/anaconda3/lib/python3.8/site-packages/tensorflow/python/util/tf_should_use.py\", line 247, in wrapped\n",
      "    return _add_should_use_warning(fn(*args, **kwargs),\n",
      "==================================\n"
     ]
    },
    {
     "name": "stdout",
     "output_type": "stream",
     "text": [
      "ERROR:tensorflow:==================================\n",
      "Object was never used (type <class 'tensorflow.python.framework.ops.Tensor'>):\n",
      "<tf.Tensor 'VarIsInitializedOp_120:0' shape=() dtype=bool>\n",
      "If you want to mark it as used call its \"mark_used()\" method.\n",
      "It was originally created here:\n",
      "  File \"/opt/anaconda3/lib/python3.8/site-packages/keras/backend.py\", line 3955, in batch_set_value\n",
      "    get_session().run(assign_ops, feed_dict=feed_dict)  File \"/opt/anaconda3/lib/python3.8/site-packages/keras/backend.py\", line 726, in get_session\n",
      "    _initialize_variables(session)  File \"/opt/anaconda3/lib/python3.8/site-packages/keras/backend.py\", line 1176, in _initialize_variables\n",
      "    is_initialized = session.run(  File \"/opt/anaconda3/lib/python3.8/site-packages/keras/backend.py\", line 1177, in <listcomp>\n",
      "    [tf.compat.v1.is_variable_initialized(v) for v in candidate_vars])  File \"/opt/anaconda3/lib/python3.8/site-packages/tensorflow/python/util/tf_should_use.py\", line 247, in wrapped\n",
      "    return _add_should_use_warning(fn(*args, **kwargs),\n",
      "==================================\n"
     ]
    },
    {
     "name": "stderr",
     "output_type": "stream",
     "text": [
      "ERROR:tensorflow:==================================\n",
      "Object was never used (type <class 'tensorflow.python.framework.ops.Tensor'>):\n",
      "<tf.Tensor 'VarIsInitializedOp_120:0' shape=() dtype=bool>\n",
      "If you want to mark it as used call its \"mark_used()\" method.\n",
      "It was originally created here:\n",
      "  File \"/opt/anaconda3/lib/python3.8/site-packages/keras/backend.py\", line 3955, in batch_set_value\n",
      "    get_session().run(assign_ops, feed_dict=feed_dict)  File \"/opt/anaconda3/lib/python3.8/site-packages/keras/backend.py\", line 726, in get_session\n",
      "    _initialize_variables(session)  File \"/opt/anaconda3/lib/python3.8/site-packages/keras/backend.py\", line 1176, in _initialize_variables\n",
      "    is_initialized = session.run(  File \"/opt/anaconda3/lib/python3.8/site-packages/keras/backend.py\", line 1177, in <listcomp>\n",
      "    [tf.compat.v1.is_variable_initialized(v) for v in candidate_vars])  File \"/opt/anaconda3/lib/python3.8/site-packages/tensorflow/python/util/tf_should_use.py\", line 247, in wrapped\n",
      "    return _add_should_use_warning(fn(*args, **kwargs),\n",
      "==================================\n"
     ]
    },
    {
     "name": "stdout",
     "output_type": "stream",
     "text": [
      "ERROR:tensorflow:==================================\n",
      "Object was never used (type <class 'tensorflow.python.framework.ops.Tensor'>):\n",
      "<tf.Tensor 'VarIsInitializedOp_119:0' shape=() dtype=bool>\n",
      "If you want to mark it as used call its \"mark_used()\" method.\n",
      "It was originally created here:\n",
      "  File \"/opt/anaconda3/lib/python3.8/site-packages/keras/backend.py\", line 3955, in batch_set_value\n",
      "    get_session().run(assign_ops, feed_dict=feed_dict)  File \"/opt/anaconda3/lib/python3.8/site-packages/keras/backend.py\", line 726, in get_session\n",
      "    _initialize_variables(session)  File \"/opt/anaconda3/lib/python3.8/site-packages/keras/backend.py\", line 1176, in _initialize_variables\n",
      "    is_initialized = session.run(  File \"/opt/anaconda3/lib/python3.8/site-packages/keras/backend.py\", line 1177, in <listcomp>\n",
      "    [tf.compat.v1.is_variable_initialized(v) for v in candidate_vars])  File \"/opt/anaconda3/lib/python3.8/site-packages/tensorflow/python/util/tf_should_use.py\", line 247, in wrapped\n",
      "    return _add_should_use_warning(fn(*args, **kwargs),\n",
      "==================================\n"
     ]
    },
    {
     "name": "stderr",
     "output_type": "stream",
     "text": [
      "ERROR:tensorflow:==================================\n",
      "Object was never used (type <class 'tensorflow.python.framework.ops.Tensor'>):\n",
      "<tf.Tensor 'VarIsInitializedOp_119:0' shape=() dtype=bool>\n",
      "If you want to mark it as used call its \"mark_used()\" method.\n",
      "It was originally created here:\n",
      "  File \"/opt/anaconda3/lib/python3.8/site-packages/keras/backend.py\", line 3955, in batch_set_value\n",
      "    get_session().run(assign_ops, feed_dict=feed_dict)  File \"/opt/anaconda3/lib/python3.8/site-packages/keras/backend.py\", line 726, in get_session\n",
      "    _initialize_variables(session)  File \"/opt/anaconda3/lib/python3.8/site-packages/keras/backend.py\", line 1176, in _initialize_variables\n",
      "    is_initialized = session.run(  File \"/opt/anaconda3/lib/python3.8/site-packages/keras/backend.py\", line 1177, in <listcomp>\n",
      "    [tf.compat.v1.is_variable_initialized(v) for v in candidate_vars])  File \"/opt/anaconda3/lib/python3.8/site-packages/tensorflow/python/util/tf_should_use.py\", line 247, in wrapped\n",
      "    return _add_should_use_warning(fn(*args, **kwargs),\n",
      "==================================\n"
     ]
    },
    {
     "name": "stdout",
     "output_type": "stream",
     "text": [
      "ERROR:tensorflow:==================================\n",
      "Object was never used (type <class 'tensorflow.python.framework.ops.Tensor'>):\n",
      "<tf.Tensor 'VarIsInitializedOp_118:0' shape=() dtype=bool>\n",
      "If you want to mark it as used call its \"mark_used()\" method.\n",
      "It was originally created here:\n",
      "  File \"/opt/anaconda3/lib/python3.8/site-packages/keras/backend.py\", line 3955, in batch_set_value\n",
      "    get_session().run(assign_ops, feed_dict=feed_dict)  File \"/opt/anaconda3/lib/python3.8/site-packages/keras/backend.py\", line 726, in get_session\n",
      "    _initialize_variables(session)  File \"/opt/anaconda3/lib/python3.8/site-packages/keras/backend.py\", line 1176, in _initialize_variables\n",
      "    is_initialized = session.run(  File \"/opt/anaconda3/lib/python3.8/site-packages/keras/backend.py\", line 1177, in <listcomp>\n",
      "    [tf.compat.v1.is_variable_initialized(v) for v in candidate_vars])  File \"/opt/anaconda3/lib/python3.8/site-packages/tensorflow/python/util/tf_should_use.py\", line 247, in wrapped\n",
      "    return _add_should_use_warning(fn(*args, **kwargs),\n",
      "==================================\n"
     ]
    },
    {
     "name": "stderr",
     "output_type": "stream",
     "text": [
      "ERROR:tensorflow:==================================\n",
      "Object was never used (type <class 'tensorflow.python.framework.ops.Tensor'>):\n",
      "<tf.Tensor 'VarIsInitializedOp_118:0' shape=() dtype=bool>\n",
      "If you want to mark it as used call its \"mark_used()\" method.\n",
      "It was originally created here:\n",
      "  File \"/opt/anaconda3/lib/python3.8/site-packages/keras/backend.py\", line 3955, in batch_set_value\n",
      "    get_session().run(assign_ops, feed_dict=feed_dict)  File \"/opt/anaconda3/lib/python3.8/site-packages/keras/backend.py\", line 726, in get_session\n",
      "    _initialize_variables(session)  File \"/opt/anaconda3/lib/python3.8/site-packages/keras/backend.py\", line 1176, in _initialize_variables\n",
      "    is_initialized = session.run(  File \"/opt/anaconda3/lib/python3.8/site-packages/keras/backend.py\", line 1177, in <listcomp>\n",
      "    [tf.compat.v1.is_variable_initialized(v) for v in candidate_vars])  File \"/opt/anaconda3/lib/python3.8/site-packages/tensorflow/python/util/tf_should_use.py\", line 247, in wrapped\n",
      "    return _add_should_use_warning(fn(*args, **kwargs),\n",
      "==================================\n"
     ]
    },
    {
     "name": "stdout",
     "output_type": "stream",
     "text": [
      "ERROR:tensorflow:==================================\n",
      "Object was never used (type <class 'tensorflow.python.framework.ops.Tensor'>):\n",
      "<tf.Tensor 'VarIsInitializedOp_117:0' shape=() dtype=bool>\n",
      "If you want to mark it as used call its \"mark_used()\" method.\n",
      "It was originally created here:\n",
      "  File \"/opt/anaconda3/lib/python3.8/site-packages/keras/backend.py\", line 3955, in batch_set_value\n",
      "    get_session().run(assign_ops, feed_dict=feed_dict)  File \"/opt/anaconda3/lib/python3.8/site-packages/keras/backend.py\", line 726, in get_session\n",
      "    _initialize_variables(session)  File \"/opt/anaconda3/lib/python3.8/site-packages/keras/backend.py\", line 1176, in _initialize_variables\n",
      "    is_initialized = session.run(  File \"/opt/anaconda3/lib/python3.8/site-packages/keras/backend.py\", line 1177, in <listcomp>\n",
      "    [tf.compat.v1.is_variable_initialized(v) for v in candidate_vars])  File \"/opt/anaconda3/lib/python3.8/site-packages/tensorflow/python/util/tf_should_use.py\", line 247, in wrapped\n",
      "    return _add_should_use_warning(fn(*args, **kwargs),\n",
      "==================================\n"
     ]
    },
    {
     "name": "stderr",
     "output_type": "stream",
     "text": [
      "ERROR:tensorflow:==================================\n",
      "Object was never used (type <class 'tensorflow.python.framework.ops.Tensor'>):\n",
      "<tf.Tensor 'VarIsInitializedOp_117:0' shape=() dtype=bool>\n",
      "If you want to mark it as used call its \"mark_used()\" method.\n",
      "It was originally created here:\n",
      "  File \"/opt/anaconda3/lib/python3.8/site-packages/keras/backend.py\", line 3955, in batch_set_value\n",
      "    get_session().run(assign_ops, feed_dict=feed_dict)  File \"/opt/anaconda3/lib/python3.8/site-packages/keras/backend.py\", line 726, in get_session\n",
      "    _initialize_variables(session)  File \"/opt/anaconda3/lib/python3.8/site-packages/keras/backend.py\", line 1176, in _initialize_variables\n",
      "    is_initialized = session.run(  File \"/opt/anaconda3/lib/python3.8/site-packages/keras/backend.py\", line 1177, in <listcomp>\n",
      "    [tf.compat.v1.is_variable_initialized(v) for v in candidate_vars])  File \"/opt/anaconda3/lib/python3.8/site-packages/tensorflow/python/util/tf_should_use.py\", line 247, in wrapped\n",
      "    return _add_should_use_warning(fn(*args, **kwargs),\n",
      "==================================\n"
     ]
    },
    {
     "name": "stdout",
     "output_type": "stream",
     "text": [
      "ERROR:tensorflow:==================================\n",
      "Object was never used (type <class 'tensorflow.python.framework.ops.Tensor'>):\n",
      "<tf.Tensor 'VarIsInitializedOp_116:0' shape=() dtype=bool>\n",
      "If you want to mark it as used call its \"mark_used()\" method.\n",
      "It was originally created here:\n",
      "  File \"/opt/anaconda3/lib/python3.8/site-packages/keras/backend.py\", line 3955, in batch_set_value\n",
      "    get_session().run(assign_ops, feed_dict=feed_dict)  File \"/opt/anaconda3/lib/python3.8/site-packages/keras/backend.py\", line 726, in get_session\n",
      "    _initialize_variables(session)  File \"/opt/anaconda3/lib/python3.8/site-packages/keras/backend.py\", line 1176, in _initialize_variables\n",
      "    is_initialized = session.run(  File \"/opt/anaconda3/lib/python3.8/site-packages/keras/backend.py\", line 1177, in <listcomp>\n",
      "    [tf.compat.v1.is_variable_initialized(v) for v in candidate_vars])  File \"/opt/anaconda3/lib/python3.8/site-packages/tensorflow/python/util/tf_should_use.py\", line 247, in wrapped\n",
      "    return _add_should_use_warning(fn(*args, **kwargs),\n",
      "==================================\n"
     ]
    },
    {
     "name": "stderr",
     "output_type": "stream",
     "text": [
      "ERROR:tensorflow:==================================\n",
      "Object was never used (type <class 'tensorflow.python.framework.ops.Tensor'>):\n",
      "<tf.Tensor 'VarIsInitializedOp_116:0' shape=() dtype=bool>\n",
      "If you want to mark it as used call its \"mark_used()\" method.\n",
      "It was originally created here:\n",
      "  File \"/opt/anaconda3/lib/python3.8/site-packages/keras/backend.py\", line 3955, in batch_set_value\n",
      "    get_session().run(assign_ops, feed_dict=feed_dict)  File \"/opt/anaconda3/lib/python3.8/site-packages/keras/backend.py\", line 726, in get_session\n",
      "    _initialize_variables(session)  File \"/opt/anaconda3/lib/python3.8/site-packages/keras/backend.py\", line 1176, in _initialize_variables\n",
      "    is_initialized = session.run(  File \"/opt/anaconda3/lib/python3.8/site-packages/keras/backend.py\", line 1177, in <listcomp>\n",
      "    [tf.compat.v1.is_variable_initialized(v) for v in candidate_vars])  File \"/opt/anaconda3/lib/python3.8/site-packages/tensorflow/python/util/tf_should_use.py\", line 247, in wrapped\n",
      "    return _add_should_use_warning(fn(*args, **kwargs),\n",
      "==================================\n"
     ]
    },
    {
     "name": "stdout",
     "output_type": "stream",
     "text": [
      "ERROR:tensorflow:==================================\n",
      "Object was never used (type <class 'tensorflow.python.framework.ops.Tensor'>):\n",
      "<tf.Tensor 'VarIsInitializedOp_115:0' shape=() dtype=bool>\n",
      "If you want to mark it as used call its \"mark_used()\" method.\n",
      "It was originally created here:\n",
      "  File \"/opt/anaconda3/lib/python3.8/site-packages/keras/backend.py\", line 3955, in batch_set_value\n",
      "    get_session().run(assign_ops, feed_dict=feed_dict)  File \"/opt/anaconda3/lib/python3.8/site-packages/keras/backend.py\", line 726, in get_session\n",
      "    _initialize_variables(session)  File \"/opt/anaconda3/lib/python3.8/site-packages/keras/backend.py\", line 1176, in _initialize_variables\n",
      "    is_initialized = session.run(  File \"/opt/anaconda3/lib/python3.8/site-packages/keras/backend.py\", line 1177, in <listcomp>\n",
      "    [tf.compat.v1.is_variable_initialized(v) for v in candidate_vars])  File \"/opt/anaconda3/lib/python3.8/site-packages/tensorflow/python/util/tf_should_use.py\", line 247, in wrapped\n",
      "    return _add_should_use_warning(fn(*args, **kwargs),\n",
      "==================================\n"
     ]
    },
    {
     "name": "stderr",
     "output_type": "stream",
     "text": [
      "ERROR:tensorflow:==================================\n",
      "Object was never used (type <class 'tensorflow.python.framework.ops.Tensor'>):\n",
      "<tf.Tensor 'VarIsInitializedOp_115:0' shape=() dtype=bool>\n",
      "If you want to mark it as used call its \"mark_used()\" method.\n",
      "It was originally created here:\n",
      "  File \"/opt/anaconda3/lib/python3.8/site-packages/keras/backend.py\", line 3955, in batch_set_value\n",
      "    get_session().run(assign_ops, feed_dict=feed_dict)  File \"/opt/anaconda3/lib/python3.8/site-packages/keras/backend.py\", line 726, in get_session\n",
      "    _initialize_variables(session)  File \"/opt/anaconda3/lib/python3.8/site-packages/keras/backend.py\", line 1176, in _initialize_variables\n",
      "    is_initialized = session.run(  File \"/opt/anaconda3/lib/python3.8/site-packages/keras/backend.py\", line 1177, in <listcomp>\n",
      "    [tf.compat.v1.is_variable_initialized(v) for v in candidate_vars])  File \"/opt/anaconda3/lib/python3.8/site-packages/tensorflow/python/util/tf_should_use.py\", line 247, in wrapped\n",
      "    return _add_should_use_warning(fn(*args, **kwargs),\n",
      "==================================\n"
     ]
    },
    {
     "name": "stdout",
     "output_type": "stream",
     "text": [
      "ERROR:tensorflow:==================================\n",
      "Object was never used (type <class 'tensorflow.python.framework.ops.Tensor'>):\n",
      "<tf.Tensor 'VarIsInitializedOp_114:0' shape=() dtype=bool>\n",
      "If you want to mark it as used call its \"mark_used()\" method.\n",
      "It was originally created here:\n",
      "  File \"/opt/anaconda3/lib/python3.8/site-packages/keras/backend.py\", line 3955, in batch_set_value\n",
      "    get_session().run(assign_ops, feed_dict=feed_dict)  File \"/opt/anaconda3/lib/python3.8/site-packages/keras/backend.py\", line 726, in get_session\n",
      "    _initialize_variables(session)  File \"/opt/anaconda3/lib/python3.8/site-packages/keras/backend.py\", line 1176, in _initialize_variables\n",
      "    is_initialized = session.run(  File \"/opt/anaconda3/lib/python3.8/site-packages/keras/backend.py\", line 1177, in <listcomp>\n",
      "    [tf.compat.v1.is_variable_initialized(v) for v in candidate_vars])  File \"/opt/anaconda3/lib/python3.8/site-packages/tensorflow/python/util/tf_should_use.py\", line 247, in wrapped\n",
      "    return _add_should_use_warning(fn(*args, **kwargs),\n",
      "==================================\n"
     ]
    },
    {
     "name": "stderr",
     "output_type": "stream",
     "text": [
      "ERROR:tensorflow:==================================\n",
      "Object was never used (type <class 'tensorflow.python.framework.ops.Tensor'>):\n",
      "<tf.Tensor 'VarIsInitializedOp_114:0' shape=() dtype=bool>\n",
      "If you want to mark it as used call its \"mark_used()\" method.\n",
      "It was originally created here:\n",
      "  File \"/opt/anaconda3/lib/python3.8/site-packages/keras/backend.py\", line 3955, in batch_set_value\n",
      "    get_session().run(assign_ops, feed_dict=feed_dict)  File \"/opt/anaconda3/lib/python3.8/site-packages/keras/backend.py\", line 726, in get_session\n",
      "    _initialize_variables(session)  File \"/opt/anaconda3/lib/python3.8/site-packages/keras/backend.py\", line 1176, in _initialize_variables\n",
      "    is_initialized = session.run(  File \"/opt/anaconda3/lib/python3.8/site-packages/keras/backend.py\", line 1177, in <listcomp>\n",
      "    [tf.compat.v1.is_variable_initialized(v) for v in candidate_vars])  File \"/opt/anaconda3/lib/python3.8/site-packages/tensorflow/python/util/tf_should_use.py\", line 247, in wrapped\n",
      "    return _add_should_use_warning(fn(*args, **kwargs),\n",
      "==================================\n"
     ]
    },
    {
     "ename": "RuntimeError",
     "evalue": "Attempted to use a closed Session.",
     "output_type": "error",
     "traceback": [
      "\u001b[0;31m---------------------------------------------------------------------------\u001b[0m",
      "\u001b[0;31mRuntimeError\u001b[0m                              Traceback (most recent call last)",
      "\u001b[0;32m<ipython-input-98-a714e3b4de22>\u001b[0m in \u001b[0;36m<module>\u001b[0;34m\u001b[0m\n\u001b[0;32m----> 1\u001b[0;31m \u001b[0mmodel\u001b[0m\u001b[0;34m.\u001b[0m\u001b[0mfit\u001b[0m\u001b[0;34m(\u001b[0m\u001b[0mhotel_train_data\u001b[0m\u001b[0;34m,\u001b[0m \u001b[0mhotel_y_train\u001b[0m\u001b[0;34m,\u001b[0m \u001b[0mepochs\u001b[0m\u001b[0;34m=\u001b[0m\u001b[0;36m2\u001b[0m\u001b[0;34m)\u001b[0m\u001b[0;34m\u001b[0m\u001b[0;34m\u001b[0m\u001b[0m\n\u001b[0m",
      "\u001b[0;32m/opt/anaconda3/lib/python3.8/site-packages/keras/engine/training_v1.py\u001b[0m in \u001b[0;36mfit\u001b[0;34m(self, x, y, batch_size, epochs, verbose, callbacks, validation_split, validation_data, shuffle, class_weight, sample_weight, initial_epoch, steps_per_epoch, validation_steps, validation_freq, max_queue_size, workers, use_multiprocessing, **kwargs)\u001b[0m\n\u001b[1;32m    775\u001b[0m \u001b[0;34m\u001b[0m\u001b[0m\n\u001b[1;32m    776\u001b[0m     \u001b[0mfunc\u001b[0m \u001b[0;34m=\u001b[0m \u001b[0mself\u001b[0m\u001b[0;34m.\u001b[0m\u001b[0m_select_training_loop\u001b[0m\u001b[0;34m(\u001b[0m\u001b[0mx\u001b[0m\u001b[0;34m)\u001b[0m\u001b[0;34m\u001b[0m\u001b[0;34m\u001b[0m\u001b[0m\n\u001b[0;32m--> 777\u001b[0;31m     return func.fit(\n\u001b[0m\u001b[1;32m    778\u001b[0m         \u001b[0mself\u001b[0m\u001b[0;34m,\u001b[0m\u001b[0;34m\u001b[0m\u001b[0;34m\u001b[0m\u001b[0m\n\u001b[1;32m    779\u001b[0m         \u001b[0mx\u001b[0m\u001b[0;34m=\u001b[0m\u001b[0mx\u001b[0m\u001b[0;34m,\u001b[0m\u001b[0;34m\u001b[0m\u001b[0;34m\u001b[0m\u001b[0m\n",
      "\u001b[0;32m/opt/anaconda3/lib/python3.8/site-packages/keras/engine/training_arrays_v1.py\u001b[0m in \u001b[0;36mfit\u001b[0;34m(self, model, x, y, batch_size, epochs, verbose, callbacks, validation_split, validation_data, shuffle, class_weight, sample_weight, initial_epoch, steps_per_epoch, validation_steps, validation_freq, **kwargs)\u001b[0m\n\u001b[1;32m    638\u001b[0m       \u001b[0mval_x\u001b[0m\u001b[0;34m,\u001b[0m \u001b[0mval_y\u001b[0m\u001b[0;34m,\u001b[0m \u001b[0mval_sample_weights\u001b[0m \u001b[0;34m=\u001b[0m \u001b[0;32mNone\u001b[0m\u001b[0;34m,\u001b[0m \u001b[0;32mNone\u001b[0m\u001b[0;34m,\u001b[0m \u001b[0;32mNone\u001b[0m\u001b[0;34m\u001b[0m\u001b[0;34m\u001b[0m\u001b[0m\n\u001b[1;32m    639\u001b[0m \u001b[0;34m\u001b[0m\u001b[0m\n\u001b[0;32m--> 640\u001b[0;31m     return fit_loop(\n\u001b[0m\u001b[1;32m    641\u001b[0m         \u001b[0mmodel\u001b[0m\u001b[0;34m,\u001b[0m\u001b[0;34m\u001b[0m\u001b[0;34m\u001b[0m\u001b[0m\n\u001b[1;32m    642\u001b[0m         \u001b[0minputs\u001b[0m\u001b[0;34m=\u001b[0m\u001b[0mx\u001b[0m\u001b[0;34m,\u001b[0m\u001b[0;34m\u001b[0m\u001b[0;34m\u001b[0m\u001b[0m\n",
      "\u001b[0;32m/opt/anaconda3/lib/python3.8/site-packages/keras/engine/training_arrays_v1.py\u001b[0m in \u001b[0;36mmodel_iteration\u001b[0;34m(model, inputs, targets, sample_weights, batch_size, epochs, verbose, callbacks, val_inputs, val_targets, val_sample_weights, shuffle, initial_epoch, steps_per_epoch, validation_steps, validation_freq, mode, validation_in_fit, prepared_feed_values_from_dataset, steps_name, **kwargs)\u001b[0m\n\u001b[1;32m    257\u001b[0m       \u001b[0;31m# Collecting and resetting metrics has non-zero cost and will needlessly\u001b[0m\u001b[0;34m\u001b[0m\u001b[0;34m\u001b[0m\u001b[0;34m\u001b[0m\u001b[0m\n\u001b[1;32m    258\u001b[0m       \u001b[0;31m# slow down model.predict.\u001b[0m\u001b[0;34m\u001b[0m\u001b[0;34m\u001b[0m\u001b[0;34m\u001b[0m\u001b[0m\n\u001b[0;32m--> 259\u001b[0;31m       \u001b[0mmodel\u001b[0m\u001b[0;34m.\u001b[0m\u001b[0mreset_metrics\u001b[0m\u001b[0;34m(\u001b[0m\u001b[0;34m)\u001b[0m\u001b[0;34m\u001b[0m\u001b[0;34m\u001b[0m\u001b[0m\n\u001b[0m\u001b[1;32m    260\u001b[0m     \u001b[0;32mif\u001b[0m \u001b[0mmode\u001b[0m \u001b[0;34m==\u001b[0m \u001b[0mModeKeys\u001b[0m\u001b[0;34m.\u001b[0m\u001b[0mTRAIN\u001b[0m\u001b[0;34m:\u001b[0m\u001b[0;34m\u001b[0m\u001b[0;34m\u001b[0m\u001b[0m\n\u001b[1;32m    261\u001b[0m       \u001b[0mcallbacks\u001b[0m\u001b[0;34m.\u001b[0m\u001b[0mon_epoch_begin\u001b[0m\u001b[0;34m(\u001b[0m\u001b[0mepoch\u001b[0m\u001b[0;34m,\u001b[0m \u001b[0mepoch_logs\u001b[0m\u001b[0;34m)\u001b[0m\u001b[0;34m\u001b[0m\u001b[0;34m\u001b[0m\u001b[0m\n",
      "\u001b[0;32m/opt/anaconda3/lib/python3.8/site-packages/keras/engine/training_v1.py\u001b[0m in \u001b[0;36mreset_metrics\u001b[0;34m(self)\u001b[0m\n\u001b[1;32m    983\u001b[0m     \u001b[0mmetrics\u001b[0m \u001b[0;34m=\u001b[0m \u001b[0mself\u001b[0m\u001b[0;34m.\u001b[0m\u001b[0m_get_training_eval_metrics\u001b[0m\u001b[0;34m(\u001b[0m\u001b[0;34m)\u001b[0m\u001b[0;34m\u001b[0m\u001b[0;34m\u001b[0m\u001b[0m\n\u001b[1;32m    984\u001b[0m     \u001b[0;32mfor\u001b[0m \u001b[0mm\u001b[0m \u001b[0;32min\u001b[0m \u001b[0mmetrics\u001b[0m\u001b[0;34m:\u001b[0m\u001b[0;34m\u001b[0m\u001b[0;34m\u001b[0m\u001b[0m\n\u001b[0;32m--> 985\u001b[0;31m       \u001b[0mm\u001b[0m\u001b[0;34m.\u001b[0m\u001b[0mreset_state\u001b[0m\u001b[0;34m(\u001b[0m\u001b[0;34m)\u001b[0m\u001b[0;34m\u001b[0m\u001b[0;34m\u001b[0m\u001b[0m\n\u001b[0m\u001b[1;32m    986\u001b[0m \u001b[0;34m\u001b[0m\u001b[0m\n\u001b[1;32m    987\u001b[0m     \u001b[0;31m# Reset metrics on all the distributed (cloned) models.\u001b[0m\u001b[0;34m\u001b[0m\u001b[0;34m\u001b[0m\u001b[0;34m\u001b[0m\u001b[0m\n",
      "\u001b[0;32m/opt/anaconda3/lib/python3.8/site-packages/keras/metrics.py\u001b[0m in \u001b[0;36mreset_state\u001b[0;34m(self)\u001b[0m\n\u001b[1;32m    264\u001b[0m       \u001b[0;32mreturn\u001b[0m \u001b[0mself\u001b[0m\u001b[0;34m.\u001b[0m\u001b[0mreset_states\u001b[0m\u001b[0;34m(\u001b[0m\u001b[0;34m)\u001b[0m\u001b[0;34m\u001b[0m\u001b[0;34m\u001b[0m\u001b[0m\n\u001b[1;32m    265\u001b[0m     \u001b[0;32melse\u001b[0m\u001b[0;34m:\u001b[0m\u001b[0;34m\u001b[0m\u001b[0;34m\u001b[0m\u001b[0m\n\u001b[0;32m--> 266\u001b[0;31m       \u001b[0mbackend\u001b[0m\u001b[0;34m.\u001b[0m\u001b[0mbatch_set_value\u001b[0m\u001b[0;34m(\u001b[0m\u001b[0;34m[\u001b[0m\u001b[0;34m(\u001b[0m\u001b[0mv\u001b[0m\u001b[0;34m,\u001b[0m \u001b[0;36m0\u001b[0m\u001b[0;34m)\u001b[0m \u001b[0;32mfor\u001b[0m \u001b[0mv\u001b[0m \u001b[0;32min\u001b[0m \u001b[0mself\u001b[0m\u001b[0;34m.\u001b[0m\u001b[0mvariables\u001b[0m\u001b[0;34m]\u001b[0m\u001b[0;34m)\u001b[0m\u001b[0;34m\u001b[0m\u001b[0;34m\u001b[0m\u001b[0m\n\u001b[0m\u001b[1;32m    267\u001b[0m \u001b[0;34m\u001b[0m\u001b[0m\n\u001b[1;32m    268\u001b[0m   \u001b[0;34m@\u001b[0m\u001b[0mabc\u001b[0m\u001b[0;34m.\u001b[0m\u001b[0mabstractmethod\u001b[0m\u001b[0;34m\u001b[0m\u001b[0;34m\u001b[0m\u001b[0m\n",
      "\u001b[0;32m/opt/anaconda3/lib/python3.8/site-packages/tensorflow/python/util/traceback_utils.py\u001b[0m in \u001b[0;36merror_handler\u001b[0;34m(*args, **kwargs)\u001b[0m\n\u001b[1;32m    151\u001b[0m     \u001b[0;32mexcept\u001b[0m \u001b[0mException\u001b[0m \u001b[0;32mas\u001b[0m \u001b[0me\u001b[0m\u001b[0;34m:\u001b[0m\u001b[0;34m\u001b[0m\u001b[0;34m\u001b[0m\u001b[0m\n\u001b[1;32m    152\u001b[0m       \u001b[0mfiltered_tb\u001b[0m \u001b[0;34m=\u001b[0m \u001b[0m_process_traceback_frames\u001b[0m\u001b[0;34m(\u001b[0m\u001b[0me\u001b[0m\u001b[0;34m.\u001b[0m\u001b[0m__traceback__\u001b[0m\u001b[0;34m)\u001b[0m\u001b[0;34m\u001b[0m\u001b[0;34m\u001b[0m\u001b[0m\n\u001b[0;32m--> 153\u001b[0;31m       \u001b[0;32mraise\u001b[0m \u001b[0me\u001b[0m\u001b[0;34m.\u001b[0m\u001b[0mwith_traceback\u001b[0m\u001b[0;34m(\u001b[0m\u001b[0mfiltered_tb\u001b[0m\u001b[0;34m)\u001b[0m \u001b[0;32mfrom\u001b[0m \u001b[0;32mNone\u001b[0m\u001b[0;34m\u001b[0m\u001b[0;34m\u001b[0m\u001b[0m\n\u001b[0m\u001b[1;32m    154\u001b[0m     \u001b[0;32mfinally\u001b[0m\u001b[0;34m:\u001b[0m\u001b[0;34m\u001b[0m\u001b[0;34m\u001b[0m\u001b[0m\n\u001b[1;32m    155\u001b[0m       \u001b[0;32mdel\u001b[0m \u001b[0mfiltered_tb\u001b[0m\u001b[0;34m\u001b[0m\u001b[0;34m\u001b[0m\u001b[0m\n",
      "\u001b[0;32m/opt/anaconda3/lib/python3.8/site-packages/keras/backend.py\u001b[0m in \u001b[0;36mbatch_set_value\u001b[0;34m(tuples)\u001b[0m\n\u001b[1;32m   3953\u001b[0m           \u001b[0massign_ops\u001b[0m\u001b[0;34m.\u001b[0m\u001b[0mappend\u001b[0m\u001b[0;34m(\u001b[0m\u001b[0massign_op\u001b[0m\u001b[0;34m)\u001b[0m\u001b[0;34m\u001b[0m\u001b[0;34m\u001b[0m\u001b[0m\n\u001b[1;32m   3954\u001b[0m           \u001b[0mfeed_dict\u001b[0m\u001b[0;34m[\u001b[0m\u001b[0massign_placeholder\u001b[0m\u001b[0;34m]\u001b[0m \u001b[0;34m=\u001b[0m \u001b[0mvalue\u001b[0m\u001b[0;34m\u001b[0m\u001b[0;34m\u001b[0m\u001b[0m\n\u001b[0;32m-> 3955\u001b[0;31m         \u001b[0mget_session\u001b[0m\u001b[0;34m(\u001b[0m\u001b[0;34m)\u001b[0m\u001b[0;34m.\u001b[0m\u001b[0mrun\u001b[0m\u001b[0;34m(\u001b[0m\u001b[0massign_ops\u001b[0m\u001b[0;34m,\u001b[0m \u001b[0mfeed_dict\u001b[0m\u001b[0;34m=\u001b[0m\u001b[0mfeed_dict\u001b[0m\u001b[0;34m)\u001b[0m\u001b[0;34m\u001b[0m\u001b[0;34m\u001b[0m\u001b[0m\n\u001b[0m\u001b[1;32m   3956\u001b[0m \u001b[0;34m\u001b[0m\u001b[0m\n\u001b[1;32m   3957\u001b[0m \u001b[0;34m\u001b[0m\u001b[0m\n",
      "\u001b[0;32m/opt/anaconda3/lib/python3.8/site-packages/keras/backend.py\u001b[0m in \u001b[0;36mget_session\u001b[0;34m(op_input_list)\u001b[0m\n\u001b[1;32m    724\u001b[0m   \u001b[0;32mif\u001b[0m \u001b[0;32mnot\u001b[0m \u001b[0m_MANUAL_VAR_INIT\u001b[0m\u001b[0;34m:\u001b[0m\u001b[0;34m\u001b[0m\u001b[0;34m\u001b[0m\u001b[0m\n\u001b[1;32m    725\u001b[0m     \u001b[0;32mwith\u001b[0m \u001b[0msession\u001b[0m\u001b[0;34m.\u001b[0m\u001b[0mgraph\u001b[0m\u001b[0;34m.\u001b[0m\u001b[0mas_default\u001b[0m\u001b[0;34m(\u001b[0m\u001b[0;34m)\u001b[0m\u001b[0;34m:\u001b[0m\u001b[0;34m\u001b[0m\u001b[0;34m\u001b[0m\u001b[0m\n\u001b[0;32m--> 726\u001b[0;31m       \u001b[0m_initialize_variables\u001b[0m\u001b[0;34m(\u001b[0m\u001b[0msession\u001b[0m\u001b[0;34m)\u001b[0m\u001b[0;34m\u001b[0m\u001b[0;34m\u001b[0m\u001b[0m\n\u001b[0m\u001b[1;32m    727\u001b[0m   \u001b[0;32mreturn\u001b[0m \u001b[0msession\u001b[0m\u001b[0;34m\u001b[0m\u001b[0;34m\u001b[0m\u001b[0m\n\u001b[1;32m    728\u001b[0m \u001b[0;34m\u001b[0m\u001b[0m\n",
      "\u001b[0;32m/opt/anaconda3/lib/python3.8/site-packages/keras/backend.py\u001b[0m in \u001b[0;36m_initialize_variables\u001b[0;34m(session)\u001b[0m\n\u001b[1;32m   1174\u001b[0m     \u001b[0;31m# This step is expensive, so we only run it on variables not already\u001b[0m\u001b[0;34m\u001b[0m\u001b[0;34m\u001b[0m\u001b[0;34m\u001b[0m\u001b[0m\n\u001b[1;32m   1175\u001b[0m     \u001b[0;31m# marked as initialized.\u001b[0m\u001b[0;34m\u001b[0m\u001b[0;34m\u001b[0m\u001b[0;34m\u001b[0m\u001b[0m\n\u001b[0;32m-> 1176\u001b[0;31m     is_initialized = session.run(\n\u001b[0m\u001b[1;32m   1177\u001b[0m         [tf.compat.v1.is_variable_initialized(v) for v in candidate_vars])\n\u001b[1;32m   1178\u001b[0m     \u001b[0;31m# TODO(kathywu): Some metric variables loaded from SavedModel are never\u001b[0m\u001b[0;34m\u001b[0m\u001b[0;34m\u001b[0m\u001b[0;34m\u001b[0m\u001b[0m\n",
      "\u001b[0;31mRuntimeError\u001b[0m: Attempted to use a closed Session."
     ]
    }
   ],
   "source": [
    "model.fit(hotel_train_data, hotel_y_train, epochs=2)"
   ]
  },
  {
   "cell_type": "code",
   "execution_count": null,
   "metadata": {},
   "outputs": [],
   "source": [
    "hotel_y_predicted = model.predict(hotel_dev_data)"
   ]
  },
  {
   "cell_type": "code",
   "execution_count": null,
   "metadata": {},
   "outputs": [],
   "source": [
    "print(classification_report(hotel_y_predicted > 0.5, hotel_y_dev))"
   ]
  },
  {
   "cell_type": "markdown",
   "metadata": {},
   "source": [
    "# Model 2 - Data Resampling + GloVe embedding"
   ]
  },
  {
   "cell_type": "code",
   "execution_count": null,
   "metadata": {},
   "outputs": [],
   "source": [
    "# Download the GloVe embeddings\n",
    "if 'embedding' not in os.listdir('.') or not os.listdir('embedding'):\n",
    "    os.system('wget http://nlp.stanford.edu/data/glove.6B.zip -P embedding/')\n",
    "    os.system('cd embedding && unzip glove.6B.zip')\n",
    "    print('Data the GloVe embedding successfully!')\n",
    "else:\n",
    "    print('Already downloaded the embedding')"
   ]
  },
  {
   "cell_type": "code",
   "execution_count": null,
   "metadata": {},
   "outputs": [],
   "source": [
    "# Use the 100 dimensional GloVe embedding\n",
    "path_to_glove_file = \"./embedding/glove.6B.100d.txt\"\n",
    "\n",
    "embeddings_index = {}\n",
    "with open(path_to_glove_file) as f:\n",
    "    for line in f:\n",
    "        word, coefs = line.split(maxsplit=1)\n",
    "        coefs = np.fromstring(coefs, \"f\", sep=\" \")\n",
    "        embeddings_index[word] = coefs\n",
    "\n",
    "print(\"Found %s word vectors.\" % len(embeddings_index))"
   ]
  },
  {
   "cell_type": "code",
   "execution_count": 99,
   "metadata": {},
   "outputs": [
    {
     "name": "stdout",
     "output_type": "stream",
     "text": [
      "There are 420 positive examples\n",
      "There are 2982 negative examples\n"
     ]
    }
   ],
   "source": [
    "# Split the positive/negative samples for more balanced sampling\n",
    "hotel_X_train_positive = hotel_X_train[hotel_X_train['flagged'] == 'Y']\n",
    "hotel_X_train_negative = hotel_X_train[hotel_X_train['flagged'] == 'N']\n",
    "\n",
    "print(f'There are {len(hotel_X_train_positive)} positive examples')\n",
    "print(f'There are {len(hotel_X_train_negative)} negative examples')\n",
    "\n",
    "num_samples = 2000\n",
    "positive_ratio = 0.3\n",
    "hotel_positives = hotel_X_train_positive.sample(int(num_samples * positive_ratio), replace=True).reset_index(drop=True)\n",
    "hotel_negatives = hotel_X_train_negative.sample(num_samples, replace=True).reset_index(drop=True)\n",
    "\n",
    "hotel_X_train_balanced = pd.concat([hotel_positives, hotel_negatives], ignore_index=True).sample(frac=1)\n",
    "hotel_y_train_balanced = hotel_X_train_balanced['flagged'] == 'Y'\n"
   ]
  },
  {
   "cell_type": "code",
   "execution_count": null,
   "metadata": {},
   "outputs": [],
   "source": [
    "# First layer, vectorizing the word input\n",
    "vocabulary_size = 30000\n",
    "max_tokens = 200\n",
    "\n",
    "vectorizer = TextVectorization(max_tokens=vocabulary_size, output_sequence_length=max_tokens)\n",
    "vectorizer.adapt(hotel_X_train_balanced['reviewContent'].to_numpy())\n",
    "\n",
    "voc = vectorizer.get_vocabulary()\n",
    "word_index = dict(zip(voc, range(len(voc))))\n",
    "\n",
    "print(f\"Vocabulary size is {len(voc)}\")\n"
   ]
  },
  {
   "cell_type": "code",
   "execution_count": null,
   "metadata": {},
   "outputs": [],
   "source": [
    "# Ref: https://keras.io/examples/nlp/pretrained_word_embeddings/\n",
    "# Build + Lock in the Embedding layer from GloVe\n",
    "embedding_dim = 100\n",
    "hits = 0\n",
    "misses = 0\n",
    "num_words = len(voc) + 2\n",
    "\n",
    "# Prepare embedding matrix\n",
    "# TODO: more pre-processing to avoid ~3000 words that don't have embeddings\n",
    "embedding_matrix = np.zeros((num_words, embedding_dim))\n",
    "for i, word in enumerate(voc):\n",
    "    embedding_vector = embeddings_index.get(word)\n",
    "    if embedding_vector is not None:\n",
    "        # Words not found in embedding index will be all-zeros.\n",
    "        # This includes the representation for \"padding\" and \"OOV\"\n",
    "        embedding_matrix[i] = embedding_vector\n",
    "        hits += 1\n",
    "    else:\n",
    "        misses += 1\n",
    "print(\"Converted %d words (%d misses)\" % (hits, misses))\n",
    "\n",
    "\n",
    "embedding_layer = Embedding(\n",
    "    num_words,\n",
    "    embedding_dim,\n",
    "    embeddings_initializer=tf.keras.initializers.Constant(embedding_matrix),\n",
    "    trainable=False,\n",
    ")\n"
   ]
  },
  {
   "cell_type": "code",
   "execution_count": null,
   "metadata": {},
   "outputs": [],
   "source": [
    "# Vectorize the input\n",
    "hotel_X_train_ready = vectorizer(hotel_X_train_balanced['reviewContent']).numpy()\n",
    "hotel_X_dev_ready = vectorizer(hotel_X_dev['reviewContent']).numpy()\n",
    "\n",
    "hotel_X_train_ready.shape"
   ]
  },
  {
   "cell_type": "code",
   "execution_count": null,
   "metadata": {},
   "outputs": [],
   "source": [
    "# Build and train the model with \n",
    "model = Sequential()\n",
    "model.add(embedding_layer)\n",
    "model.add(LSTM(50, dropout=0.2, recurrent_dropout=0.2))\n",
    "model.add(Dense(1, activation='sigmoid'))\n",
    "model.compile(loss='binary_crossentropy', optimizer='adam', metrics=['accuracy'])\n",
    "\n",
    "model.fit(hotel_X_train_ready, hotel_y_train_balanced, epochs=8)"
   ]
  },
  {
   "cell_type": "code",
   "execution_count": null,
   "metadata": {},
   "outputs": [],
   "source": [
    "model.evaluate(hotel_X_dev_ready, hotel_y_dev)\n",
    "hotel_y_predicted = model.predict(hotel_X_dev_ready)\n",
    "print(classification_report(hotel_y_predicted > 0.5, hotel_y_dev))\n",
    "hotel_X_dev['flagged'].value_counts() / len(hotel_X_dev)"
   ]
  },
  {
   "cell_type": "code",
   "execution_count": null,
   "metadata": {},
   "outputs": [],
   "source": []
  },
  {
   "cell_type": "code",
   "execution_count": null,
   "metadata": {},
   "outputs": [],
   "source": []
  },
  {
   "cell_type": "code",
   "execution_count": null,
   "metadata": {},
   "outputs": [],
   "source": []
  },
  {
   "cell_type": "markdown",
   "metadata": {},
   "source": [
    "# ELMo"
   ]
  },
  {
   "cell_type": "code",
   "execution_count": 100,
   "metadata": {},
   "outputs": [
    {
     "name": "stdout",
     "output_type": "stream",
     "text": [
      "INFO:tensorflow:Saver not created because there are no variables in the graph to restore\n"
     ]
    },
    {
     "name": "stderr",
     "output_type": "stream",
     "text": [
      "INFO:tensorflow:Saver not created because there are no variables in the graph to restore\n"
     ]
    }
   ],
   "source": [
    "tf1.disable_eager_execution()\n",
    "\n",
    "def encode(le, labels):\n",
    "    enc = le.transform(labels)\n",
    "    return keras.utils.np_utils.to_categorical(enc)\n",
    "\n",
    "def decode(le, one_hot):\n",
    "    dec = np.argmax(one_hot, axis=1)\n",
    "    return le.inverse_transform(dec)\n",
    "\n",
    "def ELMoEmbedding(x):\n",
    "    return embed(tf.squeeze(tf.cast(x, tf.string)), signature=\"default\", as_dict=True)[\"default\"]\n",
    "\n",
    "embed = hub.Module(\"https://tfhub.dev/google/elmo/3\")\n",
    "\n",
    "y = list(hotel_X_train['flagged'])\n",
    "x = list(hotel_X_train['reviewContent'])\n",
    "le = preprocessing.LabelEncoder()\n",
    "le.fit(y)\n",
    "x_enc = x\n",
    "y_enc = encode(le, y)\n",
    "\n",
    "x_train = np.asarray(x_enc[:3402])\n",
    "y_train = np.asarray(y_enc[:3402])\n",
    "\n",
    "input_text = Input(shape=(1,), dtype=tf.string)\n",
    "embedding = Lambda(ELMoEmbedding, output_shape=(1024, ))(input_text)\n",
    "dense = Dense(256, activation='relu')(embedding)\n",
    "pred = Dense(2, activation='softmax')(dense)\n",
    "model = Model(inputs=[input_text], outputs=pred)\n",
    "model.compile(loss='categorical_crossentropy', optimizer='adam', metrics=['accuracy'])\n",
    "\n",
    "with tf1.Session() as session:\n",
    "    K.set_session(session)\n",
    "    session.run(tf1.global_variables_initializer())\n",
    "    session.run(tf1.tables_initializer())\n",
    "    history = model.fit(x_train, y_train, epochs=1, batch_size=32)\n",
    "    model.save_weights('./elmo-hotel-model.h5')"
   ]
  },
  {
   "cell_type": "code",
   "execution_count": 101,
   "metadata": {},
   "outputs": [
    {
     "name": "stderr",
     "output_type": "stream",
     "text": [
      "/opt/anaconda3/lib/python3.8/site-packages/keras/engine/training_v1.py:2079: UserWarning: `Model.state_updates` will be removed in a future version. This property should not be used in TensorFlow 2.0, as `updates` are applied automatically.\n",
      "  updates=self.state_updates,\n"
     ]
    },
    {
     "name": "stdout",
     "output_type": "stream",
     "text": [
      "              precision    recall  f1-score   support\n",
      "\n",
      "           N       0.88      1.00      0.93       993\n",
      "           Y       0.67      0.03      0.05       141\n",
      "\n",
      "    accuracy                           0.88      1134\n",
      "   macro avg       0.77      0.51      0.49      1134\n",
      "weighted avg       0.85      0.88      0.83      1134\n",
      "\n"
     ]
    }
   ],
   "source": [
    "x_test = np.asarray(list(hotel_X_dev['reviewContent'])[:1134])\n",
    "y_test_raw = np.asarray(encode(le, list(hotel_X_dev['flagged']))[:1134]) \n",
    "\n",
    "with tf1.Session() as session:\n",
    "    K.set_session(session)\n",
    "    session.run(tf1.global_variables_initializer())\n",
    "    session.run(tf1.tables_initializer())\n",
    "    model.load_weights('./elmo-hotel-model.h5')\n",
    "    predicts = model.predict(x_test, batch_size=32)\n",
    "\n",
    "y_test = decode(le, y_test_raw)\n",
    "y_preds = decode(le, predicts)\n",
    "\n",
    "metrics.confusion_matrix(y_test, y_preds)\n",
    "print(metrics.classification_report(y_test, y_preds))"
   ]
  },
  {
   "cell_type": "code",
   "execution_count": null,
   "metadata": {},
   "outputs": [],
   "source": []
  }
 ],
 "metadata": {
  "anaconda-cloud": {},
  "kernelspec": {
   "display_name": "Python 3",
   "language": "python",
   "name": "python3"
  },
  "language_info": {
   "codemirror_mode": {
    "name": "ipython",
    "version": 3
   },
   "file_extension": ".py",
   "mimetype": "text/x-python",
   "name": "python",
   "nbconvert_exporter": "python",
   "pygments_lexer": "ipython3",
   "version": "3.8.5"
  }
 },
 "nbformat": 4,
 "nbformat_minor": 1
}
